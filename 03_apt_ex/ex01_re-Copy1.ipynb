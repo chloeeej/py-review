{
 "cells": [
  {
   "cell_type": "markdown",
   "id": "71d2016c-bdfd-4282-9612-596c42c7ad56",
   "metadata": {},
   "source": [
    "엑셀파일 불러오기"
   ]
  },
  {
   "cell_type": "markdown",
   "id": "a376fd64-4d2b-4969-821e-ffcb06c3f469",
   "metadata": {},
   "source": [
    "first랑 last에 저장"
   ]
  },
  {
   "cell_type": "code",
   "execution_count": 1,
   "id": "7f86da29-b16a-4d0b-ab62-193319671c4d",
   "metadata": {},
   "outputs": [],
   "source": [
    "import pandas as pd"
   ]
  },
  {
   "cell_type": "code",
   "execution_count": 2,
   "id": "d119a288-0177-4b25-b999-159c87b48dfd",
   "metadata": {
    "tags": []
   },
   "outputs": [],
   "source": [
    "first_df = pd.read_csv('전국_평균_분양가격(2013년_9월부터_2015년_8월까지).csv', encoding='cp949')"
   ]
  },
  {
   "cell_type": "code",
   "execution_count": 3,
   "id": "0f7507ae-591d-4ac6-b425-08e3017c3334",
   "metadata": {
    "tags": []
   },
   "outputs": [],
   "source": [
    "last_df = pd.read_csv('주택도시보증공사_전국_평균_분양가격(2019년_12월).csv', encoding='cp949')"
   ]
  },
  {
   "cell_type": "markdown",
   "id": "20f3fcbe-624b-44fd-8c3c-129cda064df1",
   "metadata": {},
   "source": [
    "데이터 확인하기"
   ]
  },
  {
   "cell_type": "code",
   "execution_count": 4,
   "id": "e3fb755f-a477-412d-929d-054093f53c12",
   "metadata": {},
   "outputs": [
    {
     "data": {
      "text/html": [
       "<div>\n",
       "<style scoped>\n",
       "    .dataframe tbody tr th:only-of-type {\n",
       "        vertical-align: middle;\n",
       "    }\n",
       "\n",
       "    .dataframe tbody tr th {\n",
       "        vertical-align: top;\n",
       "    }\n",
       "\n",
       "    .dataframe thead th {\n",
       "        text-align: right;\n",
       "    }\n",
       "</style>\n",
       "<table border=\"1\" class=\"dataframe\">\n",
       "  <thead>\n",
       "    <tr style=\"text-align: right;\">\n",
       "      <th></th>\n",
       "      <th>지역</th>\n",
       "      <th>2013년12월</th>\n",
       "      <th>2014년1월</th>\n",
       "      <th>2014년2월</th>\n",
       "      <th>2014년3월</th>\n",
       "      <th>2014년4월</th>\n",
       "      <th>2014년5월</th>\n",
       "      <th>2014년6월</th>\n",
       "      <th>2014년7월</th>\n",
       "      <th>2014년8월</th>\n",
       "      <th>...</th>\n",
       "      <th>2014년11월</th>\n",
       "      <th>2014년12월</th>\n",
       "      <th>2015년1월</th>\n",
       "      <th>2015년2월</th>\n",
       "      <th>2015년3월</th>\n",
       "      <th>2015년4월</th>\n",
       "      <th>2015년5월</th>\n",
       "      <th>2015년6월</th>\n",
       "      <th>2015년7월</th>\n",
       "      <th>2015년8월</th>\n",
       "    </tr>\n",
       "  </thead>\n",
       "  <tbody>\n",
       "    <tr>\n",
       "      <th>0</th>\n",
       "      <td>서울</td>\n",
       "      <td>18189</td>\n",
       "      <td>17925</td>\n",
       "      <td>17925</td>\n",
       "      <td>18016</td>\n",
       "      <td>18098</td>\n",
       "      <td>19446</td>\n",
       "      <td>18867</td>\n",
       "      <td>18742</td>\n",
       "      <td>19274</td>\n",
       "      <td>...</td>\n",
       "      <td>20242</td>\n",
       "      <td>20269</td>\n",
       "      <td>20670</td>\n",
       "      <td>20670</td>\n",
       "      <td>19415</td>\n",
       "      <td>18842</td>\n",
       "      <td>18367</td>\n",
       "      <td>18374</td>\n",
       "      <td>18152</td>\n",
       "      <td>18443</td>\n",
       "    </tr>\n",
       "    <tr>\n",
       "      <th>1</th>\n",
       "      <td>부산</td>\n",
       "      <td>8111</td>\n",
       "      <td>8111</td>\n",
       "      <td>9078</td>\n",
       "      <td>8965</td>\n",
       "      <td>9402</td>\n",
       "      <td>9501</td>\n",
       "      <td>9453</td>\n",
       "      <td>9457</td>\n",
       "      <td>9411</td>\n",
       "      <td>...</td>\n",
       "      <td>9208</td>\n",
       "      <td>9208</td>\n",
       "      <td>9204</td>\n",
       "      <td>9235</td>\n",
       "      <td>9279</td>\n",
       "      <td>9327</td>\n",
       "      <td>9345</td>\n",
       "      <td>9515</td>\n",
       "      <td>9559</td>\n",
       "      <td>9581</td>\n",
       "    </tr>\n",
       "    <tr>\n",
       "      <th>2</th>\n",
       "      <td>대구</td>\n",
       "      <td>8080</td>\n",
       "      <td>8080</td>\n",
       "      <td>8077</td>\n",
       "      <td>8101</td>\n",
       "      <td>8267</td>\n",
       "      <td>8274</td>\n",
       "      <td>8360</td>\n",
       "      <td>8360</td>\n",
       "      <td>8370</td>\n",
       "      <td>...</td>\n",
       "      <td>8439</td>\n",
       "      <td>8253</td>\n",
       "      <td>8327</td>\n",
       "      <td>8416</td>\n",
       "      <td>8441</td>\n",
       "      <td>8446</td>\n",
       "      <td>8568</td>\n",
       "      <td>8542</td>\n",
       "      <td>8542</td>\n",
       "      <td>8795</td>\n",
       "    </tr>\n",
       "    <tr>\n",
       "      <th>3</th>\n",
       "      <td>인천</td>\n",
       "      <td>10204</td>\n",
       "      <td>10204</td>\n",
       "      <td>10408</td>\n",
       "      <td>10408</td>\n",
       "      <td>10000</td>\n",
       "      <td>9844</td>\n",
       "      <td>10058</td>\n",
       "      <td>9974</td>\n",
       "      <td>9973</td>\n",
       "      <td>...</td>\n",
       "      <td>10020</td>\n",
       "      <td>10020</td>\n",
       "      <td>10017</td>\n",
       "      <td>9876</td>\n",
       "      <td>9876</td>\n",
       "      <td>9938</td>\n",
       "      <td>10551</td>\n",
       "      <td>10443</td>\n",
       "      <td>10443</td>\n",
       "      <td>10449</td>\n",
       "    </tr>\n",
       "    <tr>\n",
       "      <th>4</th>\n",
       "      <td>광주</td>\n",
       "      <td>6098</td>\n",
       "      <td>7326</td>\n",
       "      <td>7611</td>\n",
       "      <td>7346</td>\n",
       "      <td>7346</td>\n",
       "      <td>7523</td>\n",
       "      <td>7659</td>\n",
       "      <td>7612</td>\n",
       "      <td>7622</td>\n",
       "      <td>...</td>\n",
       "      <td>7752</td>\n",
       "      <td>7748</td>\n",
       "      <td>7752</td>\n",
       "      <td>7756</td>\n",
       "      <td>7861</td>\n",
       "      <td>7914</td>\n",
       "      <td>7877</td>\n",
       "      <td>7881</td>\n",
       "      <td>8089</td>\n",
       "      <td>8231</td>\n",
       "    </tr>\n",
       "  </tbody>\n",
       "</table>\n",
       "<p>5 rows × 22 columns</p>\n",
       "</div>"
      ],
      "text/plain": [
       "   지역  2013년12월  2014년1월  2014년2월  2014년3월  2014년4월  2014년5월  2014년6월  \\\n",
       "0  서울     18189    17925    17925    18016    18098    19446    18867   \n",
       "1  부산      8111     8111     9078     8965     9402     9501     9453   \n",
       "2  대구      8080     8080     8077     8101     8267     8274     8360   \n",
       "3  인천     10204    10204    10408    10408    10000     9844    10058   \n",
       "4  광주      6098     7326     7611     7346     7346     7523     7659   \n",
       "\n",
       "   2014년7월  2014년8월  ...  2014년11월  2014년12월  2015년1월  2015년2월  2015년3월  \\\n",
       "0    18742    19274  ...     20242     20269    20670    20670    19415   \n",
       "1     9457     9411  ...      9208      9208     9204     9235     9279   \n",
       "2     8360     8370  ...      8439      8253     8327     8416     8441   \n",
       "3     9974     9973  ...     10020     10020    10017     9876     9876   \n",
       "4     7612     7622  ...      7752      7748     7752     7756     7861   \n",
       "\n",
       "   2015년4월  2015년5월  2015년6월  2015년7월  2015년8월  \n",
       "0    18842    18367    18374    18152    18443  \n",
       "1     9327     9345     9515     9559     9581  \n",
       "2     8446     8568     8542     8542     8795  \n",
       "3     9938    10551    10443    10443    10449  \n",
       "4     7914     7877     7881     8089     8231  \n",
       "\n",
       "[5 rows x 22 columns]"
      ]
     },
     "execution_count": 4,
     "metadata": {},
     "output_type": "execute_result"
    }
   ],
   "source": [
    "first_df.head()"
   ]
  },
  {
   "cell_type": "code",
   "execution_count": 5,
   "id": "bf598074-44a3-4e3c-9d1f-7522ce6cf9c6",
   "metadata": {},
   "outputs": [
    {
     "data": {
      "text/plain": [
       "Index(['지역', '2013년12월', '2014년1월', '2014년2월', '2014년3월', '2014년4월', '2014년5월',\n",
       "       '2014년6월', '2014년7월', '2014년8월', '2014년9월', '2014년10월', '2014년11월',\n",
       "       '2014년12월', '2015년1월', '2015년2월', '2015년3월', '2015년4월', '2015년5월',\n",
       "       '2015년6월', '2015년7월', '2015년8월'],\n",
       "      dtype='object')"
      ]
     },
     "execution_count": 5,
     "metadata": {},
     "output_type": "execute_result"
    }
   ],
   "source": [
    "first_df.columns"
   ]
  },
  {
   "cell_type": "code",
   "execution_count": 6,
   "id": "9ba2473d-e4f3-42c9-b6d2-94145f9575e2",
   "metadata": {
    "tags": []
   },
   "outputs": [
    {
     "data": {
      "text/html": [
       "<div>\n",
       "<style scoped>\n",
       "    .dataframe tbody tr th:only-of-type {\n",
       "        vertical-align: middle;\n",
       "    }\n",
       "\n",
       "    .dataframe tbody tr th {\n",
       "        vertical-align: top;\n",
       "    }\n",
       "\n",
       "    .dataframe thead th {\n",
       "        text-align: right;\n",
       "    }\n",
       "</style>\n",
       "<table border=\"1\" class=\"dataframe\">\n",
       "  <thead>\n",
       "    <tr style=\"text-align: right;\">\n",
       "      <th></th>\n",
       "      <th>지역명</th>\n",
       "      <th>규모구분</th>\n",
       "      <th>연도</th>\n",
       "      <th>월</th>\n",
       "      <th>분양가격(㎡)</th>\n",
       "    </tr>\n",
       "  </thead>\n",
       "  <tbody>\n",
       "    <tr>\n",
       "      <th>0</th>\n",
       "      <td>서울</td>\n",
       "      <td>전체</td>\n",
       "      <td>2015</td>\n",
       "      <td>10</td>\n",
       "      <td>5841</td>\n",
       "    </tr>\n",
       "    <tr>\n",
       "      <th>1</th>\n",
       "      <td>서울</td>\n",
       "      <td>전용면적 60㎡이하</td>\n",
       "      <td>2015</td>\n",
       "      <td>10</td>\n",
       "      <td>5652</td>\n",
       "    </tr>\n",
       "    <tr>\n",
       "      <th>2</th>\n",
       "      <td>서울</td>\n",
       "      <td>전용면적 60㎡초과 85㎡이하</td>\n",
       "      <td>2015</td>\n",
       "      <td>10</td>\n",
       "      <td>5882</td>\n",
       "    </tr>\n",
       "    <tr>\n",
       "      <th>3</th>\n",
       "      <td>서울</td>\n",
       "      <td>전용면적 85㎡초과 102㎡이하</td>\n",
       "      <td>2015</td>\n",
       "      <td>10</td>\n",
       "      <td>5721</td>\n",
       "    </tr>\n",
       "    <tr>\n",
       "      <th>4</th>\n",
       "      <td>서울</td>\n",
       "      <td>전용면적 102㎡초과</td>\n",
       "      <td>2015</td>\n",
       "      <td>10</td>\n",
       "      <td>5879</td>\n",
       "    </tr>\n",
       "  </tbody>\n",
       "</table>\n",
       "</div>"
      ],
      "text/plain": [
       "  지역명               규모구분    연도   월 분양가격(㎡)\n",
       "0  서울                 전체  2015  10    5841\n",
       "1  서울         전용면적 60㎡이하  2015  10    5652\n",
       "2  서울   전용면적 60㎡초과 85㎡이하  2015  10    5882\n",
       "3  서울  전용면적 85㎡초과 102㎡이하  2015  10    5721\n",
       "4  서울        전용면적 102㎡초과  2015  10    5879"
      ]
     },
     "execution_count": 6,
     "metadata": {},
     "output_type": "execute_result"
    }
   ],
   "source": [
    "last_df.head()"
   ]
  },
  {
   "cell_type": "code",
   "execution_count": 7,
   "id": "a700bc8b-c2cf-4098-a9af-a05a86e63285",
   "metadata": {},
   "outputs": [
    {
     "data": {
      "text/plain": [
       "Index(['지역명', '규모구분', '연도', '월', '분양가격(㎡)'], dtype='object')"
      ]
     },
     "execution_count": 7,
     "metadata": {},
     "output_type": "execute_result"
    }
   ],
   "source": [
    "last_df.columns"
   ]
  },
  {
   "cell_type": "markdown",
   "id": "2c194ace-496e-4b58-b3ef-6f95153ea8e8",
   "metadata": {},
   "source": [
    "na값 확인"
   ]
  },
  {
   "cell_type": "code",
   "execution_count": 8,
   "id": "a69d46c6-300c-4551-b38d-97c750b442e0",
   "metadata": {
    "tags": []
   },
   "outputs": [
    {
     "data": {
      "text/plain": [
       "지역명          0\n",
       "규모구분         0\n",
       "연도           0\n",
       "월            0\n",
       "분양가격(㎡)    277\n",
       "dtype: int64"
      ]
     },
     "execution_count": 8,
     "metadata": {},
     "output_type": "execute_result"
    }
   ],
   "source": [
    "last_df.isna().sum()"
   ]
  },
  {
   "cell_type": "code",
   "execution_count": 9,
   "id": "6af1bede-f6f2-448c-8882-b846f5edc94e",
   "metadata": {
    "tags": []
   },
   "outputs": [
    {
     "data": {
      "text/plain": [
       "지역          0\n",
       "2013년12월    0\n",
       "2014년1월     0\n",
       "2014년2월     0\n",
       "2014년3월     0\n",
       "2014년4월     0\n",
       "2014년5월     0\n",
       "2014년6월     0\n",
       "2014년7월     0\n",
       "2014년8월     0\n",
       "2014년9월     0\n",
       "2014년10월    0\n",
       "2014년11월    0\n",
       "2014년12월    0\n",
       "2015년1월     0\n",
       "2015년2월     0\n",
       "2015년3월     0\n",
       "2015년4월     0\n",
       "2015년5월     0\n",
       "2015년6월     0\n",
       "2015년7월     0\n",
       "2015년8월     0\n",
       "dtype: int64"
      ]
     },
     "execution_count": 9,
     "metadata": {},
     "output_type": "execute_result"
    }
   ],
   "source": [
    "first_df.isna().sum()"
   ]
  },
  {
   "cell_type": "code",
   "execution_count": 10,
   "id": "b8b4bee3-3079-452b-ad58-acee4cdc928e",
   "metadata": {
    "tags": []
   },
   "outputs": [
    {
     "data": {
      "text/html": [
       "<div>\n",
       "<style scoped>\n",
       "    .dataframe tbody tr th:only-of-type {\n",
       "        vertical-align: middle;\n",
       "    }\n",
       "\n",
       "    .dataframe tbody tr th {\n",
       "        vertical-align: top;\n",
       "    }\n",
       "\n",
       "    .dataframe thead th {\n",
       "        text-align: right;\n",
       "    }\n",
       "</style>\n",
       "<table border=\"1\" class=\"dataframe\">\n",
       "  <thead>\n",
       "    <tr style=\"text-align: right;\">\n",
       "      <th></th>\n",
       "      <th>지역</th>\n",
       "      <th>2013년12월</th>\n",
       "      <th>2014년1월</th>\n",
       "      <th>2014년2월</th>\n",
       "      <th>2014년3월</th>\n",
       "      <th>2014년4월</th>\n",
       "      <th>2014년5월</th>\n",
       "      <th>2014년6월</th>\n",
       "      <th>2014년7월</th>\n",
       "      <th>2014년8월</th>\n",
       "      <th>...</th>\n",
       "      <th>2014년11월</th>\n",
       "      <th>2014년12월</th>\n",
       "      <th>2015년1월</th>\n",
       "      <th>2015년2월</th>\n",
       "      <th>2015년3월</th>\n",
       "      <th>2015년4월</th>\n",
       "      <th>2015년5월</th>\n",
       "      <th>2015년6월</th>\n",
       "      <th>2015년7월</th>\n",
       "      <th>2015년8월</th>\n",
       "    </tr>\n",
       "  </thead>\n",
       "  <tbody>\n",
       "    <tr>\n",
       "      <th>0</th>\n",
       "      <td>서울</td>\n",
       "      <td>18189</td>\n",
       "      <td>17925</td>\n",
       "      <td>17925</td>\n",
       "      <td>18016</td>\n",
       "      <td>18098</td>\n",
       "      <td>19446</td>\n",
       "      <td>18867</td>\n",
       "      <td>18742</td>\n",
       "      <td>19274</td>\n",
       "      <td>...</td>\n",
       "      <td>20242</td>\n",
       "      <td>20269</td>\n",
       "      <td>20670</td>\n",
       "      <td>20670</td>\n",
       "      <td>19415</td>\n",
       "      <td>18842</td>\n",
       "      <td>18367</td>\n",
       "      <td>18374</td>\n",
       "      <td>18152</td>\n",
       "      <td>18443</td>\n",
       "    </tr>\n",
       "    <tr>\n",
       "      <th>1</th>\n",
       "      <td>부산</td>\n",
       "      <td>8111</td>\n",
       "      <td>8111</td>\n",
       "      <td>9078</td>\n",
       "      <td>8965</td>\n",
       "      <td>9402</td>\n",
       "      <td>9501</td>\n",
       "      <td>9453</td>\n",
       "      <td>9457</td>\n",
       "      <td>9411</td>\n",
       "      <td>...</td>\n",
       "      <td>9208</td>\n",
       "      <td>9208</td>\n",
       "      <td>9204</td>\n",
       "      <td>9235</td>\n",
       "      <td>9279</td>\n",
       "      <td>9327</td>\n",
       "      <td>9345</td>\n",
       "      <td>9515</td>\n",
       "      <td>9559</td>\n",
       "      <td>9581</td>\n",
       "    </tr>\n",
       "    <tr>\n",
       "      <th>2</th>\n",
       "      <td>대구</td>\n",
       "      <td>8080</td>\n",
       "      <td>8080</td>\n",
       "      <td>8077</td>\n",
       "      <td>8101</td>\n",
       "      <td>8267</td>\n",
       "      <td>8274</td>\n",
       "      <td>8360</td>\n",
       "      <td>8360</td>\n",
       "      <td>8370</td>\n",
       "      <td>...</td>\n",
       "      <td>8439</td>\n",
       "      <td>8253</td>\n",
       "      <td>8327</td>\n",
       "      <td>8416</td>\n",
       "      <td>8441</td>\n",
       "      <td>8446</td>\n",
       "      <td>8568</td>\n",
       "      <td>8542</td>\n",
       "      <td>8542</td>\n",
       "      <td>8795</td>\n",
       "    </tr>\n",
       "    <tr>\n",
       "      <th>3</th>\n",
       "      <td>인천</td>\n",
       "      <td>10204</td>\n",
       "      <td>10204</td>\n",
       "      <td>10408</td>\n",
       "      <td>10408</td>\n",
       "      <td>10000</td>\n",
       "      <td>9844</td>\n",
       "      <td>10058</td>\n",
       "      <td>9974</td>\n",
       "      <td>9973</td>\n",
       "      <td>...</td>\n",
       "      <td>10020</td>\n",
       "      <td>10020</td>\n",
       "      <td>10017</td>\n",
       "      <td>9876</td>\n",
       "      <td>9876</td>\n",
       "      <td>9938</td>\n",
       "      <td>10551</td>\n",
       "      <td>10443</td>\n",
       "      <td>10443</td>\n",
       "      <td>10449</td>\n",
       "    </tr>\n",
       "    <tr>\n",
       "      <th>4</th>\n",
       "      <td>광주</td>\n",
       "      <td>6098</td>\n",
       "      <td>7326</td>\n",
       "      <td>7611</td>\n",
       "      <td>7346</td>\n",
       "      <td>7346</td>\n",
       "      <td>7523</td>\n",
       "      <td>7659</td>\n",
       "      <td>7612</td>\n",
       "      <td>7622</td>\n",
       "      <td>...</td>\n",
       "      <td>7752</td>\n",
       "      <td>7748</td>\n",
       "      <td>7752</td>\n",
       "      <td>7756</td>\n",
       "      <td>7861</td>\n",
       "      <td>7914</td>\n",
       "      <td>7877</td>\n",
       "      <td>7881</td>\n",
       "      <td>8089</td>\n",
       "      <td>8231</td>\n",
       "    </tr>\n",
       "  </tbody>\n",
       "</table>\n",
       "<p>5 rows × 22 columns</p>\n",
       "</div>"
      ],
      "text/plain": [
       "   지역  2013년12월  2014년1월  2014년2월  2014년3월  2014년4월  2014년5월  2014년6월  \\\n",
       "0  서울     18189    17925    17925    18016    18098    19446    18867   \n",
       "1  부산      8111     8111     9078     8965     9402     9501     9453   \n",
       "2  대구      8080     8080     8077     8101     8267     8274     8360   \n",
       "3  인천     10204    10204    10408    10408    10000     9844    10058   \n",
       "4  광주      6098     7326     7611     7346     7346     7523     7659   \n",
       "\n",
       "   2014년7월  2014년8월  ...  2014년11월  2014년12월  2015년1월  2015년2월  2015년3월  \\\n",
       "0    18742    19274  ...     20242     20269    20670    20670    19415   \n",
       "1     9457     9411  ...      9208      9208     9204     9235     9279   \n",
       "2     8360     8370  ...      8439      8253     8327     8416     8441   \n",
       "3     9974     9973  ...     10020     10020    10017     9876     9876   \n",
       "4     7612     7622  ...      7752      7748     7752     7756     7861   \n",
       "\n",
       "   2015년4월  2015년5월  2015년6월  2015년7월  2015년8월  \n",
       "0    18842    18367    18374    18152    18443  \n",
       "1     9327     9345     9515     9559     9581  \n",
       "2     8446     8568     8542     8542     8795  \n",
       "3     9938    10551    10443    10443    10449  \n",
       "4     7914     7877     7881     8089     8231  \n",
       "\n",
       "[5 rows x 22 columns]"
      ]
     },
     "execution_count": 10,
     "metadata": {},
     "output_type": "execute_result"
    }
   ],
   "source": [
    "first_df.head()"
   ]
  },
  {
   "cell_type": "code",
   "execution_count": 11,
   "id": "17895bf0-ef00-4934-af10-0d35dd9961ea",
   "metadata": {
    "tags": []
   },
   "outputs": [
    {
     "data": {
      "text/html": [
       "<div>\n",
       "<style scoped>\n",
       "    .dataframe tbody tr th:only-of-type {\n",
       "        vertical-align: middle;\n",
       "    }\n",
       "\n",
       "    .dataframe tbody tr th {\n",
       "        vertical-align: top;\n",
       "    }\n",
       "\n",
       "    .dataframe thead th {\n",
       "        text-align: right;\n",
       "    }\n",
       "</style>\n",
       "<table border=\"1\" class=\"dataframe\">\n",
       "  <thead>\n",
       "    <tr style=\"text-align: right;\">\n",
       "      <th></th>\n",
       "      <th>지역</th>\n",
       "      <th>기간</th>\n",
       "      <th>분양가격</th>\n",
       "    </tr>\n",
       "  </thead>\n",
       "  <tbody>\n",
       "    <tr>\n",
       "      <th>0</th>\n",
       "      <td>서울</td>\n",
       "      <td>2013년12월</td>\n",
       "      <td>18189</td>\n",
       "    </tr>\n",
       "    <tr>\n",
       "      <th>1</th>\n",
       "      <td>부산</td>\n",
       "      <td>2013년12월</td>\n",
       "      <td>8111</td>\n",
       "    </tr>\n",
       "    <tr>\n",
       "      <th>2</th>\n",
       "      <td>대구</td>\n",
       "      <td>2013년12월</td>\n",
       "      <td>8080</td>\n",
       "    </tr>\n",
       "    <tr>\n",
       "      <th>3</th>\n",
       "      <td>인천</td>\n",
       "      <td>2013년12월</td>\n",
       "      <td>10204</td>\n",
       "    </tr>\n",
       "    <tr>\n",
       "      <th>4</th>\n",
       "      <td>광주</td>\n",
       "      <td>2013년12월</td>\n",
       "      <td>6098</td>\n",
       "    </tr>\n",
       "    <tr>\n",
       "      <th>...</th>\n",
       "      <td>...</td>\n",
       "      <td>...</td>\n",
       "      <td>...</td>\n",
       "    </tr>\n",
       "    <tr>\n",
       "      <th>352</th>\n",
       "      <td>전북</td>\n",
       "      <td>2015년8월</td>\n",
       "      <td>6580</td>\n",
       "    </tr>\n",
       "    <tr>\n",
       "      <th>353</th>\n",
       "      <td>전남</td>\n",
       "      <td>2015년8월</td>\n",
       "      <td>6289</td>\n",
       "    </tr>\n",
       "    <tr>\n",
       "      <th>354</th>\n",
       "      <td>경북</td>\n",
       "      <td>2015년8월</td>\n",
       "      <td>7037</td>\n",
       "    </tr>\n",
       "    <tr>\n",
       "      <th>355</th>\n",
       "      <td>경남</td>\n",
       "      <td>2015년8월</td>\n",
       "      <td>7665</td>\n",
       "    </tr>\n",
       "    <tr>\n",
       "      <th>356</th>\n",
       "      <td>제주</td>\n",
       "      <td>2015년8월</td>\n",
       "      <td>7343</td>\n",
       "    </tr>\n",
       "  </tbody>\n",
       "</table>\n",
       "<p>357 rows × 3 columns</p>\n",
       "</div>"
      ],
      "text/plain": [
       "     지역        기간   분양가격\n",
       "0    서울  2013년12월  18189\n",
       "1    부산  2013년12월   8111\n",
       "2    대구  2013년12월   8080\n",
       "3    인천  2013년12월  10204\n",
       "4    광주  2013년12월   6098\n",
       "..   ..       ...    ...\n",
       "352  전북   2015년8월   6580\n",
       "353  전남   2015년8월   6289\n",
       "354  경북   2015년8월   7037\n",
       "355  경남   2015년8월   7665\n",
       "356  제주   2015년8월   7343\n",
       "\n",
       "[357 rows x 3 columns]"
      ]
     },
     "execution_count": 11,
     "metadata": {},
     "output_type": "execute_result"
    }
   ],
   "source": [
    "first_df.melt(id_vars='지역', var_name='기간', value_name='분양가격')"
   ]
  },
  {
   "cell_type": "code",
   "execution_count": 12,
   "id": "de60d724-3bd9-4f4c-a413-2564887ea4fd",
   "metadata": {},
   "outputs": [],
   "source": [
    "first_df_melt = first_df.melt(id_vars='지역', var_name='기간', value_name='분양가격')"
   ]
  },
  {
   "cell_type": "code",
   "execution_count": 13,
   "id": "4537d9f7-9b9b-41f4-970d-d00ef99c0ba1",
   "metadata": {
    "tags": []
   },
   "outputs": [
    {
     "name": "stdout",
     "output_type": "stream",
     "text": [
      "<class 'pandas.core.frame.DataFrame'>\n",
      "RangeIndex: 357 entries, 0 to 356\n",
      "Data columns (total 3 columns):\n",
      " #   Column  Non-Null Count  Dtype \n",
      "---  ------  --------------  ----- \n",
      " 0   지역      357 non-null    object\n",
      " 1   기간      357 non-null    object\n",
      " 2   분양가격    357 non-null    int64 \n",
      "dtypes: int64(1), object(2)\n",
      "memory usage: 8.5+ KB\n"
     ]
    }
   ],
   "source": [
    "first_df_melt.info()"
   ]
  },
  {
   "cell_type": "code",
   "execution_count": 14,
   "id": "64acbdd0-f62b-4db4-8861-5dc15820307c",
   "metadata": {
    "tags": []
   },
   "outputs": [
    {
     "data": {
      "text/plain": [
       "0      [2013, 12월]\n",
       "1      [2013, 12월]\n",
       "2      [2013, 12월]\n",
       "3      [2013, 12월]\n",
       "4      [2013, 12월]\n",
       "          ...     \n",
       "352     [2015, 8월]\n",
       "353     [2015, 8월]\n",
       "354     [2015, 8월]\n",
       "355     [2015, 8월]\n",
       "356     [2015, 8월]\n",
       "Name: 기간, Length: 357, dtype: object"
      ]
     },
     "execution_count": 14,
     "metadata": {},
     "output_type": "execute_result"
    }
   ],
   "source": [
    "first_df_melt['기간'].str.split('년')"
   ]
  },
  {
   "cell_type": "code",
   "execution_count": 15,
   "id": "4e6b6441-bf6a-4aed-a132-d45f3294e7a0",
   "metadata": {
    "tags": []
   },
   "outputs": [
    {
     "data": {
      "text/plain": [
       "0      2013\n",
       "1      2013\n",
       "2      2013\n",
       "3      2013\n",
       "4      2013\n",
       "       ... \n",
       "352    2015\n",
       "353    2015\n",
       "354    2015\n",
       "355    2015\n",
       "356    2015\n",
       "Name: 기간, Length: 357, dtype: object"
      ]
     },
     "execution_count": 15,
     "metadata": {},
     "output_type": "execute_result"
    }
   ],
   "source": [
    "first_df_melt['기간'].str.split('년').str.get(0)"
   ]
  },
  {
   "cell_type": "code",
   "execution_count": 16,
   "id": "20015428-55d4-4c1b-9d83-7bf98733c742",
   "metadata": {},
   "outputs": [],
   "source": [
    "first_df_melt['연도'] = first_df_melt['기간'].str.split('년').str.get(0)"
   ]
  },
  {
   "cell_type": "code",
   "execution_count": 17,
   "id": "90cee832-a422-4786-8363-538497f42112",
   "metadata": {},
   "outputs": [],
   "source": [
    "first_df_melt['연도'] = first_df_melt['연도'].astype('int')"
   ]
  },
  {
   "cell_type": "code",
   "execution_count": 18,
   "id": "8c4685d5-50ef-4890-b1f7-da23d9f602e3",
   "metadata": {},
   "outputs": [
    {
     "data": {
      "text/plain": [
       "0      12\n",
       "1      12\n",
       "2      12\n",
       "3      12\n",
       "4      12\n",
       "       ..\n",
       "352     8\n",
       "353     8\n",
       "354     8\n",
       "355     8\n",
       "356     8\n",
       "Name: 기간, Length: 357, dtype: int32"
      ]
     },
     "execution_count": 18,
     "metadata": {},
     "output_type": "execute_result"
    }
   ],
   "source": [
    "first_df_melt['기간'].str.split('년').str.get(1).str.replace('월', '').astype('int')"
   ]
  },
  {
   "cell_type": "code",
   "execution_count": 19,
   "id": "8289b080-bb37-44ad-bb9e-5e79ad5e9939",
   "metadata": {},
   "outputs": [],
   "source": [
    "first_df_melt['월'] = first_df_melt['기간'].str.split('년').str.get(1).str.replace('월', '').astype('int')"
   ]
  },
  {
   "cell_type": "code",
   "execution_count": 20,
   "id": "e6c0fded-c5f6-42ba-88a5-caa24b147ef0",
   "metadata": {},
   "outputs": [
    {
     "data": {
      "text/html": [
       "<div>\n",
       "<style scoped>\n",
       "    .dataframe tbody tr th:only-of-type {\n",
       "        vertical-align: middle;\n",
       "    }\n",
       "\n",
       "    .dataframe tbody tr th {\n",
       "        vertical-align: top;\n",
       "    }\n",
       "\n",
       "    .dataframe thead th {\n",
       "        text-align: right;\n",
       "    }\n",
       "</style>\n",
       "<table border=\"1\" class=\"dataframe\">\n",
       "  <thead>\n",
       "    <tr style=\"text-align: right;\">\n",
       "      <th></th>\n",
       "      <th>지역</th>\n",
       "      <th>분양가격</th>\n",
       "      <th>연도</th>\n",
       "      <th>월</th>\n",
       "    </tr>\n",
       "  </thead>\n",
       "  <tbody>\n",
       "    <tr>\n",
       "      <th>0</th>\n",
       "      <td>서울</td>\n",
       "      <td>18189</td>\n",
       "      <td>2013</td>\n",
       "      <td>12</td>\n",
       "    </tr>\n",
       "    <tr>\n",
       "      <th>1</th>\n",
       "      <td>부산</td>\n",
       "      <td>8111</td>\n",
       "      <td>2013</td>\n",
       "      <td>12</td>\n",
       "    </tr>\n",
       "    <tr>\n",
       "      <th>2</th>\n",
       "      <td>대구</td>\n",
       "      <td>8080</td>\n",
       "      <td>2013</td>\n",
       "      <td>12</td>\n",
       "    </tr>\n",
       "    <tr>\n",
       "      <th>3</th>\n",
       "      <td>인천</td>\n",
       "      <td>10204</td>\n",
       "      <td>2013</td>\n",
       "      <td>12</td>\n",
       "    </tr>\n",
       "    <tr>\n",
       "      <th>4</th>\n",
       "      <td>광주</td>\n",
       "      <td>6098</td>\n",
       "      <td>2013</td>\n",
       "      <td>12</td>\n",
       "    </tr>\n",
       "    <tr>\n",
       "      <th>...</th>\n",
       "      <td>...</td>\n",
       "      <td>...</td>\n",
       "      <td>...</td>\n",
       "      <td>...</td>\n",
       "    </tr>\n",
       "    <tr>\n",
       "      <th>352</th>\n",
       "      <td>전북</td>\n",
       "      <td>6580</td>\n",
       "      <td>2015</td>\n",
       "      <td>8</td>\n",
       "    </tr>\n",
       "    <tr>\n",
       "      <th>353</th>\n",
       "      <td>전남</td>\n",
       "      <td>6289</td>\n",
       "      <td>2015</td>\n",
       "      <td>8</td>\n",
       "    </tr>\n",
       "    <tr>\n",
       "      <th>354</th>\n",
       "      <td>경북</td>\n",
       "      <td>7037</td>\n",
       "      <td>2015</td>\n",
       "      <td>8</td>\n",
       "    </tr>\n",
       "    <tr>\n",
       "      <th>355</th>\n",
       "      <td>경남</td>\n",
       "      <td>7665</td>\n",
       "      <td>2015</td>\n",
       "      <td>8</td>\n",
       "    </tr>\n",
       "    <tr>\n",
       "      <th>356</th>\n",
       "      <td>제주</td>\n",
       "      <td>7343</td>\n",
       "      <td>2015</td>\n",
       "      <td>8</td>\n",
       "    </tr>\n",
       "  </tbody>\n",
       "</table>\n",
       "<p>357 rows × 4 columns</p>\n",
       "</div>"
      ],
      "text/plain": [
       "     지역   분양가격    연도   월\n",
       "0    서울  18189  2013  12\n",
       "1    부산   8111  2013  12\n",
       "2    대구   8080  2013  12\n",
       "3    인천  10204  2013  12\n",
       "4    광주   6098  2013  12\n",
       "..   ..    ...   ...  ..\n",
       "352  전북   6580  2015   8\n",
       "353  전남   6289  2015   8\n",
       "354  경북   7037  2015   8\n",
       "355  경남   7665  2015   8\n",
       "356  제주   7343  2015   8\n",
       "\n",
       "[357 rows x 4 columns]"
      ]
     },
     "execution_count": 20,
     "metadata": {},
     "output_type": "execute_result"
    }
   ],
   "source": [
    "first_df_melt.drop(columns='기간')"
   ]
  },
  {
   "cell_type": "code",
   "execution_count": 21,
   "id": "99fbf2cf-6034-4ffc-a673-6afdacda8d12",
   "metadata": {},
   "outputs": [],
   "source": [
    "first_df_melt = first_df_melt.drop(columns='기간')"
   ]
  },
  {
   "cell_type": "markdown",
   "id": "31417f2d-2f3c-414e-8e55-3ec29cea32f2",
   "metadata": {},
   "source": [
    "---------"
   ]
  },
  {
   "cell_type": "markdown",
   "id": "0870e193-7f8e-46ac-be32-b66269b1c90b",
   "metadata": {},
   "source": [
    "---------"
   ]
  },
  {
   "cell_type": "markdown",
   "id": "f0a08507-baff-4e5c-b4db-d258a6d201d7",
   "metadata": {},
   "source": [
    "---------"
   ]
  },
  {
   "cell_type": "markdown",
   "id": "a5d95f72-11b2-4bf1-8672-10205aecdacd",
   "metadata": {},
   "source": [
    "---------"
   ]
  },
  {
   "cell_type": "markdown",
   "id": "2848604c-39c9-4853-a146-2739ce03bf63",
   "metadata": {},
   "source": [
    "---------"
   ]
  },
  {
   "cell_type": "markdown",
   "id": "09dfdf10-aa51-44b2-95f8-749ef8221cd8",
   "metadata": {},
   "source": [
    "---------"
   ]
  },
  {
   "cell_type": "code",
   "execution_count": 22,
   "id": "c72d058e-4094-46a5-a94e-0d517f135df3",
   "metadata": {},
   "outputs": [
    {
     "data": {
      "text/html": [
       "<div>\n",
       "<style scoped>\n",
       "    .dataframe tbody tr th:only-of-type {\n",
       "        vertical-align: middle;\n",
       "    }\n",
       "\n",
       "    .dataframe tbody tr th {\n",
       "        vertical-align: top;\n",
       "    }\n",
       "\n",
       "    .dataframe thead th {\n",
       "        text-align: right;\n",
       "    }\n",
       "</style>\n",
       "<table border=\"1\" class=\"dataframe\">\n",
       "  <thead>\n",
       "    <tr style=\"text-align: right;\">\n",
       "      <th></th>\n",
       "      <th>지역명</th>\n",
       "      <th>규모구분</th>\n",
       "      <th>연도</th>\n",
       "      <th>월</th>\n",
       "      <th>분양가격(㎡)</th>\n",
       "    </tr>\n",
       "  </thead>\n",
       "  <tbody>\n",
       "    <tr>\n",
       "      <th>0</th>\n",
       "      <td>서울</td>\n",
       "      <td>전체</td>\n",
       "      <td>2015</td>\n",
       "      <td>10</td>\n",
       "      <td>5841</td>\n",
       "    </tr>\n",
       "    <tr>\n",
       "      <th>1</th>\n",
       "      <td>서울</td>\n",
       "      <td>전용면적 60㎡이하</td>\n",
       "      <td>2015</td>\n",
       "      <td>10</td>\n",
       "      <td>5652</td>\n",
       "    </tr>\n",
       "    <tr>\n",
       "      <th>2</th>\n",
       "      <td>서울</td>\n",
       "      <td>전용면적 60㎡초과 85㎡이하</td>\n",
       "      <td>2015</td>\n",
       "      <td>10</td>\n",
       "      <td>5882</td>\n",
       "    </tr>\n",
       "    <tr>\n",
       "      <th>3</th>\n",
       "      <td>서울</td>\n",
       "      <td>전용면적 85㎡초과 102㎡이하</td>\n",
       "      <td>2015</td>\n",
       "      <td>10</td>\n",
       "      <td>5721</td>\n",
       "    </tr>\n",
       "    <tr>\n",
       "      <th>4</th>\n",
       "      <td>서울</td>\n",
       "      <td>전용면적 102㎡초과</td>\n",
       "      <td>2015</td>\n",
       "      <td>10</td>\n",
       "      <td>5879</td>\n",
       "    </tr>\n",
       "  </tbody>\n",
       "</table>\n",
       "</div>"
      ],
      "text/plain": [
       "  지역명               규모구분    연도   월 분양가격(㎡)\n",
       "0  서울                 전체  2015  10    5841\n",
       "1  서울         전용면적 60㎡이하  2015  10    5652\n",
       "2  서울   전용면적 60㎡초과 85㎡이하  2015  10    5882\n",
       "3  서울  전용면적 85㎡초과 102㎡이하  2015  10    5721\n",
       "4  서울        전용면적 102㎡초과  2015  10    5879"
      ]
     },
     "execution_count": 22,
     "metadata": {},
     "output_type": "execute_result"
    }
   ],
   "source": [
    "last_df.head()"
   ]
  },
  {
   "cell_type": "code",
   "execution_count": 23,
   "id": "a70f5b96-d6b5-42bd-9132-55342ffe2814",
   "metadata": {},
   "outputs": [
    {
     "data": {
      "text/plain": [
       "0                  전체\n",
       "1               60㎡이하\n",
       "2         60㎡초과 85㎡이하\n",
       "3        85㎡초과 102㎡이하\n",
       "4              102㎡초과\n",
       "            ...      \n",
       "4330               전체\n",
       "4331            60㎡이하\n",
       "4332      60㎡초과 85㎡이하\n",
       "4333     85㎡초과 102㎡이하\n",
       "4334           102㎡초과\n",
       "Name: 규모구분, Length: 4335, dtype: object"
      ]
     },
     "execution_count": 23,
     "metadata": {},
     "output_type": "execute_result"
    }
   ],
   "source": [
    "last_df.규모구분.str.replace('전용면적', '')"
   ]
  },
  {
   "cell_type": "code",
   "execution_count": 24,
   "id": "f5837733-ba21-4edc-87e9-b42e051a4132",
   "metadata": {},
   "outputs": [],
   "source": [
    "last_df['전용면적'] = last_df.규모구분.str.replace('전용면적', '')"
   ]
  },
  {
   "cell_type": "code",
   "execution_count": 25,
   "id": "6bb598cc-1b69-4c25-bd4f-e55d0101a047",
   "metadata": {},
   "outputs": [],
   "source": [
    "last_df['전용면적'] = last_df.전용면적.str.replace('초과', '~')"
   ]
  },
  {
   "cell_type": "code",
   "execution_count": 26,
   "id": "7ec4a6a2-8158-4b41-9bfb-7f5afe390bb4",
   "metadata": {},
   "outputs": [],
   "source": [
    "last_df['전용면적'] = last_df.전용면적.str.replace('이하', '')"
   ]
  },
  {
   "cell_type": "code",
   "execution_count": 27,
   "id": "6883c12a-93db-45fe-8aaa-664cd2f15872",
   "metadata": {},
   "outputs": [],
   "source": [
    "last_df['전용면적'] = last_df.전용면적.str.replace(' ', '')"
   ]
  },
  {
   "cell_type": "code",
   "execution_count": 28,
   "id": "24094054-4af5-4c12-80b9-000fc1171151",
   "metadata": {},
   "outputs": [
    {
     "data": {
      "text/html": [
       "<div>\n",
       "<style scoped>\n",
       "    .dataframe tbody tr th:only-of-type {\n",
       "        vertical-align: middle;\n",
       "    }\n",
       "\n",
       "    .dataframe tbody tr th {\n",
       "        vertical-align: top;\n",
       "    }\n",
       "\n",
       "    .dataframe thead th {\n",
       "        text-align: right;\n",
       "    }\n",
       "</style>\n",
       "<table border=\"1\" class=\"dataframe\">\n",
       "  <thead>\n",
       "    <tr style=\"text-align: right;\">\n",
       "      <th></th>\n",
       "      <th>지역명</th>\n",
       "      <th>규모구분</th>\n",
       "      <th>연도</th>\n",
       "      <th>월</th>\n",
       "      <th>분양가격(㎡)</th>\n",
       "      <th>전용면적</th>\n",
       "    </tr>\n",
       "  </thead>\n",
       "  <tbody>\n",
       "    <tr>\n",
       "      <th>0</th>\n",
       "      <td>서울</td>\n",
       "      <td>전체</td>\n",
       "      <td>2015</td>\n",
       "      <td>10</td>\n",
       "      <td>5841</td>\n",
       "      <td>전체</td>\n",
       "    </tr>\n",
       "    <tr>\n",
       "      <th>1</th>\n",
       "      <td>서울</td>\n",
       "      <td>전용면적 60㎡이하</td>\n",
       "      <td>2015</td>\n",
       "      <td>10</td>\n",
       "      <td>5652</td>\n",
       "      <td>60㎡</td>\n",
       "    </tr>\n",
       "    <tr>\n",
       "      <th>2</th>\n",
       "      <td>서울</td>\n",
       "      <td>전용면적 60㎡초과 85㎡이하</td>\n",
       "      <td>2015</td>\n",
       "      <td>10</td>\n",
       "      <td>5882</td>\n",
       "      <td>60㎡~85㎡</td>\n",
       "    </tr>\n",
       "    <tr>\n",
       "      <th>3</th>\n",
       "      <td>서울</td>\n",
       "      <td>전용면적 85㎡초과 102㎡이하</td>\n",
       "      <td>2015</td>\n",
       "      <td>10</td>\n",
       "      <td>5721</td>\n",
       "      <td>85㎡~102㎡</td>\n",
       "    </tr>\n",
       "    <tr>\n",
       "      <th>4</th>\n",
       "      <td>서울</td>\n",
       "      <td>전용면적 102㎡초과</td>\n",
       "      <td>2015</td>\n",
       "      <td>10</td>\n",
       "      <td>5879</td>\n",
       "      <td>102㎡~</td>\n",
       "    </tr>\n",
       "    <tr>\n",
       "      <th>...</th>\n",
       "      <td>...</td>\n",
       "      <td>...</td>\n",
       "      <td>...</td>\n",
       "      <td>...</td>\n",
       "      <td>...</td>\n",
       "      <td>...</td>\n",
       "    </tr>\n",
       "    <tr>\n",
       "      <th>4330</th>\n",
       "      <td>제주</td>\n",
       "      <td>전체</td>\n",
       "      <td>2019</td>\n",
       "      <td>12</td>\n",
       "      <td>3882</td>\n",
       "      <td>전체</td>\n",
       "    </tr>\n",
       "    <tr>\n",
       "      <th>4331</th>\n",
       "      <td>제주</td>\n",
       "      <td>전용면적 60㎡이하</td>\n",
       "      <td>2019</td>\n",
       "      <td>12</td>\n",
       "      <td>NaN</td>\n",
       "      <td>60㎡</td>\n",
       "    </tr>\n",
       "    <tr>\n",
       "      <th>4332</th>\n",
       "      <td>제주</td>\n",
       "      <td>전용면적 60㎡초과 85㎡이하</td>\n",
       "      <td>2019</td>\n",
       "      <td>12</td>\n",
       "      <td>3898</td>\n",
       "      <td>60㎡~85㎡</td>\n",
       "    </tr>\n",
       "    <tr>\n",
       "      <th>4333</th>\n",
       "      <td>제주</td>\n",
       "      <td>전용면적 85㎡초과 102㎡이하</td>\n",
       "      <td>2019</td>\n",
       "      <td>12</td>\n",
       "      <td>NaN</td>\n",
       "      <td>85㎡~102㎡</td>\n",
       "    </tr>\n",
       "    <tr>\n",
       "      <th>4334</th>\n",
       "      <td>제주</td>\n",
       "      <td>전용면적 102㎡초과</td>\n",
       "      <td>2019</td>\n",
       "      <td>12</td>\n",
       "      <td>3601</td>\n",
       "      <td>102㎡~</td>\n",
       "    </tr>\n",
       "  </tbody>\n",
       "</table>\n",
       "<p>4335 rows × 6 columns</p>\n",
       "</div>"
      ],
      "text/plain": [
       "     지역명               규모구분    연도   월 분양가격(㎡)      전용면적\n",
       "0     서울                 전체  2015  10    5841        전체\n",
       "1     서울         전용면적 60㎡이하  2015  10    5652       60㎡\n",
       "2     서울   전용면적 60㎡초과 85㎡이하  2015  10    5882   60㎡~85㎡\n",
       "3     서울  전용면적 85㎡초과 102㎡이하  2015  10    5721  85㎡~102㎡\n",
       "4     서울        전용면적 102㎡초과  2015  10    5879     102㎡~\n",
       "...   ..                ...   ...  ..     ...       ...\n",
       "4330  제주                 전체  2019  12    3882        전체\n",
       "4331  제주         전용면적 60㎡이하  2019  12     NaN       60㎡\n",
       "4332  제주   전용면적 60㎡초과 85㎡이하  2019  12    3898   60㎡~85㎡\n",
       "4333  제주  전용면적 85㎡초과 102㎡이하  2019  12     NaN  85㎡~102㎡\n",
       "4334  제주        전용면적 102㎡초과  2019  12    3601     102㎡~\n",
       "\n",
       "[4335 rows x 6 columns]"
      ]
     },
     "execution_count": 28,
     "metadata": {},
     "output_type": "execute_result"
    }
   ],
   "source": [
    "last_df"
   ]
  },
  {
   "cell_type": "code",
   "execution_count": 29,
   "id": "0ad50275-cfec-444d-a0f2-39818f93d415",
   "metadata": {
    "tags": []
   },
   "outputs": [],
   "source": [
    "last_df.drop(columns='규모구분', inplace=True)"
   ]
  },
  {
   "cell_type": "code",
   "execution_count": 30,
   "id": "4f27eb70-6d8f-44c3-9a4a-d16827931a3f",
   "metadata": {
    "tags": []
   },
   "outputs": [],
   "source": [
    "last_df['분양가격'] = last_df['분양가격(㎡)'] "
   ]
  },
  {
   "cell_type": "code",
   "execution_count": 31,
   "id": "3fac7eb7-f597-4cc2-828c-12949b0562db",
   "metadata": {},
   "outputs": [
    {
     "data": {
      "text/plain": [
       "0       5841.0\n",
       "1       5652.0\n",
       "2       5882.0\n",
       "3       5721.0\n",
       "4       5879.0\n",
       "         ...  \n",
       "4330    3882.0\n",
       "4331       NaN\n",
       "4332    3898.0\n",
       "4333       NaN\n",
       "4334    3601.0\n",
       "Name: 분양가격, Length: 4335, dtype: float64"
      ]
     },
     "execution_count": 31,
     "metadata": {},
     "output_type": "execute_result"
    }
   ],
   "source": [
    "pd.to_numeric(last_df['분양가격'], errors='coerce')"
   ]
  },
  {
   "cell_type": "code",
   "execution_count": 32,
   "id": "103325b1-6f35-4ce7-82d4-654fbe8606e8",
   "metadata": {},
   "outputs": [],
   "source": [
    "last_df['분양가격'] = pd.to_numeric(last_df['분양가격'], errors='coerce')"
   ]
  },
  {
   "cell_type": "code",
   "execution_count": 33,
   "id": "c1cde250-e6ac-46d5-99dd-d41d1a93b6ce",
   "metadata": {
    "tags": []
   },
   "outputs": [],
   "source": [
    "last_df.drop(columns='분양가격(㎡)', inplace=True) "
   ]
  },
  {
   "cell_type": "code",
   "execution_count": 34,
   "id": "8bb6347d-eef0-4907-b30f-e6720b65ae03",
   "metadata": {},
   "outputs": [],
   "source": [
    "last_df.rename(columns={'지역명':'지역'}, inplace=True)"
   ]
  },
  {
   "cell_type": "code",
   "execution_count": 35,
   "id": "ec07a5c2-1a32-4b99-b0f2-dd4f78af746c",
   "metadata": {},
   "outputs": [
    {
     "data": {
      "text/html": [
       "<div>\n",
       "<style scoped>\n",
       "    .dataframe tbody tr th:only-of-type {\n",
       "        vertical-align: middle;\n",
       "    }\n",
       "\n",
       "    .dataframe tbody tr th {\n",
       "        vertical-align: top;\n",
       "    }\n",
       "\n",
       "    .dataframe thead th {\n",
       "        text-align: right;\n",
       "    }\n",
       "</style>\n",
       "<table border=\"1\" class=\"dataframe\">\n",
       "  <thead>\n",
       "    <tr style=\"text-align: right;\">\n",
       "      <th></th>\n",
       "      <th>지역</th>\n",
       "      <th>연도</th>\n",
       "      <th>월</th>\n",
       "      <th>전용면적</th>\n",
       "      <th>분양가격</th>\n",
       "    </tr>\n",
       "  </thead>\n",
       "  <tbody>\n",
       "    <tr>\n",
       "      <th>0</th>\n",
       "      <td>서울</td>\n",
       "      <td>2015</td>\n",
       "      <td>10</td>\n",
       "      <td>전체</td>\n",
       "      <td>5841.0</td>\n",
       "    </tr>\n",
       "    <tr>\n",
       "      <th>1</th>\n",
       "      <td>서울</td>\n",
       "      <td>2015</td>\n",
       "      <td>10</td>\n",
       "      <td>60㎡</td>\n",
       "      <td>5652.0</td>\n",
       "    </tr>\n",
       "    <tr>\n",
       "      <th>2</th>\n",
       "      <td>서울</td>\n",
       "      <td>2015</td>\n",
       "      <td>10</td>\n",
       "      <td>60㎡~85㎡</td>\n",
       "      <td>5882.0</td>\n",
       "    </tr>\n",
       "    <tr>\n",
       "      <th>3</th>\n",
       "      <td>서울</td>\n",
       "      <td>2015</td>\n",
       "      <td>10</td>\n",
       "      <td>85㎡~102㎡</td>\n",
       "      <td>5721.0</td>\n",
       "    </tr>\n",
       "    <tr>\n",
       "      <th>4</th>\n",
       "      <td>서울</td>\n",
       "      <td>2015</td>\n",
       "      <td>10</td>\n",
       "      <td>102㎡~</td>\n",
       "      <td>5879.0</td>\n",
       "    </tr>\n",
       "    <tr>\n",
       "      <th>...</th>\n",
       "      <td>...</td>\n",
       "      <td>...</td>\n",
       "      <td>...</td>\n",
       "      <td>...</td>\n",
       "      <td>...</td>\n",
       "    </tr>\n",
       "    <tr>\n",
       "      <th>4330</th>\n",
       "      <td>제주</td>\n",
       "      <td>2019</td>\n",
       "      <td>12</td>\n",
       "      <td>전체</td>\n",
       "      <td>3882.0</td>\n",
       "    </tr>\n",
       "    <tr>\n",
       "      <th>4331</th>\n",
       "      <td>제주</td>\n",
       "      <td>2019</td>\n",
       "      <td>12</td>\n",
       "      <td>60㎡</td>\n",
       "      <td>NaN</td>\n",
       "    </tr>\n",
       "    <tr>\n",
       "      <th>4332</th>\n",
       "      <td>제주</td>\n",
       "      <td>2019</td>\n",
       "      <td>12</td>\n",
       "      <td>60㎡~85㎡</td>\n",
       "      <td>3898.0</td>\n",
       "    </tr>\n",
       "    <tr>\n",
       "      <th>4333</th>\n",
       "      <td>제주</td>\n",
       "      <td>2019</td>\n",
       "      <td>12</td>\n",
       "      <td>85㎡~102㎡</td>\n",
       "      <td>NaN</td>\n",
       "    </tr>\n",
       "    <tr>\n",
       "      <th>4334</th>\n",
       "      <td>제주</td>\n",
       "      <td>2019</td>\n",
       "      <td>12</td>\n",
       "      <td>102㎡~</td>\n",
       "      <td>3601.0</td>\n",
       "    </tr>\n",
       "  </tbody>\n",
       "</table>\n",
       "<p>4335 rows × 5 columns</p>\n",
       "</div>"
      ],
      "text/plain": [
       "      지역    연도   월      전용면적    분양가격\n",
       "0     서울  2015  10        전체  5841.0\n",
       "1     서울  2015  10       60㎡  5652.0\n",
       "2     서울  2015  10   60㎡~85㎡  5882.0\n",
       "3     서울  2015  10  85㎡~102㎡  5721.0\n",
       "4     서울  2015  10     102㎡~  5879.0\n",
       "...   ..   ...  ..       ...     ...\n",
       "4330  제주  2019  12        전체  3882.0\n",
       "4331  제주  2019  12       60㎡     NaN\n",
       "4332  제주  2019  12   60㎡~85㎡  3898.0\n",
       "4333  제주  2019  12  85㎡~102㎡     NaN\n",
       "4334  제주  2019  12     102㎡~  3601.0\n",
       "\n",
       "[4335 rows x 5 columns]"
      ]
     },
     "execution_count": 35,
     "metadata": {},
     "output_type": "execute_result"
    }
   ],
   "source": [
    "last_df"
   ]
  },
  {
   "cell_type": "code",
   "execution_count": 36,
   "id": "5aafdd62-f255-4993-9878-3a62e53dd3ef",
   "metadata": {},
   "outputs": [
    {
     "name": "stdout",
     "output_type": "stream",
     "text": [
      "<class 'pandas.core.frame.DataFrame'>\n",
      "RangeIndex: 4335 entries, 0 to 4334\n",
      "Data columns (total 5 columns):\n",
      " #   Column  Non-Null Count  Dtype  \n",
      "---  ------  --------------  -----  \n",
      " 0   지역      4335 non-null   object \n",
      " 1   연도      4335 non-null   int64  \n",
      " 2   월       4335 non-null   int64  \n",
      " 3   전용면적    4335 non-null   object \n",
      " 4   분양가격    3957 non-null   float64\n",
      "dtypes: float64(1), int64(2), object(2)\n",
      "memory usage: 169.5+ KB\n"
     ]
    }
   ],
   "source": [
    "last_df.info()"
   ]
  },
  {
   "cell_type": "markdown",
   "id": "28d158af-a2e6-4746-bf66-e95a4756e346",
   "metadata": {},
   "source": [
    "----------------------------------"
   ]
  },
  {
   "cell_type": "markdown",
   "id": "f739b00c-8a6e-4552-8273-542544567798",
   "metadata": {},
   "source": [
    "----------------------------------"
   ]
  },
  {
   "cell_type": "markdown",
   "id": "e5107f19-37cf-4eda-a972-64b9129cda24",
   "metadata": {},
   "source": [
    "----------------------------------"
   ]
  },
  {
   "cell_type": "markdown",
   "id": "6f0a591a-5def-429a-b25a-0f69a5cd75c2",
   "metadata": {},
   "source": [
    "----------------------------------"
   ]
  },
  {
   "cell_type": "markdown",
   "id": "32c9cac4-b4f9-45e7-96e4-eebf925c5fc6",
   "metadata": {},
   "source": [
    "----------------------------------"
   ]
  },
  {
   "cell_type": "markdown",
   "id": "8cd19024-75d7-448f-a6ed-264932db96b9",
   "metadata": {},
   "source": [
    "----------------------------------"
   ]
  },
  {
   "cell_type": "markdown",
   "id": "e7cc9619-9297-41b1-bddf-8fe4529fc3ed",
   "metadata": {},
   "source": [
    "----------------------------------\n",
    "last_df랑 first_df_melt에 컬럼명, 순서 맞춰서 concate 해주기\n",
    "last_df는 그래프 그려야하니까 따로 남겨두기"
   ]
  },
  {
   "cell_type": "code",
   "execution_count": 37,
   "id": "f63f21ba-aff6-4edd-8087-96a459f6a2dd",
   "metadata": {},
   "outputs": [
    {
     "data": {
      "text/plain": [
       "Index(['지역', '분양가격', '연도', '월'], dtype='object')"
      ]
     },
     "execution_count": 37,
     "metadata": {},
     "output_type": "execute_result"
    }
   ],
   "source": [
    "first_df_melt.columns"
   ]
  },
  {
   "cell_type": "code",
   "execution_count": 38,
   "id": "76d0913a-c254-4abe-9e49-58f8e8161e40",
   "metadata": {},
   "outputs": [
    {
     "data": {
      "text/html": [
       "<div>\n",
       "<style scoped>\n",
       "    .dataframe tbody tr th:only-of-type {\n",
       "        vertical-align: middle;\n",
       "    }\n",
       "\n",
       "    .dataframe tbody tr th {\n",
       "        vertical-align: top;\n",
       "    }\n",
       "\n",
       "    .dataframe thead th {\n",
       "        text-align: right;\n",
       "    }\n",
       "</style>\n",
       "<table border=\"1\" class=\"dataframe\">\n",
       "  <thead>\n",
       "    <tr style=\"text-align: right;\">\n",
       "      <th></th>\n",
       "      <th>지역</th>\n",
       "      <th>연도</th>\n",
       "      <th>월</th>\n",
       "      <th>전용면적</th>\n",
       "      <th>분양가격</th>\n",
       "    </tr>\n",
       "  </thead>\n",
       "  <tbody>\n",
       "    <tr>\n",
       "      <th>0</th>\n",
       "      <td>서울</td>\n",
       "      <td>2015</td>\n",
       "      <td>10</td>\n",
       "      <td>전체</td>\n",
       "      <td>5841.0</td>\n",
       "    </tr>\n",
       "    <tr>\n",
       "      <th>1</th>\n",
       "      <td>서울</td>\n",
       "      <td>2015</td>\n",
       "      <td>10</td>\n",
       "      <td>60㎡</td>\n",
       "      <td>5652.0</td>\n",
       "    </tr>\n",
       "    <tr>\n",
       "      <th>2</th>\n",
       "      <td>서울</td>\n",
       "      <td>2015</td>\n",
       "      <td>10</td>\n",
       "      <td>60㎡~85㎡</td>\n",
       "      <td>5882.0</td>\n",
       "    </tr>\n",
       "    <tr>\n",
       "      <th>3</th>\n",
       "      <td>서울</td>\n",
       "      <td>2015</td>\n",
       "      <td>10</td>\n",
       "      <td>85㎡~102㎡</td>\n",
       "      <td>5721.0</td>\n",
       "    </tr>\n",
       "    <tr>\n",
       "      <th>4</th>\n",
       "      <td>서울</td>\n",
       "      <td>2015</td>\n",
       "      <td>10</td>\n",
       "      <td>102㎡~</td>\n",
       "      <td>5879.0</td>\n",
       "    </tr>\n",
       "    <tr>\n",
       "      <th>...</th>\n",
       "      <td>...</td>\n",
       "      <td>...</td>\n",
       "      <td>...</td>\n",
       "      <td>...</td>\n",
       "      <td>...</td>\n",
       "    </tr>\n",
       "    <tr>\n",
       "      <th>4330</th>\n",
       "      <td>제주</td>\n",
       "      <td>2019</td>\n",
       "      <td>12</td>\n",
       "      <td>전체</td>\n",
       "      <td>3882.0</td>\n",
       "    </tr>\n",
       "    <tr>\n",
       "      <th>4331</th>\n",
       "      <td>제주</td>\n",
       "      <td>2019</td>\n",
       "      <td>12</td>\n",
       "      <td>60㎡</td>\n",
       "      <td>NaN</td>\n",
       "    </tr>\n",
       "    <tr>\n",
       "      <th>4332</th>\n",
       "      <td>제주</td>\n",
       "      <td>2019</td>\n",
       "      <td>12</td>\n",
       "      <td>60㎡~85㎡</td>\n",
       "      <td>3898.0</td>\n",
       "    </tr>\n",
       "    <tr>\n",
       "      <th>4333</th>\n",
       "      <td>제주</td>\n",
       "      <td>2019</td>\n",
       "      <td>12</td>\n",
       "      <td>85㎡~102㎡</td>\n",
       "      <td>NaN</td>\n",
       "    </tr>\n",
       "    <tr>\n",
       "      <th>4334</th>\n",
       "      <td>제주</td>\n",
       "      <td>2019</td>\n",
       "      <td>12</td>\n",
       "      <td>102㎡~</td>\n",
       "      <td>3601.0</td>\n",
       "    </tr>\n",
       "  </tbody>\n",
       "</table>\n",
       "<p>4335 rows × 5 columns</p>\n",
       "</div>"
      ],
      "text/plain": [
       "      지역    연도   월      전용면적    분양가격\n",
       "0     서울  2015  10        전체  5841.0\n",
       "1     서울  2015  10       60㎡  5652.0\n",
       "2     서울  2015  10   60㎡~85㎡  5882.0\n",
       "3     서울  2015  10  85㎡~102㎡  5721.0\n",
       "4     서울  2015  10     102㎡~  5879.0\n",
       "...   ..   ...  ..       ...     ...\n",
       "4330  제주  2019  12        전체  3882.0\n",
       "4331  제주  2019  12       60㎡     NaN\n",
       "4332  제주  2019  12   60㎡~85㎡  3898.0\n",
       "4333  제주  2019  12  85㎡~102㎡     NaN\n",
       "4334  제주  2019  12     102㎡~  3601.0\n",
       "\n",
       "[4335 rows x 5 columns]"
      ]
     },
     "execution_count": 38,
     "metadata": {},
     "output_type": "execute_result"
    }
   ],
   "source": [
    "last_df"
   ]
  },
  {
   "cell_type": "code",
   "execution_count": 39,
   "id": "8a775ea4-a589-4277-99cd-e79d6b8bd342",
   "metadata": {},
   "outputs": [],
   "source": [
    "# 컬럼명 최종 맞추기\n",
    "cols = ['지역', '연도', '월', '분양가격']"
   ]
  },
  {
   "cell_type": "code",
   "execution_count": 40,
   "id": "3cf08911-f513-444f-a614-378ceb8e9ed0",
   "metadata": {},
   "outputs": [],
   "source": [
    "data_first = first_df_melt[cols]"
   ]
  },
  {
   "cell_type": "code",
   "execution_count": 41,
   "id": "560b20f8-3e9a-46ae-a4f7-dda9708c4be8",
   "metadata": {},
   "outputs": [],
   "source": [
    "data_last = last_df[last_df['전용면적'] =='전체'][cols]"
   ]
  },
  {
   "cell_type": "code",
   "execution_count": 42,
   "id": "92609cc6-bbf0-43c8-8c83-d3e33ccd304e",
   "metadata": {},
   "outputs": [
    {
     "data": {
      "text/html": [
       "<div>\n",
       "<style scoped>\n",
       "    .dataframe tbody tr th:only-of-type {\n",
       "        vertical-align: middle;\n",
       "    }\n",
       "\n",
       "    .dataframe tbody tr th {\n",
       "        vertical-align: top;\n",
       "    }\n",
       "\n",
       "    .dataframe thead th {\n",
       "        text-align: right;\n",
       "    }\n",
       "</style>\n",
       "<table border=\"1\" class=\"dataframe\">\n",
       "  <thead>\n",
       "    <tr style=\"text-align: right;\">\n",
       "      <th></th>\n",
       "      <th>지역</th>\n",
       "      <th>연도</th>\n",
       "      <th>월</th>\n",
       "      <th>분양가격</th>\n",
       "    </tr>\n",
       "  </thead>\n",
       "  <tbody>\n",
       "    <tr>\n",
       "      <th>0</th>\n",
       "      <td>서울</td>\n",
       "      <td>2013</td>\n",
       "      <td>12</td>\n",
       "      <td>18189.0</td>\n",
       "    </tr>\n",
       "    <tr>\n",
       "      <th>1</th>\n",
       "      <td>부산</td>\n",
       "      <td>2013</td>\n",
       "      <td>12</td>\n",
       "      <td>8111.0</td>\n",
       "    </tr>\n",
       "    <tr>\n",
       "      <th>2</th>\n",
       "      <td>대구</td>\n",
       "      <td>2013</td>\n",
       "      <td>12</td>\n",
       "      <td>8080.0</td>\n",
       "    </tr>\n",
       "    <tr>\n",
       "      <th>3</th>\n",
       "      <td>인천</td>\n",
       "      <td>2013</td>\n",
       "      <td>12</td>\n",
       "      <td>10204.0</td>\n",
       "    </tr>\n",
       "    <tr>\n",
       "      <th>4</th>\n",
       "      <td>광주</td>\n",
       "      <td>2013</td>\n",
       "      <td>12</td>\n",
       "      <td>6098.0</td>\n",
       "    </tr>\n",
       "    <tr>\n",
       "      <th>...</th>\n",
       "      <td>...</td>\n",
       "      <td>...</td>\n",
       "      <td>...</td>\n",
       "      <td>...</td>\n",
       "    </tr>\n",
       "    <tr>\n",
       "      <th>4310</th>\n",
       "      <td>전북</td>\n",
       "      <td>2019</td>\n",
       "      <td>12</td>\n",
       "      <td>2468.0</td>\n",
       "    </tr>\n",
       "    <tr>\n",
       "      <th>4315</th>\n",
       "      <td>전남</td>\n",
       "      <td>2019</td>\n",
       "      <td>12</td>\n",
       "      <td>2452.0</td>\n",
       "    </tr>\n",
       "    <tr>\n",
       "      <th>4320</th>\n",
       "      <td>경북</td>\n",
       "      <td>2019</td>\n",
       "      <td>12</td>\n",
       "      <td>2914.0</td>\n",
       "    </tr>\n",
       "    <tr>\n",
       "      <th>4325</th>\n",
       "      <td>경남</td>\n",
       "      <td>2019</td>\n",
       "      <td>12</td>\n",
       "      <td>3063.0</td>\n",
       "    </tr>\n",
       "    <tr>\n",
       "      <th>4330</th>\n",
       "      <td>제주</td>\n",
       "      <td>2019</td>\n",
       "      <td>12</td>\n",
       "      <td>3882.0</td>\n",
       "    </tr>\n",
       "  </tbody>\n",
       "</table>\n",
       "<p>1224 rows × 4 columns</p>\n",
       "</div>"
      ],
      "text/plain": [
       "      지역    연도   월     분양가격\n",
       "0     서울  2013  12  18189.0\n",
       "1     부산  2013  12   8111.0\n",
       "2     대구  2013  12   8080.0\n",
       "3     인천  2013  12  10204.0\n",
       "4     광주  2013  12   6098.0\n",
       "...   ..   ...  ..      ...\n",
       "4310  전북  2019  12   2468.0\n",
       "4315  전남  2019  12   2452.0\n",
       "4320  경북  2019  12   2914.0\n",
       "4325  경남  2019  12   3063.0\n",
       "4330  제주  2019  12   3882.0\n",
       "\n",
       "[1224 rows x 4 columns]"
      ]
     },
     "execution_count": 42,
     "metadata": {},
     "output_type": "execute_result"
    }
   ],
   "source": [
    "pd.concat([data_first, data_last])"
   ]
  },
  {
   "cell_type": "code",
   "execution_count": 43,
   "id": "a0bf9b69-eb46-4aa1-b259-cee7b9646340",
   "metadata": {},
   "outputs": [
    {
     "data": {
      "text/html": [
       "<div>\n",
       "<style scoped>\n",
       "    .dataframe tbody tr th:only-of-type {\n",
       "        vertical-align: middle;\n",
       "    }\n",
       "\n",
       "    .dataframe tbody tr th {\n",
       "        vertical-align: top;\n",
       "    }\n",
       "\n",
       "    .dataframe thead th {\n",
       "        text-align: right;\n",
       "    }\n",
       "</style>\n",
       "<table border=\"1\" class=\"dataframe\">\n",
       "  <thead>\n",
       "    <tr style=\"text-align: right;\">\n",
       "      <th></th>\n",
       "      <th>index</th>\n",
       "      <th>지역</th>\n",
       "      <th>연도</th>\n",
       "      <th>월</th>\n",
       "      <th>분양가격</th>\n",
       "    </tr>\n",
       "  </thead>\n",
       "  <tbody>\n",
       "    <tr>\n",
       "      <th>0</th>\n",
       "      <td>0</td>\n",
       "      <td>서울</td>\n",
       "      <td>2013</td>\n",
       "      <td>12</td>\n",
       "      <td>18189.0</td>\n",
       "    </tr>\n",
       "    <tr>\n",
       "      <th>1</th>\n",
       "      <td>1</td>\n",
       "      <td>부산</td>\n",
       "      <td>2013</td>\n",
       "      <td>12</td>\n",
       "      <td>8111.0</td>\n",
       "    </tr>\n",
       "    <tr>\n",
       "      <th>2</th>\n",
       "      <td>2</td>\n",
       "      <td>대구</td>\n",
       "      <td>2013</td>\n",
       "      <td>12</td>\n",
       "      <td>8080.0</td>\n",
       "    </tr>\n",
       "    <tr>\n",
       "      <th>3</th>\n",
       "      <td>3</td>\n",
       "      <td>인천</td>\n",
       "      <td>2013</td>\n",
       "      <td>12</td>\n",
       "      <td>10204.0</td>\n",
       "    </tr>\n",
       "    <tr>\n",
       "      <th>4</th>\n",
       "      <td>4</td>\n",
       "      <td>광주</td>\n",
       "      <td>2013</td>\n",
       "      <td>12</td>\n",
       "      <td>6098.0</td>\n",
       "    </tr>\n",
       "    <tr>\n",
       "      <th>...</th>\n",
       "      <td>...</td>\n",
       "      <td>...</td>\n",
       "      <td>...</td>\n",
       "      <td>...</td>\n",
       "      <td>...</td>\n",
       "    </tr>\n",
       "    <tr>\n",
       "      <th>1219</th>\n",
       "      <td>4310</td>\n",
       "      <td>전북</td>\n",
       "      <td>2019</td>\n",
       "      <td>12</td>\n",
       "      <td>2468.0</td>\n",
       "    </tr>\n",
       "    <tr>\n",
       "      <th>1220</th>\n",
       "      <td>4315</td>\n",
       "      <td>전남</td>\n",
       "      <td>2019</td>\n",
       "      <td>12</td>\n",
       "      <td>2452.0</td>\n",
       "    </tr>\n",
       "    <tr>\n",
       "      <th>1221</th>\n",
       "      <td>4320</td>\n",
       "      <td>경북</td>\n",
       "      <td>2019</td>\n",
       "      <td>12</td>\n",
       "      <td>2914.0</td>\n",
       "    </tr>\n",
       "    <tr>\n",
       "      <th>1222</th>\n",
       "      <td>4325</td>\n",
       "      <td>경남</td>\n",
       "      <td>2019</td>\n",
       "      <td>12</td>\n",
       "      <td>3063.0</td>\n",
       "    </tr>\n",
       "    <tr>\n",
       "      <th>1223</th>\n",
       "      <td>4330</td>\n",
       "      <td>제주</td>\n",
       "      <td>2019</td>\n",
       "      <td>12</td>\n",
       "      <td>3882.0</td>\n",
       "    </tr>\n",
       "  </tbody>\n",
       "</table>\n",
       "<p>1224 rows × 5 columns</p>\n",
       "</div>"
      ],
      "text/plain": [
       "      index  지역    연도   월     분양가격\n",
       "0         0  서울  2013  12  18189.0\n",
       "1         1  부산  2013  12   8111.0\n",
       "2         2  대구  2013  12   8080.0\n",
       "3         3  인천  2013  12  10204.0\n",
       "4         4  광주  2013  12   6098.0\n",
       "...     ...  ..   ...  ..      ...\n",
       "1219   4310  전북  2019  12   2468.0\n",
       "1220   4315  전남  2019  12   2452.0\n",
       "1221   4320  경북  2019  12   2914.0\n",
       "1222   4325  경남  2019  12   3063.0\n",
       "1223   4330  제주  2019  12   3882.0\n",
       "\n",
       "[1224 rows x 5 columns]"
      ]
     },
     "execution_count": 43,
     "metadata": {},
     "output_type": "execute_result"
    }
   ],
   "source": [
    "pd.concat([data_first, data_last]).reset_index()"
   ]
  },
  {
   "cell_type": "code",
   "execution_count": 44,
   "id": "6226aaae-8d47-40e8-8347-8ad7cb3b8280",
   "metadata": {},
   "outputs": [],
   "source": [
    "result = pd.concat([data_first, data_last]).reset_index()"
   ]
  },
  {
   "cell_type": "code",
   "execution_count": 45,
   "id": "27966116-fa05-4cb7-99b9-de7a53d666eb",
   "metadata": {},
   "outputs": [
    {
     "data": {
      "text/html": [
       "<div>\n",
       "<style scoped>\n",
       "    .dataframe tbody tr th:only-of-type {\n",
       "        vertical-align: middle;\n",
       "    }\n",
       "\n",
       "    .dataframe tbody tr th {\n",
       "        vertical-align: top;\n",
       "    }\n",
       "\n",
       "    .dataframe thead th {\n",
       "        text-align: right;\n",
       "    }\n",
       "</style>\n",
       "<table border=\"1\" class=\"dataframe\">\n",
       "  <thead>\n",
       "    <tr style=\"text-align: right;\">\n",
       "      <th></th>\n",
       "      <th>index</th>\n",
       "      <th>지역</th>\n",
       "      <th>연도</th>\n",
       "      <th>월</th>\n",
       "      <th>분양가격</th>\n",
       "    </tr>\n",
       "  </thead>\n",
       "  <tbody>\n",
       "    <tr>\n",
       "      <th>0</th>\n",
       "      <td>0</td>\n",
       "      <td>서울</td>\n",
       "      <td>2013</td>\n",
       "      <td>12</td>\n",
       "      <td>18189.0</td>\n",
       "    </tr>\n",
       "    <tr>\n",
       "      <th>1</th>\n",
       "      <td>1</td>\n",
       "      <td>부산</td>\n",
       "      <td>2013</td>\n",
       "      <td>12</td>\n",
       "      <td>8111.0</td>\n",
       "    </tr>\n",
       "    <tr>\n",
       "      <th>2</th>\n",
       "      <td>2</td>\n",
       "      <td>대구</td>\n",
       "      <td>2013</td>\n",
       "      <td>12</td>\n",
       "      <td>8080.0</td>\n",
       "    </tr>\n",
       "    <tr>\n",
       "      <th>3</th>\n",
       "      <td>3</td>\n",
       "      <td>인천</td>\n",
       "      <td>2013</td>\n",
       "      <td>12</td>\n",
       "      <td>10204.0</td>\n",
       "    </tr>\n",
       "    <tr>\n",
       "      <th>4</th>\n",
       "      <td>4</td>\n",
       "      <td>광주</td>\n",
       "      <td>2013</td>\n",
       "      <td>12</td>\n",
       "      <td>6098.0</td>\n",
       "    </tr>\n",
       "    <tr>\n",
       "      <th>...</th>\n",
       "      <td>...</td>\n",
       "      <td>...</td>\n",
       "      <td>...</td>\n",
       "      <td>...</td>\n",
       "      <td>...</td>\n",
       "    </tr>\n",
       "    <tr>\n",
       "      <th>1219</th>\n",
       "      <td>4310</td>\n",
       "      <td>전북</td>\n",
       "      <td>2019</td>\n",
       "      <td>12</td>\n",
       "      <td>2468.0</td>\n",
       "    </tr>\n",
       "    <tr>\n",
       "      <th>1220</th>\n",
       "      <td>4315</td>\n",
       "      <td>전남</td>\n",
       "      <td>2019</td>\n",
       "      <td>12</td>\n",
       "      <td>2452.0</td>\n",
       "    </tr>\n",
       "    <tr>\n",
       "      <th>1221</th>\n",
       "      <td>4320</td>\n",
       "      <td>경북</td>\n",
       "      <td>2019</td>\n",
       "      <td>12</td>\n",
       "      <td>2914.0</td>\n",
       "    </tr>\n",
       "    <tr>\n",
       "      <th>1222</th>\n",
       "      <td>4325</td>\n",
       "      <td>경남</td>\n",
       "      <td>2019</td>\n",
       "      <td>12</td>\n",
       "      <td>3063.0</td>\n",
       "    </tr>\n",
       "    <tr>\n",
       "      <th>1223</th>\n",
       "      <td>4330</td>\n",
       "      <td>제주</td>\n",
       "      <td>2019</td>\n",
       "      <td>12</td>\n",
       "      <td>3882.0</td>\n",
       "    </tr>\n",
       "  </tbody>\n",
       "</table>\n",
       "<p>1224 rows × 5 columns</p>\n",
       "</div>"
      ],
      "text/plain": [
       "      index  지역    연도   월     분양가격\n",
       "0         0  서울  2013  12  18189.0\n",
       "1         1  부산  2013  12   8111.0\n",
       "2         2  대구  2013  12   8080.0\n",
       "3         3  인천  2013  12  10204.0\n",
       "4         4  광주  2013  12   6098.0\n",
       "...     ...  ..   ...  ..      ...\n",
       "1219   4310  전북  2019  12   2468.0\n",
       "1220   4315  전남  2019  12   2452.0\n",
       "1221   4320  경북  2019  12   2914.0\n",
       "1222   4325  경남  2019  12   3063.0\n",
       "1223   4330  제주  2019  12   3882.0\n",
       "\n",
       "[1224 rows x 5 columns]"
      ]
     },
     "execution_count": 45,
     "metadata": {},
     "output_type": "execute_result"
    }
   ],
   "source": [
    "result"
   ]
  },
  {
   "cell_type": "code",
   "execution_count": 46,
   "id": "13ad58c6-9f4a-47a7-80cf-f4368c82d7e8",
   "metadata": {},
   "outputs": [
    {
     "name": "stdout",
     "output_type": "stream",
     "text": [
      "<class 'pandas.core.frame.DataFrame'>\n",
      "RangeIndex: 1224 entries, 0 to 1223\n",
      "Data columns (total 5 columns):\n",
      " #   Column  Non-Null Count  Dtype  \n",
      "---  ------  --------------  -----  \n",
      " 0   index   1224 non-null   int64  \n",
      " 1   지역      1224 non-null   object \n",
      " 2   연도      1224 non-null   int64  \n",
      " 3   월       1224 non-null   int64  \n",
      " 4   분양가격    1198 non-null   float64\n",
      "dtypes: float64(1), int64(3), object(1)\n",
      "memory usage: 47.9+ KB\n"
     ]
    }
   ],
   "source": [
    "result.info()"
   ]
  },
  {
   "cell_type": "code",
   "execution_count": 47,
   "id": "f7fa9e26-82a3-429c-88be-dee08861bda6",
   "metadata": {},
   "outputs": [],
   "source": [
    "result.to_csv('result.csv', encoding='cp949')"
   ]
  },
  {
   "cell_type": "code",
   "execution_count": 48,
   "id": "bc9c85d7-c16c-4dd3-9752-f8326537cf8c",
   "metadata": {},
   "outputs": [
    {
     "data": {
      "text/plain": [
       "26"
      ]
     },
     "execution_count": 48,
     "metadata": {},
     "output_type": "execute_result"
    }
   ],
   "source": [
    "result.분양가격.isna().sum()\n",
    "# 이거어쩌지????"
   ]
  },
  {
   "cell_type": "markdown",
   "id": "eabf6e64-6d32-4e37-a8d7-97cafa73b573",
   "metadata": {},
   "source": [
    "지역별 분양가격"
   ]
  },
  {
   "cell_type": "code",
   "execution_count": 49,
   "id": "503880c1-d6d5-4e45-9df9-9658da64d11a",
   "metadata": {
    "tags": []
   },
   "outputs": [
    {
     "data": {
      "text/plain": [
       "지역\n",
       "강원     3509.563380\n",
       "경기     5795.901408\n",
       "경남     3940.295775\n",
       "경북     3702.549296\n",
       "광주     4374.197183\n",
       "대구     4985.112676\n",
       "대전     4511.732394\n",
       "부산     5269.985915\n",
       "서울    10446.056338\n",
       "세종     4535.126761\n",
       "울산     5010.354839\n",
       "인천     5397.971831\n",
       "전남     3280.450704\n",
       "전북     3462.957746\n",
       "제주     4580.957746\n",
       "충남     3674.408451\n",
       "충북     3509.408451\n",
       "Name: 분양가격, dtype: float64"
      ]
     },
     "execution_count": 49,
     "metadata": {},
     "output_type": "execute_result"
    }
   ],
   "source": [
    "result.groupby(['지역'])['분양가격'].mean()"
   ]
  },
  {
   "cell_type": "code",
   "execution_count": 50,
   "id": "d3d83586-a22c-4a05-95da-9caf5f48fc65",
   "metadata": {
    "tags": []
   },
   "outputs": [
    {
     "data": {
      "text/plain": [
       "지역\n",
       "강원    2391.136364\n",
       "경기    4047.544000\n",
       "경남    2808.720648\n",
       "경북    2538.344398\n",
       "광주    3015.616915\n",
       "대구    3630.574380\n",
       "대전    3107.070707\n",
       "부산    3662.764000\n",
       "서울    7151.508000\n",
       "세종    2968.641350\n",
       "울산    3034.818792\n",
       "인천    3610.703252\n",
       "전남    2292.520161\n",
       "전북    2340.677419\n",
       "제주    3406.447489\n",
       "충남    2495.046025\n",
       "충북    2313.532000\n",
       "Name: 분양가격, dtype: float64"
      ]
     },
     "execution_count": 50,
     "metadata": {},
     "output_type": "execute_result"
    }
   ],
   "source": [
    "last_df.groupby(['지역'])['분양가격'].mean()"
   ]
  },
  {
   "cell_type": "code",
   "execution_count": 51,
   "id": "194a9c7e-5fd5-4f53-90b0-f6ec88a6643d",
   "metadata": {
    "tags": []
   },
   "outputs": [
    {
     "data": {
      "text/plain": [
       "0       5841.0\n",
       "1       5652.0\n",
       "2       5882.0\n",
       "3       5721.0\n",
       "4       5879.0\n",
       "         ...  \n",
       "4330    3882.0\n",
       "4331       NaN\n",
       "4332    3898.0\n",
       "4333       NaN\n",
       "4334    3601.0\n",
       "Name: 분양가격, Length: 4335, dtype: float64"
      ]
     },
     "execution_count": 51,
     "metadata": {},
     "output_type": "execute_result"
    }
   ],
   "source": [
    "pd.to_numeric(last_df['분양가격'], errors='coerce')"
   ]
  },
  {
   "cell_type": "code",
   "execution_count": 52,
   "id": "8c448318-a73c-4d9d-a87c-c68049aed8b6",
   "metadata": {},
   "outputs": [
    {
     "name": "stdout",
     "output_type": "stream",
     "text": [
      "<class 'pandas.core.frame.DataFrame'>\n",
      "RangeIndex: 357 entries, 0 to 356\n",
      "Data columns (total 4 columns):\n",
      " #   Column  Non-Null Count  Dtype \n",
      "---  ------  --------------  ----- \n",
      " 0   지역      357 non-null    object\n",
      " 1   분양가격    357 non-null    int64 \n",
      " 2   연도      357 non-null    int32 \n",
      " 3   월       357 non-null    int32 \n",
      "dtypes: int32(2), int64(1), object(1)\n",
      "memory usage: 8.5+ KB\n"
     ]
    }
   ],
   "source": [
    "first_df_melt.info()"
   ]
  },
  {
   "cell_type": "markdown",
   "id": "9a18c5bb-2587-4834-944e-11cee09b3a69",
   "metadata": {},
   "source": [
    "-------\n",
    "-------\n",
    "-------"
   ]
  },
  {
   "cell_type": "code",
   "execution_count": 58,
   "id": "e103fc6d-ea39-42b0-957a-68522663a5b5",
   "metadata": {},
   "outputs": [
    {
     "name": "stdout",
     "output_type": "stream",
     "text": [
      "<class 'pandas.core.series.Series'>\n",
      "Index: 17 entries, 강원 to 충북\n",
      "Series name: 분양가격\n",
      "Non-Null Count  Dtype  \n",
      "--------------  -----  \n",
      "17 non-null     float64\n",
      "dtypes: float64(1)\n",
      "memory usage: 272.0+ bytes\n"
     ]
    }
   ],
   "source": [
    "last_df.groupby(['지역'])['분양가격'].mean().info()"
   ]
  },
  {
   "cell_type": "code",
   "execution_count": 59,
   "id": "d66f08a4-358d-4c3d-baf8-53aff70e9547",
   "metadata": {},
   "outputs": [
    {
     "data": {
      "text/plain": [
       "<AxesSubplot:xlabel='지역'>"
      ]
     },
     "execution_count": 59,
     "metadata": {},
     "output_type": "execute_result"
    },
    {
     "data": {
      "image/png": "[encoded data removed]",
      "text/plain": [
       "<Figure size 640x480 with 1 Axes>"
      ]
     },
     "metadata": {},
     "output_type": "display_data"
    }
   ],
   "source": [
    "last_df.groupby(['지역'])['분양가격'].mean().plot()"
   ]
  },
  {
   "cell_type": "code",
   "execution_count": null,
   "id": "792a993f-c1ce-4033-b345-74a8ddee8b5f",
   "metadata": {},
   "outputs": [],
   "source": []
  },
  {
   "cell_type": "code",
   "execution_count": null,
   "id": "01d2e7f7-cc0c-4f60-a4ff-9502d8f1d8fd",
   "metadata": {},
   "outputs": [],
   "source": []
  }
 ],
 "metadata": {
  "kernelspec": {
   "display_name": "Python 3 (ipykernel)",
   "language": "python",
   "name": "python3"
  },
  "language_info": {
   "codemirror_mode": {
    "name": "ipython",
    "version": 3
   },
   "file_extension": ".py",
   "mimetype": "text/x-python",
   "name": "python",
   "nbconvert_exporter": "python",
   "pygments_lexer": "ipython3",
   "version": "3.9.13"
  }
 },
 "nbformat": 4,
 "nbformat_minor": 5
}
