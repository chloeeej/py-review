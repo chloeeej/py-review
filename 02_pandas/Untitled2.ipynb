{
 "cells": [
  {
   "cell_type": "raw",
   "id": "7e703ada-8d69-4ec1-990d-2cb96fe08051",
   "metadata": {},
   "source": [
    "dataset1['x'].info()\n",
    "<class 'pandas.core.series.Series'>\n",
    "plt.plot(dataset1['x'], dataset1['y'])\n"
   ]
  },
  {
   "cell_type": "raw",
   "id": "b98f9571-1421-4e91-a7b6-265826ac068b",
   "metadata": {},
   "source": [
    "tips.info()\n",
    "<class 'pandas.core.frame.DataFrame'>\n",
    "\n",
    "tips['total_bill'].info()\n",
    "<class 'pandas.core.series.Series'>\n",
    "\n",
    "tips['tip'].info()\n",
    "<class 'pandas.core.series.Series'>\n",
    "\n",
    "\n",
    "\n",
    "fig = plt.figure()\n",
    "a1 = fig.add_subplot(1,1,1)\n",
    "a1.그래프종류(tips['total_bill'])\n",
    "# total_bill 변수로 사용할 거 하나\n",
    "a1.set_title('histogram of total bill') # 그래프 제목 넣기\n",
    "a1.set_xlabel('frequency') # x축 레이블 달기\n",
    "a1.set_ylabel('total bill') # y축 레이블 달기\n"
   ]
  },
  {
   "cell_type": "raw",
   "id": "7d769e9b-d1d3-401b-86c6-a4676964b2e0",
   "metadata": {},
   "source": [
    "[tips[tips['sex'] == 'Female'] ['tip']]\n",
    "list"
   ]
  },
  {
   "cell_type": "raw",
   "id": "c8f65598-9285-429c-b983-ed890ccbca0f",
   "metadata": {},
   "source": [
    "tips['total_bill']\n",
    "<class 'pandas.core.series.Series'>\n",
    "\n",
    "sns.histplot(tips['total_bill'])"
   ]
  },
  {
   "cell_type": "raw",
   "id": "49a0dc4f-191f-4636-aeda-afb489f18657",
   "metadata": {},
   "source": [
    "ax = plt.subplots() < 써도 되고 안 써도 됨. plt랑 sns 섞어서 쓰기도 함.\n",
    "ax = sns.histplot(tips['total_bill'])\n",
    "ax.set_title('total bill histogram')"
   ]
  }
 ],
 "metadata": {
  "kernelspec": {
   "display_name": "Python 3 (ipykernel)",
   "language": "python",
   "name": "python3"
  },
  "language_info": {
   "codemirror_mode": {
    "name": "ipython",
    "version": 3
   },
   "file_extension": ".py",
   "mimetype": "text/x-python",
   "name": "python",
   "nbconvert_exporter": "python",
   "pygments_lexer": "ipython3",
   "version": "3.9.13"
  }
 },
 "nbformat": 4,
 "nbformat_minor": 5
}
