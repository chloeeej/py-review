{
 "cells": [
  {
   "cell_type": "code",
   "execution_count": 2,
   "id": "33bba92b-0bfc-4680-9bbd-5ac7aeb28ec5",
   "metadata": {},
   "outputs": [],
   "source": [
    "import pandas as pd\n",
    "\n",
    "# 미세먼지 PM10 전처리\n",
    "pm10 = pd.read_csv('미세먼지_PM10__월별_도시별_대기오염도_20221118165018.csv', encoding='cp949')\n",
    "\n",
    "pm10['기간'] = pm10['시점'].astype('str').str.split('.').str.get(0).astype('int')\n",
    "\n",
    "pm10['지역'] = pm10['구분(1)'].str.split('특').str.get(0).str.split('광역').str.get(0).str.replace('도', '').str.replace('청', '').str.replace('라', '').str.replace('상', '')\n",
    "\n",
    "pm10['미세먼지'] = pm10['데이터'].str.replace('*', '').astype('int')\n",
    "\n",
    "pm10_data = pm10[['기간', '지역', '미세먼지']]\n",
    "\n",
    "pm10_data.to_csv('pm10_data.csv', encoding='cp949')"
   ]
  },
  {
   "cell_type": "code",
   "execution_count": null,
   "id": "2d48df96-8dc8-4c2e-a88c-a06571f6af6f",
   "metadata": {},
   "outputs": [],
   "source": []
  }
 ],
 "metadata": {
  "kernelspec": {
   "display_name": "Python 3 (ipykernel)",
   "language": "python",
   "name": "python3"
  },
  "language_info": {
   "codemirror_mode": {
    "name": "ipython",
    "version": 3
   },
   "file_extension": ".py",
   "mimetype": "text/x-python",
   "name": "python",
   "nbconvert_exporter": "python",
   "pygments_lexer": "ipython3",
   "version": "3.9.13"
  }
 },
 "nbformat": 4,
 "nbformat_minor": 5
}
