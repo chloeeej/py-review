{
 "cells": [
  {
   "cell_type": "code",
   "execution_count": 32,
   "id": "e00085ba-add6-4ed5-ab53-c2030b079282",
   "metadata": {
    "collapsed": true,
    "jupyter": {
     "outputs_hidden": true
    },
    "tags": []
   },
   "outputs": [
    {
     "name": "stderr",
     "output_type": "stream",
     "text": [
      "C:\\Users\\user\\AppData\\Local\\Temp\\ipykernel_4528\\3367140026.py:10: FutureWarning: The default value of regex will change from True to False in a future version. In addition, single character regular expressions will *not* be treated as literal strings when regex=True.\n",
      "  pm25['미세먼지'] = pm25['데이터'].str.replace('*', '').astype('int')\n"
     ]
    }
   ],
   "source": [
    "import pandas as pd\n",
    "\n",
    "# 미세먼지 PM 2.5 전처리\n",
    "# 파일 불러오기\n",
    "pm25 = pd.read_csv('미세먼지_PM2.5__월별_도시별_대기오염도_20221118164805.csv', encoding='cp949')\n",
    "# 연도를 2022 형식으로 맞추고 '기간' 컬럼으로 저장\n",
    "pm25['기간'] = pm25['시점'].astype('str').str.split('.').str.get(0).astype('int')\n",
    "# 지역을 서울 형식으로 맞추고 '지역' 컬럼으로 저장\n",
    "pm25['지역'] = pm25['구분(1)'].str.split('특').str.get(0).str.split('광역').str.get(0).str.replace('도', '').str.replace('청', '').str.replace('라', '').str.replace('상', '')\n",
    "# 미세먼지 수치 데이터를 int로 맞추고 '미세먼지'컬럼으로 저장\n",
    "pm25['미세먼지'] = pm25['데이터'].str.replace('*', '').astype('int')\n",
    "# 전처리한 데이터를 pm25_data에 저장\n",
    "pm25_data = pm25[['기간', '지역', '미세먼지']]\n",
    "\n",
    "pm25_data.to_csv('pm25_data.csv', encoding='cp949')"
   ]
  },
  {
   "cell_type": "code",
   "execution_count": null,
   "id": "59c98702-0304-4cb1-b2fe-f9aadca62f8d",
   "metadata": {},
   "outputs": [],
   "source": [
    "\n"
   ]
  }
 ],
 "metadata": {
  "kernelspec": {
   "display_name": "Python 3 (ipykernel)",
   "language": "python",
   "name": "python3"
  },
  "language_info": {
   "codemirror_mode": {
    "name": "ipython",
    "version": 3
   },
   "file_extension": ".py",
   "mimetype": "text/x-python",
   "name": "python",
   "nbconvert_exporter": "python",
   "pygments_lexer": "ipython3",
   "version": "3.9.13"
  }
 },
 "nbformat": 4,
 "nbformat_minor": 5
}
