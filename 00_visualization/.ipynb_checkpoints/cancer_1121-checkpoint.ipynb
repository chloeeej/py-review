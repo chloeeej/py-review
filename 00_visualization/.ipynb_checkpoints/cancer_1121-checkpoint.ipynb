{
 "cells": [
  {
   "cell_type": "code",
   "execution_count": 20,
   "id": "34afe571-d7f3-4673-b642-eb8514a82216",
   "metadata": {
    "tags": []
   },
   "outputs": [],
   "source": [
    "import pandas as pd\n",
    "\n",
    "# 폐암 전처리\n",
    "cancer = pd.read_csv('시도별_전체_중증_암_등록환자의_암유형별_등록인원_현황_20221118165941.csv', encoding='cp949')\n",
    "\n",
    "# 폐암만 가져와서\n",
    "cancer_lung = cancer.loc[[0,2]]\n",
    "\n",
    "# 필요없는 열은 지우고\n",
    "cancer_lung.drop(columns='암유형별(1)', inplace=True)\n",
    "\n",
    "#헹렬 바꾸고\n",
    "cancer_lung = cancer_lung.T\n",
    "\n",
    "#인덱스 이상해서 다시 붙여줌\n",
    "cancer_lung = cancer_lung.reset_index()\n",
    "\n",
    "# 컬럼명 바꾸고\n",
    "cancer_lung.columns=['연월', '지역', '환자수']\n",
    "\n",
    "# 연도만 뽑앙서 기간으로 지정\n",
    "cancer_lung['기간'] = cancer_lung['연월'].str.split('.').str.get(0)\n",
    "cancer_lung['기간'].head()\n",
    "\n",
    "# 세종시 못 합치겠다!!!!!!!!!!!!!!! ㅠㅠ\n",
    "\n",
    "# 환자수, 기간  dtype 변경... int로 해야할까....?\n",
    "cancer_lung['환자수'] = pd.to_numeric(cancer_lung['환자수'], errors='coerce')\n",
    "cancer_lung['기간'] = cancer_lung['기간'].astype(int)\n",
    "\n",
    "\n",
    "# # 기간 지역 환자수만 남김\n",
    "cancer_lung = cancer_lung[['기간', '지역', '환자수']]\n",
    "# cancer_lung.to_csv('cancer_lung.csv', encoding='cp949')\n",
    "\n",
    "\n",
    "\n",
    "# 인구 전처리\n",
    "population = pd.read_csv('행정구역_시군구_별__성별_인구수_20221118171006.csv', encoding='cp949')\n",
    "\n",
    "# 지역명 바꾸고 지역 컬럼에 넣기\n",
    "population['지역'] = population['행정구역(시군구)별'].str.split('특').str.get(0).str.split('광역').str.get(0).str.replace('도', '').str.replace('청', '').str.replace('라', '').str.replace('상', '')\n",
    "\n",
    "# 인구도 float네.. \n",
    "population['인구'] = pd.to_numeric(population['총인구수 (명)'], errors='coerce')\n",
    "\n",
    "# 기간 이미 int고 컬럼명만 변경\n",
    "population.rename(columns={'시점' : '기간'}, inplace=True)\n",
    "\n",
    "# 기간 지역 인구만 남김\n",
    "population = population[['기간', '지역', '인구']]\n",
    "# population.to_csv('population.csv', encoding='cp949')\n",
    "\n",
    "rate = pd.merge(cancer_lung, population, left_on=['기간', '지역'], right_on=['기간', '지역'], how='outer')\n",
    "rate\n",
    "\n",
    "\n",
    "rate.to_csv('rate.csv', encoding='cp949')"
   ]
  },
  {
   "cell_type": "code",
   "execution_count": null,
   "id": "b7ea85bb-2e88-49ad-92c4-0997a6724f0b",
   "metadata": {},
   "outputs": [],
   "source": [
    "\n"
   ]
  }
 ],
 "metadata": {
  "kernelspec": {
   "display_name": "Python 3 (ipykernel)",
   "language": "python",
   "name": "python3"
  },
  "language_info": {
   "codemirror_mode": {
    "name": "ipython",
    "version": 3
   },
   "file_extension": ".py",
   "mimetype": "text/x-python",
   "name": "python",
   "nbconvert_exporter": "python",
   "pygments_lexer": "ipython3",
   "version": "3.9.13"
  }
 },
 "nbformat": 4,
 "nbformat_minor": 5
}
