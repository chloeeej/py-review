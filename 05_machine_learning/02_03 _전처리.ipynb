{
 "cells": [
  {
   "cell_type": "markdown",
   "id": "8cc217e5-c640-43cc-9636-2c4432830b49",
   "metadata": {
    "tags": []
   },
   "source": [
    "### 2.5 데이터 전처리\n",
    "null값 처리 (제거 or 값을 메꾸기)\n",
    "사이킷런은 문자입력을 허용하지 않음. 다 숫자로 해야..\n",
    "주민번호나 아이디같은 거는 단순 식별하는 용도이면 굳이 데이터로 잇을 필요 없음 (인덱스 넣으면 되지?)"
   ]
  },
  {
   "cell_type": "markdown",
   "id": "5b981bfd-7b27-43c6-a722-5bcb8d7f4d49",
   "metadata": {
    "jp-MarkdownHeadingCollapsed": true,
    "tags": [],
    "toc-hr-collapsed": true
   },
   "source": [
    "#### 데이터 인코딩"
   ]
  },
  {
   "cell_type": "markdown",
   "id": "f956bf44-6296-4635-80bf-6913b225c583",
   "metadata": {},
   "source": [
    "##### 레이블 인코딩\n",
    "유니크값을 뽑아 일련번호를 매김. 매겨놓은 걸 딕셔너리라고 함.\n",
    "서울은 1번 부산은 2번.. 이런 식으로\n",
    "그리고 데이터에 서울이 있으면 딕셔너리를 보고 서울이 1번이구나, 해서 1번으로 바꿔주는 거\n",
    "레이블 딕셔너리는 실제로는 리스트로 되어있음\n"
   ]
  },
  {
   "cell_type": "code",
   "execution_count": 1,
   "id": "63ff906d-ace8-441c-892b-d3f84bb03dd4",
   "metadata": {},
   "outputs": [],
   "source": [
    "from sklearn.preprocessing import LabelEncoder"
   ]
  },
  {
   "cell_type": "code",
   "execution_count": 2,
   "id": "ab80c9ef-a426-4cf2-bd72-9f3b1432e03e",
   "metadata": {},
   "outputs": [],
   "source": [
    "items = ['TV', '냉장고', '전자레인지', '컴퓨터', '선풍기', '선풍기', '믹서', '믹서']\n",
    "encoder = LabelEncoder()\n",
    "encoder.fit(items)\n",
    "# 데이터를 정리해서 사전으로 만드는 작업\n",
    "lables = encoder.transform(items)\n",
    "# 만든 사전 보면서 데이터에 레이블 번호 붙여줌\n",
    "\n",
    "# 인코더를 지워버리면 다음에 쓰려면 못 씀여.. 사전을 지워버리는 느낌인가"
   ]
  },
  {
   "cell_type": "code",
   "execution_count": 3,
   "id": "d671c22d-a295-4b9f-9628-411d107bebd7",
   "metadata": {},
   "outputs": [
    {
     "data": {
      "text/plain": [
       "array([0, 1, 4, 5, 3, 3, 2, 2])"
      ]
     },
     "execution_count": 3,
     "metadata": {},
     "output_type": "execute_result"
    }
   ],
   "source": [
    "lables"
   ]
  },
  {
   "cell_type": "code",
   "execution_count": 4,
   "id": "c0458e50-956c-4149-a515-63c9038f74be",
   "metadata": {},
   "outputs": [
    {
     "data": {
      "text/plain": [
       "array([1])"
      ]
     },
     "execution_count": 4,
     "metadata": {},
     "output_type": "execute_result"
    }
   ],
   "source": [
    "encoder.transform(['냉장고'])"
   ]
  },
  {
   "cell_type": "code",
   "execution_count": 5,
   "id": "5dcf7e46-dc33-4611-abef-52069fa38723",
   "metadata": {},
   "outputs": [
    {
     "data": {
      "text/plain": [
       "array(['TV', '냉장고', '믹서', '선풍기', '전자레인지', '컴퓨터'], dtype='<U5')"
      ]
     },
     "execution_count": 5,
     "metadata": {},
     "output_type": "execute_result"
    }
   ],
   "source": [
    "encoder.classes_"
   ]
  },
  {
   "cell_type": "code",
   "execution_count": 7,
   "id": "9d73882c-002d-4996-bf93-a2c1ff470b4a",
   "metadata": {},
   "outputs": [
    {
     "data": {
      "text/plain": [
       "array(['냉장고'], dtype='<U5')"
      ]
     },
     "execution_count": 7,
     "metadata": {},
     "output_type": "execute_result"
    }
   ],
   "source": [
    "encoder.inverse_transform([1])"
   ]
  },
  {
   "cell_type": "code",
   "execution_count": 9,
   "id": "784ef207-e28f-4a54-a1b0-546c67a323b2",
   "metadata": {},
   "outputs": [
    {
     "data": {
      "text/plain": [
       "array(['TV', '냉장고', '전자레인지', '컴퓨터', '선풍기', '선풍기', '믹서', '믹서'], dtype='<U5')"
      ]
     },
     "execution_count": 9,
     "metadata": {},
     "output_type": "execute_result"
    }
   ],
   "source": [
    "encoder.inverse_transform(lables)"
   ]
  },
  {
   "cell_type": "code",
   "execution_count": null,
   "id": "d2248cc3-a109-46bf-8fcd-bfcc7b242033",
   "metadata": {},
   "outputs": [],
   "source": []
  },
  {
   "cell_type": "markdown",
   "id": "d37d2aea-58c0-4bed-bc35-4b248907f31f",
   "metadata": {},
   "source": [
    "##### 원핫 인코딩\n",
    "레이블이 숫자로 돼버리면 큰 숫자를 더 중요하다고 생각해버리거나.. 할 수도 있음. 멍충멍충\n",
    "디시전트리는 상관 없지만 회귀분석쪽은 영향이 있을 수 있어서 다른 방법을 사용해야 함\n",
    "\n",
    "해당하는 것만 1을 넣고 나머지는 0을 넣어 인코딩\n",
    "데이터가 커지긴 함 ㅠㅠ 컬럼수만큼 늘어나야 하니까..\n",
    "컬럼이 만개면 인코딩만 만개x만개 네?\n",
    "1억갠가\n",
    "희소행렬요..?? 밀집행렬요????????????? 그게 먼데요\n",
    "뭐 또 해결할 방법이 있답니다\n"
   ]
  },
  {
   "cell_type": "code",
   "execution_count": 11,
   "id": "c859638f-b66f-4e66-b9f4-1833354030d8",
   "metadata": {},
   "outputs": [],
   "source": [
    "from sklearn.preprocessing import OneHotEncoder\n",
    "import numpy as np"
   ]
  },
  {
   "cell_type": "code",
   "execution_count": 18,
   "id": "b2e97b5c-498c-4fdd-b1a7-8757fe13ebba",
   "metadata": {},
   "outputs": [],
   "source": [
    "items\n",
    "items_t = np.array(items).reshape(-1,1)\n",
    "items_l = [['TV'],\n",
    "       ['냉장고'],\n",
    "       ['전자레인지'],\n",
    "       ['컴퓨터'],\n",
    "       ['선풍기'],\n",
    "       ['선풍기'],\n",
    "       ['믹서'],\n",
    "       ['믹서']]\n",
    "# np.array(items) items를 array로 만들고\n",
    "# np.array(items).reshape(-1,1) 모양을 1,1로 만들"
   ]
  },
  {
   "cell_type": "code",
   "execution_count": 14,
   "id": "ec8e41d0-a3f1-4795-8a0f-c18e6232b756",
   "metadata": {},
   "outputs": [],
   "source": [
    "# oh_encoder = OneHotEncoder()\n",
    "# oh_encoder.fit(items)\n",
    "# oh_encoder.transform(items)\n",
    "\n",
    "# ValueError: Expected 2D array, got 1D array instead:\n",
    "# array=['TV' '냉장고' '전자레인지' '컴퓨터' '선풍기' '선풍기' '믹서' '믹서'].\n",
    "# Reshape your data either using array.reshape(-1, 1) if your data has a single feature or array.reshape(1, -1) if it contains a single sample.\n",
    "\n",
    "# 셰입이 안 맞는 거니 리셰입을 해라"
   ]
  },
  {
   "cell_type": "code",
   "execution_count": 26,
   "id": "4b866310-e8b4-4a7b-bfb6-ed09b74c39d2",
   "metadata": {},
   "outputs": [
    {
     "data": {
      "text/plain": [
       "array([[1., 0., 0., 0., 0., 0.],\n",
       "       [0., 1., 0., 0., 0., 0.],\n",
       "       [0., 0., 0., 0., 1., 0.],\n",
       "       [0., 0., 0., 0., 0., 1.],\n",
       "       [0., 0., 0., 1., 0., 0.],\n",
       "       [0., 0., 0., 1., 0., 0.],\n",
       "       [0., 0., 1., 0., 0., 0.],\n",
       "       [0., 0., 1., 0., 0., 0.]])"
      ]
     },
     "execution_count": 26,
     "metadata": {},
     "output_type": "execute_result"
    }
   ],
   "source": [
    "oh_encoder = OneHotEncoder()\n",
    "oh_encoder.fit(items_l)\n",
    "result = oh_encoder.transform(items_l)\n",
    "result.toarray()"
   ]
  },
  {
   "cell_type": "code",
   "execution_count": 25,
   "id": "4020a01a-8829-4185-9efc-df84f144f015",
   "metadata": {},
   "outputs": [
    {
     "data": {
      "text/plain": [
       "<8x6 sparse matrix of type '<class 'numpy.float64'>'\n",
       "\twith 8 stored elements in Compressed Sparse Row format>"
      ]
     },
     "execution_count": 25,
     "metadata": {},
     "output_type": "execute_result"
    }
   ],
   "source": [
    "#result만 찍으면 result의 정보?가 나옴. 그래서 .toarray() 붙여서 확인\n",
    "# <8x6 sparse matrix of type '<class 'numpy.float64'>'\n",
    "# \twith 8 stored elements in Compressed Sparse Row format>"
   ]
  },
  {
   "cell_type": "code",
   "execution_count": null,
   "id": "2601e365-eae5-4166-8e3b-a953b9ee2fbd",
   "metadata": {
    "tags": []
   },
   "outputs": [],
   "source": [
    "# items\n",
    "# items_l = [['TV'],\n",
    "#        ['냉장고'],\n",
    "#        ['전자레인지'],\n",
    "#        ['컴퓨터'],\n",
    "#        ['선풍기'],\n",
    "#        ['선풍기'],\n",
    "#        ['믹서'],\n",
    "#        ['믹서']]\n",
    "# items_l처럼 바로 리스트로 나온 걸 넣어서 써도 되고\n",
    "# items_t = np.array(items).reshape(-1,1) 처럼 변환한 걸 바로 items_t에 넣어서 써도 되고"
   ]
  },
  {
   "cell_type": "code",
   "execution_count": 20,
   "id": "f4c76651-c940-4b75-bec0-cc66eb3c8725",
   "metadata": {},
   "outputs": [
    {
     "data": {
      "text/plain": [
       "[array(['TV', '냉장고', '믹서', '선풍기', '전자레인지', '컴퓨터'], dtype=object)]"
      ]
     },
     "execution_count": 20,
     "metadata": {},
     "output_type": "execute_result"
    }
   ],
   "source": [
    "oh_encoder.categories_"
   ]
  },
  {
   "cell_type": "code",
   "execution_count": 23,
   "id": "a767f347-2b51-4236-802b-7dd9ad766944",
   "metadata": {},
   "outputs": [
    {
     "data": {
      "text/plain": [
       "array([['냉장고']], dtype=object)"
      ]
     },
     "execution_count": 23,
     "metadata": {},
     "output_type": "execute_result"
    }
   ],
   "source": [
    "oh_encoder.inverse_transform([[0., 1., 0., 0., 0., 0.]])\n",
    "# 기본 데이터가 float라서 1. 0. 일케 나옴.. 내가 찍을 땐 그냥 1, 0 으로 찍어도 알아서 실수라고 생각해준댜"
   ]
  },
  {
   "cell_type": "code",
   "execution_count": 24,
   "id": "31baa791-7a99-41f1-96ff-4c74924c4664",
   "metadata": {},
   "outputs": [
    {
     "data": {
      "text/plain": [
       "array([[0., 1., 0., 0., 0., 0.]])"
      ]
     },
     "execution_count": 24,
     "metadata": {},
     "output_type": "execute_result"
    }
   ],
   "source": [
    "oh_encoder.transform([['냉장고']]).toarray()"
   ]
  },
  {
   "cell_type": "code",
   "execution_count": 27,
   "id": "0fbb5592-829c-4aaa-9788-b3c22c690335",
   "metadata": {},
   "outputs": [],
   "source": [
    "# 판다스에서 원핫인코딩 쉽게 하는 법\n",
    "# 근디 겟더미즈는 레이블만 만들어지고 다시 쓰거나 할 수 없으니까 웬만하면 원핫인코더로 하는게 낫것다\n",
    "import pandas as pd"
   ]
  },
  {
   "cell_type": "code",
   "execution_count": 28,
   "id": "b8cc5376-918c-40f7-bfef-2195e6e16155",
   "metadata": {},
   "outputs": [],
   "source": [
    "df = pd.DataFrame({'item' : ['TV', '냉장고', '전자레인지', '컴퓨터', '선풍기', '선풍기', '믹서', '믹서']})"
   ]
  },
  {
   "cell_type": "code",
   "execution_count": 29,
   "id": "4c1f17f0-602d-43f7-8de6-6e7fd72f2a9a",
   "metadata": {},
   "outputs": [
    {
     "data": {
      "text/html": [
       "<div>\n",
       "<style scoped>\n",
       "    .dataframe tbody tr th:only-of-type {\n",
       "        vertical-align: middle;\n",
       "    }\n",
       "\n",
       "    .dataframe tbody tr th {\n",
       "        vertical-align: top;\n",
       "    }\n",
       "\n",
       "    .dataframe thead th {\n",
       "        text-align: right;\n",
       "    }\n",
       "</style>\n",
       "<table border=\"1\" class=\"dataframe\">\n",
       "  <thead>\n",
       "    <tr style=\"text-align: right;\">\n",
       "      <th></th>\n",
       "      <th>TV</th>\n",
       "      <th>냉장고</th>\n",
       "      <th>믹서</th>\n",
       "      <th>선풍기</th>\n",
       "      <th>전자레인지</th>\n",
       "      <th>컴퓨터</th>\n",
       "    </tr>\n",
       "  </thead>\n",
       "  <tbody>\n",
       "    <tr>\n",
       "      <th>0</th>\n",
       "      <td>1</td>\n",
       "      <td>0</td>\n",
       "      <td>0</td>\n",
       "      <td>0</td>\n",
       "      <td>0</td>\n",
       "      <td>0</td>\n",
       "    </tr>\n",
       "    <tr>\n",
       "      <th>1</th>\n",
       "      <td>0</td>\n",
       "      <td>1</td>\n",
       "      <td>0</td>\n",
       "      <td>0</td>\n",
       "      <td>0</td>\n",
       "      <td>0</td>\n",
       "    </tr>\n",
       "    <tr>\n",
       "      <th>2</th>\n",
       "      <td>0</td>\n",
       "      <td>0</td>\n",
       "      <td>0</td>\n",
       "      <td>0</td>\n",
       "      <td>1</td>\n",
       "      <td>0</td>\n",
       "    </tr>\n",
       "    <tr>\n",
       "      <th>3</th>\n",
       "      <td>0</td>\n",
       "      <td>0</td>\n",
       "      <td>0</td>\n",
       "      <td>0</td>\n",
       "      <td>0</td>\n",
       "      <td>1</td>\n",
       "    </tr>\n",
       "    <tr>\n",
       "      <th>4</th>\n",
       "      <td>0</td>\n",
       "      <td>0</td>\n",
       "      <td>0</td>\n",
       "      <td>1</td>\n",
       "      <td>0</td>\n",
       "      <td>0</td>\n",
       "    </tr>\n",
       "    <tr>\n",
       "      <th>5</th>\n",
       "      <td>0</td>\n",
       "      <td>0</td>\n",
       "      <td>0</td>\n",
       "      <td>1</td>\n",
       "      <td>0</td>\n",
       "      <td>0</td>\n",
       "    </tr>\n",
       "    <tr>\n",
       "      <th>6</th>\n",
       "      <td>0</td>\n",
       "      <td>0</td>\n",
       "      <td>1</td>\n",
       "      <td>0</td>\n",
       "      <td>0</td>\n",
       "      <td>0</td>\n",
       "    </tr>\n",
       "    <tr>\n",
       "      <th>7</th>\n",
       "      <td>0</td>\n",
       "      <td>0</td>\n",
       "      <td>1</td>\n",
       "      <td>0</td>\n",
       "      <td>0</td>\n",
       "      <td>0</td>\n",
       "    </tr>\n",
       "  </tbody>\n",
       "</table>\n",
       "</div>"
      ],
      "text/plain": [
       "   TV  냉장고  믹서  선풍기  전자레인지  컴퓨터\n",
       "0   1    0   0    0      0    0\n",
       "1   0    1   0    0      0    0\n",
       "2   0    0   0    0      1    0\n",
       "3   0    0   0    0      0    1\n",
       "4   0    0   0    1      0    0\n",
       "5   0    0   0    1      0    0\n",
       "6   0    0   1    0      0    0\n",
       "7   0    0   1    0      0    0"
      ]
     },
     "execution_count": 29,
     "metadata": {},
     "output_type": "execute_result"
    }
   ],
   "source": [
    "pd.get_dummies(df['item'])\n",
    "# get_dummies()가 레이블 만들어주는 건가보당"
   ]
  },
  {
   "cell_type": "code",
   "execution_count": null,
   "id": "eccd3eb5-ef0a-4954-a4a6-0ea6d03d0778",
   "metadata": {},
   "outputs": [],
   "source": []
  },
  {
   "cell_type": "markdown",
   "id": "1a362a13-fc55-4bd3-aaf9-a5fc91a997ae",
   "metadata": {
    "jp-MarkdownHeadingCollapsed": true,
    "tags": []
   },
   "source": [
    "#### 피처 스케일링과 정규화\n",
    "\n",
    "가우....?? 시안???\n",
    "단위 맞춰주는거\n",
    "근데 왜 0~1 사이여\n",
    "\n"
   ]
  },
  {
   "cell_type": "code",
   "execution_count": null,
   "id": "fdbe7560-3881-4951-9497-452932f151ae",
   "metadata": {},
   "outputs": [],
   "source": []
  },
  {
   "cell_type": "markdown",
   "id": "526a43b0-08d8-48fa-8fb8-e1a54300d36a",
   "metadata": {
    "jp-MarkdownHeadingCollapsed": true,
    "tags": []
   },
   "source": [
    "#### Standard Scaler\n",
    "평균0 분산1인 값으로 만들어줌..?"
   ]
  },
  {
   "cell_type": "code",
   "execution_count": 31,
   "id": "63f65c84-9aca-4b87-9d6e-7382acca5249",
   "metadata": {},
   "outputs": [],
   "source": [
    "from sklearn.datasets import load_iris\n"
   ]
  },
  {
   "cell_type": "code",
   "execution_count": 32,
   "id": "ba05a06b-55f9-4298-afae-8d445716c7dc",
   "metadata": {},
   "outputs": [
    {
     "data": {
      "text/html": [
       "<div>\n",
       "<style scoped>\n",
       "    .dataframe tbody tr th:only-of-type {\n",
       "        vertical-align: middle;\n",
       "    }\n",
       "\n",
       "    .dataframe tbody tr th {\n",
       "        vertical-align: top;\n",
       "    }\n",
       "\n",
       "    .dataframe thead th {\n",
       "        text-align: right;\n",
       "    }\n",
       "</style>\n",
       "<table border=\"1\" class=\"dataframe\">\n",
       "  <thead>\n",
       "    <tr style=\"text-align: right;\">\n",
       "      <th></th>\n",
       "      <th>sepal length (cm)</th>\n",
       "      <th>sepal width (cm)</th>\n",
       "      <th>petal length (cm)</th>\n",
       "      <th>petal width (cm)</th>\n",
       "    </tr>\n",
       "  </thead>\n",
       "  <tbody>\n",
       "    <tr>\n",
       "      <th>0</th>\n",
       "      <td>5.1</td>\n",
       "      <td>3.5</td>\n",
       "      <td>1.4</td>\n",
       "      <td>0.2</td>\n",
       "    </tr>\n",
       "    <tr>\n",
       "      <th>1</th>\n",
       "      <td>4.9</td>\n",
       "      <td>3.0</td>\n",
       "      <td>1.4</td>\n",
       "      <td>0.2</td>\n",
       "    </tr>\n",
       "    <tr>\n",
       "      <th>2</th>\n",
       "      <td>4.7</td>\n",
       "      <td>3.2</td>\n",
       "      <td>1.3</td>\n",
       "      <td>0.2</td>\n",
       "    </tr>\n",
       "    <tr>\n",
       "      <th>3</th>\n",
       "      <td>4.6</td>\n",
       "      <td>3.1</td>\n",
       "      <td>1.5</td>\n",
       "      <td>0.2</td>\n",
       "    </tr>\n",
       "    <tr>\n",
       "      <th>4</th>\n",
       "      <td>5.0</td>\n",
       "      <td>3.6</td>\n",
       "      <td>1.4</td>\n",
       "      <td>0.2</td>\n",
       "    </tr>\n",
       "    <tr>\n",
       "      <th>...</th>\n",
       "      <td>...</td>\n",
       "      <td>...</td>\n",
       "      <td>...</td>\n",
       "      <td>...</td>\n",
       "    </tr>\n",
       "    <tr>\n",
       "      <th>145</th>\n",
       "      <td>6.7</td>\n",
       "      <td>3.0</td>\n",
       "      <td>5.2</td>\n",
       "      <td>2.3</td>\n",
       "    </tr>\n",
       "    <tr>\n",
       "      <th>146</th>\n",
       "      <td>6.3</td>\n",
       "      <td>2.5</td>\n",
       "      <td>5.0</td>\n",
       "      <td>1.9</td>\n",
       "    </tr>\n",
       "    <tr>\n",
       "      <th>147</th>\n",
       "      <td>6.5</td>\n",
       "      <td>3.0</td>\n",
       "      <td>5.2</td>\n",
       "      <td>2.0</td>\n",
       "    </tr>\n",
       "    <tr>\n",
       "      <th>148</th>\n",
       "      <td>6.2</td>\n",
       "      <td>3.4</td>\n",
       "      <td>5.4</td>\n",
       "      <td>2.3</td>\n",
       "    </tr>\n",
       "    <tr>\n",
       "      <th>149</th>\n",
       "      <td>5.9</td>\n",
       "      <td>3.0</td>\n",
       "      <td>5.1</td>\n",
       "      <td>1.8</td>\n",
       "    </tr>\n",
       "  </tbody>\n",
       "</table>\n",
       "<p>150 rows × 4 columns</p>\n",
       "</div>"
      ],
      "text/plain": [
       "     sepal length (cm)  sepal width (cm)  petal length (cm)  petal width (cm)\n",
       "0                  5.1               3.5                1.4               0.2\n",
       "1                  4.9               3.0                1.4               0.2\n",
       "2                  4.7               3.2                1.3               0.2\n",
       "3                  4.6               3.1                1.5               0.2\n",
       "4                  5.0               3.6                1.4               0.2\n",
       "..                 ...               ...                ...               ...\n",
       "145                6.7               3.0                5.2               2.3\n",
       "146                6.3               2.5                5.0               1.9\n",
       "147                6.5               3.0                5.2               2.0\n",
       "148                6.2               3.4                5.4               2.3\n",
       "149                5.9               3.0                5.1               1.8\n",
       "\n",
       "[150 rows x 4 columns]"
      ]
     },
     "execution_count": 32,
     "metadata": {},
     "output_type": "execute_result"
    }
   ],
   "source": [
    "iris = load_iris(as_frame=True)\n",
    "iris.data"
   ]
  },
  {
   "cell_type": "code",
   "execution_count": 33,
   "id": "16038c1d-cff3-4a3b-9c39-9d694a505f83",
   "metadata": {},
   "outputs": [
    {
     "data": {
      "text/plain": [
       "sepal length (cm)    5.843333\n",
       "sepal width (cm)     3.057333\n",
       "petal length (cm)    3.758000\n",
       "petal width (cm)     1.199333\n",
       "dtype: float64"
      ]
     },
     "execution_count": 33,
     "metadata": {},
     "output_type": "execute_result"
    }
   ],
   "source": [
    "iris.data.mean()\n",
    "# iris.data의 평균"
   ]
  },
  {
   "cell_type": "code",
   "execution_count": 34,
   "id": "4a235d37-1a16-4ec3-bb4b-8861388d659e",
   "metadata": {},
   "outputs": [
    {
     "data": {
      "text/plain": [
       "sepal length (cm)    0.685694\n",
       "sepal width (cm)     0.189979\n",
       "petal length (cm)    3.116278\n",
       "petal width (cm)     0.581006\n",
       "dtype: float64"
      ]
     },
     "execution_count": 34,
     "metadata": {},
     "output_type": "execute_result"
    }
   ],
   "source": [
    "iris.data.var()\n",
    "# iris.data의 분산"
   ]
  },
  {
   "cell_type": "code",
   "execution_count": 35,
   "id": "93e66d11-efeb-486d-9de5-148cb2391d8c",
   "metadata": {},
   "outputs": [],
   "source": [
    "from sklearn.preprocessing import StandardScaler"
   ]
  },
  {
   "cell_type": "code",
   "execution_count": 36,
   "id": "f7253286-5caf-49f1-a8ad-e007e6c70148",
   "metadata": {},
   "outputs": [],
   "source": [
    "scaler = StandardScaler()\n",
    "scaler.fit(iris.data)\n",
    "iris_scaled = scaler.transform(iris.data)"
   ]
  },
  {
   "cell_type": "code",
   "execution_count": 39,
   "id": "b7b3701e-6965-4a81-8575-d279891bb9ca",
   "metadata": {},
   "outputs": [],
   "source": [
    "iris_df = pd.DataFrame(iris_scaled)"
   ]
  },
  {
   "cell_type": "code",
   "execution_count": 50,
   "id": "0faa9de8-33c1-45c8-941c-d53e33b4e33a",
   "metadata": {},
   "outputs": [
    {
     "data": {
      "text/plain": [
       "0   -0.0\n",
       "1   -0.0\n",
       "2   -0.0\n",
       "3   -0.0\n",
       "dtype: float64"
      ]
     },
     "execution_count": 50,
     "metadata": {},
     "output_type": "execute_result"
    }
   ],
   "source": [
    "iris_df.mean().round(14)\n",
    "# 평균을 0으로 만들어 준다고 하는데 완전 0은 아니고 0에 거의 가까운 수.. 소수점 반올림 하면 0으로 보임여 거의 14째자리까지 0이넴"
   ]
  },
  {
   "cell_type": "code",
   "execution_count": 51,
   "id": "ad642bf0-fbc5-487f-a5a4-27eff51aae4e",
   "metadata": {},
   "outputs": [
    {
     "data": {
      "text/plain": [
       "0    1.006711\n",
       "1    1.006711\n",
       "2    1.006711\n",
       "3    1.006711\n",
       "dtype: float64"
      ]
     },
     "execution_count": 51,
     "metadata": {},
     "output_type": "execute_result"
    }
   ],
   "source": [
    "iris_df.var()"
   ]
  },
  {
   "cell_type": "markdown",
   "id": "517c2e3c-2840-4d13-9af9-9a3a60afa9d4",
   "metadata": {
    "jp-MarkdownHeadingCollapsed": true,
    "tags": []
   },
   "source": [
    "#### MinMax Scaler\n",
    "데이터 값을 0과 1 사이의 범위로 변환"
   ]
  },
  {
   "cell_type": "code",
   "execution_count": 52,
   "id": "da2cabfa-2daf-43f9-a831-8e45238e69ae",
   "metadata": {},
   "outputs": [],
   "source": [
    "from sklearn.preprocessing import MinMaxScaler"
   ]
  },
  {
   "cell_type": "code",
   "execution_count": 53,
   "id": "8a9a039e-5bda-4800-882f-7d7c26e23722",
   "metadata": {},
   "outputs": [],
   "source": [
    "scaler = MinMaxScaler()\n",
    "scaler.fit(iris.data)\n",
    "iris_scaled = scaler.transform(iris.data)"
   ]
  },
  {
   "cell_type": "code",
   "execution_count": 57,
   "id": "1a1cba05-14d6-49a8-8b77-39698115376b",
   "metadata": {},
   "outputs": [
    {
     "data": {
      "text/plain": [
       "(0    0.0\n",
       " 1    0.0\n",
       " 2    0.0\n",
       " 3    0.0\n",
       " dtype: float64,\n",
       " 0    1.0\n",
       " 1    1.0\n",
       " 2    1.0\n",
       " 3    1.0\n",
       " dtype: float64)"
      ]
     },
     "execution_count": 57,
     "metadata": {},
     "output_type": "execute_result"
    }
   ],
   "source": [
    "iris_df = pd.DataFrame(iris_scaled)\n",
    "iris_df.min(), iris_df.max()\n",
    "# 미니멈0 맥시멈 1로 맞춰짐"
   ]
  },
  {
   "cell_type": "code",
   "execution_count": 58,
   "id": "b5944bb6-4a4f-47ed-ac48-ccaa726fd70c",
   "metadata": {},
   "outputs": [
    {
     "data": {
      "text/plain": [
       "(0    1.0\n",
       " 1    1.0\n",
       " 2    1.0\n",
       " 3    1.0\n",
       " dtype: float64,\n",
       " sepal length (cm)    7.9\n",
       " sepal width (cm)     4.4\n",
       " petal length (cm)    6.9\n",
       " petal width (cm)     2.5\n",
       " dtype: float64)"
      ]
     },
     "execution_count": 58,
     "metadata": {},
     "output_type": "execute_result"
    }
   ],
   "source": [
    "iris_df.max(), iris.data.max()"
   ]
  },
  {
   "cell_type": "markdown",
   "id": "58f66ce2-cf66-4733-851b-d66b874626f3",
   "metadata": {
    "tags": []
   },
   "source": [
    "#### 학습데이터와 테스트데이터의 스케일링 변환 시 유의점\n"
   ]
  },
  {
   "cell_type": "code",
   "execution_count": 59,
   "id": "109f29b3-704a-45b8-b687-bf79b7cb6267",
   "metadata": {
    "collapsed": true,
    "jupyter": {
     "outputs_hidden": true
    },
    "tags": []
   },
   "outputs": [
    {
     "data": {
      "text/plain": [
       "array([[ 0],\n",
       "       [ 1],\n",
       "       [ 2],\n",
       "       [ 3],\n",
       "       [ 4],\n",
       "       [ 5],\n",
       "       [ 6],\n",
       "       [ 7],\n",
       "       [ 8],\n",
       "       [ 9],\n",
       "       [10]])"
      ]
     },
     "execution_count": 59,
     "metadata": {},
     "output_type": "execute_result"
    }
   ],
   "source": [
    "train_array = np.arange(0,11).reshape(-1,1)\n",
    "train_array"
   ]
  },
  {
   "cell_type": "code",
   "execution_count": 60,
   "id": "3e5f8763-a8a9-48c5-9395-77e098db7571",
   "metadata": {
    "collapsed": true,
    "jupyter": {
     "outputs_hidden": true
    },
    "tags": []
   },
   "outputs": [
    {
     "data": {
      "text/plain": [
       "array([[0],\n",
       "       [1],\n",
       "       [2],\n",
       "       [3],\n",
       "       [4],\n",
       "       [5]])"
      ]
     },
     "execution_count": 60,
     "metadata": {},
     "output_type": "execute_result"
    }
   ],
   "source": [
    "test_array = np.arange(0,6).reshape(-1,1)\n",
    "test_array"
   ]
  },
  {
   "cell_type": "code",
   "execution_count": 61,
   "id": "8377133e-7fe1-4259-92d2-e5f4a65f63e6",
   "metadata": {},
   "outputs": [],
   "source": [
    "scaler = MinMaxScaler()\n",
    "scaler.fit(train_array)\n",
    "train_array = scaler.transform(train_array)"
   ]
  },
  {
   "cell_type": "code",
   "execution_count": 62,
   "id": "b036454c-b366-43b5-92a0-eae7a1adba06",
   "metadata": {
    "collapsed": true,
    "jupyter": {
     "outputs_hidden": true
    },
    "tags": []
   },
   "outputs": [
    {
     "data": {
      "text/plain": [
       "array([[0. ],\n",
       "       [0.1],\n",
       "       [0.2],\n",
       "       [0.3],\n",
       "       [0.4],\n",
       "       [0.5],\n",
       "       [0.6],\n",
       "       [0.7],\n",
       "       [0.8],\n",
       "       [0.9],\n",
       "       [1. ]])"
      ]
     },
     "execution_count": 62,
     "metadata": {},
     "output_type": "execute_result"
    }
   ],
   "source": [
    "train_array"
   ]
  },
  {
   "cell_type": "code",
   "execution_count": 65,
   "id": "fb9c3e6a-b3ba-45a4-ac42-83c32c9a3a21",
   "metadata": {},
   "outputs": [],
   "source": [
    "# scaler.fit(test_array)\n",
    "test_array = scaler.transform(test_array)"
   ]
  },
  {
   "cell_type": "code",
   "execution_count": 67,
   "id": "7831d9b2-b50d-4c76-9979-48769fe6e4e9",
   "metadata": {
    "tags": []
   },
   "outputs": [
    {
     "data": {
      "text/plain": [
       "array([[0.  ],\n",
       "       [0.04],\n",
       "       [0.08],\n",
       "       [0.12],\n",
       "       [0.16],\n",
       "       [0.2 ]])"
      ]
     },
     "execution_count": 67,
     "metadata": {},
     "output_type": "execute_result"
    }
   ],
   "source": [
    "test_array"
   ]
  },
  {
   "cell_type": "code",
   "execution_count": null,
   "id": "5b2b9f86-0df4-44ff-8a18-a141f576ed31",
   "metadata": {},
   "outputs": [],
   "source": [
    "????????????????????????????????????????????????????????????"
   ]
  },
  {
   "cell_type": "markdown",
   "id": "39bfc63a-f672-485d-9438-b5076ad701fe",
   "metadata": {},
   "source": [
    "### 2.6 사이킷런으로 수행하는 타이타닉 생존자 예측"
   ]
  },
  {
   "cell_type": "code",
   "execution_count": null,
   "id": "a746d668-1473-4049-920a-a0b14719cd0b",
   "metadata": {},
   "outputs": [],
   "source": []
  },
  {
   "cell_type": "code",
   "execution_count": null,
   "id": "070b2ea5-a61c-4fc1-9daf-349e0f47b392",
   "metadata": {},
   "outputs": [],
   "source": []
  },
  {
   "cell_type": "code",
   "execution_count": null,
   "id": "d29c997d-1628-49b9-8ed6-cc5237857fd9",
   "metadata": {},
   "outputs": [],
   "source": []
  },
  {
   "cell_type": "code",
   "execution_count": null,
   "id": "ca1ff026-b83e-4c8c-9085-dd5cb0c7effb",
   "metadata": {},
   "outputs": [],
   "source": []
  },
  {
   "cell_type": "code",
   "execution_count": null,
   "id": "bf6df910-3e5c-41ae-b96b-4bd4b9563841",
   "metadata": {},
   "outputs": [],
   "source": []
  },
  {
   "cell_type": "code",
   "execution_count": null,
   "id": "002d9b08-a3b2-4939-8b32-ed67d3f8e599",
   "metadata": {},
   "outputs": [],
   "source": []
  },
  {
   "cell_type": "markdown",
   "id": "5902e075-8204-4a4a-984b-42a50ba019b2",
   "metadata": {
    "tags": []
   },
   "source": [
    "## 3. 평가"
   ]
  }
 ],
 "metadata": {
  "kernelspec": {
   "display_name": "Python 3 (ipykernel)",
   "language": "python",
   "name": "python3"
  },
  "language_info": {
   "codemirror_mode": {
    "name": "ipython",
    "version": 3
   },
   "file_extension": ".py",
   "mimetype": "text/x-python",
   "name": "python",
   "nbconvert_exporter": "python",
   "pygments_lexer": "ipython3",
   "version": "3.9.13"
  }
 },
 "nbformat": 4,
 "nbformat_minor": 5
}
