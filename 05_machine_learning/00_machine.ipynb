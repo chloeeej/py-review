{
 "cells": [
  {
   "cell_type": "markdown",
   "id": "54edac96-54aa-4d1a-b1b3-492fbbdad6dd",
   "metadata": {
    "jp-MarkdownHeadingCollapsed": true,
    "tags": []
   },
   "source": [
    "## 0. "
   ]
  },
  {
   "cell_type": "code",
   "execution_count": 1,
   "id": "18b6b247-84a6-4858-b328-6395a3d3ef0e",
   "metadata": {},
   "outputs": [
    {
     "name": "stdout",
     "output_type": "stream",
     "text": [
      "Python 3.9.13\n"
     ]
    }
   ],
   "source": [
    "# 파이썬 버전 확인\n",
    "!python -V"
   ]
  },
  {
   "attachments": {
    "4b1d711c-ab42-4ebd-a6dd-17862e072450.png": {
     "image/png": "[encoded data removed]"
    }
   },
   "cell_type": "raw",
   "id": "7de4bb69-20ad-47a3-a2a3-3e9dbfde8df6",
   "metadata": {},
   "source": [
    "이산값 나오는거 분류  \n",
    "연속값 나오는거 회귀  \n",
    "공부시간을 넣고 합불합을 물으면  분류, 몇점이 나오겠느냐를 물으면 회귀  \n",
    "\n",
    "지도학습은 답 주고 공부시킴. 이건 코끼리야 이건 기린이야\n",
    "비지도학습은 정답은 없고 입력 데이터만 가지고 패턴이나 특성을 찾는\n",
    "아!\n",
    "\n",
    "지도학습 (예측) 선형회귀\n",
    "데이터를 이용하여 특성과 상관관계등을 파악하고 그 결과를 바탕으로 입력데이터에 없는 미지의 데이터가 주어졌을 경우에 결과를 연속적인 값으로 예측하는 것\n",
    "입출력값에 연관관계가 있어야. \n",
    "\n",
    "상관계수\n",
    "-1~1 사이.\n",
    "-1이면 반비례 1이면 정비례. 0에 가까우면 관계성이 적다\n",
    "\n",
    "\n",
    "입력값 x 독립변수\n",
    "출력값 y 종속변수\n",
    "아놔 함수 제일 싫은데 ... xy 나오기만 해도 알러지가 ㅠㅠㅠ....\n",
    "독립변수의 변화에 따라 종속변수의 변화를 예측할 수 있다. 선형회귀 \n",
    "\n",
    "주어진 데이터를 이용해 일차방정식을 수정해나가는 것\n",
    "학습을 거쳐... ?\n",
    "\n",
    "y=Wx + b\n",
    "W 회귀계수, 가중치\n",
    "b 절편, 바이어스?\n",
    "절편은 쑥절편..\n"
   ]
  },
  {
   "cell_type": "raw",
   "id": "849cb515-37b8-426c-ad61-ca8bc148ff41",
   "metadata": {},
   "source": [
    "다양한 y=Wx+b 직선이 나왔을 때 \n",
    "트레이닝 데이터의 특성을 가장 잘 표현할 수 있는 가중치 W값을 찾아내는 것이 학습 러닝임\n",
    "\n",
    "오차값이 적을수록 \n",
    "\n",
    "직선 예측값\n",
    "점은 실제 값\n",
    "예측값과 실제값의 차이. 차이가 적어야 실제 데이터와 비슷하게 구해진 거니까\n",
    "오차값이 +도 나오지만 -도 나올 수도 있기 때문에 얘네 그냥 더해버리면 상쇄돼서 차이가 없어보일 수 있으니 \n",
    "오차값에 절대값을 씌우거나 제곱을 해서 -를 없앰\n",
    "제곱을 더 많이 쓰는 편이랴.. 나중에 계산하기가 편하대.. 뭐랴 ㅡㅡ \n",
    "오차에 대해 더 민감하게 표시될 수 있어서 (오차가 제곱하면 커질수록 더 커보임)\n",
    "\n",
    "\n",
    "아...\n",
    "함수...\n",
    "@_@\n",
    "\n",
    "\n",
    "\n",
    "경사하강법?\n",
    "더 좋은 방향으로 가고 있는지 아는 법\n",
    "오차가 최소가 되는 W와 b 값을 찾는 법\n",
    "손실함주 E(W,b)가 최소값을 갖도록 (W, b)를 구하는 법\n",
    "\n",
    "\n",
    "마이나스 기울기가 나왔다? 더블유값을 더해준다\n",
    "므어야이이이잉\n",
    "\n",
    "\n",
    "임의의 w값을 잡고 기울기를 구해서\n",
    "기울기가 +가 나오면 w값을 줄여준다\n",
    "기울기가 -가 나오면 W값을 더해준다\n",
    "술자리게임 업다운 하는 느낌이네\n",
    "\n",
    "너무 많이 움직이면 반대로 팅겨나감\n",
    "너무 조금 움직이면 최소값에 도달하지 못함\n",
    "얼마나 움직일 것이냐가 학습률?? ㅇㅅㅇ\n",
    "\n",
    "\n",
    "\n",
    "지도학습 (분류) \n",
    "의사결정트리.\n",
    "k-최근접 이웃 분류기. 뭐라고?? 니어리스트 네이버 클래시파이어/ 새로운 값을 넣어서 주변에 a가 많은지 b가 많은지 보고 많은쪽이라고 판다\n",
    "\n",
    "비지도학습(군집)\n",
    "평균군집 k-means cluestering\n",
    "3개로 분류하겠다 하면 점 세 개 찍어놓고\n",
    "이 중심점에서 각 점간의 거리의 합이 가장 최소화가 되는 중심점 n의 위치를 찾고, 이 중심점에서 가까운 점들을 중심점 기준으로 묶는..\n",
    "머요..?ㅠㅠㅠㅠ\n",
    "\n",
    "\n",
    "\n"
   ]
  },
  {
   "cell_type": "markdown",
   "id": "10531483-3d31-4c58-8f70-2a76651d240d",
   "metadata": {
    "tags": [],
    "toc-hr-collapsed": true
   },
   "source": [
    "\n",
    "## 2. 사이킷으로 시작하는 머신러닝"
   ]
  },
  {
   "cell_type": "markdown",
   "id": "ca530c0a-6d1e-49fd-8734-ff75f488c1fd",
   "metadata": {
    "jp-MarkdownHeadingCollapsed": true,
    "tags": []
   },
   "source": [
    "### 2.1 사이킷런 소개와 특징\n",
    "아나콘다에 기본 설치 돼있어서 설치는 안해도 된당\n",
    "버전확인정도만 하긔"
   ]
  },
  {
   "cell_type": "code",
   "execution_count": 2,
   "id": "03cf782c-54a6-4507-8bcd-32f1088cfe07",
   "metadata": {},
   "outputs": [],
   "source": [
    "import sklearn"
   ]
  },
  {
   "cell_type": "code",
   "execution_count": 3,
   "id": "52c4927d-320f-46f5-a794-9289fef6df9b",
   "metadata": {},
   "outputs": [
    {
     "data": {
      "text/plain": [
       "'1.0.2'"
      ]
     },
     "execution_count": 3,
     "metadata": {},
     "output_type": "execute_result"
    }
   ],
   "source": [
    "sklearn.__version__"
   ]
  },
  {
   "cell_type": "markdown",
   "id": "1af26f63-a2a9-46f8-aeb3-d493621f1ab3",
   "metadata": {
    "jp-MarkdownHeadingCollapsed": true,
    "tags": [],
    "toc-hr-collapsed": true
   },
   "source": [
    "### 2.2 첫번쨰 머신러닝 만들어보기 - 붓꽃 품종 예측하기\n",
    "\n",
    "붓꽃 데이터 피처 독립변수 x ....꽃받침 꽃잎의 길이, 너비\n",
    "붓꽃 데이터 품종 레이블"
   ]
  },
  {
   "cell_type": "code",
   "execution_count": 4,
   "id": "89b5149f-f719-41d7-8e2a-b789235a330c",
   "metadata": {},
   "outputs": [],
   "source": [
    "from sklearn.datasets import load_iris\n",
    "from sklearn.tree import DecisionTreeClassifier # 분류에 쓰는 거\n",
    "# from sklearn.tree import DecisionTreeRegressor # 회귀에 쓰는 거\n",
    "from sklearn.model_selection import train_test_split # 학습 데이터와 검증 데이터를 분리하기 위해 ?? 학습했던 데이터는 돌리면 다 맞추니까 나눠서 돌림\n",
    "import pandas as pd\n",
    "\n",
    "# 임포트 미리 해야 도움말 볼 수 있겠져"
   ]
  },
  {
   "cell_type": "code",
   "execution_count": 5,
   "id": "638092f2-019a-44e7-b212-66c699f7652a",
   "metadata": {
    "collapsed": true,
    "jupyter": {
     "outputs_hidden": true
    },
    "tags": []
   },
   "outputs": [
    {
     "data": {
      "text/plain": [
       "{'data': array([[5.1, 3.5, 1.4, 0.2],\n",
       "        [4.9, 3. , 1.4, 0.2],\n",
       "        [4.7, 3.2, 1.3, 0.2],\n",
       "        [4.6, 3.1, 1.5, 0.2],\n",
       "        [5. , 3.6, 1.4, 0.2],\n",
       "        [5.4, 3.9, 1.7, 0.4],\n",
       "        [4.6, 3.4, 1.4, 0.3],\n",
       "        [5. , 3.4, 1.5, 0.2],\n",
       "        [4.4, 2.9, 1.4, 0.2],\n",
       "        [4.9, 3.1, 1.5, 0.1],\n",
       "        [5.4, 3.7, 1.5, 0.2],\n",
       "        [4.8, 3.4, 1.6, 0.2],\n",
       "        [4.8, 3. , 1.4, 0.1],\n",
       "        [4.3, 3. , 1.1, 0.1],\n",
       "        [5.8, 4. , 1.2, 0.2],\n",
       "        [5.7, 4.4, 1.5, 0.4],\n",
       "        [5.4, 3.9, 1.3, 0.4],\n",
       "        [5.1, 3.5, 1.4, 0.3],\n",
       "        [5.7, 3.8, 1.7, 0.3],\n",
       "        [5.1, 3.8, 1.5, 0.3],\n",
       "        [5.4, 3.4, 1.7, 0.2],\n",
       "        [5.1, 3.7, 1.5, 0.4],\n",
       "        [4.6, 3.6, 1. , 0.2],\n",
       "        [5.1, 3.3, 1.7, 0.5],\n",
       "        [4.8, 3.4, 1.9, 0.2],\n",
       "        [5. , 3. , 1.6, 0.2],\n",
       "        [5. , 3.4, 1.6, 0.4],\n",
       "        [5.2, 3.5, 1.5, 0.2],\n",
       "        [5.2, 3.4, 1.4, 0.2],\n",
       "        [4.7, 3.2, 1.6, 0.2],\n",
       "        [4.8, 3.1, 1.6, 0.2],\n",
       "        [5.4, 3.4, 1.5, 0.4],\n",
       "        [5.2, 4.1, 1.5, 0.1],\n",
       "        [5.5, 4.2, 1.4, 0.2],\n",
       "        [4.9, 3.1, 1.5, 0.2],\n",
       "        [5. , 3.2, 1.2, 0.2],\n",
       "        [5.5, 3.5, 1.3, 0.2],\n",
       "        [4.9, 3.6, 1.4, 0.1],\n",
       "        [4.4, 3. , 1.3, 0.2],\n",
       "        [5.1, 3.4, 1.5, 0.2],\n",
       "        [5. , 3.5, 1.3, 0.3],\n",
       "        [4.5, 2.3, 1.3, 0.3],\n",
       "        [4.4, 3.2, 1.3, 0.2],\n",
       "        [5. , 3.5, 1.6, 0.6],\n",
       "        [5.1, 3.8, 1.9, 0.4],\n",
       "        [4.8, 3. , 1.4, 0.3],\n",
       "        [5.1, 3.8, 1.6, 0.2],\n",
       "        [4.6, 3.2, 1.4, 0.2],\n",
       "        [5.3, 3.7, 1.5, 0.2],\n",
       "        [5. , 3.3, 1.4, 0.2],\n",
       "        [7. , 3.2, 4.7, 1.4],\n",
       "        [6.4, 3.2, 4.5, 1.5],\n",
       "        [6.9, 3.1, 4.9, 1.5],\n",
       "        [5.5, 2.3, 4. , 1.3],\n",
       "        [6.5, 2.8, 4.6, 1.5],\n",
       "        [5.7, 2.8, 4.5, 1.3],\n",
       "        [6.3, 3.3, 4.7, 1.6],\n",
       "        [4.9, 2.4, 3.3, 1. ],\n",
       "        [6.6, 2.9, 4.6, 1.3],\n",
       "        [5.2, 2.7, 3.9, 1.4],\n",
       "        [5. , 2. , 3.5, 1. ],\n",
       "        [5.9, 3. , 4.2, 1.5],\n",
       "        [6. , 2.2, 4. , 1. ],\n",
       "        [6.1, 2.9, 4.7, 1.4],\n",
       "        [5.6, 2.9, 3.6, 1.3],\n",
       "        [6.7, 3.1, 4.4, 1.4],\n",
       "        [5.6, 3. , 4.5, 1.5],\n",
       "        [5.8, 2.7, 4.1, 1. ],\n",
       "        [6.2, 2.2, 4.5, 1.5],\n",
       "        [5.6, 2.5, 3.9, 1.1],\n",
       "        [5.9, 3.2, 4.8, 1.8],\n",
       "        [6.1, 2.8, 4. , 1.3],\n",
       "        [6.3, 2.5, 4.9, 1.5],\n",
       "        [6.1, 2.8, 4.7, 1.2],\n",
       "        [6.4, 2.9, 4.3, 1.3],\n",
       "        [6.6, 3. , 4.4, 1.4],\n",
       "        [6.8, 2.8, 4.8, 1.4],\n",
       "        [6.7, 3. , 5. , 1.7],\n",
       "        [6. , 2.9, 4.5, 1.5],\n",
       "        [5.7, 2.6, 3.5, 1. ],\n",
       "        [5.5, 2.4, 3.8, 1.1],\n",
       "        [5.5, 2.4, 3.7, 1. ],\n",
       "        [5.8, 2.7, 3.9, 1.2],\n",
       "        [6. , 2.7, 5.1, 1.6],\n",
       "        [5.4, 3. , 4.5, 1.5],\n",
       "        [6. , 3.4, 4.5, 1.6],\n",
       "        [6.7, 3.1, 4.7, 1.5],\n",
       "        [6.3, 2.3, 4.4, 1.3],\n",
       "        [5.6, 3. , 4.1, 1.3],\n",
       "        [5.5, 2.5, 4. , 1.3],\n",
       "        [5.5, 2.6, 4.4, 1.2],\n",
       "        [6.1, 3. , 4.6, 1.4],\n",
       "        [5.8, 2.6, 4. , 1.2],\n",
       "        [5. , 2.3, 3.3, 1. ],\n",
       "        [5.6, 2.7, 4.2, 1.3],\n",
       "        [5.7, 3. , 4.2, 1.2],\n",
       "        [5.7, 2.9, 4.2, 1.3],\n",
       "        [6.2, 2.9, 4.3, 1.3],\n",
       "        [5.1, 2.5, 3. , 1.1],\n",
       "        [5.7, 2.8, 4.1, 1.3],\n",
       "        [6.3, 3.3, 6. , 2.5],\n",
       "        [5.8, 2.7, 5.1, 1.9],\n",
       "        [7.1, 3. , 5.9, 2.1],\n",
       "        [6.3, 2.9, 5.6, 1.8],\n",
       "        [6.5, 3. , 5.8, 2.2],\n",
       "        [7.6, 3. , 6.6, 2.1],\n",
       "        [4.9, 2.5, 4.5, 1.7],\n",
       "        [7.3, 2.9, 6.3, 1.8],\n",
       "        [6.7, 2.5, 5.8, 1.8],\n",
       "        [7.2, 3.6, 6.1, 2.5],\n",
       "        [6.5, 3.2, 5.1, 2. ],\n",
       "        [6.4, 2.7, 5.3, 1.9],\n",
       "        [6.8, 3. , 5.5, 2.1],\n",
       "        [5.7, 2.5, 5. , 2. ],\n",
       "        [5.8, 2.8, 5.1, 2.4],\n",
       "        [6.4, 3.2, 5.3, 2.3],\n",
       "        [6.5, 3. , 5.5, 1.8],\n",
       "        [7.7, 3.8, 6.7, 2.2],\n",
       "        [7.7, 2.6, 6.9, 2.3],\n",
       "        [6. , 2.2, 5. , 1.5],\n",
       "        [6.9, 3.2, 5.7, 2.3],\n",
       "        [5.6, 2.8, 4.9, 2. ],\n",
       "        [7.7, 2.8, 6.7, 2. ],\n",
       "        [6.3, 2.7, 4.9, 1.8],\n",
       "        [6.7, 3.3, 5.7, 2.1],\n",
       "        [7.2, 3.2, 6. , 1.8],\n",
       "        [6.2, 2.8, 4.8, 1.8],\n",
       "        [6.1, 3. , 4.9, 1.8],\n",
       "        [6.4, 2.8, 5.6, 2.1],\n",
       "        [7.2, 3. , 5.8, 1.6],\n",
       "        [7.4, 2.8, 6.1, 1.9],\n",
       "        [7.9, 3.8, 6.4, 2. ],\n",
       "        [6.4, 2.8, 5.6, 2.2],\n",
       "        [6.3, 2.8, 5.1, 1.5],\n",
       "        [6.1, 2.6, 5.6, 1.4],\n",
       "        [7.7, 3. , 6.1, 2.3],\n",
       "        [6.3, 3.4, 5.6, 2.4],\n",
       "        [6.4, 3.1, 5.5, 1.8],\n",
       "        [6. , 3. , 4.8, 1.8],\n",
       "        [6.9, 3.1, 5.4, 2.1],\n",
       "        [6.7, 3.1, 5.6, 2.4],\n",
       "        [6.9, 3.1, 5.1, 2.3],\n",
       "        [5.8, 2.7, 5.1, 1.9],\n",
       "        [6.8, 3.2, 5.9, 2.3],\n",
       "        [6.7, 3.3, 5.7, 2.5],\n",
       "        [6.7, 3. , 5.2, 2.3],\n",
       "        [6.3, 2.5, 5. , 1.9],\n",
       "        [6.5, 3. , 5.2, 2. ],\n",
       "        [6.2, 3.4, 5.4, 2.3],\n",
       "        [5.9, 3. , 5.1, 1.8]]),\n",
       " 'target': array([0, 0, 0, 0, 0, 0, 0, 0, 0, 0, 0, 0, 0, 0, 0, 0, 0, 0, 0, 0, 0, 0,\n",
       "        0, 0, 0, 0, 0, 0, 0, 0, 0, 0, 0, 0, 0, 0, 0, 0, 0, 0, 0, 0, 0, 0,\n",
       "        0, 0, 0, 0, 0, 0, 1, 1, 1, 1, 1, 1, 1, 1, 1, 1, 1, 1, 1, 1, 1, 1,\n",
       "        1, 1, 1, 1, 1, 1, 1, 1, 1, 1, 1, 1, 1, 1, 1, 1, 1, 1, 1, 1, 1, 1,\n",
       "        1, 1, 1, 1, 1, 1, 1, 1, 1, 1, 1, 1, 2, 2, 2, 2, 2, 2, 2, 2, 2, 2,\n",
       "        2, 2, 2, 2, 2, 2, 2, 2, 2, 2, 2, 2, 2, 2, 2, 2, 2, 2, 2, 2, 2, 2,\n",
       "        2, 2, 2, 2, 2, 2, 2, 2, 2, 2, 2, 2, 2, 2, 2, 2, 2, 2]),\n",
       " 'frame': None,\n",
       " 'target_names': array(['setosa', 'versicolor', 'virginica'], dtype='<U10'),\n",
       " 'DESCR': '.. _iris_dataset:\\n\\nIris plants dataset\\n--------------------\\n\\n**Data Set Characteristics:**\\n\\n    :Number of Instances: 150 (50 in each of three classes)\\n    :Number of Attributes: 4 numeric, predictive attributes and the class\\n    :Attribute Information:\\n        - sepal length in cm\\n        - sepal width in cm\\n        - petal length in cm\\n        - petal width in cm\\n        - class:\\n                - Iris-Setosa\\n                - Iris-Versicolour\\n                - Iris-Virginica\\n                \\n    :Summary Statistics:\\n\\n    ============== ==== ==== ======= ===== ====================\\n                    Min  Max   Mean    SD   Class Correlation\\n    ============== ==== ==== ======= ===== ====================\\n    sepal length:   4.3  7.9   5.84   0.83    0.7826\\n    sepal width:    2.0  4.4   3.05   0.43   -0.4194\\n    petal length:   1.0  6.9   3.76   1.76    0.9490  (high!)\\n    petal width:    0.1  2.5   1.20   0.76    0.9565  (high!)\\n    ============== ==== ==== ======= ===== ====================\\n\\n    :Missing Attribute Values: None\\n    :Class Distribution: 33.3% for each of 3 classes.\\n    :Creator: R.A. Fisher\\n    :Donor: Michael Marshall (MARSHALL%PLU@io.arc.nasa.gov)\\n    :Date: July, 1988\\n\\nThe famous Iris database, first used by Sir R.A. Fisher. The dataset is taken\\nfrom Fisher\\'s paper. Note that it\\'s the same as in R, but not as in the UCI\\nMachine Learning Repository, which has two wrong data points.\\n\\nThis is perhaps the best known database to be found in the\\npattern recognition literature.  Fisher\\'s paper is a classic in the field and\\nis referenced frequently to this day.  (See Duda & Hart, for example.)  The\\ndata set contains 3 classes of 50 instances each, where each class refers to a\\ntype of iris plant.  One class is linearly separable from the other 2; the\\nlatter are NOT linearly separable from each other.\\n\\n.. topic:: References\\n\\n   - Fisher, R.A. \"The use of multiple measurements in taxonomic problems\"\\n     Annual Eugenics, 7, Part II, 179-188 (1936); also in \"Contributions to\\n     Mathematical Statistics\" (John Wiley, NY, 1950).\\n   - Duda, R.O., & Hart, P.E. (1973) Pattern Classification and Scene Analysis.\\n     (Q327.D83) John Wiley & Sons.  ISBN 0-471-22361-1.  See page 218.\\n   - Dasarathy, B.V. (1980) \"Nosing Around the Neighborhood: A New System\\n     Structure and Classification Rule for Recognition in Partially Exposed\\n     Environments\".  IEEE Transactions on Pattern Analysis and Machine\\n     Intelligence, Vol. PAMI-2, No. 1, 67-71.\\n   - Gates, G.W. (1972) \"The Reduced Nearest Neighbor Rule\".  IEEE Transactions\\n     on Information Theory, May 1972, 431-433.\\n   - See also: 1988 MLC Proceedings, 54-64.  Cheeseman et al\"s AUTOCLASS II\\n     conceptual clustering system finds 3 classes in the data.\\n   - Many, many more ...',\n",
       " 'feature_names': ['sepal length (cm)',\n",
       "  'sepal width (cm)',\n",
       "  'petal length (cm)',\n",
       "  'petal width (cm)'],\n",
       " 'filename': 'iris.csv',\n",
       " 'data_module': 'sklearn.datasets.data'}"
      ]
     },
     "execution_count": 5,
     "metadata": {},
     "output_type": "execute_result"
    }
   ],
   "source": [
    "load_iris()\n",
    "# 타겟값 붓꽃종류. 0, 1, 2로 나옴.. 타겟 네임에 각각 뭔지 써놓음\n",
    "# 퓨처네임은 컬럼이름 꽃받침, 꽃잎..."
   ]
  },
  {
   "cell_type": "code",
   "execution_count": 6,
   "id": "f721a413-14fb-40c5-9d4b-325185e962bb",
   "metadata": {
    "tags": []
   },
   "outputs": [],
   "source": [
    "iris = load_iris(as_frame=True)\n",
    "# as_frame=True 해주면 딕셔너리 안에 있는 데이터프레임 형식 파일이 온당"
   ]
  },
  {
   "cell_type": "code",
   "execution_count": 7,
   "id": "62cdac4d-62cf-4122-a406-bb35363a5a1b",
   "metadata": {
    "tags": []
   },
   "outputs": [
    {
     "data": {
      "text/html": [
       "<div>\n",
       "<style scoped>\n",
       "    .dataframe tbody tr th:only-of-type {\n",
       "        vertical-align: middle;\n",
       "    }\n",
       "\n",
       "    .dataframe tbody tr th {\n",
       "        vertical-align: top;\n",
       "    }\n",
       "\n",
       "    .dataframe thead th {\n",
       "        text-align: right;\n",
       "    }\n",
       "</style>\n",
       "<table border=\"1\" class=\"dataframe\">\n",
       "  <thead>\n",
       "    <tr style=\"text-align: right;\">\n",
       "      <th></th>\n",
       "      <th>sepal length (cm)</th>\n",
       "      <th>sepal width (cm)</th>\n",
       "      <th>petal length (cm)</th>\n",
       "      <th>petal width (cm)</th>\n",
       "    </tr>\n",
       "  </thead>\n",
       "  <tbody>\n",
       "    <tr>\n",
       "      <th>0</th>\n",
       "      <td>5.1</td>\n",
       "      <td>3.5</td>\n",
       "      <td>1.4</td>\n",
       "      <td>0.2</td>\n",
       "    </tr>\n",
       "    <tr>\n",
       "      <th>1</th>\n",
       "      <td>4.9</td>\n",
       "      <td>3.0</td>\n",
       "      <td>1.4</td>\n",
       "      <td>0.2</td>\n",
       "    </tr>\n",
       "    <tr>\n",
       "      <th>2</th>\n",
       "      <td>4.7</td>\n",
       "      <td>3.2</td>\n",
       "      <td>1.3</td>\n",
       "      <td>0.2</td>\n",
       "    </tr>\n",
       "    <tr>\n",
       "      <th>3</th>\n",
       "      <td>4.6</td>\n",
       "      <td>3.1</td>\n",
       "      <td>1.5</td>\n",
       "      <td>0.2</td>\n",
       "    </tr>\n",
       "    <tr>\n",
       "      <th>4</th>\n",
       "      <td>5.0</td>\n",
       "      <td>3.6</td>\n",
       "      <td>1.4</td>\n",
       "      <td>0.2</td>\n",
       "    </tr>\n",
       "  </tbody>\n",
       "</table>\n",
       "</div>"
      ],
      "text/plain": [
       "   sepal length (cm)  sepal width (cm)  petal length (cm)  petal width (cm)\n",
       "0                5.1               3.5                1.4               0.2\n",
       "1                4.9               3.0                1.4               0.2\n",
       "2                4.7               3.2                1.3               0.2\n",
       "3                4.6               3.1                1.5               0.2\n",
       "4                5.0               3.6                1.4               0.2"
      ]
     },
     "execution_count": 7,
     "metadata": {},
     "output_type": "execute_result"
    }
   ],
   "source": [
    "iris.data.head()"
   ]
  },
  {
   "cell_type": "code",
   "execution_count": 8,
   "id": "986f1bea-81e7-4729-a459-30ea79a1e75f",
   "metadata": {
    "collapsed": true,
    "jupyter": {
     "outputs_hidden": true
    },
    "tags": []
   },
   "outputs": [
    {
     "data": {
      "text/plain": [
       "array([0, 0, 0, 0, 0, 0, 0, 0, 0, 0, 0, 0, 0, 0, 0, 0, 0, 0, 0, 0, 0, 0,\n",
       "       0, 0, 0, 0, 0, 0, 0, 0, 0, 0, 0, 0, 0, 0, 0, 0, 0, 0, 0, 0, 0, 0,\n",
       "       0, 0, 0, 0, 0, 0, 1, 1, 1, 1, 1, 1, 1, 1, 1, 1, 1, 1, 1, 1, 1, 1,\n",
       "       1, 1, 1, 1, 1, 1, 1, 1, 1, 1, 1, 1, 1, 1, 1, 1, 1, 1, 1, 1, 1, 1,\n",
       "       1, 1, 1, 1, 1, 1, 1, 1, 1, 1, 1, 1, 2, 2, 2, 2, 2, 2, 2, 2, 2, 2,\n",
       "       2, 2, 2, 2, 2, 2, 2, 2, 2, 2, 2, 2, 2, 2, 2, 2, 2, 2, 2, 2, 2, 2,\n",
       "       2, 2, 2, 2, 2, 2, 2, 2, 2, 2, 2, 2, 2, 2, 2, 2, 2, 2])"
      ]
     },
     "execution_count": 43,
     "metadata": {},
     "output_type": "execute_result"
    }
   ],
   "source": [
    "iris.target"
   ]
  },
  {
   "cell_type": "code",
   "execution_count": 9,
   "id": "36ab8fc8-d661-425e-bfcf-1959f78462f8",
   "metadata": {},
   "outputs": [],
   "source": [
    "# as_frame=True 이거 안 할거면 아래 방법으로 해줌\n",
    "iris_df = iris.data\n",
    "# iris_df['label'] = iris.target"
   ]
  },
  {
   "cell_type": "code",
   "execution_count": 10,
   "id": "edb687d9-1555-490f-bf07-794fa1a39ce9",
   "metadata": {},
   "outputs": [
    {
     "data": {
      "text/html": [
       "<div>\n",
       "<style scoped>\n",
       "    .dataframe tbody tr th:only-of-type {\n",
       "        vertical-align: middle;\n",
       "    }\n",
       "\n",
       "    .dataframe tbody tr th {\n",
       "        vertical-align: top;\n",
       "    }\n",
       "\n",
       "    .dataframe thead th {\n",
       "        text-align: right;\n",
       "    }\n",
       "</style>\n",
       "<table border=\"1\" class=\"dataframe\">\n",
       "  <thead>\n",
       "    <tr style=\"text-align: right;\">\n",
       "      <th></th>\n",
       "      <th>sepal length (cm)</th>\n",
       "      <th>sepal width (cm)</th>\n",
       "      <th>petal length (cm)</th>\n",
       "      <th>petal width (cm)</th>\n",
       "    </tr>\n",
       "  </thead>\n",
       "  <tbody>\n",
       "    <tr>\n",
       "      <th>0</th>\n",
       "      <td>5.1</td>\n",
       "      <td>3.5</td>\n",
       "      <td>1.4</td>\n",
       "      <td>0.2</td>\n",
       "    </tr>\n",
       "    <tr>\n",
       "      <th>1</th>\n",
       "      <td>4.9</td>\n",
       "      <td>3.0</td>\n",
       "      <td>1.4</td>\n",
       "      <td>0.2</td>\n",
       "    </tr>\n",
       "    <tr>\n",
       "      <th>2</th>\n",
       "      <td>4.7</td>\n",
       "      <td>3.2</td>\n",
       "      <td>1.3</td>\n",
       "      <td>0.2</td>\n",
       "    </tr>\n",
       "    <tr>\n",
       "      <th>3</th>\n",
       "      <td>4.6</td>\n",
       "      <td>3.1</td>\n",
       "      <td>1.5</td>\n",
       "      <td>0.2</td>\n",
       "    </tr>\n",
       "    <tr>\n",
       "      <th>4</th>\n",
       "      <td>5.0</td>\n",
       "      <td>3.6</td>\n",
       "      <td>1.4</td>\n",
       "      <td>0.2</td>\n",
       "    </tr>\n",
       "  </tbody>\n",
       "</table>\n",
       "</div>"
      ],
      "text/plain": [
       "   sepal length (cm)  sepal width (cm)  petal length (cm)  petal width (cm)\n",
       "0                5.1               3.5                1.4               0.2\n",
       "1                4.9               3.0                1.4               0.2\n",
       "2                4.7               3.2                1.3               0.2\n",
       "3                4.6               3.1                1.5               0.2\n",
       "4                5.0               3.6                1.4               0.2"
      ]
     },
     "execution_count": 10,
     "metadata": {},
     "output_type": "execute_result"
    }
   ],
   "source": [
    "iris_df.head()"
   ]
  },
  {
   "cell_type": "code",
   "execution_count": 11,
   "id": "2ad156de-cfb3-448f-8cd8-e1479915fdf9",
   "metadata": {},
   "outputs": [
    {
     "data": {
      "text/plain": [
       "'setosa'"
      ]
     },
     "execution_count": 11,
     "metadata": {},
     "output_type": "execute_result"
    }
   ],
   "source": [
    "iris.target_names[0]"
   ]
  },
  {
   "cell_type": "code",
   "execution_count": 12,
   "id": "76f97ecf-c202-4648-8719-907ae358d416",
   "metadata": {
    "collapsed": true,
    "jupyter": {
     "outputs_hidden": true
    },
    "tags": []
   },
   "outputs": [
    {
     "data": {
      "text/plain": [
       "[     sepal length (cm)  sepal width (cm)  petal length (cm)  petal width (cm)\n",
       " 0                  5.1               3.5                1.4               0.2\n",
       " 120                6.9               3.2                5.7               2.3\n",
       " 122                7.7               2.8                6.7               2.0\n",
       " 49                 5.0               3.3                1.4               0.2\n",
       " 29                 4.7               3.2                1.6               0.2\n",
       " ..                 ...               ...                ...               ...\n",
       " 76                 6.8               2.8                4.8               1.4\n",
       " 13                 4.3               3.0                1.1               0.1\n",
       " 81                 5.5               2.4                3.7               1.0\n",
       " 91                 6.1               3.0                4.6               1.4\n",
       " 80                 5.5               2.4                3.8               1.1\n",
       " \n",
       " [120 rows x 4 columns],\n",
       "      sepal length (cm)  sepal width (cm)  petal length (cm)  petal width (cm)\n",
       " 112                6.8               3.0                5.5               2.1\n",
       " 145                6.7               3.0                5.2               2.3\n",
       " 133                6.3               2.8                5.1               1.5\n",
       " 56                 6.3               3.3                4.7               1.6\n",
       " 111                6.4               2.7                5.3               1.9\n",
       " 9                  4.9               3.1                1.5               0.1\n",
       " 65                 6.7               3.1                4.4               1.4\n",
       " 15                 5.7               4.4                1.5               0.4\n",
       " 30                 4.8               3.1                1.6               0.2\n",
       " 63                 6.1               2.9                4.7               1.4\n",
       " 119                6.0               2.2                5.0               1.5\n",
       " 62                 6.0               2.2                4.0               1.0\n",
       " 84                 5.4               3.0                4.5               1.5\n",
       " 113                5.7               2.5                5.0               2.0\n",
       " 139                6.9               3.1                5.4               2.1\n",
       " 41                 4.5               2.3                1.3               0.3\n",
       " 103                6.3               2.9                5.6               1.8\n",
       " 66                 5.6               3.0                4.5               1.5\n",
       " 110                6.5               3.2                5.1               2.0\n",
       " 142                5.8               2.7                5.1               1.9\n",
       " 69                 5.6               2.5                3.9               1.1\n",
       " 2                  4.7               3.2                1.3               0.2\n",
       " 22                 4.6               3.6                1.0               0.2\n",
       " 51                 6.4               3.2                4.5               1.5\n",
       " 12                 4.8               3.0                1.4               0.1\n",
       " 11                 4.8               3.4                1.6               0.2\n",
       " 149                5.9               3.0                5.1               1.8\n",
       " 75                 6.6               3.0                4.4               1.4\n",
       " 16                 5.4               3.9                1.3               0.4\n",
       " 85                 6.0               3.4                4.5               1.6,\n",
       " 0      0\n",
       " 120    2\n",
       " 122    2\n",
       " 49     0\n",
       " 29     0\n",
       "       ..\n",
       " 76     1\n",
       " 13     0\n",
       " 81     1\n",
       " 91     1\n",
       " 80     1\n",
       " Name: target, Length: 120, dtype: int32,\n",
       " 112    2\n",
       " 145    2\n",
       " 133    2\n",
       " 56     1\n",
       " 111    2\n",
       " 9      0\n",
       " 65     1\n",
       " 15     0\n",
       " 30     0\n",
       " 63     1\n",
       " 119    2\n",
       " 62     1\n",
       " 84     1\n",
       " 113    2\n",
       " 139    2\n",
       " 41     0\n",
       " 103    2\n",
       " 66     1\n",
       " 110    2\n",
       " 142    2\n",
       " 69     1\n",
       " 2      0\n",
       " 22     0\n",
       " 51     1\n",
       " 12     0\n",
       " 11     0\n",
       " 149    2\n",
       " 75     1\n",
       " 16     0\n",
       " 85     1\n",
       " Name: target, dtype: int32]"
      ]
     },
     "execution_count": 12,
     "metadata": {},
     "output_type": "execute_result"
    }
   ],
   "source": [
    "train_test_split(iris.data, iris.target, test_size=0.2, random_state=11)\n",
    "# (데이터, 데이터의 ...........레이블? target 값. 데이터랑 값이랑 같이 붙어서 섞어지라고, 테스트사이즈 테스트를 20퍼하겠따, 돌릴때마다 랜덤 숫자 안 바뀌게 시드 정해줌)\n",
    "# stratify=None, 데이터 비율을 따져서 나눌 거냐?? 음?"
   ]
  },
  {
   "cell_type": "code",
   "execution_count": 13,
   "id": "ff191472-c571-4fb1-843e-9943e82abaec",
   "metadata": {},
   "outputs": [],
   "source": [
    "X_train, X_test, y_train, y_test = train_test_split(iris.data, iris.target, test_size=0.2, random_state=11)\n",
    "# iris.data가 8:2 비율로 X_train, X_test에 들어가고\n",
    "# iris.target이 8:2 비율로 y_train, y_test에 들어감\n",
    "# 그래서 총 4개......덩어리...?로 분리됨"
   ]
  },
  {
   "cell_type": "code",
   "execution_count": 14,
   "id": "6a2ad1d9-9c47-4c36-b65d-ea5dce5dd8a7",
   "metadata": {},
   "outputs": [],
   "source": [
    "dt_clf = DecisionTreeClassifier(random_state=11)"
   ]
  },
  {
   "cell_type": "code",
   "execution_count": 15,
   "id": "02020829-e42c-4230-90f5-c77b560055a5",
   "metadata": {},
   "outputs": [
    {
     "data": {
      "text/plain": [
       "DecisionTreeClassifier(random_state=11)"
      ]
     },
     "execution_count": 15,
     "metadata": {},
     "output_type": "execute_result"
    }
   ],
   "source": [
    "# dt_clf.fit # 학습하는거\n",
    "dt_clf.fit(X_train, y_train) # DecisionTreeClassifier(random_state=11).fit(X_train, y_train) 이거랑 같은 거 ㅇㅇ\n",
    "\n",
    "# 테스트 돌렸고"
   ]
  },
  {
   "cell_type": "code",
   "execution_count": 16,
   "id": "2af65ec6-d7e3-451e-a8a6-be6660aee0bd",
   "metadata": {},
   "outputs": [],
   "source": [
    "pred = dt_clf.predict(X_test)\n",
    "\n",
    "# 학습시킨 걸로 예측하기"
   ]
  },
  {
   "cell_type": "code",
   "execution_count": 17,
   "id": "4fae8982-e55e-47e4-bd9c-850c79ed3e98",
   "metadata": {
    "collapsed": true,
    "jupyter": {
     "outputs_hidden": true
    },
    "tags": []
   },
   "outputs": [
    {
     "data": {
      "text/plain": [
       "[(2, 2),\n",
       " (2, 2),\n",
       " (1, 2),\n",
       " (1, 1),\n",
       " (2, 2),\n",
       " (0, 0),\n",
       " (1, 1),\n",
       " (0, 0),\n",
       " (0, 0),\n",
       " (1, 1),\n",
       " (1, 2),\n",
       " (1, 1),\n",
       " (1, 1),\n",
       " (2, 2),\n",
       " (2, 2),\n",
       " (0, 0),\n",
       " (2, 2),\n",
       " (1, 1),\n",
       " (2, 2),\n",
       " (2, 2),\n",
       " (1, 1),\n",
       " (0, 0),\n",
       " (0, 0),\n",
       " (1, 1),\n",
       " (0, 0),\n",
       " (0, 0),\n",
       " (2, 2),\n",
       " (1, 1),\n",
       " (0, 0),\n",
       " (1, 1)]"
      ]
     },
     "execution_count": 17,
     "metadata": {},
     "output_type": "execute_result"
    }
   ],
   "source": [
    "list(zip(pred, y_test))\n",
    "# 예측값과 답이 나옴.. 두 쌍이 맞으면 맞은거. 하나하나 맞춰보기 어려우ㅜ니께 accuracy_score 돌림"
   ]
  },
  {
   "cell_type": "code",
   "execution_count": 18,
   "id": "9c864768-58e2-4cfc-a4c7-3c432219e195",
   "metadata": {},
   "outputs": [],
   "source": [
    "from sklearn.metrics import accuracy_score"
   ]
  },
  {
   "cell_type": "code",
   "execution_count": 19,
   "id": "b2cfd624-2747-4422-93ab-92b6852c3ab2",
   "metadata": {},
   "outputs": [
    {
     "data": {
      "text/plain": [
       "0.9333333333333333"
      ]
     },
     "execution_count": 19,
     "metadata": {},
     "output_type": "execute_result"
    }
   ],
   "source": [
    "accuracy_score(y_test, pred)\n",
    "\n",
    "# (정답, 예측값) 넣으면 얼마나 맞췄는지 알랴줌"
   ]
  },
  {
   "cell_type": "code",
   "execution_count": 20,
   "id": "0e253b7e-87c8-4a99-83a3-6090941106a4",
   "metadata": {},
   "outputs": [
    {
     "name": "stderr",
     "output_type": "stream",
     "text": [
      "C:\\Users\\user\\anaconda3\\lib\\site-packages\\sklearn\\base.py:450: UserWarning: X does not have valid feature names, but DecisionTreeClassifier was fitted with feature names\n",
      "  warnings.warn(\n"
     ]
    },
    {
     "data": {
      "text/plain": [
       "array([0])"
      ]
     },
     "execution_count": 20,
     "metadata": {},
     "output_type": "execute_result"
    }
   ],
   "source": [
    "dt_clf.predict([[4.67, 3.3, 1.7, 0.3]])\n",
    "# dt_clf에 4.67, 3.3, 1.7, 0.3 값을 줄테니 뭐가 나올지 예측해봐\n",
    "# 실제 데이터 분석 (예측하려는 데이터 넣기)"
   ]
  },
  {
   "cell_type": "code",
   "execution_count": 22,
   "id": "668a990b-270c-4bdc-bc35-7491a5c75e13",
   "metadata": {},
   "outputs": [],
   "source": [
    "# 모델 저장해뒀다 다음에 쓰기\n",
    "import pickle"
   ]
  },
  {
   "cell_type": "code",
   "execution_count": 23,
   "id": "c1023f2f-f32d-4e43-816d-d1a826b78d7d",
   "metadata": {},
   "outputs": [],
   "source": [
    "f = open('model', 'wb')\n",
    "pickle.dump(dt_clf, f) #파일로 적을떄?\n",
    "# (dt_clf를, f라는 파일에 저장한다)"
   ]
  },
  {
   "cell_type": "code",
   "execution_count": 24,
   "id": "9468cfe0-ec54-4aa0-94d9-274fe637182f",
   "metadata": {},
   "outputs": [],
   "source": [
    "f.close()"
   ]
  },
  {
   "cell_type": "code",
   "execution_count": 25,
   "id": "360b5f53-82f6-4d65-a7cf-c72b3d17e18e",
   "metadata": {},
   "outputs": [],
   "source": [
    "f = open('model', 'rb')\n",
    "model = pickle.load(f)\n",
    "f.close()"
   ]
  },
  {
   "cell_type": "code",
   "execution_count": 30,
   "id": "758b2409-1a3e-4fe2-8c31-afe6748f939b",
   "metadata": {},
   "outputs": [
    {
     "name": "stderr",
     "output_type": "stream",
     "text": [
      "C:\\Users\\user\\anaconda3\\lib\\site-packages\\sklearn\\base.py:450: UserWarning: X does not have valid feature names, but DecisionTreeClassifier was fitted with feature names\n",
      "  warnings.warn(\n"
     ]
    },
    {
     "data": {
      "text/plain": [
       "array([0])"
      ]
     },
     "execution_count": 30,
     "metadata": {},
     "output_type": "execute_result"
    }
   ],
   "source": [
    "model.predict([[5.4, 3.3, 1.7, 0.3]])"
   ]
  },
  {
   "cell_type": "markdown",
   "id": "38b06a46-cdcb-4014-b5c5-359dfb609881",
   "metadata": {
    "jp-MarkdownHeadingCollapsed": true,
    "tags": [],
    "toc-hr-collapsed": true
   },
   "source": [
    "### 2.3 사이킷런의 기반 프레임워크익히기\n",
    "estimator 이해 및  fit(), predict() 메서드\n",
    "사이킷런의 주요 모듈\n",
    "내장된 예제 데이터 세트"
   ]
  },
  {
   "cell_type": "code",
   "execution_count": 31,
   "id": "803488b7-2702-47ec-bc02-d0ae5bd4c649",
   "metadata": {},
   "outputs": [],
   "source": [
    "iris = load_iris()\n",
    "# df 아니라 구냥 array로 가져오기\n",
    "# load_iris(as_frame=True) 이게 df로 불러온거"
   ]
  },
  {
   "cell_type": "code",
   "execution_count": 33,
   "id": "cf251579-bdae-4c43-b5e7-9dc020c497a2",
   "metadata": {},
   "outputs": [
    {
     "data": {
      "text/plain": [
       "sklearn.utils.Bunch"
      ]
     },
     "execution_count": 33,
     "metadata": {},
     "output_type": "execute_result"
    }
   ],
   "source": [
    "type(iris)\n",
    "# sklearn.utils.Bunch 딕셔너리랑 비슷하거"
   ]
  },
  {
   "cell_type": "code",
   "execution_count": 34,
   "id": "65121e90-6501-4710-a823-69f53da9dfaa",
   "metadata": {},
   "outputs": [
    {
     "data": {
      "text/plain": [
       "dict_keys(['data', 'target', 'frame', 'target_names', 'DESCR', 'feature_names', 'filename', 'data_module'])"
      ]
     },
     "execution_count": 34,
     "metadata": {},
     "output_type": "execute_result"
    }
   ],
   "source": [
    "iris.keys()"
   ]
  },
  {
   "cell_type": "raw",
   "id": "01f1fa83-9bb8-41ad-8968-9fe5c71a8293",
   "metadata": {},
   "source": [
    "iris.keys()\n",
    "---\n",
    "dict_keys(['data', 'target', 'frame', 'target_names', 'DESCR', 'feature_names', 'filename', 'data_module'])\n",
    "---\n",
    "data X값\n",
    "target y값\n",
    "target_names 타겟이 0, 1, 2로 들어가니까 0 이름은 뭔지..."
   ]
  },
  {
   "cell_type": "code",
   "execution_count": 35,
   "id": "a59c4c3d-9ba3-4369-b491-6278b9cc2d1d",
   "metadata": {
    "collapsed": true,
    "jupyter": {
     "outputs_hidden": true
    },
    "tags": []
   },
   "outputs": [
    {
     "data": {
      "text/plain": [
       "dict_items([('data', array([[5.1, 3.5, 1.4, 0.2],\n",
       "       [4.9, 3. , 1.4, 0.2],\n",
       "       [4.7, 3.2, 1.3, 0.2],\n",
       "       [4.6, 3.1, 1.5, 0.2],\n",
       "       [5. , 3.6, 1.4, 0.2],\n",
       "       [5.4, 3.9, 1.7, 0.4],\n",
       "       [4.6, 3.4, 1.4, 0.3],\n",
       "       [5. , 3.4, 1.5, 0.2],\n",
       "       [4.4, 2.9, 1.4, 0.2],\n",
       "       [4.9, 3.1, 1.5, 0.1],\n",
       "       [5.4, 3.7, 1.5, 0.2],\n",
       "       [4.8, 3.4, 1.6, 0.2],\n",
       "       [4.8, 3. , 1.4, 0.1],\n",
       "       [4.3, 3. , 1.1, 0.1],\n",
       "       [5.8, 4. , 1.2, 0.2],\n",
       "       [5.7, 4.4, 1.5, 0.4],\n",
       "       [5.4, 3.9, 1.3, 0.4],\n",
       "       [5.1, 3.5, 1.4, 0.3],\n",
       "       [5.7, 3.8, 1.7, 0.3],\n",
       "       [5.1, 3.8, 1.5, 0.3],\n",
       "       [5.4, 3.4, 1.7, 0.2],\n",
       "       [5.1, 3.7, 1.5, 0.4],\n",
       "       [4.6, 3.6, 1. , 0.2],\n",
       "       [5.1, 3.3, 1.7, 0.5],\n",
       "       [4.8, 3.4, 1.9, 0.2],\n",
       "       [5. , 3. , 1.6, 0.2],\n",
       "       [5. , 3.4, 1.6, 0.4],\n",
       "       [5.2, 3.5, 1.5, 0.2],\n",
       "       [5.2, 3.4, 1.4, 0.2],\n",
       "       [4.7, 3.2, 1.6, 0.2],\n",
       "       [4.8, 3.1, 1.6, 0.2],\n",
       "       [5.4, 3.4, 1.5, 0.4],\n",
       "       [5.2, 4.1, 1.5, 0.1],\n",
       "       [5.5, 4.2, 1.4, 0.2],\n",
       "       [4.9, 3.1, 1.5, 0.2],\n",
       "       [5. , 3.2, 1.2, 0.2],\n",
       "       [5.5, 3.5, 1.3, 0.2],\n",
       "       [4.9, 3.6, 1.4, 0.1],\n",
       "       [4.4, 3. , 1.3, 0.2],\n",
       "       [5.1, 3.4, 1.5, 0.2],\n",
       "       [5. , 3.5, 1.3, 0.3],\n",
       "       [4.5, 2.3, 1.3, 0.3],\n",
       "       [4.4, 3.2, 1.3, 0.2],\n",
       "       [5. , 3.5, 1.6, 0.6],\n",
       "       [5.1, 3.8, 1.9, 0.4],\n",
       "       [4.8, 3. , 1.4, 0.3],\n",
       "       [5.1, 3.8, 1.6, 0.2],\n",
       "       [4.6, 3.2, 1.4, 0.2],\n",
       "       [5.3, 3.7, 1.5, 0.2],\n",
       "       [5. , 3.3, 1.4, 0.2],\n",
       "       [7. , 3.2, 4.7, 1.4],\n",
       "       [6.4, 3.2, 4.5, 1.5],\n",
       "       [6.9, 3.1, 4.9, 1.5],\n",
       "       [5.5, 2.3, 4. , 1.3],\n",
       "       [6.5, 2.8, 4.6, 1.5],\n",
       "       [5.7, 2.8, 4.5, 1.3],\n",
       "       [6.3, 3.3, 4.7, 1.6],\n",
       "       [4.9, 2.4, 3.3, 1. ],\n",
       "       [6.6, 2.9, 4.6, 1.3],\n",
       "       [5.2, 2.7, 3.9, 1.4],\n",
       "       [5. , 2. , 3.5, 1. ],\n",
       "       [5.9, 3. , 4.2, 1.5],\n",
       "       [6. , 2.2, 4. , 1. ],\n",
       "       [6.1, 2.9, 4.7, 1.4],\n",
       "       [5.6, 2.9, 3.6, 1.3],\n",
       "       [6.7, 3.1, 4.4, 1.4],\n",
       "       [5.6, 3. , 4.5, 1.5],\n",
       "       [5.8, 2.7, 4.1, 1. ],\n",
       "       [6.2, 2.2, 4.5, 1.5],\n",
       "       [5.6, 2.5, 3.9, 1.1],\n",
       "       [5.9, 3.2, 4.8, 1.8],\n",
       "       [6.1, 2.8, 4. , 1.3],\n",
       "       [6.3, 2.5, 4.9, 1.5],\n",
       "       [6.1, 2.8, 4.7, 1.2],\n",
       "       [6.4, 2.9, 4.3, 1.3],\n",
       "       [6.6, 3. , 4.4, 1.4],\n",
       "       [6.8, 2.8, 4.8, 1.4],\n",
       "       [6.7, 3. , 5. , 1.7],\n",
       "       [6. , 2.9, 4.5, 1.5],\n",
       "       [5.7, 2.6, 3.5, 1. ],\n",
       "       [5.5, 2.4, 3.8, 1.1],\n",
       "       [5.5, 2.4, 3.7, 1. ],\n",
       "       [5.8, 2.7, 3.9, 1.2],\n",
       "       [6. , 2.7, 5.1, 1.6],\n",
       "       [5.4, 3. , 4.5, 1.5],\n",
       "       [6. , 3.4, 4.5, 1.6],\n",
       "       [6.7, 3.1, 4.7, 1.5],\n",
       "       [6.3, 2.3, 4.4, 1.3],\n",
       "       [5.6, 3. , 4.1, 1.3],\n",
       "       [5.5, 2.5, 4. , 1.3],\n",
       "       [5.5, 2.6, 4.4, 1.2],\n",
       "       [6.1, 3. , 4.6, 1.4],\n",
       "       [5.8, 2.6, 4. , 1.2],\n",
       "       [5. , 2.3, 3.3, 1. ],\n",
       "       [5.6, 2.7, 4.2, 1.3],\n",
       "       [5.7, 3. , 4.2, 1.2],\n",
       "       [5.7, 2.9, 4.2, 1.3],\n",
       "       [6.2, 2.9, 4.3, 1.3],\n",
       "       [5.1, 2.5, 3. , 1.1],\n",
       "       [5.7, 2.8, 4.1, 1.3],\n",
       "       [6.3, 3.3, 6. , 2.5],\n",
       "       [5.8, 2.7, 5.1, 1.9],\n",
       "       [7.1, 3. , 5.9, 2.1],\n",
       "       [6.3, 2.9, 5.6, 1.8],\n",
       "       [6.5, 3. , 5.8, 2.2],\n",
       "       [7.6, 3. , 6.6, 2.1],\n",
       "       [4.9, 2.5, 4.5, 1.7],\n",
       "       [7.3, 2.9, 6.3, 1.8],\n",
       "       [6.7, 2.5, 5.8, 1.8],\n",
       "       [7.2, 3.6, 6.1, 2.5],\n",
       "       [6.5, 3.2, 5.1, 2. ],\n",
       "       [6.4, 2.7, 5.3, 1.9],\n",
       "       [6.8, 3. , 5.5, 2.1],\n",
       "       [5.7, 2.5, 5. , 2. ],\n",
       "       [5.8, 2.8, 5.1, 2.4],\n",
       "       [6.4, 3.2, 5.3, 2.3],\n",
       "       [6.5, 3. , 5.5, 1.8],\n",
       "       [7.7, 3.8, 6.7, 2.2],\n",
       "       [7.7, 2.6, 6.9, 2.3],\n",
       "       [6. , 2.2, 5. , 1.5],\n",
       "       [6.9, 3.2, 5.7, 2.3],\n",
       "       [5.6, 2.8, 4.9, 2. ],\n",
       "       [7.7, 2.8, 6.7, 2. ],\n",
       "       [6.3, 2.7, 4.9, 1.8],\n",
       "       [6.7, 3.3, 5.7, 2.1],\n",
       "       [7.2, 3.2, 6. , 1.8],\n",
       "       [6.2, 2.8, 4.8, 1.8],\n",
       "       [6.1, 3. , 4.9, 1.8],\n",
       "       [6.4, 2.8, 5.6, 2.1],\n",
       "       [7.2, 3. , 5.8, 1.6],\n",
       "       [7.4, 2.8, 6.1, 1.9],\n",
       "       [7.9, 3.8, 6.4, 2. ],\n",
       "       [6.4, 2.8, 5.6, 2.2],\n",
       "       [6.3, 2.8, 5.1, 1.5],\n",
       "       [6.1, 2.6, 5.6, 1.4],\n",
       "       [7.7, 3. , 6.1, 2.3],\n",
       "       [6.3, 3.4, 5.6, 2.4],\n",
       "       [6.4, 3.1, 5.5, 1.8],\n",
       "       [6. , 3. , 4.8, 1.8],\n",
       "       [6.9, 3.1, 5.4, 2.1],\n",
       "       [6.7, 3.1, 5.6, 2.4],\n",
       "       [6.9, 3.1, 5.1, 2.3],\n",
       "       [5.8, 2.7, 5.1, 1.9],\n",
       "       [6.8, 3.2, 5.9, 2.3],\n",
       "       [6.7, 3.3, 5.7, 2.5],\n",
       "       [6.7, 3. , 5.2, 2.3],\n",
       "       [6.3, 2.5, 5. , 1.9],\n",
       "       [6.5, 3. , 5.2, 2. ],\n",
       "       [6.2, 3.4, 5.4, 2.3],\n",
       "       [5.9, 3. , 5.1, 1.8]])), ('target', array([0, 0, 0, 0, 0, 0, 0, 0, 0, 0, 0, 0, 0, 0, 0, 0, 0, 0, 0, 0, 0, 0,\n",
       "       0, 0, 0, 0, 0, 0, 0, 0, 0, 0, 0, 0, 0, 0, 0, 0, 0, 0, 0, 0, 0, 0,\n",
       "       0, 0, 0, 0, 0, 0, 1, 1, 1, 1, 1, 1, 1, 1, 1, 1, 1, 1, 1, 1, 1, 1,\n",
       "       1, 1, 1, 1, 1, 1, 1, 1, 1, 1, 1, 1, 1, 1, 1, 1, 1, 1, 1, 1, 1, 1,\n",
       "       1, 1, 1, 1, 1, 1, 1, 1, 1, 1, 1, 1, 2, 2, 2, 2, 2, 2, 2, 2, 2, 2,\n",
       "       2, 2, 2, 2, 2, 2, 2, 2, 2, 2, 2, 2, 2, 2, 2, 2, 2, 2, 2, 2, 2, 2,\n",
       "       2, 2, 2, 2, 2, 2, 2, 2, 2, 2, 2, 2, 2, 2, 2, 2, 2, 2])), ('frame', None), ('target_names', array(['setosa', 'versicolor', 'virginica'], dtype='<U10')), ('DESCR', '.. _iris_dataset:\\n\\nIris plants dataset\\n--------------------\\n\\n**Data Set Characteristics:**\\n\\n    :Number of Instances: 150 (50 in each of three classes)\\n    :Number of Attributes: 4 numeric, predictive attributes and the class\\n    :Attribute Information:\\n        - sepal length in cm\\n        - sepal width in cm\\n        - petal length in cm\\n        - petal width in cm\\n        - class:\\n                - Iris-Setosa\\n                - Iris-Versicolour\\n                - Iris-Virginica\\n                \\n    :Summary Statistics:\\n\\n    ============== ==== ==== ======= ===== ====================\\n                    Min  Max   Mean    SD   Class Correlation\\n    ============== ==== ==== ======= ===== ====================\\n    sepal length:   4.3  7.9   5.84   0.83    0.7826\\n    sepal width:    2.0  4.4   3.05   0.43   -0.4194\\n    petal length:   1.0  6.9   3.76   1.76    0.9490  (high!)\\n    petal width:    0.1  2.5   1.20   0.76    0.9565  (high!)\\n    ============== ==== ==== ======= ===== ====================\\n\\n    :Missing Attribute Values: None\\n    :Class Distribution: 33.3% for each of 3 classes.\\n    :Creator: R.A. Fisher\\n    :Donor: Michael Marshall (MARSHALL%PLU@io.arc.nasa.gov)\\n    :Date: July, 1988\\n\\nThe famous Iris database, first used by Sir R.A. Fisher. The dataset is taken\\nfrom Fisher\\'s paper. Note that it\\'s the same as in R, but not as in the UCI\\nMachine Learning Repository, which has two wrong data points.\\n\\nThis is perhaps the best known database to be found in the\\npattern recognition literature.  Fisher\\'s paper is a classic in the field and\\nis referenced frequently to this day.  (See Duda & Hart, for example.)  The\\ndata set contains 3 classes of 50 instances each, where each class refers to a\\ntype of iris plant.  One class is linearly separable from the other 2; the\\nlatter are NOT linearly separable from each other.\\n\\n.. topic:: References\\n\\n   - Fisher, R.A. \"The use of multiple measurements in taxonomic problems\"\\n     Annual Eugenics, 7, Part II, 179-188 (1936); also in \"Contributions to\\n     Mathematical Statistics\" (John Wiley, NY, 1950).\\n   - Duda, R.O., & Hart, P.E. (1973) Pattern Classification and Scene Analysis.\\n     (Q327.D83) John Wiley & Sons.  ISBN 0-471-22361-1.  See page 218.\\n   - Dasarathy, B.V. (1980) \"Nosing Around the Neighborhood: A New System\\n     Structure and Classification Rule for Recognition in Partially Exposed\\n     Environments\".  IEEE Transactions on Pattern Analysis and Machine\\n     Intelligence, Vol. PAMI-2, No. 1, 67-71.\\n   - Gates, G.W. (1972) \"The Reduced Nearest Neighbor Rule\".  IEEE Transactions\\n     on Information Theory, May 1972, 431-433.\\n   - See also: 1988 MLC Proceedings, 54-64.  Cheeseman et al\"s AUTOCLASS II\\n     conceptual clustering system finds 3 classes in the data.\\n   - Many, many more ...'), ('feature_names', ['sepal length (cm)', 'sepal width (cm)', 'petal length (cm)', 'petal width (cm)']), ('filename', 'iris.csv'), ('data_module', 'sklearn.datasets.data')])"
      ]
     },
     "execution_count": 35,
     "metadata": {},
     "output_type": "execute_result"
    }
   ],
   "source": [
    "iris.items()"
   ]
  },
  {
   "cell_type": "code",
   "execution_count": 36,
   "id": "4153a21a-9b40-4622-a164-93bead9bfe32",
   "metadata": {
    "collapsed": true,
    "jupyter": {
     "outputs_hidden": true
    },
    "tags": []
   },
   "outputs": [
    {
     "data": {
      "text/plain": [
       "dict_values([array([[5.1, 3.5, 1.4, 0.2],\n",
       "       [4.9, 3. , 1.4, 0.2],\n",
       "       [4.7, 3.2, 1.3, 0.2],\n",
       "       [4.6, 3.1, 1.5, 0.2],\n",
       "       [5. , 3.6, 1.4, 0.2],\n",
       "       [5.4, 3.9, 1.7, 0.4],\n",
       "       [4.6, 3.4, 1.4, 0.3],\n",
       "       [5. , 3.4, 1.5, 0.2],\n",
       "       [4.4, 2.9, 1.4, 0.2],\n",
       "       [4.9, 3.1, 1.5, 0.1],\n",
       "       [5.4, 3.7, 1.5, 0.2],\n",
       "       [4.8, 3.4, 1.6, 0.2],\n",
       "       [4.8, 3. , 1.4, 0.1],\n",
       "       [4.3, 3. , 1.1, 0.1],\n",
       "       [5.8, 4. , 1.2, 0.2],\n",
       "       [5.7, 4.4, 1.5, 0.4],\n",
       "       [5.4, 3.9, 1.3, 0.4],\n",
       "       [5.1, 3.5, 1.4, 0.3],\n",
       "       [5.7, 3.8, 1.7, 0.3],\n",
       "       [5.1, 3.8, 1.5, 0.3],\n",
       "       [5.4, 3.4, 1.7, 0.2],\n",
       "       [5.1, 3.7, 1.5, 0.4],\n",
       "       [4.6, 3.6, 1. , 0.2],\n",
       "       [5.1, 3.3, 1.7, 0.5],\n",
       "       [4.8, 3.4, 1.9, 0.2],\n",
       "       [5. , 3. , 1.6, 0.2],\n",
       "       [5. , 3.4, 1.6, 0.4],\n",
       "       [5.2, 3.5, 1.5, 0.2],\n",
       "       [5.2, 3.4, 1.4, 0.2],\n",
       "       [4.7, 3.2, 1.6, 0.2],\n",
       "       [4.8, 3.1, 1.6, 0.2],\n",
       "       [5.4, 3.4, 1.5, 0.4],\n",
       "       [5.2, 4.1, 1.5, 0.1],\n",
       "       [5.5, 4.2, 1.4, 0.2],\n",
       "       [4.9, 3.1, 1.5, 0.2],\n",
       "       [5. , 3.2, 1.2, 0.2],\n",
       "       [5.5, 3.5, 1.3, 0.2],\n",
       "       [4.9, 3.6, 1.4, 0.1],\n",
       "       [4.4, 3. , 1.3, 0.2],\n",
       "       [5.1, 3.4, 1.5, 0.2],\n",
       "       [5. , 3.5, 1.3, 0.3],\n",
       "       [4.5, 2.3, 1.3, 0.3],\n",
       "       [4.4, 3.2, 1.3, 0.2],\n",
       "       [5. , 3.5, 1.6, 0.6],\n",
       "       [5.1, 3.8, 1.9, 0.4],\n",
       "       [4.8, 3. , 1.4, 0.3],\n",
       "       [5.1, 3.8, 1.6, 0.2],\n",
       "       [4.6, 3.2, 1.4, 0.2],\n",
       "       [5.3, 3.7, 1.5, 0.2],\n",
       "       [5. , 3.3, 1.4, 0.2],\n",
       "       [7. , 3.2, 4.7, 1.4],\n",
       "       [6.4, 3.2, 4.5, 1.5],\n",
       "       [6.9, 3.1, 4.9, 1.5],\n",
       "       [5.5, 2.3, 4. , 1.3],\n",
       "       [6.5, 2.8, 4.6, 1.5],\n",
       "       [5.7, 2.8, 4.5, 1.3],\n",
       "       [6.3, 3.3, 4.7, 1.6],\n",
       "       [4.9, 2.4, 3.3, 1. ],\n",
       "       [6.6, 2.9, 4.6, 1.3],\n",
       "       [5.2, 2.7, 3.9, 1.4],\n",
       "       [5. , 2. , 3.5, 1. ],\n",
       "       [5.9, 3. , 4.2, 1.5],\n",
       "       [6. , 2.2, 4. , 1. ],\n",
       "       [6.1, 2.9, 4.7, 1.4],\n",
       "       [5.6, 2.9, 3.6, 1.3],\n",
       "       [6.7, 3.1, 4.4, 1.4],\n",
       "       [5.6, 3. , 4.5, 1.5],\n",
       "       [5.8, 2.7, 4.1, 1. ],\n",
       "       [6.2, 2.2, 4.5, 1.5],\n",
       "       [5.6, 2.5, 3.9, 1.1],\n",
       "       [5.9, 3.2, 4.8, 1.8],\n",
       "       [6.1, 2.8, 4. , 1.3],\n",
       "       [6.3, 2.5, 4.9, 1.5],\n",
       "       [6.1, 2.8, 4.7, 1.2],\n",
       "       [6.4, 2.9, 4.3, 1.3],\n",
       "       [6.6, 3. , 4.4, 1.4],\n",
       "       [6.8, 2.8, 4.8, 1.4],\n",
       "       [6.7, 3. , 5. , 1.7],\n",
       "       [6. , 2.9, 4.5, 1.5],\n",
       "       [5.7, 2.6, 3.5, 1. ],\n",
       "       [5.5, 2.4, 3.8, 1.1],\n",
       "       [5.5, 2.4, 3.7, 1. ],\n",
       "       [5.8, 2.7, 3.9, 1.2],\n",
       "       [6. , 2.7, 5.1, 1.6],\n",
       "       [5.4, 3. , 4.5, 1.5],\n",
       "       [6. , 3.4, 4.5, 1.6],\n",
       "       [6.7, 3.1, 4.7, 1.5],\n",
       "       [6.3, 2.3, 4.4, 1.3],\n",
       "       [5.6, 3. , 4.1, 1.3],\n",
       "       [5.5, 2.5, 4. , 1.3],\n",
       "       [5.5, 2.6, 4.4, 1.2],\n",
       "       [6.1, 3. , 4.6, 1.4],\n",
       "       [5.8, 2.6, 4. , 1.2],\n",
       "       [5. , 2.3, 3.3, 1. ],\n",
       "       [5.6, 2.7, 4.2, 1.3],\n",
       "       [5.7, 3. , 4.2, 1.2],\n",
       "       [5.7, 2.9, 4.2, 1.3],\n",
       "       [6.2, 2.9, 4.3, 1.3],\n",
       "       [5.1, 2.5, 3. , 1.1],\n",
       "       [5.7, 2.8, 4.1, 1.3],\n",
       "       [6.3, 3.3, 6. , 2.5],\n",
       "       [5.8, 2.7, 5.1, 1.9],\n",
       "       [7.1, 3. , 5.9, 2.1],\n",
       "       [6.3, 2.9, 5.6, 1.8],\n",
       "       [6.5, 3. , 5.8, 2.2],\n",
       "       [7.6, 3. , 6.6, 2.1],\n",
       "       [4.9, 2.5, 4.5, 1.7],\n",
       "       [7.3, 2.9, 6.3, 1.8],\n",
       "       [6.7, 2.5, 5.8, 1.8],\n",
       "       [7.2, 3.6, 6.1, 2.5],\n",
       "       [6.5, 3.2, 5.1, 2. ],\n",
       "       [6.4, 2.7, 5.3, 1.9],\n",
       "       [6.8, 3. , 5.5, 2.1],\n",
       "       [5.7, 2.5, 5. , 2. ],\n",
       "       [5.8, 2.8, 5.1, 2.4],\n",
       "       [6.4, 3.2, 5.3, 2.3],\n",
       "       [6.5, 3. , 5.5, 1.8],\n",
       "       [7.7, 3.8, 6.7, 2.2],\n",
       "       [7.7, 2.6, 6.9, 2.3],\n",
       "       [6. , 2.2, 5. , 1.5],\n",
       "       [6.9, 3.2, 5.7, 2.3],\n",
       "       [5.6, 2.8, 4.9, 2. ],\n",
       "       [7.7, 2.8, 6.7, 2. ],\n",
       "       [6.3, 2.7, 4.9, 1.8],\n",
       "       [6.7, 3.3, 5.7, 2.1],\n",
       "       [7.2, 3.2, 6. , 1.8],\n",
       "       [6.2, 2.8, 4.8, 1.8],\n",
       "       [6.1, 3. , 4.9, 1.8],\n",
       "       [6.4, 2.8, 5.6, 2.1],\n",
       "       [7.2, 3. , 5.8, 1.6],\n",
       "       [7.4, 2.8, 6.1, 1.9],\n",
       "       [7.9, 3.8, 6.4, 2. ],\n",
       "       [6.4, 2.8, 5.6, 2.2],\n",
       "       [6.3, 2.8, 5.1, 1.5],\n",
       "       [6.1, 2.6, 5.6, 1.4],\n",
       "       [7.7, 3. , 6.1, 2.3],\n",
       "       [6.3, 3.4, 5.6, 2.4],\n",
       "       [6.4, 3.1, 5.5, 1.8],\n",
       "       [6. , 3. , 4.8, 1.8],\n",
       "       [6.9, 3.1, 5.4, 2.1],\n",
       "       [6.7, 3.1, 5.6, 2.4],\n",
       "       [6.9, 3.1, 5.1, 2.3],\n",
       "       [5.8, 2.7, 5.1, 1.9],\n",
       "       [6.8, 3.2, 5.9, 2.3],\n",
       "       [6.7, 3.3, 5.7, 2.5],\n",
       "       [6.7, 3. , 5.2, 2.3],\n",
       "       [6.3, 2.5, 5. , 1.9],\n",
       "       [6.5, 3. , 5.2, 2. ],\n",
       "       [6.2, 3.4, 5.4, 2.3],\n",
       "       [5.9, 3. , 5.1, 1.8]]), array([0, 0, 0, 0, 0, 0, 0, 0, 0, 0, 0, 0, 0, 0, 0, 0, 0, 0, 0, 0, 0, 0,\n",
       "       0, 0, 0, 0, 0, 0, 0, 0, 0, 0, 0, 0, 0, 0, 0, 0, 0, 0, 0, 0, 0, 0,\n",
       "       0, 0, 0, 0, 0, 0, 1, 1, 1, 1, 1, 1, 1, 1, 1, 1, 1, 1, 1, 1, 1, 1,\n",
       "       1, 1, 1, 1, 1, 1, 1, 1, 1, 1, 1, 1, 1, 1, 1, 1, 1, 1, 1, 1, 1, 1,\n",
       "       1, 1, 1, 1, 1, 1, 1, 1, 1, 1, 1, 1, 2, 2, 2, 2, 2, 2, 2, 2, 2, 2,\n",
       "       2, 2, 2, 2, 2, 2, 2, 2, 2, 2, 2, 2, 2, 2, 2, 2, 2, 2, 2, 2, 2, 2,\n",
       "       2, 2, 2, 2, 2, 2, 2, 2, 2, 2, 2, 2, 2, 2, 2, 2, 2, 2]), None, array(['setosa', 'versicolor', 'virginica'], dtype='<U10'), '.. _iris_dataset:\\n\\nIris plants dataset\\n--------------------\\n\\n**Data Set Characteristics:**\\n\\n    :Number of Instances: 150 (50 in each of three classes)\\n    :Number of Attributes: 4 numeric, predictive attributes and the class\\n    :Attribute Information:\\n        - sepal length in cm\\n        - sepal width in cm\\n        - petal length in cm\\n        - petal width in cm\\n        - class:\\n                - Iris-Setosa\\n                - Iris-Versicolour\\n                - Iris-Virginica\\n                \\n    :Summary Statistics:\\n\\n    ============== ==== ==== ======= ===== ====================\\n                    Min  Max   Mean    SD   Class Correlation\\n    ============== ==== ==== ======= ===== ====================\\n    sepal length:   4.3  7.9   5.84   0.83    0.7826\\n    sepal width:    2.0  4.4   3.05   0.43   -0.4194\\n    petal length:   1.0  6.9   3.76   1.76    0.9490  (high!)\\n    petal width:    0.1  2.5   1.20   0.76    0.9565  (high!)\\n    ============== ==== ==== ======= ===== ====================\\n\\n    :Missing Attribute Values: None\\n    :Class Distribution: 33.3% for each of 3 classes.\\n    :Creator: R.A. Fisher\\n    :Donor: Michael Marshall (MARSHALL%PLU@io.arc.nasa.gov)\\n    :Date: July, 1988\\n\\nThe famous Iris database, first used by Sir R.A. Fisher. The dataset is taken\\nfrom Fisher\\'s paper. Note that it\\'s the same as in R, but not as in the UCI\\nMachine Learning Repository, which has two wrong data points.\\n\\nThis is perhaps the best known database to be found in the\\npattern recognition literature.  Fisher\\'s paper is a classic in the field and\\nis referenced frequently to this day.  (See Duda & Hart, for example.)  The\\ndata set contains 3 classes of 50 instances each, where each class refers to a\\ntype of iris plant.  One class is linearly separable from the other 2; the\\nlatter are NOT linearly separable from each other.\\n\\n.. topic:: References\\n\\n   - Fisher, R.A. \"The use of multiple measurements in taxonomic problems\"\\n     Annual Eugenics, 7, Part II, 179-188 (1936); also in \"Contributions to\\n     Mathematical Statistics\" (John Wiley, NY, 1950).\\n   - Duda, R.O., & Hart, P.E. (1973) Pattern Classification and Scene Analysis.\\n     (Q327.D83) John Wiley & Sons.  ISBN 0-471-22361-1.  See page 218.\\n   - Dasarathy, B.V. (1980) \"Nosing Around the Neighborhood: A New System\\n     Structure and Classification Rule for Recognition in Partially Exposed\\n     Environments\".  IEEE Transactions on Pattern Analysis and Machine\\n     Intelligence, Vol. PAMI-2, No. 1, 67-71.\\n   - Gates, G.W. (1972) \"The Reduced Nearest Neighbor Rule\".  IEEE Transactions\\n     on Information Theory, May 1972, 431-433.\\n   - See also: 1988 MLC Proceedings, 54-64.  Cheeseman et al\"s AUTOCLASS II\\n     conceptual clustering system finds 3 classes in the data.\\n   - Many, many more ...', ['sepal length (cm)', 'sepal width (cm)', 'petal length (cm)', 'petal width (cm)'], 'iris.csv', 'sklearn.datasets.data'])"
      ]
     },
     "execution_count": 36,
     "metadata": {},
     "output_type": "execute_result"
    }
   ],
   "source": [
    "iris.values()"
   ]
  },
  {
   "cell_type": "markdown",
   "id": "99147a03-158a-4915-8045-7e90b6446f29",
   "metadata": {
    "tags": [],
    "toc-hr-collapsed": true
   },
   "source": [
    "### 2.4 모델 셀렉션 모듈 소개"
   ]
  },
  {
   "cell_type": "markdown",
   "id": "60f229c1-1b19-4a0e-a5ee-47854e01aba7",
   "metadata": {
    "jp-MarkdownHeadingCollapsed": true,
    "tags": [],
    "toc-hr-collapsed": true
   },
   "source": [
    "#### 학습-테스트 데이터 세트 분리"
   ]
  },
  {
   "cell_type": "code",
   "execution_count": 37,
   "id": "f667265c-8e43-486e-bafd-529e454d2c04",
   "metadata": {},
   "outputs": [
    {
     "data": {
      "text/plain": [
       "1.0"
      ]
     },
     "execution_count": 37,
     "metadata": {},
     "output_type": "execute_result"
    }
   ],
   "source": [
    "iris = load_iris()\n",
    "dt_clf = DecisionTreeClassifier()\n",
    "dt_clf.fit(iris.data, iris.target)\n",
    "pred = dt_clf.predict(iris.data)\n",
    "accuracy_score(iris.target, pred)"
   ]
  },
  {
   "cell_type": "markdown",
   "id": "b1773958-5cf6-4859-9ff7-563eef7c8fe7",
   "metadata": {
    "jp-MarkdownHeadingCollapsed": true,
    "tags": []
   },
   "source": [
    "#### 교차검증\n",
    "과적합... 과소적합... 과대적합...\n",
    "적갑...적합...저깝..."
   ]
  },
  {
   "cell_type": "markdown",
   "id": "c45519c9-ce6f-4a99-a8e5-fdba82487fc8",
   "metadata": {
    "tags": []
   },
   "source": [
    "##### K폴드 교차 검증"
   ]
  },
  {
   "cell_type": "code",
   "execution_count": 1,
   "id": "7071c4af-3622-496b-884f-79b70e504442",
   "metadata": {},
   "outputs": [],
   "source": [
    "from sklearn.tree import DecisionTreeClassifier\n",
    "from sklearn.datasets import load_iris\n",
    "from sklearn.metrics import accuracy_score\n",
    "from sklearn.model_selection import KFold\n",
    "import numpy as np"
   ]
  },
  {
   "cell_type": "code",
   "execution_count": 15,
   "id": "dc9ed35b-05c8-4854-80da-043d15eff2a9",
   "metadata": {},
   "outputs": [],
   "source": [
    "iris = load_iris()\n",
    "dt_clf = DecisionTreeClassifier(random_state=156)\n",
    "kfold = KFold(n_splits=5, shuffle=True)"
   ]
  },
  {
   "cell_type": "code",
   "execution_count": 16,
   "id": "f6b4d54c-25a9-4a97-b312-5cc467046416",
   "metadata": {},
   "outputs": [
    {
     "name": "stdout",
     "output_type": "stream",
     "text": [
      "1 1.0\n",
      "[0 0 0 0 0 0 0 1 1 1 1 1 1 1 1 1 1 2 2 2 2 2 2 2 2 2 2 2 2 2]\n",
      "2 0.9333333333333333\n",
      "[0 0 0 0 0 0 0 0 0 1 1 1 1 1 1 1 1 1 1 1 1 1 1 2 2 2 2 2 2 2]\n",
      "3 0.9333333333333333\n",
      "[0 0 0 0 0 0 0 0 0 1 1 1 1 1 1 1 1 1 1 1 2 2 2 2 2 2 2 2 2 2]\n",
      "4 0.9\n",
      "[0 0 0 0 0 0 0 0 0 0 1 1 1 1 1 1 1 1 1 2 2 2 2 2 2 2 2 2 2 2]\n",
      "5 0.9666666666666667\n",
      "[0 0 0 0 0 0 0 0 0 0 0 0 0 0 0 1 1 1 1 1 1 2 2 2 2 2 2 2 2 2]\n"
     ]
    }
   ],
   "source": [
    "# 교차검증을 for문으로\n",
    "cv_accuracy = []\n",
    "n_iter = 0\n",
    "\n",
    "for train_index, test_index in kfold.split(iris.data):\n",
    "    # print(train_index)\n",
    "    # print('---------')\n",
    "    # print(test_index)\n",
    "    X_train, X_test = iris.data[train_index], iris.data[test_index]\n",
    "    y_train, y_test = iris.target[train_index], iris.target[test_index]\n",
    "    dt_clf.fit(X_train, y_train)\n",
    "    pred = dt_clf.predict(X_test)\n",
    "    n_iter += 1\n",
    "    accuracy = accuracy_score(y_test, pred)\n",
    "    cv_accuracy.append(accuracy)\n",
    "    print(n_iter, accuracy)\n",
    "    print(y_test)"
   ]
  },
  {
   "cell_type": "code",
   "execution_count": 17,
   "id": "82ac941e-1f98-41ab-95cb-1fbfb497fd0e",
   "metadata": {
    "tags": []
   },
   "outputs": [
    {
     "data": {
      "text/plain": [
       "0.9467"
      ]
     },
     "execution_count": 17,
     "metadata": {},
     "output_type": "execute_result"
    }
   ],
   "source": [
    "np.round(np.mean(cv_accuracy), 4)"
   ]
  },
  {
   "cell_type": "markdown",
   "id": "0df68b69-835e-4627-8934-78e63e2f1fb3",
   "metadata": {},
   "source": [
    "##### Stratified K폴드"
   ]
  },
  {
   "cell_type": "code",
   "execution_count": 22,
   "id": "5577f6aa-7e40-4a38-8576-998c22422615",
   "metadata": {},
   "outputs": [],
   "source": [
    "data = load_iris(as_frame=True)"
   ]
  },
  {
   "cell_type": "code",
   "execution_count": 23,
   "id": "53435558-c406-4e2c-9ba7-f318eb2c1a30",
   "metadata": {},
   "outputs": [
    {
     "data": {
      "text/plain": [
       "0    50\n",
       "1    50\n",
       "2    50\n",
       "Name: target, dtype: int64"
      ]
     },
     "execution_count": 23,
     "metadata": {},
     "output_type": "execute_result"
    }
   ],
   "source": [
    "data.target.value_counts()"
   ]
  },
  {
   "cell_type": "code",
   "execution_count": 27,
   "id": "9f4652c9-ac88-4597-9f6f-82df82a4fca3",
   "metadata": {},
   "outputs": [
    {
     "name": "stdout",
     "output_type": "stream",
     "text": [
      "1 0.0\n",
      "[0 0 0 0 0 0 0 0 0 0 0 0 0 0 0 0 0 0 0 0 0 0 0 0 0 0 0 0 0 0 0 0 0 0 0 0 0\n",
      " 0 0 0 0 0 0 0 0 0 0 0 0 0]\n",
      "2 0.0\n",
      "[1 1 1 1 1 1 1 1 1 1 1 1 1 1 1 1 1 1 1 1 1 1 1 1 1 1 1 1 1 1 1 1 1 1 1 1 1\n",
      " 1 1 1 1 1 1 1 1 1 1 1 1 1]\n",
      "3 0.0\n",
      "[2 2 2 2 2 2 2 2 2 2 2 2 2 2 2 2 2 2 2 2 2 2 2 2 2 2 2 2 2 2 2 2 2 2 2 2 2\n",
      " 2 2 2 2 2 2 2 2 2 2 2 2 2]\n"
     ]
    }
   ],
   "source": [
    "kfold = KFold(n_splits=63, shuffle=False)\n",
    "cv_accuracy = []\n",
    "n_iter = 0\n",
    "\n",
    "for train_index, test_index in kfold.split(iris.data):\n",
    "    # print(train_index)\n",
    "    # print('---------')\n",
    "    # print(test_index)\n",
    "    X_train, X_test = iris.data[train_index], iris.data[test_index]\n",
    "    y_train, y_test = iris.target[train_index], iris.target[test_index]\n",
    "    dt_clf.fit(X_train, y_train)\n",
    "    pred = dt_clf.predict(X_test)\n",
    "    n_iter += 1\n",
    "    accuracy = accuracy_score(y_test, pred)\n",
    "    cv_accuracy.append(accuracy)\n",
    "    print(n_iter, accuracy)\n",
    "    print(y_test)\n",
    "\n",
    "# 0끼리, 1끼리, 2끼리 학습하고 다른 문제 푸니까 하나도 못 맞춤"
   ]
  },
  {
   "cell_type": "code",
   "execution_count": 28,
   "id": "f6d02c54-573d-493d-84c8-ca7b9abd0fea",
   "metadata": {},
   "outputs": [
    {
     "name": "stdout",
     "output_type": "stream",
     "text": [
      "1 0.92\n",
      "[0 0 0 0 0 0 0 0 0 0 0 0 0 0 0 1 1 1 1 1 1 1 1 1 1 1 2 2 2 2 2 2 2 2 2 2 2\n",
      " 2 2 2 2 2 2 2 2 2 2 2 2 2]\n",
      "2 0.98\n",
      "[0 0 0 0 0 0 0 0 0 0 0 0 0 0 0 0 0 0 0 0 1 1 1 1 1 1 1 1 1 1 1 1 1 1 1 1 1\n",
      " 1 2 2 2 2 2 2 2 2 2 2 2 2]\n",
      "3 0.94\n",
      "[0 0 0 0 0 0 0 0 0 0 0 0 0 0 0 1 1 1 1 1 1 1 1 1 1 1 1 1 1 1 1 1 1 1 1 1 2\n",
      " 2 2 2 2 2 2 2 2 2 2 2 2 2]\n"
     ]
    }
   ],
   "source": [
    "kfold = KFold(n_splits=3, shuffle=True)\n",
    "cv_accuracy = []\n",
    "n_iter = 0\n",
    "\n",
    "for train_index, test_index in kfold.split(iris.data):\n",
    "    # print(train_index)\n",
    "    # print('---------')\n",
    "    # print(test_index)\n",
    "    X_train, X_test = iris.data[train_index], iris.data[test_index]\n",
    "    y_train, y_test = iris.target[train_index], iris.target[test_index]\n",
    "    dt_clf.fit(X_train, y_train)\n",
    "    pred = dt_clf.predict(X_test)\n",
    "    n_iter += 1\n",
    "    accuracy = accuracy_score(y_test, pred)\n",
    "    cv_accuracy.append(accuracy)\n",
    "    print(n_iter, accuracy)\n",
    "    print(y_test)\n",
    "\n"
   ]
  },
  {
   "cell_type": "code",
   "execution_count": 29,
   "id": "12626e42-2a42-4720-936a-603b7d20775e",
   "metadata": {},
   "outputs": [],
   "source": [
    "from sklearn.model_selection import StratifiedKFold"
   ]
  },
  {
   "cell_type": "code",
   "execution_count": 30,
   "id": "cfc780d1-041a-457d-8aa3-edecf30caa78",
   "metadata": {},
   "outputs": [
    {
     "name": "stdout",
     "output_type": "stream",
     "text": [
      "1 0.98\n",
      "[0 0 0 0 0 0 0 0 0 0 0 0 0 0 0 0 0 1 1 1 1 1 1 1 1 1 1 1 1 1 1 1 1 1 2 2 2\n",
      " 2 2 2 2 2 2 2 2 2 2 2 2 2]\n",
      "2 0.94\n",
      "[0 0 0 0 0 0 0 0 0 0 0 0 0 0 0 0 0 1 1 1 1 1 1 1 1 1 1 1 1 1 1 1 1 2 2 2 2\n",
      " 2 2 2 2 2 2 2 2 2 2 2 2 2]\n",
      "3 0.98\n",
      "[0 0 0 0 0 0 0 0 0 0 0 0 0 0 0 0 1 1 1 1 1 1 1 1 1 1 1 1 1 1 1 1 1 2 2 2 2\n",
      " 2 2 2 2 2 2 2 2 2 2 2 2 2]\n"
     ]
    }
   ],
   "source": [
    "kfold = StratifiedKFold(n_splits=3, shuffle=False)\n",
    "cv_accuracy = []\n",
    "n_iter = 0\n",
    "\n",
    "for train_index, test_index in kfold.split(iris.data, iris.target):\n",
    "    # print(train_index)\n",
    "    # print('---------')\n",
    "    # print(test_index)\n",
    "    X_train, X_test = iris.data[train_index], iris.data[test_index]\n",
    "    y_train, y_test = iris.target[train_index], iris.target[test_index]\n",
    "    dt_clf.fit(X_train, y_train)\n",
    "    pred = dt_clf.predict(X_test)\n",
    "    n_iter += 1\n",
    "    accuracy = accuracy_score(y_test, pred)\n",
    "    cv_accuracy.append(accuracy)\n",
    "    print(n_iter, accuracy)\n",
    "    print(y_test)"
   ]
  },
  {
   "cell_type": "code",
   "execution_count": 44,
   "id": "294b377c-89f0-4183-80d7-2d5f69913b97",
   "metadata": {},
   "outputs": [
    {
     "name": "stdout",
     "output_type": "stream",
     "text": [
      "검증 데이터 분포 0    17\n",
      "1    17\n",
      "2    16\n",
      "Name: target, dtype: int64\n",
      "1 0.98\n",
      "검증 데이터 분포 0    17\n",
      "2    17\n",
      "1    16\n",
      "Name: target, dtype: int64\n",
      "2 0.94\n",
      "검증 데이터 분포 1    17\n",
      "2    17\n",
      "0    16\n",
      "Name: target, dtype: int64\n",
      "3 0.98\n"
     ]
    }
   ],
   "source": [
    "kfold = StratifiedKFold(n_splits=3, shuffle=False)\n",
    "cv_accuracy = []\n",
    "n_iter = 0\n",
    "\n",
    "iris = load_iris(as_frame=True)\n",
    "\n",
    "for train_index, test_index in kfold.split(iris.data, iris.target):\n",
    "    # print(train_index)\n",
    "    # print('---------')\n",
    "    # print(test_index)\n",
    "    X_train, X_test = iris.data.iloc[train_index], iris.data.iloc[test_index]\n",
    "    y_train, y_test = iris.target.iloc[train_index], iris.target.iloc[test_index]\n",
    "    \n",
    "    print('검증 데이터 분포', y_test.value_counts())\n",
    "    \n",
    "    dt_clf.fit(X_train, y_train)\n",
    "    pred = dt_clf.predict(X_test)\n",
    "    n_iter += 1\n",
    "    accuracy = accuracy_score(y_test, pred)\n",
    "    cv_accuracy.append(accuracy)\n",
    "    print(n_iter, accuracy)\n",
    "    # print(y_test)"
   ]
  },
  {
   "cell_type": "markdown",
   "id": "559c2e17-10fd-407e-9aa4-9ffecd8c9046",
   "metadata": {},
   "source": [
    "##### 교차검증을 간편하게 - cross_val_score()"
   ]
  },
  {
   "cell_type": "code",
   "execution_count": 45,
   "id": "5446264c-f31a-419f-9333-683b328fc062",
   "metadata": {},
   "outputs": [],
   "source": [
    "from sklearn.model_selection import cross_val_score"
   ]
  },
  {
   "cell_type": "code",
   "execution_count": 46,
   "id": "87c4acb8-d5bd-477c-ba76-49c98be6ddd4",
   "metadata": {},
   "outputs": [
    {
     "data": {
      "text/plain": [
       "array([0.98, 0.94, 0.98])"
      ]
     },
     "execution_count": 46,
     "metadata": {},
     "output_type": "execute_result"
    }
   ],
   "source": [
    "dt_clf = DecisionTreeClassifier(random_state=156)\n",
    "iris = load_iris()\n",
    "cross_val_score(dt_clf, iris.data, iris.target, cv=3)\n",
    "# (모델, x값, y값, 몇등분)"
   ]
  },
  {
   "cell_type": "markdown",
   "id": "256cbe8e-a284-439c-9b6c-e0577edb511d",
   "metadata": {
    "jp-MarkdownHeadingCollapsed": true,
    "tags": []
   },
   "source": [
    "#### GridSearchCV 교차 검증과 최적 하이퍼 파라미터 튜닝을 한번에\n",
    "\n",
    "하이퍼 파라미터(= 사람이 넣어주던 값)를 알아서 잘 넣어줌"
   ]
  },
  {
   "cell_type": "code",
   "execution_count": 47,
   "id": "1ac7af15-8b8e-4ced-ad8c-07310b3e0539",
   "metadata": {},
   "outputs": [],
   "source": [
    "grid_param = {\n",
    "    'max_depth' : [1,2,3],\n",
    "    'min_samples_split' : [2,3],\n",
    "}\n",
    "# ????\n",
    "# 파라미터값 미리 정의?\n",
    "# max_depth를 몇으로 줬을 때 제일 좋을지 모르니까 한번도 해보고 두번도 해보고 세번도 해보라고 정해줌\n"
   ]
  },
  {
   "cell_type": "code",
   "execution_count": 54,
   "id": "a29aa495-7087-4088-b53d-54364b5808dc",
   "metadata": {},
   "outputs": [],
   "source": [
    "from sklearn.model_selection import GridSearchCV, train_test_split\n",
    "import pandas as pd"
   ]
  },
  {
   "cell_type": "code",
   "execution_count": 50,
   "id": "5a2af4d9-19d4-466e-89b6-de0dae580cfd",
   "metadata": {},
   "outputs": [],
   "source": [
    "iris = load_iris()\n",
    "X_train, X_test, y_train, y_test = train_test_split(iris.data, iris.target, test_size=0.2, random_state=121)"
   ]
  },
  {
   "cell_type": "code",
   "execution_count": 51,
   "id": "229d9c95-8dd4-43d7-bae7-54e92a68d35a",
   "metadata": {},
   "outputs": [],
   "source": [
    "dtree = DecisionTreeClassifier()\n",
    "grid_dtree = GridSearchCV(dtree, grid_param, cv=3, refit=True)\n",
    "# GridSearchCV(\n",
    "#     estimator, <모델\n",
    "#     param_grid, <만들어놓은 파라미터값\n",
    "#     *,<??\n",
    "#     scoring=None, <???????\n",
    "#     n_jobs=None,\n",
    "#     refit=True,< 교차검증 경우의수 학습 다 해서 제일 결과가 좋았던 걸로 다시 돌려줌\n",
    "#     cv=None,  <몇등분?\n",
    "#     verbose=0,\n",
    "#     pre_dispatch='2*n_jobs',\n",
    "#     error_score=nan,\n",
    "#     return_train_score=False,\n",
    "# )"
   ]
  },
  {
   "cell_type": "code",
   "execution_count": 52,
   "id": "cccdd5a8-56ef-459c-87ee-173f4f8f7e53",
   "metadata": {},
   "outputs": [
    {
     "data": {
      "text/plain": [
       "GridSearchCV(cv=3, estimator=DecisionTreeClassifier(),\n",
       "             param_grid={'max_depth': [1, 2, 3], 'min_samples_split': [2, 3]})"
      ]
     },
     "execution_count": 52,
     "metadata": {},
     "output_type": "execute_result"
    }
   ],
   "source": [
    "grid_dtree.fit(X_train, y_train)\n",
    "# 학습시켜"
   ]
  },
  {
   "cell_type": "code",
   "execution_count": 53,
   "id": "880882a8-c455-49e2-98e6-16290fd09d59",
   "metadata": {
    "collapsed": true,
    "jupyter": {
     "outputs_hidden": true
    },
    "tags": []
   },
   "outputs": [
    {
     "data": {
      "text/plain": [
       "array([1, 2, 1, 0, 0, 1, 1, 1, 1, 2, 2, 1, 1, 0, 0, 2, 1, 0, 2, 0, 2, 2,\n",
       "       1, 1, 1, 1, 0, 0, 2, 2])"
      ]
     },
     "execution_count": 53,
     "metadata": {},
     "output_type": "execute_result"
    }
   ],
   "source": [
    "grid_dtree.predict(X_test)"
   ]
  },
  {
   "cell_type": "code",
   "execution_count": 56,
   "id": "3c94d3f6-a82d-4a5c-a24e-813198912bcb",
   "metadata": {},
   "outputs": [],
   "source": [
    "df = pd.DataFrame(grid_dtree.cv_results_)"
   ]
  },
  {
   "cell_type": "code",
   "execution_count": 57,
   "id": "7b934230-339d-4996-8ec3-08cb193f044a",
   "metadata": {},
   "outputs": [
    {
     "data": {
      "text/plain": [
       "Index(['mean_fit_time', 'std_fit_time', 'mean_score_time', 'std_score_time',\n",
       "       'param_max_depth', 'param_min_samples_split', 'params',\n",
       "       'split0_test_score', 'split1_test_score', 'split2_test_score',\n",
       "       'mean_test_score', 'std_test_score', 'rank_test_score'],\n",
       "      dtype='object')"
      ]
     },
     "execution_count": 57,
     "metadata": {},
     "output_type": "execute_result"
    }
   ],
   "source": [
    "df.columns"
   ]
  },
  {
   "cell_type": "code",
   "execution_count": 58,
   "id": "6127f223-565f-4818-9a71-e3a7ad35404d",
   "metadata": {},
   "outputs": [
    {
     "data": {
      "text/html": [
       "<div>\n",
       "<style scoped>\n",
       "    .dataframe tbody tr th:only-of-type {\n",
       "        vertical-align: middle;\n",
       "    }\n",
       "\n",
       "    .dataframe tbody tr th {\n",
       "        vertical-align: top;\n",
       "    }\n",
       "\n",
       "    .dataframe thead th {\n",
       "        text-align: right;\n",
       "    }\n",
       "</style>\n",
       "<table border=\"1\" class=\"dataframe\">\n",
       "  <thead>\n",
       "    <tr style=\"text-align: right;\">\n",
       "      <th></th>\n",
       "      <th>params</th>\n",
       "      <th>mean_test_score</th>\n",
       "      <th>rank_test_score</th>\n",
       "      <th>split0_test_score</th>\n",
       "      <th>split1_test_score</th>\n",
       "      <th>split2_test_score</th>\n",
       "    </tr>\n",
       "  </thead>\n",
       "  <tbody>\n",
       "    <tr>\n",
       "      <th>0</th>\n",
       "      <td>{'max_depth': 1, 'min_samples_split': 2}</td>\n",
       "      <td>0.700000</td>\n",
       "      <td>5</td>\n",
       "      <td>0.700</td>\n",
       "      <td>0.7</td>\n",
       "      <td>0.70</td>\n",
       "    </tr>\n",
       "    <tr>\n",
       "      <th>1</th>\n",
       "      <td>{'max_depth': 1, 'min_samples_split': 3}</td>\n",
       "      <td>0.700000</td>\n",
       "      <td>5</td>\n",
       "      <td>0.700</td>\n",
       "      <td>0.7</td>\n",
       "      <td>0.70</td>\n",
       "    </tr>\n",
       "    <tr>\n",
       "      <th>2</th>\n",
       "      <td>{'max_depth': 2, 'min_samples_split': 2}</td>\n",
       "      <td>0.958333</td>\n",
       "      <td>3</td>\n",
       "      <td>0.925</td>\n",
       "      <td>1.0</td>\n",
       "      <td>0.95</td>\n",
       "    </tr>\n",
       "    <tr>\n",
       "      <th>3</th>\n",
       "      <td>{'max_depth': 2, 'min_samples_split': 3}</td>\n",
       "      <td>0.958333</td>\n",
       "      <td>3</td>\n",
       "      <td>0.925</td>\n",
       "      <td>1.0</td>\n",
       "      <td>0.95</td>\n",
       "    </tr>\n",
       "    <tr>\n",
       "      <th>4</th>\n",
       "      <td>{'max_depth': 3, 'min_samples_split': 2}</td>\n",
       "      <td>0.975000</td>\n",
       "      <td>1</td>\n",
       "      <td>0.975</td>\n",
       "      <td>1.0</td>\n",
       "      <td>0.95</td>\n",
       "    </tr>\n",
       "    <tr>\n",
       "      <th>5</th>\n",
       "      <td>{'max_depth': 3, 'min_samples_split': 3}</td>\n",
       "      <td>0.975000</td>\n",
       "      <td>1</td>\n",
       "      <td>0.975</td>\n",
       "      <td>1.0</td>\n",
       "      <td>0.95</td>\n",
       "    </tr>\n",
       "  </tbody>\n",
       "</table>\n",
       "</div>"
      ],
      "text/plain": [
       "                                     params  mean_test_score  rank_test_score  \\\n",
       "0  {'max_depth': 1, 'min_samples_split': 2}         0.700000                5   \n",
       "1  {'max_depth': 1, 'min_samples_split': 3}         0.700000                5   \n",
       "2  {'max_depth': 2, 'min_samples_split': 2}         0.958333                3   \n",
       "3  {'max_depth': 2, 'min_samples_split': 3}         0.958333                3   \n",
       "4  {'max_depth': 3, 'min_samples_split': 2}         0.975000                1   \n",
       "5  {'max_depth': 3, 'min_samples_split': 3}         0.975000                1   \n",
       "\n",
       "   split0_test_score  split1_test_score  split2_test_score  \n",
       "0              0.700                0.7               0.70  \n",
       "1              0.700                0.7               0.70  \n",
       "2              0.925                1.0               0.95  \n",
       "3              0.925                1.0               0.95  \n",
       "4              0.975                1.0               0.95  \n",
       "5              0.975                1.0               0.95  "
      ]
     },
     "execution_count": 58,
     "metadata": {},
     "output_type": "execute_result"
    }
   ],
   "source": [
    "df[['params', 'mean_test_score', 'rank_test_score',\n",
    "       'split0_test_score', 'split1_test_score', 'split2_test_score']]"
   ]
  },
  {
   "cell_type": "code",
   "execution_count": 59,
   "id": "b64c7429-aae2-465e-84cd-4a3b64c16b92",
   "metadata": {},
   "outputs": [
    {
     "data": {
      "text/plain": [
       "{'max_depth': 3, 'min_samples_split': 2}"
      ]
     },
     "execution_count": 59,
     "metadata": {},
     "output_type": "execute_result"
    }
   ],
   "source": [
    "grid_dtree.best_params_"
   ]
  },
  {
   "cell_type": "code",
   "execution_count": 60,
   "id": "a58adb61-3551-4fcd-8b34-3d560afead41",
   "metadata": {},
   "outputs": [
    {
     "data": {
      "text/plain": [
       "0.975"
      ]
     },
     "execution_count": 60,
     "metadata": {},
     "output_type": "execute_result"
    }
   ],
   "source": [
    "grid_dtree.best_score_"
   ]
  },
  {
   "cell_type": "code",
   "execution_count": 65,
   "id": "3940a755-4a42-4cf7-969a-54a37f484342",
   "metadata": {},
   "outputs": [],
   "source": [
    "pred = grid_dtree.best_estimator_.predict(X_test)\n",
    "# 제일 좋았던 모델로 다시 학습시킨 예측값을 구함"
   ]
  },
  {
   "cell_type": "code",
   "execution_count": 66,
   "id": "d1aa00bb-5bba-4d26-98a8-b96f763881c2",
   "metadata": {},
   "outputs": [
    {
     "data": {
      "text/plain": [
       "0.9666666666666667"
      ]
     },
     "execution_count": 66,
     "metadata": {},
     "output_type": "execute_result"
    }
   ],
   "source": [
    "accuracy_score(y_test, pred)"
   ]
  },
  {
   "cell_type": "markdown",
   "id": "74940615-611a-4233-958b-b6b6a4282dc5",
   "metadata": {
    "tags": [],
    "toc-hr-collapsed": true
   },
   "source": [
    "### 2.5 데이터 전처리\n",
    "null값 처리 (제거 or 값을 메꾸기)\n",
    "사이킷런은 문자입력을 허용하지 않음. 다 숫자로 해야..\n",
    "주민번호나 아이디같은 거는 단순 식별하는 용도이면 굳이 데이터로 잇을 필요 없음 (인덱스 넣으면 되지?)"
   ]
  },
  {
   "cell_type": "markdown",
   "id": "023abe37-a6f8-430e-aa8f-a13fc37eb0b0",
   "metadata": {
    "jp-MarkdownHeadingCollapsed": true,
    "tags": [],
    "toc-hr-collapsed": true
   },
   "source": [
    "#### 데이터 인코딩"
   ]
  },
  {
   "cell_type": "markdown",
   "id": "0cc33e66-9420-4108-9064-63240c05a66b",
   "metadata": {},
   "source": [
    "##### 레이블 인코딩\n",
    "유니크값을 뽑아 일련번호를 매김. 매겨놓은 걸 딕셔너리라고 함.\n",
    "서울은 1번 부산은 2번.. 이런 식으로\n",
    "그리고 데이터에 서울이 있으면 딕셔너리를 보고 서울이 1번이구나, 해서 1번으로 바꿔주는 거\n",
    "레이블 딕셔너리는 실제로는 리스트로 되어있음\n"
   ]
  },
  {
   "cell_type": "code",
   "execution_count": 1,
   "id": "965c37b3-aa28-4a66-9a34-b6bd57a4a62f",
   "metadata": {},
   "outputs": [],
   "source": [
    "from sklearn.preprocessing import LabelEncoder"
   ]
  },
  {
   "cell_type": "code",
   "execution_count": 2,
   "id": "0156f73a-2f2e-4972-be5c-4625cc00832c",
   "metadata": {},
   "outputs": [],
   "source": [
    "items = ['TV', '냉장고', '전자레인지', '컴퓨터', '선풍기', '선풍기', '믹서', '믹서']\n",
    "encoder = LabelEncoder()\n",
    "encoder.fit(items)\n",
    "# 데이터를 정리해서 사전으로 만드는 작업\n",
    "lables = encoder.transform(items)\n",
    "# 만든 사전 보면서 데이터에 레이블 번호 붙여줌\n",
    "\n",
    "# 인코더를 지워버리면 다음에 쓰려면 못 씀여.. 사전을 지워버리는 느낌인가"
   ]
  },
  {
   "cell_type": "code",
   "execution_count": 3,
   "id": "22c12df8-a774-4d27-a2c0-ced6b38b3b3e",
   "metadata": {},
   "outputs": [
    {
     "data": {
      "text/plain": [
       "array([0, 1, 4, 5, 3, 3, 2, 2])"
      ]
     },
     "execution_count": 3,
     "metadata": {},
     "output_type": "execute_result"
    }
   ],
   "source": [
    "lables"
   ]
  },
  {
   "cell_type": "code",
   "execution_count": 4,
   "id": "0c945954-6cfa-4726-8c23-1c9dff299651",
   "metadata": {},
   "outputs": [
    {
     "data": {
      "text/plain": [
       "array([1])"
      ]
     },
     "execution_count": 4,
     "metadata": {},
     "output_type": "execute_result"
    }
   ],
   "source": [
    "encoder.transform(['냉장고'])"
   ]
  },
  {
   "cell_type": "code",
   "execution_count": 5,
   "id": "b586408b-c10c-491c-9d3b-096b570f9f77",
   "metadata": {},
   "outputs": [
    {
     "data": {
      "text/plain": [
       "array(['TV', '냉장고', '믹서', '선풍기', '전자레인지', '컴퓨터'], dtype='<U5')"
      ]
     },
     "execution_count": 5,
     "metadata": {},
     "output_type": "execute_result"
    }
   ],
   "source": [
    "encoder.classes_"
   ]
  },
  {
   "cell_type": "code",
   "execution_count": 7,
   "id": "206863ff-d0f5-4dfc-bced-19268b29d64a",
   "metadata": {},
   "outputs": [
    {
     "data": {
      "text/plain": [
       "array(['냉장고'], dtype='<U5')"
      ]
     },
     "execution_count": 7,
     "metadata": {},
     "output_type": "execute_result"
    }
   ],
   "source": [
    "encoder.inverse_transform([1])"
   ]
  },
  {
   "cell_type": "code",
   "execution_count": 9,
   "id": "db02adfa-960a-43e6-b379-c7cc6511c9de",
   "metadata": {},
   "outputs": [
    {
     "data": {
      "text/plain": [
       "array(['TV', '냉장고', '전자레인지', '컴퓨터', '선풍기', '선풍기', '믹서', '믹서'], dtype='<U5')"
      ]
     },
     "execution_count": 9,
     "metadata": {},
     "output_type": "execute_result"
    }
   ],
   "source": [
    "encoder.inverse_transform(lables)"
   ]
  },
  {
   "cell_type": "code",
   "execution_count": null,
   "id": "518ab563-012d-485c-af27-7ea129e22127",
   "metadata": {},
   "outputs": [],
   "source": []
  },
  {
   "cell_type": "markdown",
   "id": "657b2e62-ee76-49e4-9591-7b7d0f14c076",
   "metadata": {},
   "source": [
    "##### 원핫 인코딩\n",
    "레이블이 숫자로 돼버리면 큰 숫자를 더 중요하다고 생각해버리거나.. 할 수도 있음. 멍충멍충\n",
    "디시전트리는 상관 없지만 회귀분석쪽은 영향이 있을 수 있어서 다른 방법을 사용해야 함\n",
    "\n",
    "해당하는 것만 1을 넣고 나머지는 0을 넣어 인코딩\n",
    "데이터가 커지긴 함 ㅠㅠ 컬럼수만큼 늘어나야 하니까..\n",
    "컬럼이 만개면 인코딩만 만개x만개 네?\n",
    "1억갠가\n",
    "희소행렬요..?? 밀집행렬요????????????? 그게 먼데요\n",
    "뭐 또 해결할 방법이 있답니다\n"
   ]
  },
  {
   "cell_type": "code",
   "execution_count": 11,
   "id": "13bfa743-e5ef-4527-badb-98b23304fdac",
   "metadata": {},
   "outputs": [],
   "source": [
    "from sklearn.preprocessing import OneHotEncoder\n",
    "import numpy as np"
   ]
  },
  {
   "cell_type": "code",
   "execution_count": 18,
   "id": "db418a7b-78bc-44be-9e9a-36debd13362b",
   "metadata": {},
   "outputs": [],
   "source": [
    "items\n",
    "items_t = np.array(items).reshape(-1,1)\n",
    "items_l = [['TV'],\n",
    "       ['냉장고'],\n",
    "       ['전자레인지'],\n",
    "       ['컴퓨터'],\n",
    "       ['선풍기'],\n",
    "       ['선풍기'],\n",
    "       ['믹서'],\n",
    "       ['믹서']]\n",
    "# np.array(items) items를 array로 만들고\n",
    "# np.array(items).reshape(-1,1) 모양을 1,1로 만들"
   ]
  },
  {
   "cell_type": "code",
   "execution_count": 14,
   "id": "6f30df83-d51f-4660-ac9c-9f7bf006657c",
   "metadata": {},
   "outputs": [],
   "source": [
    "# oh_encoder = OneHotEncoder()\n",
    "# oh_encoder.fit(items)\n",
    "# oh_encoder.transform(items)\n",
    "\n",
    "# ValueError: Expected 2D array, got 1D array instead:\n",
    "# array=['TV' '냉장고' '전자레인지' '컴퓨터' '선풍기' '선풍기' '믹서' '믹서'].\n",
    "# Reshape your data either using array.reshape(-1, 1) if your data has a single feature or array.reshape(1, -1) if it contains a single sample.\n",
    "\n",
    "# 셰입이 안 맞는 거니 리셰입을 해라"
   ]
  },
  {
   "cell_type": "code",
   "execution_count": 26,
   "id": "c123b88d-47ae-4681-b097-a69540dbc213",
   "metadata": {},
   "outputs": [
    {
     "data": {
      "text/plain": [
       "array([[1., 0., 0., 0., 0., 0.],\n",
       "       [0., 1., 0., 0., 0., 0.],\n",
       "       [0., 0., 0., 0., 1., 0.],\n",
       "       [0., 0., 0., 0., 0., 1.],\n",
       "       [0., 0., 0., 1., 0., 0.],\n",
       "       [0., 0., 0., 1., 0., 0.],\n",
       "       [0., 0., 1., 0., 0., 0.],\n",
       "       [0., 0., 1., 0., 0., 0.]])"
      ]
     },
     "execution_count": 26,
     "metadata": {},
     "output_type": "execute_result"
    }
   ],
   "source": [
    "oh_encoder = OneHotEncoder()\n",
    "oh_encoder.fit(items_l)\n",
    "result = oh_encoder.transform(items_l)\n",
    "result.toarray()"
   ]
  },
  {
   "cell_type": "code",
   "execution_count": 25,
   "id": "7e033f30-252d-482c-af7c-39a740bcf65f",
   "metadata": {},
   "outputs": [
    {
     "data": {
      "text/plain": [
       "<8x6 sparse matrix of type '<class 'numpy.float64'>'\n",
       "\twith 8 stored elements in Compressed Sparse Row format>"
      ]
     },
     "execution_count": 25,
     "metadata": {},
     "output_type": "execute_result"
    }
   ],
   "source": [
    "#result만 찍으면 result의 정보?가 나옴. 그래서 .toarray() 붙여서 확인\n",
    "# <8x6 sparse matrix of type '<class 'numpy.float64'>'\n",
    "# \twith 8 stored elements in Compressed Sparse Row format>"
   ]
  },
  {
   "cell_type": "code",
   "execution_count": null,
   "id": "ffc032a2-028a-4587-bb70-cb362641b56b",
   "metadata": {
    "tags": []
   },
   "outputs": [],
   "source": [
    "# items\n",
    "# items_l = [['TV'],\n",
    "#        ['냉장고'],\n",
    "#        ['전자레인지'],\n",
    "#        ['컴퓨터'],\n",
    "#        ['선풍기'],\n",
    "#        ['선풍기'],\n",
    "#        ['믹서'],\n",
    "#        ['믹서']]\n",
    "# items_l처럼 바로 리스트로 나온 걸 넣어서 써도 되고\n",
    "# items_t = np.array(items).reshape(-1,1) 처럼 변환한 걸 바로 items_t에 넣어서 써도 되고"
   ]
  },
  {
   "cell_type": "code",
   "execution_count": 20,
   "id": "f2b5944b-9f1b-4ec4-b1ab-5298008407b9",
   "metadata": {},
   "outputs": [
    {
     "data": {
      "text/plain": [
       "[array(['TV', '냉장고', '믹서', '선풍기', '전자레인지', '컴퓨터'], dtype=object)]"
      ]
     },
     "execution_count": 20,
     "metadata": {},
     "output_type": "execute_result"
    }
   ],
   "source": [
    "oh_encoder.categories_"
   ]
  },
  {
   "cell_type": "code",
   "execution_count": 23,
   "id": "6975607a-fc82-4203-a0d9-be96794fcfdd",
   "metadata": {},
   "outputs": [
    {
     "data": {
      "text/plain": [
       "array([['냉장고']], dtype=object)"
      ]
     },
     "execution_count": 23,
     "metadata": {},
     "output_type": "execute_result"
    }
   ],
   "source": [
    "oh_encoder.inverse_transform([[0., 1., 0., 0., 0., 0.]])\n",
    "# 기본 데이터가 float라서 1. 0. 일케 나옴.. 내가 찍을 땐 그냥 1, 0 으로 찍어도 알아서 실수라고 생각해준댜"
   ]
  },
  {
   "cell_type": "code",
   "execution_count": 24,
   "id": "385e9e33-e941-4057-a9ca-3b2a0fd62384",
   "metadata": {},
   "outputs": [
    {
     "data": {
      "text/plain": [
       "array([[0., 1., 0., 0., 0., 0.]])"
      ]
     },
     "execution_count": 24,
     "metadata": {},
     "output_type": "execute_result"
    }
   ],
   "source": [
    "oh_encoder.transform([['냉장고']]).toarray()"
   ]
  },
  {
   "cell_type": "code",
   "execution_count": 27,
   "id": "e44624eb-2f3d-4de1-bca4-c4cc05f6d616",
   "metadata": {},
   "outputs": [],
   "source": [
    "# 판다스에서 원핫인코딩 쉽게 하는 법\n",
    "# 근디 겟더미즈는 레이블만 만들어지고 다시 쓰거나 할 수 없으니까 웬만하면 원핫인코더로 하는게 낫것다\n",
    "import pandas as pd"
   ]
  },
  {
   "cell_type": "code",
   "execution_count": 28,
   "id": "112d9403-8084-47b0-956e-c9bc467a883d",
   "metadata": {},
   "outputs": [],
   "source": [
    "df = pd.DataFrame({'item' : ['TV', '냉장고', '전자레인지', '컴퓨터', '선풍기', '선풍기', '믹서', '믹서']})"
   ]
  },
  {
   "cell_type": "code",
   "execution_count": 29,
   "id": "f3a78b43-0351-4a2b-ac47-957d72d04780",
   "metadata": {},
   "outputs": [
    {
     "data": {
      "text/html": [
       "<div>\n",
       "<style scoped>\n",
       "    .dataframe tbody tr th:only-of-type {\n",
       "        vertical-align: middle;\n",
       "    }\n",
       "\n",
       "    .dataframe tbody tr th {\n",
       "        vertical-align: top;\n",
       "    }\n",
       "\n",
       "    .dataframe thead th {\n",
       "        text-align: right;\n",
       "    }\n",
       "</style>\n",
       "<table border=\"1\" class=\"dataframe\">\n",
       "  <thead>\n",
       "    <tr style=\"text-align: right;\">\n",
       "      <th></th>\n",
       "      <th>TV</th>\n",
       "      <th>냉장고</th>\n",
       "      <th>믹서</th>\n",
       "      <th>선풍기</th>\n",
       "      <th>전자레인지</th>\n",
       "      <th>컴퓨터</th>\n",
       "    </tr>\n",
       "  </thead>\n",
       "  <tbody>\n",
       "    <tr>\n",
       "      <th>0</th>\n",
       "      <td>1</td>\n",
       "      <td>0</td>\n",
       "      <td>0</td>\n",
       "      <td>0</td>\n",
       "      <td>0</td>\n",
       "      <td>0</td>\n",
       "    </tr>\n",
       "    <tr>\n",
       "      <th>1</th>\n",
       "      <td>0</td>\n",
       "      <td>1</td>\n",
       "      <td>0</td>\n",
       "      <td>0</td>\n",
       "      <td>0</td>\n",
       "      <td>0</td>\n",
       "    </tr>\n",
       "    <tr>\n",
       "      <th>2</th>\n",
       "      <td>0</td>\n",
       "      <td>0</td>\n",
       "      <td>0</td>\n",
       "      <td>0</td>\n",
       "      <td>1</td>\n",
       "      <td>0</td>\n",
       "    </tr>\n",
       "    <tr>\n",
       "      <th>3</th>\n",
       "      <td>0</td>\n",
       "      <td>0</td>\n",
       "      <td>0</td>\n",
       "      <td>0</td>\n",
       "      <td>0</td>\n",
       "      <td>1</td>\n",
       "    </tr>\n",
       "    <tr>\n",
       "      <th>4</th>\n",
       "      <td>0</td>\n",
       "      <td>0</td>\n",
       "      <td>0</td>\n",
       "      <td>1</td>\n",
       "      <td>0</td>\n",
       "      <td>0</td>\n",
       "    </tr>\n",
       "    <tr>\n",
       "      <th>5</th>\n",
       "      <td>0</td>\n",
       "      <td>0</td>\n",
       "      <td>0</td>\n",
       "      <td>1</td>\n",
       "      <td>0</td>\n",
       "      <td>0</td>\n",
       "    </tr>\n",
       "    <tr>\n",
       "      <th>6</th>\n",
       "      <td>0</td>\n",
       "      <td>0</td>\n",
       "      <td>1</td>\n",
       "      <td>0</td>\n",
       "      <td>0</td>\n",
       "      <td>0</td>\n",
       "    </tr>\n",
       "    <tr>\n",
       "      <th>7</th>\n",
       "      <td>0</td>\n",
       "      <td>0</td>\n",
       "      <td>1</td>\n",
       "      <td>0</td>\n",
       "      <td>0</td>\n",
       "      <td>0</td>\n",
       "    </tr>\n",
       "  </tbody>\n",
       "</table>\n",
       "</div>"
      ],
      "text/plain": [
       "   TV  냉장고  믹서  선풍기  전자레인지  컴퓨터\n",
       "0   1    0   0    0      0    0\n",
       "1   0    1   0    0      0    0\n",
       "2   0    0   0    0      1    0\n",
       "3   0    0   0    0      0    1\n",
       "4   0    0   0    1      0    0\n",
       "5   0    0   0    1      0    0\n",
       "6   0    0   1    0      0    0\n",
       "7   0    0   1    0      0    0"
      ]
     },
     "execution_count": 29,
     "metadata": {},
     "output_type": "execute_result"
    }
   ],
   "source": [
    "pd.get_dummies(df['item'])\n",
    "# get_dummies()가 레이블 만들어주는 건가보당"
   ]
  },
  {
   "cell_type": "code",
   "execution_count": null,
   "id": "0c64393d-6f63-4c73-b4a6-749ded9b0384",
   "metadata": {},
   "outputs": [],
   "source": []
  },
  {
   "cell_type": "markdown",
   "id": "fa32f0e9-5457-4e59-9ea8-7ed3a01ead0a",
   "metadata": {
    "jp-MarkdownHeadingCollapsed": true,
    "tags": []
   },
   "source": [
    "#### 피처 스케일링과 정규화\n",
    "\n",
    "가우....?? 시안???\n",
    "단위 맞춰주는거\n",
    "근데 왜 0~1 사이여\n",
    "\n"
   ]
  },
  {
   "cell_type": "code",
   "execution_count": null,
   "id": "0f897b3a-cd7c-45b8-82ec-1686b9891254",
   "metadata": {},
   "outputs": [],
   "source": []
  },
  {
   "cell_type": "markdown",
   "id": "a7b4fe19-53db-49a7-abf2-f4ad991b7c60",
   "metadata": {
    "jp-MarkdownHeadingCollapsed": true,
    "tags": []
   },
   "source": [
    "#### Standard Scaler\n",
    "평균0 분산1인 값으로 만들어줌..?"
   ]
  },
  {
   "cell_type": "code",
   "execution_count": 31,
   "id": "362f378a-3aa5-4821-b9f9-78945cc3a8d0",
   "metadata": {},
   "outputs": [],
   "source": [
    "from sklearn.datasets import load_iris\n"
   ]
  },
  {
   "cell_type": "code",
   "execution_count": 32,
   "id": "c01d5052-31a2-429d-954c-4c568cdf184d",
   "metadata": {},
   "outputs": [
    {
     "data": {
      "text/html": [
       "<div>\n",
       "<style scoped>\n",
       "    .dataframe tbody tr th:only-of-type {\n",
       "        vertical-align: middle;\n",
       "    }\n",
       "\n",
       "    .dataframe tbody tr th {\n",
       "        vertical-align: top;\n",
       "    }\n",
       "\n",
       "    .dataframe thead th {\n",
       "        text-align: right;\n",
       "    }\n",
       "</style>\n",
       "<table border=\"1\" class=\"dataframe\">\n",
       "  <thead>\n",
       "    <tr style=\"text-align: right;\">\n",
       "      <th></th>\n",
       "      <th>sepal length (cm)</th>\n",
       "      <th>sepal width (cm)</th>\n",
       "      <th>petal length (cm)</th>\n",
       "      <th>petal width (cm)</th>\n",
       "    </tr>\n",
       "  </thead>\n",
       "  <tbody>\n",
       "    <tr>\n",
       "      <th>0</th>\n",
       "      <td>5.1</td>\n",
       "      <td>3.5</td>\n",
       "      <td>1.4</td>\n",
       "      <td>0.2</td>\n",
       "    </tr>\n",
       "    <tr>\n",
       "      <th>1</th>\n",
       "      <td>4.9</td>\n",
       "      <td>3.0</td>\n",
       "      <td>1.4</td>\n",
       "      <td>0.2</td>\n",
       "    </tr>\n",
       "    <tr>\n",
       "      <th>2</th>\n",
       "      <td>4.7</td>\n",
       "      <td>3.2</td>\n",
       "      <td>1.3</td>\n",
       "      <td>0.2</td>\n",
       "    </tr>\n",
       "    <tr>\n",
       "      <th>3</th>\n",
       "      <td>4.6</td>\n",
       "      <td>3.1</td>\n",
       "      <td>1.5</td>\n",
       "      <td>0.2</td>\n",
       "    </tr>\n",
       "    <tr>\n",
       "      <th>4</th>\n",
       "      <td>5.0</td>\n",
       "      <td>3.6</td>\n",
       "      <td>1.4</td>\n",
       "      <td>0.2</td>\n",
       "    </tr>\n",
       "    <tr>\n",
       "      <th>...</th>\n",
       "      <td>...</td>\n",
       "      <td>...</td>\n",
       "      <td>...</td>\n",
       "      <td>...</td>\n",
       "    </tr>\n",
       "    <tr>\n",
       "      <th>145</th>\n",
       "      <td>6.7</td>\n",
       "      <td>3.0</td>\n",
       "      <td>5.2</td>\n",
       "      <td>2.3</td>\n",
       "    </tr>\n",
       "    <tr>\n",
       "      <th>146</th>\n",
       "      <td>6.3</td>\n",
       "      <td>2.5</td>\n",
       "      <td>5.0</td>\n",
       "      <td>1.9</td>\n",
       "    </tr>\n",
       "    <tr>\n",
       "      <th>147</th>\n",
       "      <td>6.5</td>\n",
       "      <td>3.0</td>\n",
       "      <td>5.2</td>\n",
       "      <td>2.0</td>\n",
       "    </tr>\n",
       "    <tr>\n",
       "      <th>148</th>\n",
       "      <td>6.2</td>\n",
       "      <td>3.4</td>\n",
       "      <td>5.4</td>\n",
       "      <td>2.3</td>\n",
       "    </tr>\n",
       "    <tr>\n",
       "      <th>149</th>\n",
       "      <td>5.9</td>\n",
       "      <td>3.0</td>\n",
       "      <td>5.1</td>\n",
       "      <td>1.8</td>\n",
       "    </tr>\n",
       "  </tbody>\n",
       "</table>\n",
       "<p>150 rows × 4 columns</p>\n",
       "</div>"
      ],
      "text/plain": [
       "     sepal length (cm)  sepal width (cm)  petal length (cm)  petal width (cm)\n",
       "0                  5.1               3.5                1.4               0.2\n",
       "1                  4.9               3.0                1.4               0.2\n",
       "2                  4.7               3.2                1.3               0.2\n",
       "3                  4.6               3.1                1.5               0.2\n",
       "4                  5.0               3.6                1.4               0.2\n",
       "..                 ...               ...                ...               ...\n",
       "145                6.7               3.0                5.2               2.3\n",
       "146                6.3               2.5                5.0               1.9\n",
       "147                6.5               3.0                5.2               2.0\n",
       "148                6.2               3.4                5.4               2.3\n",
       "149                5.9               3.0                5.1               1.8\n",
       "\n",
       "[150 rows x 4 columns]"
      ]
     },
     "execution_count": 32,
     "metadata": {},
     "output_type": "execute_result"
    }
   ],
   "source": [
    "iris = load_iris(as_frame=True)\n",
    "iris.data"
   ]
  },
  {
   "cell_type": "code",
   "execution_count": 33,
   "id": "907f4227-2ed6-4590-8a03-c4715b44d2de",
   "metadata": {},
   "outputs": [
    {
     "data": {
      "text/plain": [
       "sepal length (cm)    5.843333\n",
       "sepal width (cm)     3.057333\n",
       "petal length (cm)    3.758000\n",
       "petal width (cm)     1.199333\n",
       "dtype: float64"
      ]
     },
     "execution_count": 33,
     "metadata": {},
     "output_type": "execute_result"
    }
   ],
   "source": [
    "iris.data.mean()\n",
    "# iris.data의 평균"
   ]
  },
  {
   "cell_type": "code",
   "execution_count": 34,
   "id": "842634cc-e074-45d3-9cd9-ea67342f8b3d",
   "metadata": {},
   "outputs": [
    {
     "data": {
      "text/plain": [
       "sepal length (cm)    0.685694\n",
       "sepal width (cm)     0.189979\n",
       "petal length (cm)    3.116278\n",
       "petal width (cm)     0.581006\n",
       "dtype: float64"
      ]
     },
     "execution_count": 34,
     "metadata": {},
     "output_type": "execute_result"
    }
   ],
   "source": [
    "iris.data.var()\n",
    "# iris.data의 분산"
   ]
  },
  {
   "cell_type": "code",
   "execution_count": 35,
   "id": "bfdaccb5-f502-4f33-9e92-e504cc1d5e1a",
   "metadata": {},
   "outputs": [],
   "source": [
    "from sklearn.preprocessing import StandardScaler"
   ]
  },
  {
   "cell_type": "code",
   "execution_count": 36,
   "id": "77ef9c38-f466-4dc0-a886-7bbe2e57ed19",
   "metadata": {},
   "outputs": [],
   "source": [
    "# standard scaler 평균 1, 분산0으로 만들어주는거\n",
    "scaler = StandardScaler()\n",
    "scaler.fit(iris.data)\n",
    "iris_scaled = scaler.transform(iris.data)"
   ]
  },
  {
   "cell_type": "code",
   "execution_count": 39,
   "id": "66b856d4-efd9-4e35-b2f3-8503389b7c1c",
   "metadata": {},
   "outputs": [],
   "source": [
    "iris_df = pd.DataFrame(iris_scaled)"
   ]
  },
  {
   "cell_type": "code",
   "execution_count": 50,
   "id": "f56ef9e3-f988-441f-8358-c2bb77ab4a36",
   "metadata": {},
   "outputs": [
    {
     "data": {
      "text/plain": [
       "0   -0.0\n",
       "1   -0.0\n",
       "2   -0.0\n",
       "3   -0.0\n",
       "dtype: float64"
      ]
     },
     "execution_count": 50,
     "metadata": {},
     "output_type": "execute_result"
    }
   ],
   "source": [
    "iris_df.mean().round(14)\n",
    "# 평균을 0으로 만들어 준다고 하는데 완전 0은 아니고 0에 거의 가까운 수.. 소수점 반올림 하면 0으로 보임여 거의 14째자리까지 0이넴"
   ]
  },
  {
   "cell_type": "code",
   "execution_count": 51,
   "id": "10047127-f9df-454d-8d7f-ae25ef8d7c62",
   "metadata": {},
   "outputs": [
    {
     "data": {
      "text/plain": [
       "0    1.006711\n",
       "1    1.006711\n",
       "2    1.006711\n",
       "3    1.006711\n",
       "dtype: float64"
      ]
     },
     "execution_count": 51,
     "metadata": {},
     "output_type": "execute_result"
    }
   ],
   "source": [
    "iris_df.var()"
   ]
  },
  {
   "cell_type": "markdown",
   "id": "bcecc213-9779-4343-b002-f25276c5c61e",
   "metadata": {
    "jp-MarkdownHeadingCollapsed": true,
    "tags": []
   },
   "source": [
    "#### MinMax Scaler\n",
    "데이터 값을 0과 1 사이의 범위로 변환"
   ]
  },
  {
   "cell_type": "code",
   "execution_count": 52,
   "id": "4bab1d48-380b-4662-b275-726e1cd3abb6",
   "metadata": {},
   "outputs": [],
   "source": [
    "from sklearn.preprocessing import MinMaxScaler"
   ]
  },
  {
   "cell_type": "code",
   "execution_count": 53,
   "id": "8827d17e-a6a5-4a00-aa71-5254b779b0fd",
   "metadata": {},
   "outputs": [],
   "source": [
    "scaler = MinMaxScaler()\n",
    "scaler.fit(iris.data)\n",
    "iris_scaled = scaler.transform(iris.data)"
   ]
  },
  {
   "cell_type": "code",
   "execution_count": 57,
   "id": "d84b16e9-8532-44a6-a8e3-0800f72d0e4d",
   "metadata": {},
   "outputs": [
    {
     "data": {
      "text/plain": [
       "(0    0.0\n",
       " 1    0.0\n",
       " 2    0.0\n",
       " 3    0.0\n",
       " dtype: float64,\n",
       " 0    1.0\n",
       " 1    1.0\n",
       " 2    1.0\n",
       " 3    1.0\n",
       " dtype: float64)"
      ]
     },
     "execution_count": 57,
     "metadata": {},
     "output_type": "execute_result"
    }
   ],
   "source": [
    "iris_df = pd.DataFrame(iris_scaled)\n",
    "iris_df.min(), iris_df.max()\n",
    "# 미니멈0 맥시멈 1로 맞춰짐"
   ]
  },
  {
   "cell_type": "code",
   "execution_count": 58,
   "id": "92de90f8-f036-4262-8f88-c2172e6af722",
   "metadata": {},
   "outputs": [
    {
     "data": {
      "text/plain": [
       "(0    1.0\n",
       " 1    1.0\n",
       " 2    1.0\n",
       " 3    1.0\n",
       " dtype: float64,\n",
       " sepal length (cm)    7.9\n",
       " sepal width (cm)     4.4\n",
       " petal length (cm)    6.9\n",
       " petal width (cm)     2.5\n",
       " dtype: float64)"
      ]
     },
     "execution_count": 58,
     "metadata": {},
     "output_type": "execute_result"
    }
   ],
   "source": [
    "iris_df.max(), iris.data.max()"
   ]
  },
  {
   "cell_type": "markdown",
   "id": "fc03241e-1d73-498e-a8c4-40c21766eeb9",
   "metadata": {
    "tags": []
   },
   "source": [
    "#### 학습데이터와 테스트데이터의 스케일링 변환 시 유의점\n"
   ]
  },
  {
   "cell_type": "code",
   "execution_count": 59,
   "id": "3f4e9101-8351-4a54-b9d3-f4b54a40b6b7",
   "metadata": {
    "collapsed": true,
    "jupyter": {
     "outputs_hidden": true
    },
    "tags": []
   },
   "outputs": [
    {
     "data": {
      "text/plain": [
       "array([[ 0],\n",
       "       [ 1],\n",
       "       [ 2],\n",
       "       [ 3],\n",
       "       [ 4],\n",
       "       [ 5],\n",
       "       [ 6],\n",
       "       [ 7],\n",
       "       [ 8],\n",
       "       [ 9],\n",
       "       [10]])"
      ]
     },
     "execution_count": 59,
     "metadata": {},
     "output_type": "execute_result"
    }
   ],
   "source": [
    "train_array = np.arange(0,11).reshape(-1,1)\n",
    "train_array"
   ]
  },
  {
   "cell_type": "code",
   "execution_count": 60,
   "id": "d87011ce-b93e-4a42-b70a-faf5cd8fe83c",
   "metadata": {
    "collapsed": true,
    "jupyter": {
     "outputs_hidden": true
    },
    "tags": []
   },
   "outputs": [
    {
     "data": {
      "text/plain": [
       "array([[0],\n",
       "       [1],\n",
       "       [2],\n",
       "       [3],\n",
       "       [4],\n",
       "       [5]])"
      ]
     },
     "execution_count": 60,
     "metadata": {},
     "output_type": "execute_result"
    }
   ],
   "source": [
    "test_array = np.arange(0,6).reshape(-1,1)\n",
    "test_array"
   ]
  },
  {
   "cell_type": "code",
   "execution_count": 61,
   "id": "155c0cd9-450f-40c7-8354-aed7b4e83217",
   "metadata": {},
   "outputs": [],
   "source": [
    "scaler = MinMaxScaler()\n",
    "scaler.fit(train_array)\n",
    "train_array = scaler.transform(train_array)"
   ]
  },
  {
   "cell_type": "code",
   "execution_count": 62,
   "id": "8361939a-7bec-4120-afe4-a299d131df85",
   "metadata": {
    "collapsed": true,
    "jupyter": {
     "outputs_hidden": true
    },
    "tags": []
   },
   "outputs": [
    {
     "data": {
      "text/plain": [
       "array([[0. ],\n",
       "       [0.1],\n",
       "       [0.2],\n",
       "       [0.3],\n",
       "       [0.4],\n",
       "       [0.5],\n",
       "       [0.6],\n",
       "       [0.7],\n",
       "       [0.8],\n",
       "       [0.9],\n",
       "       [1. ]])"
      ]
     },
     "execution_count": 62,
     "metadata": {},
     "output_type": "execute_result"
    }
   ],
   "source": [
    "train_array"
   ]
  },
  {
   "cell_type": "code",
   "execution_count": 65,
   "id": "2bf2fd9a-b86c-4058-9da9-fc9cb9c8a777",
   "metadata": {},
   "outputs": [],
   "source": [
    "# scaler.fit(test_array)\n",
    "test_array = scaler.transform(test_array)"
   ]
  },
  {
   "cell_type": "code",
   "execution_count": 67,
   "id": "bf34e70a-1f3a-4c3d-b577-7213ca945ac4",
   "metadata": {
    "tags": []
   },
   "outputs": [
    {
     "data": {
      "text/plain": [
       "array([[0.  ],\n",
       "       [0.04],\n",
       "       [0.08],\n",
       "       [0.12],\n",
       "       [0.16],\n",
       "       [0.2 ]])"
      ]
     },
     "execution_count": 67,
     "metadata": {},
     "output_type": "execute_result"
    }
   ],
   "source": [
    "test_array"
   ]
  },
  {
   "cell_type": "code",
   "execution_count": null,
   "id": "3bc8422b-d9bd-4c80-8846-cbfa643668a7",
   "metadata": {},
   "outputs": [],
   "source": [
    "????????????????????????????????????????????????????????????"
   ]
  },
  {
   "cell_type": "markdown",
   "id": "b2fbe129-c873-42b2-92fd-4971adef0fb0",
   "metadata": {
    "tags": []
   },
   "source": [
    "### 2.6 사이킷런으로 수행하는 타이타닉 생존자 예측"
   ]
  },
  {
   "cell_type": "code",
   "execution_count": 1,
   "id": "5b412b4d-7f4d-40ae-8027-74512d886b64",
   "metadata": {},
   "outputs": [],
   "source": [
    "import pandas as pd\n",
    "import numpy as np\n",
    "import matplotlib.pyplot as plt\n",
    "import seaborn as sns\n"
   ]
  },
  {
   "cell_type": "code",
   "execution_count": 2,
   "id": "6b5fba50-1bc7-4e00-b687-60d26bf19e73",
   "metadata": {},
   "outputs": [],
   "source": [
    "df = pd.read_csv('titanic.csv')"
   ]
  },
  {
   "cell_type": "code",
   "execution_count": 3,
   "id": "0955429e-5b5e-40c9-9e6f-29d55f3fb75a",
   "metadata": {},
   "outputs": [
    {
     "data": {
      "text/html": [
       "<div>\n",
       "<style scoped>\n",
       "    .dataframe tbody tr th:only-of-type {\n",
       "        vertical-align: middle;\n",
       "    }\n",
       "\n",
       "    .dataframe tbody tr th {\n",
       "        vertical-align: top;\n",
       "    }\n",
       "\n",
       "    .dataframe thead th {\n",
       "        text-align: right;\n",
       "    }\n",
       "</style>\n",
       "<table border=\"1\" class=\"dataframe\">\n",
       "  <thead>\n",
       "    <tr style=\"text-align: right;\">\n",
       "      <th></th>\n",
       "      <th>PassengerId</th>\n",
       "      <th>Survived</th>\n",
       "      <th>Pclass</th>\n",
       "      <th>Name</th>\n",
       "      <th>Sex</th>\n",
       "      <th>Age</th>\n",
       "      <th>SibSp</th>\n",
       "      <th>Parch</th>\n",
       "      <th>Ticket</th>\n",
       "      <th>Fare</th>\n",
       "      <th>Cabin</th>\n",
       "      <th>Embarked</th>\n",
       "    </tr>\n",
       "  </thead>\n",
       "  <tbody>\n",
       "    <tr>\n",
       "      <th>303</th>\n",
       "      <td>304</td>\n",
       "      <td>1</td>\n",
       "      <td>2</td>\n",
       "      <td>Keane, Miss. Nora A</td>\n",
       "      <td>female</td>\n",
       "      <td>NaN</td>\n",
       "      <td>0</td>\n",
       "      <td>0</td>\n",
       "      <td>226593</td>\n",
       "      <td>12.35</td>\n",
       "      <td>E101</td>\n",
       "      <td>Q</td>\n",
       "    </tr>\n",
       "    <tr>\n",
       "      <th>131</th>\n",
       "      <td>132</td>\n",
       "      <td>0</td>\n",
       "      <td>3</td>\n",
       "      <td>Coelho, Mr. Domingos Fernandeo</td>\n",
       "      <td>male</td>\n",
       "      <td>20.0</td>\n",
       "      <td>0</td>\n",
       "      <td>0</td>\n",
       "      <td>SOTON/O.Q. 3101307</td>\n",
       "      <td>7.05</td>\n",
       "      <td>NaN</td>\n",
       "      <td>S</td>\n",
       "    </tr>\n",
       "    <tr>\n",
       "      <th>260</th>\n",
       "      <td>261</td>\n",
       "      <td>0</td>\n",
       "      <td>3</td>\n",
       "      <td>Smith, Mr. Thomas</td>\n",
       "      <td>male</td>\n",
       "      <td>NaN</td>\n",
       "      <td>0</td>\n",
       "      <td>0</td>\n",
       "      <td>384461</td>\n",
       "      <td>7.75</td>\n",
       "      <td>NaN</td>\n",
       "      <td>Q</td>\n",
       "    </tr>\n",
       "  </tbody>\n",
       "</table>\n",
       "</div>"
      ],
      "text/plain": [
       "     PassengerId  Survived  Pclass                            Name     Sex  \\\n",
       "303          304         1       2             Keane, Miss. Nora A  female   \n",
       "131          132         0       3  Coelho, Mr. Domingos Fernandeo    male   \n",
       "260          261         0       3               Smith, Mr. Thomas    male   \n",
       "\n",
       "      Age  SibSp  Parch              Ticket   Fare Cabin Embarked  \n",
       "303   NaN      0      0              226593  12.35  E101        Q  \n",
       "131  20.0      0      0  SOTON/O.Q. 3101307   7.05   NaN        S  \n",
       "260   NaN      0      0              384461   7.75   NaN        Q  "
      ]
     },
     "execution_count": 3,
     "metadata": {},
     "output_type": "execute_result"
    }
   ],
   "source": [
    "df.sample(3)"
   ]
  },
  {
   "cell_type": "code",
   "execution_count": 4,
   "id": "1872a203-44cd-4534-b6a7-8f3fd6da32a0",
   "metadata": {},
   "outputs": [
    {
     "name": "stdout",
     "output_type": "stream",
     "text": [
      "<class 'pandas.core.frame.DataFrame'>\n",
      "RangeIndex: 891 entries, 0 to 890\n",
      "Data columns (total 12 columns):\n",
      " #   Column       Non-Null Count  Dtype  \n",
      "---  ------       --------------  -----  \n",
      " 0   PassengerId  891 non-null    int64  \n",
      " 1   Survived     891 non-null    int64  \n",
      " 2   Pclass       891 non-null    int64  \n",
      " 3   Name         891 non-null    object \n",
      " 4   Sex          891 non-null    object \n",
      " 5   Age          714 non-null    float64\n",
      " 6   SibSp        891 non-null    int64  \n",
      " 7   Parch        891 non-null    int64  \n",
      " 8   Ticket       891 non-null    object \n",
      " 9   Fare         891 non-null    float64\n",
      " 10  Cabin        204 non-null    object \n",
      " 11  Embarked     889 non-null    object \n",
      "dtypes: float64(2), int64(5), object(5)\n",
      "memory usage: 83.7+ KB\n"
     ]
    }
   ],
   "source": [
    "df.info()"
   ]
  },
  {
   "cell_type": "raw",
   "id": "96af0336-30c4-4f3d-aa97-7ec256725e79",
   "metadata": {},
   "source": [
    "<class 'pandas.core.frame.DataFrame'>\n",
    "RangeIndex: 891 entries, 0 to 890\n",
    "Data columns (total 12 columns):\n",
    " #   Column       Non-Null Count  Dtype  \n",
    "---  ------       --------------  -----  \n",
    " 0   PassengerId  891 non-null    int64  \n",
    " 1   Survived     891 non-null    int64  \n",
    " 2   Pclass       891 non-null    int64  \n",
    " 3   Name         891 non-null    object \n",
    " 4   Sex          891 non-null    object \n",
    " 5   Age          714 non-null    float64    <-------- 나이는 버릴 수도 없고 임의의 값을 넣을 수도 없으니 평균값을 넣자\n",
    " 6   SibSp        891 non-null    int64  \n",
    " 7   Parch        891 non-null    int64  \n",
    " 8   Ticket       891 non-null    object \n",
    " 9   Fare         891 non-null    float64\n",
    " 10  Cabin        204 non-null    object      <---- 없는건 n값으로 넣자\n",
    " 11  Embarked     889 non-null    object       <---- 없는건 n값으로 넣자\n",
    "dtypes: float64(2), int64(5), object(5)\n",
    "memory usage: 83.7+ KB"
   ]
  },
  {
   "cell_type": "code",
   "execution_count": 5,
   "id": "fab7f617-49cc-4bb6-afd5-c1ba94db4609",
   "metadata": {},
   "outputs": [
    {
     "data": {
      "text/plain": [
       "PassengerId      0\n",
       "Survived         0\n",
       "Pclass           0\n",
       "Name             0\n",
       "Sex              0\n",
       "Age            177\n",
       "SibSp            0\n",
       "Parch            0\n",
       "Ticket           0\n",
       "Fare             0\n",
       "Cabin          687\n",
       "Embarked         2\n",
       "dtype: int64"
      ]
     },
     "execution_count": 5,
     "metadata": {},
     "output_type": "execute_result"
    }
   ],
   "source": [
    "# df.isna().sum()\n",
    "df.isnull().sum()"
   ]
  },
  {
   "cell_type": "code",
   "execution_count": 6,
   "id": "baea8627-0877-4328-9059-865b96ac6e50",
   "metadata": {},
   "outputs": [],
   "source": [
    "df['Age'].fillna(df['Age'].mean(), inplace=True)\n",
    "df['Cabin'].fillna('N', inplace=True)\n",
    "df['Embarked'].fillna('N', inplace=True)\n",
    "# 채워넣을거면 fillna, 없앨거면 dropna"
   ]
  },
  {
   "cell_type": "code",
   "execution_count": 7,
   "id": "c17ee45b-10d7-495d-b989-2d4557515f1e",
   "metadata": {},
   "outputs": [
    {
     "data": {
      "text/plain": [
       "PassengerId    0\n",
       "Survived       0\n",
       "Pclass         0\n",
       "Name           0\n",
       "Sex            0\n",
       "Age            0\n",
       "SibSp          0\n",
       "Parch          0\n",
       "Ticket         0\n",
       "Fare           0\n",
       "Cabin          0\n",
       "Embarked       0\n",
       "dtype: int64"
      ]
     },
     "execution_count": 7,
     "metadata": {},
     "output_type": "execute_result"
    }
   ],
   "source": [
    "df.isnull().sum()"
   ]
  },
  {
   "cell_type": "code",
   "execution_count": 8,
   "id": "82f4ef05-27e2-4f2c-a535-2a60ef781f55",
   "metadata": {},
   "outputs": [
    {
     "name": "stdout",
     "output_type": "stream",
     "text": [
      "<class 'pandas.core.frame.DataFrame'>\n",
      "RangeIndex: 891 entries, 0 to 890\n",
      "Data columns (total 12 columns):\n",
      " #   Column       Non-Null Count  Dtype  \n",
      "---  ------       --------------  -----  \n",
      " 0   PassengerId  891 non-null    int64  \n",
      " 1   Survived     891 non-null    int64  \n",
      " 2   Pclass       891 non-null    int64  \n",
      " 3   Name         891 non-null    object \n",
      " 4   Sex          891 non-null    object \n",
      " 5   Age          891 non-null    float64\n",
      " 6   SibSp        891 non-null    int64  \n",
      " 7   Parch        891 non-null    int64  \n",
      " 8   Ticket       891 non-null    object \n",
      " 9   Fare         891 non-null    float64\n",
      " 10  Cabin        891 non-null    object \n",
      " 11  Embarked     891 non-null    object \n",
      "dtypes: float64(2), int64(5), object(5)\n",
      "memory usage: 83.7+ KB\n"
     ]
    }
   ],
   "source": [
    "df.info()"
   ]
  },
  {
   "cell_type": "code",
   "execution_count": 9,
   "id": "1f96eebb-bc3a-474b-9bef-3e4bd8449d37",
   "metadata": {},
   "outputs": [
    {
     "data": {
      "text/plain": [
       "male      577\n",
       "female    314\n",
       "Name: Sex, dtype: int64"
      ]
     },
     "execution_count": 9,
     "metadata": {},
     "output_type": "execute_result"
    }
   ],
   "source": [
    "# 안에 뭐가 있는지 확인하고 번호인덱스 붙여줘야겠쥬\n",
    "df['Sex'].value_counts()\n",
    "# df['Sex'].unique()는 male female만 나오는데 value_count는 몇개인지까지 나오는군"
   ]
  },
  {
   "cell_type": "code",
   "execution_count": 10,
   "id": "20625606-33c9-4502-a2b3-4a3bc24c400c",
   "metadata": {
    "tags": []
   },
   "outputs": [
    {
     "data": {
      "text/plain": [
       "N              687\n",
       "C23 C25 C27      4\n",
       "G6               4\n",
       "B96 B98          4\n",
       "C22 C26          3\n",
       "              ... \n",
       "E34              1\n",
       "C7               1\n",
       "C54              1\n",
       "E36              1\n",
       "C148             1\n",
       "Name: Cabin, Length: 148, dtype: int64"
      ]
     },
     "execution_count": 10,
     "metadata": {},
     "output_type": "execute_result"
    }
   ],
   "source": [
    "df['Cabin'].value_counts()\n",
    "# df['Cabin'].unique()\n"
   ]
  },
  {
   "cell_type": "code",
   "execution_count": 11,
   "id": "7409879c-6661-4a57-8af2-515a40c1cac4",
   "metadata": {
    "tags": []
   },
   "outputs": [
    {
     "data": {
      "text/plain": [
       "S    644\n",
       "C    168\n",
       "Q     77\n",
       "N      2\n",
       "Name: Embarked, dtype: int64"
      ]
     },
     "execution_count": 11,
     "metadata": {},
     "output_type": "execute_result"
    }
   ],
   "source": [
    "df['Embarked'].value_counts()\n"
   ]
  },
  {
   "cell_type": "code",
   "execution_count": 12,
   "id": "af6e8d92-aeca-4e8c-9b67-e077915c17e3",
   "metadata": {},
   "outputs": [],
   "source": [
    "df['Cabin'] = df['Cabin'].str[:1]"
   ]
  },
  {
   "cell_type": "code",
   "execution_count": 13,
   "id": "365d8a70-3d51-4335-9af5-131bf1f24549",
   "metadata": {
    "tags": []
   },
   "outputs": [
    {
     "data": {
      "text/plain": [
       "Sex     Survived\n",
       "female  0            81\n",
       "        1           233\n",
       "male    0           468\n",
       "        1           109\n",
       "Name: Survived, dtype: int64"
      ]
     },
     "execution_count": 13,
     "metadata": {},
     "output_type": "execute_result"
    }
   ],
   "source": [
    "df.groupby(['Sex', 'Survived'])['Survived'].count()"
   ]
  },
  {
   "cell_type": "code",
   "execution_count": 14,
   "id": "b59c4870-036f-4045-84ce-b903d04dcc0d",
   "metadata": {
    "tags": []
   },
   "outputs": [
    {
     "data": {
      "image/png": "[encoded data removed]",
      "text/plain": [
       "<Figure size 640x480 with 1 Axes>"
      ]
     },
     "metadata": {},
     "output_type": "display_data"
    }
   ],
   "source": [
    "sns.barplot(data=df, x='Sex', y='Survived')\n",
    "plt.grid(True)"
   ]
  },
  {
   "cell_type": "code",
   "execution_count": 15,
   "id": "9000bf4b-68c8-4777-afd3-0a981163a261",
   "metadata": {
    "collapsed": true,
    "jupyter": {
     "outputs_hidden": true
    },
    "tags": []
   },
   "outputs": [
    {
     "data": {
      "image/png": "[encoded data removed]",
      "text/plain": [
       "<Figure size 640x480 with 1 Axes>"
      ]
     },
     "metadata": {},
     "output_type": "display_data"
    }
   ],
   "source": [
    "sns.barplot(data=df, x='Pclass', y='Survived', hue='Sex')\n",
    "plt.grid(True)"
   ]
  },
  {
   "cell_type": "code",
   "execution_count": 16,
   "id": "a52d45f4-799e-4631-8be1-87103c9a71df",
   "metadata": {
    "collapsed": true,
    "jupyter": {
     "outputs_hidden": true
    },
    "tags": []
   },
   "outputs": [
    {
     "data": {
      "text/plain": [
       "29.699118    177\n",
       "24.000000     30\n",
       "22.000000     27\n",
       "18.000000     26\n",
       "28.000000     25\n",
       "            ... \n",
       "36.500000      1\n",
       "55.500000      1\n",
       "0.920000       1\n",
       "23.500000      1\n",
       "74.000000      1\n",
       "Name: Age, Length: 89, dtype: int64"
      ]
     },
     "execution_count": 16,
     "metadata": {},
     "output_type": "execute_result"
    }
   ],
   "source": [
    "df['Age'].value_counts()"
   ]
  },
  {
   "cell_type": "code",
   "execution_count": 17,
   "id": "3991f6cd-9030-43e3-bb2f-7c42af763b1b",
   "metadata": {},
   "outputs": [],
   "source": [
    "def get_category(age):\n",
    "    cat = ''\n",
    "    if age <= -1 : cat='Unkonwn'\n",
    "    elif age <= 5 : cat='Baby'\n",
    "    elif age <= 12 : cat='Child'\n",
    "    elif age <= 18 : cat='Teenager'\n",
    "    elif age <= 25 : cat='Student'\n",
    "    elif age <= 35 : cat='Young Adult'\n",
    "    elif age <= 60 : cat='Adult'\n",
    "    else: cat='Elderly'\n",
    "    return cat\n",
    "    "
   ]
  },
  {
   "cell_type": "code",
   "execution_count": 18,
   "id": "6edbe885-0b08-4f25-ba84-61ac3bae0168",
   "metadata": {},
   "outputs": [],
   "source": [
    "df['Age_cat'] = df['Age'].apply(lambda x : get_category(x))\n",
    "\n",
    "# Age 값이 lambda x 에 들어가고 x 값이 get_category에 들어가서 get_category 함수가 실행"
   ]
  },
  {
   "cell_type": "code",
   "execution_count": 19,
   "id": "914a7d06-73cc-4da7-a34e-95184772b23d",
   "metadata": {
    "collapsed": true,
    "jupyter": {
     "outputs_hidden": true
    },
    "tags": []
   },
   "outputs": [
    {
     "data": {
      "text/plain": [
       "<AxesSubplot:xlabel='Age_cat', ylabel='Survived'>"
      ]
     },
     "execution_count": 19,
     "metadata": {},
     "output_type": "execute_result"
    },
    {
     "data": {
      "image/png": "[encoded data removed]",
      "text/plain": [
       "<Figure size 1000x600 with 1 Axes>"
      ]
     },
     "metadata": {},
     "output_type": "display_data"
    }
   ],
   "source": [
    "plt.figure(figsize=(10,6))\n",
    "\n",
    "group_name = ['Unkonwn', 'Baby', 'Child', 'Teenager', 'Student', 'Young Adult', 'Adult', 'Elderly']\n",
    "\n",
    "sns.barplot(data=df, x=df['Age_cat'], y=df['Survived'], order=group_name) # group_name 순서로 정렬\n",
    "# sns.barplot(data=df, x=df['Age_cat'], y=df['Survived'])"
   ]
  },
  {
   "cell_type": "code",
   "execution_count": 20,
   "id": "283c7be5-897b-49af-9623-2424472bbe16",
   "metadata": {
    "collapsed": true,
    "jupyter": {
     "outputs_hidden": true
    },
    "tags": []
   },
   "outputs": [
    {
     "data": {
      "text/plain": [
       "<AxesSubplot:xlabel='Age_cat', ylabel='Survived'>"
      ]
     },
     "execution_count": 20,
     "metadata": {},
     "output_type": "execute_result"
    },
    {
     "data": {
      "image/png": "[encoded data removed]",
      "text/plain": [
       "<Figure size 1000x600 with 1 Axes>"
      ]
     },
     "metadata": {},
     "output_type": "display_data"
    }
   ],
   "source": [
    "plt.figure(figsize=(10,6))\n",
    "\n",
    "sns.barplot(data=df, x=df['Age_cat'], y=df['Survived'], order=group_name, hue = 'Sex') # group_name 순서로 정렬\n"
   ]
  },
  {
   "cell_type": "code",
   "execution_count": 21,
   "id": "8ce3469b-e240-4192-aebc-744035218683",
   "metadata": {},
   "outputs": [],
   "source": [
    "\n",
    "from sklearn.preprocessing import LabelEncoder"
   ]
  },
  {
   "cell_type": "code",
   "execution_count": 22,
   "id": "e5c92b8f-bb8a-4b40-8a27-7c32a9533241",
   "metadata": {},
   "outputs": [],
   "source": [
    "def encode_features(df):\n",
    "    features = ['Sex', 'Cabin', 'Embarked']# 레이블 인코딩 하려는 거 적ㄱ기\n",
    "    for feature in features:\n",
    "        le = LabelEncoder()\n",
    "        df[feature] = le.fit_transform(df[feature])\n",
    "        print(le.classes_)\n",
    "    return df"
   ]
  },
  {
   "cell_type": "code",
   "execution_count": 23,
   "id": "f2382561-d9c9-4cce-93d3-94b8c1871c0d",
   "metadata": {
    "tags": []
   },
   "outputs": [
    {
     "name": "stdout",
     "output_type": "stream",
     "text": [
      "['female' 'male']\n",
      "['A' 'B' 'C' 'D' 'E' 'F' 'G' 'N' 'T']\n",
      "['C' 'N' 'Q' 'S']\n"
     ]
    }
   ],
   "source": [
    "df = encode_features(df)"
   ]
  },
  {
   "cell_type": "code",
   "execution_count": 24,
   "id": "ee41f192-c963-40ac-b465-586a45f22e64",
   "metadata": {
    "collapsed": true,
    "jupyter": {
     "outputs_hidden": true
    },
    "tags": []
   },
   "outputs": [
    {
     "data": {
      "text/html": [
       "<div>\n",
       "<style scoped>\n",
       "    .dataframe tbody tr th:only-of-type {\n",
       "        vertical-align: middle;\n",
       "    }\n",
       "\n",
       "    .dataframe tbody tr th {\n",
       "        vertical-align: top;\n",
       "    }\n",
       "\n",
       "    .dataframe thead th {\n",
       "        text-align: right;\n",
       "    }\n",
       "</style>\n",
       "<table border=\"1\" class=\"dataframe\">\n",
       "  <thead>\n",
       "    <tr style=\"text-align: right;\">\n",
       "      <th></th>\n",
       "      <th>PassengerId</th>\n",
       "      <th>Survived</th>\n",
       "      <th>Pclass</th>\n",
       "      <th>Name</th>\n",
       "      <th>Sex</th>\n",
       "      <th>Age</th>\n",
       "      <th>SibSp</th>\n",
       "      <th>Parch</th>\n",
       "      <th>Ticket</th>\n",
       "      <th>Fare</th>\n",
       "      <th>Cabin</th>\n",
       "      <th>Embarked</th>\n",
       "      <th>Age_cat</th>\n",
       "    </tr>\n",
       "  </thead>\n",
       "  <tbody>\n",
       "    <tr>\n",
       "      <th>0</th>\n",
       "      <td>1</td>\n",
       "      <td>0</td>\n",
       "      <td>3</td>\n",
       "      <td>Braund, Mr. Owen Harris</td>\n",
       "      <td>1</td>\n",
       "      <td>22.0</td>\n",
       "      <td>1</td>\n",
       "      <td>0</td>\n",
       "      <td>A/5 21171</td>\n",
       "      <td>7.2500</td>\n",
       "      <td>7</td>\n",
       "      <td>3</td>\n",
       "      <td>Student</td>\n",
       "    </tr>\n",
       "    <tr>\n",
       "      <th>1</th>\n",
       "      <td>2</td>\n",
       "      <td>1</td>\n",
       "      <td>1</td>\n",
       "      <td>Cumings, Mrs. John Bradley (Florence Briggs Th...</td>\n",
       "      <td>0</td>\n",
       "      <td>38.0</td>\n",
       "      <td>1</td>\n",
       "      <td>0</td>\n",
       "      <td>PC 17599</td>\n",
       "      <td>71.2833</td>\n",
       "      <td>2</td>\n",
       "      <td>0</td>\n",
       "      <td>Adult</td>\n",
       "    </tr>\n",
       "    <tr>\n",
       "      <th>2</th>\n",
       "      <td>3</td>\n",
       "      <td>1</td>\n",
       "      <td>3</td>\n",
       "      <td>Heikkinen, Miss. Laina</td>\n",
       "      <td>0</td>\n",
       "      <td>26.0</td>\n",
       "      <td>0</td>\n",
       "      <td>0</td>\n",
       "      <td>STON/O2. 3101282</td>\n",
       "      <td>7.9250</td>\n",
       "      <td>7</td>\n",
       "      <td>3</td>\n",
       "      <td>Young Adult</td>\n",
       "    </tr>\n",
       "    <tr>\n",
       "      <th>3</th>\n",
       "      <td>4</td>\n",
       "      <td>1</td>\n",
       "      <td>1</td>\n",
       "      <td>Futrelle, Mrs. Jacques Heath (Lily May Peel)</td>\n",
       "      <td>0</td>\n",
       "      <td>35.0</td>\n",
       "      <td>1</td>\n",
       "      <td>0</td>\n",
       "      <td>113803</td>\n",
       "      <td>53.1000</td>\n",
       "      <td>2</td>\n",
       "      <td>3</td>\n",
       "      <td>Young Adult</td>\n",
       "    </tr>\n",
       "    <tr>\n",
       "      <th>4</th>\n",
       "      <td>5</td>\n",
       "      <td>0</td>\n",
       "      <td>3</td>\n",
       "      <td>Allen, Mr. William Henry</td>\n",
       "      <td>1</td>\n",
       "      <td>35.0</td>\n",
       "      <td>0</td>\n",
       "      <td>0</td>\n",
       "      <td>373450</td>\n",
       "      <td>8.0500</td>\n",
       "      <td>7</td>\n",
       "      <td>3</td>\n",
       "      <td>Young Adult</td>\n",
       "    </tr>\n",
       "  </tbody>\n",
       "</table>\n",
       "</div>"
      ],
      "text/plain": [
       "   PassengerId  Survived  Pclass  \\\n",
       "0            1         0       3   \n",
       "1            2         1       1   \n",
       "2            3         1       3   \n",
       "3            4         1       1   \n",
       "4            5         0       3   \n",
       "\n",
       "                                                Name  Sex   Age  SibSp  Parch  \\\n",
       "0                            Braund, Mr. Owen Harris    1  22.0      1      0   \n",
       "1  Cumings, Mrs. John Bradley (Florence Briggs Th...    0  38.0      1      0   \n",
       "2                             Heikkinen, Miss. Laina    0  26.0      0      0   \n",
       "3       Futrelle, Mrs. Jacques Heath (Lily May Peel)    0  35.0      1      0   \n",
       "4                           Allen, Mr. William Henry    1  35.0      0      0   \n",
       "\n",
       "             Ticket     Fare  Cabin  Embarked      Age_cat  \n",
       "0         A/5 21171   7.2500      7         3      Student  \n",
       "1          PC 17599  71.2833      2         0        Adult  \n",
       "2  STON/O2. 3101282   7.9250      7         3  Young Adult  \n",
       "3            113803  53.1000      2         3  Young Adult  \n",
       "4            373450   8.0500      7         3  Young Adult  "
      ]
     },
     "execution_count": 24,
     "metadata": {},
     "output_type": "execute_result"
    }
   ],
   "source": [
    "df.head()"
   ]
  },
  {
   "cell_type": "code",
   "execution_count": null,
   "id": "ca42473e-23fe-4b8c-9838-938538060784",
   "metadata": {},
   "outputs": [],
   "source": [
    "\n"
   ]
  },
  {
   "cell_type": "code",
   "execution_count": 25,
   "id": "8c35ac6c-e520-4da8-8018-7d5440a0a070",
   "metadata": {},
   "outputs": [],
   "source": [
    "# 타이타닉 데이터 또 갖다 쓸 때를 댇비해서 함수 만들어놓기\n",
    "def fillna(df):\n",
    "    df['Age'].fillna(df['Age'].mean(), inplace=True) \n",
    "    df['Cabin'].fillna('N', inplace=True) \n",
    "    df['Embarked'].fillna('N', inplace=True)\n",
    "    df['Fare'].fillna(0, inplace=True)\n",
    "    return df"
   ]
  },
  {
   "cell_type": "code",
   "execution_count": 26,
   "id": "8f9bf57d-e0cf-42f8-8c23-ea0072ea7b66",
   "metadata": {},
   "outputs": [],
   "source": [
    "def drop_features(df):\n",
    "    df.drop(columns=['PassengerId', 'Name', 'Ticket'], inplace=True)\n",
    "    return df\n",
    "\n",
    "\n",
    "def format_features(df):\n",
    "    from sklearn.preprocessing import LabelEncoder\n",
    "    df['Cabin'] = df['Cabin'].str[:1]\n",
    "    features = ['Sex', 'Cabin', 'Embarked']# 레이블 인코딩 하려는 거 적ㄱ기\n",
    "    for feature in features:\n",
    "        le = LabelEncoder()\n",
    "        df[feature] = le.fit_transform(df[feature])\n",
    "        print(le.classes_)\n",
    "    return df"
   ]
  },
  {
   "cell_type": "code",
   "execution_count": 27,
   "id": "d9576191-5900-4672-8a29-d910d0cf7bd1",
   "metadata": {},
   "outputs": [],
   "source": [
    "def transform_features(df):\n",
    "    df = fillna(df)\n",
    "    df = drop_features(df)\n",
    "    df = format_features(df)\n",
    "    return df"
   ]
  },
  {
   "cell_type": "code",
   "execution_count": 28,
   "id": "5e7945ab-b9ef-48af-8f49-66e44613bee7",
   "metadata": {},
   "outputs": [
    {
     "name": "stdout",
     "output_type": "stream",
     "text": [
      "['female' 'male']\n",
      "['A' 'B' 'C' 'D' 'E' 'F' 'G' 'N' 'T']\n",
      "['C' 'N' 'Q' 'S']\n"
     ]
    }
   ],
   "source": [
    "df = pd.read_csv('titanic.csv')\n",
    "y = df['Survived']\n",
    "X = df.drop(columns=['Survived'])\n",
    "X = transform_features(X)"
   ]
  },
  {
   "cell_type": "code",
   "execution_count": null,
   "id": "cccb351c-209d-4e2f-a1a5-d5470db5dac8",
   "metadata": {},
   "outputs": [],
   "source": []
  },
  {
   "cell_type": "code",
   "execution_count": 29,
   "id": "58c040d9-60a8-4eda-b86a-a91411eaef7e",
   "metadata": {
    "tags": []
   },
   "outputs": [
    {
     "name": "stdout",
     "output_type": "stream",
     "text": [
      "<class 'pandas.core.frame.DataFrame'>\n",
      "RangeIndex: 891 entries, 0 to 890\n",
      "Data columns (total 12 columns):\n",
      " #   Column       Non-Null Count  Dtype  \n",
      "---  ------       --------------  -----  \n",
      " 0   PassengerId  891 non-null    int64  \n",
      " 1   Survived     891 non-null    int64  \n",
      " 2   Pclass       891 non-null    int64  \n",
      " 3   Name         891 non-null    object \n",
      " 4   Sex          891 non-null    object \n",
      " 5   Age          714 non-null    float64\n",
      " 6   SibSp        891 non-null    int64  \n",
      " 7   Parch        891 non-null    int64  \n",
      " 8   Ticket       891 non-null    object \n",
      " 9   Fare         891 non-null    float64\n",
      " 10  Cabin        204 non-null    object \n",
      " 11  Embarked     889 non-null    object \n",
      "dtypes: float64(2), int64(5), object(5)\n",
      "memory usage: 83.7+ KB\n"
     ]
    }
   ],
   "source": [
    "df.info()"
   ]
  },
  {
   "cell_type": "code",
   "execution_count": 30,
   "id": "977bc4aa-6e10-4830-914b-4fe60bfe9c12",
   "metadata": {},
   "outputs": [
    {
     "data": {
      "text/html": [
       "<div>\n",
       "<style scoped>\n",
       "    .dataframe tbody tr th:only-of-type {\n",
       "        vertical-align: middle;\n",
       "    }\n",
       "\n",
       "    .dataframe tbody tr th {\n",
       "        vertical-align: top;\n",
       "    }\n",
       "\n",
       "    .dataframe thead th {\n",
       "        text-align: right;\n",
       "    }\n",
       "</style>\n",
       "<table border=\"1\" class=\"dataframe\">\n",
       "  <thead>\n",
       "    <tr style=\"text-align: right;\">\n",
       "      <th></th>\n",
       "      <th>Pclass</th>\n",
       "      <th>Sex</th>\n",
       "      <th>Age</th>\n",
       "      <th>SibSp</th>\n",
       "      <th>Parch</th>\n",
       "      <th>Fare</th>\n",
       "      <th>Cabin</th>\n",
       "      <th>Embarked</th>\n",
       "    </tr>\n",
       "  </thead>\n",
       "  <tbody>\n",
       "    <tr>\n",
       "      <th>0</th>\n",
       "      <td>3</td>\n",
       "      <td>1</td>\n",
       "      <td>22.0</td>\n",
       "      <td>1</td>\n",
       "      <td>0</td>\n",
       "      <td>7.2500</td>\n",
       "      <td>7</td>\n",
       "      <td>3</td>\n",
       "    </tr>\n",
       "    <tr>\n",
       "      <th>1</th>\n",
       "      <td>1</td>\n",
       "      <td>0</td>\n",
       "      <td>38.0</td>\n",
       "      <td>1</td>\n",
       "      <td>0</td>\n",
       "      <td>71.2833</td>\n",
       "      <td>2</td>\n",
       "      <td>0</td>\n",
       "    </tr>\n",
       "    <tr>\n",
       "      <th>2</th>\n",
       "      <td>3</td>\n",
       "      <td>0</td>\n",
       "      <td>26.0</td>\n",
       "      <td>0</td>\n",
       "      <td>0</td>\n",
       "      <td>7.9250</td>\n",
       "      <td>7</td>\n",
       "      <td>3</td>\n",
       "    </tr>\n",
       "    <tr>\n",
       "      <th>3</th>\n",
       "      <td>1</td>\n",
       "      <td>0</td>\n",
       "      <td>35.0</td>\n",
       "      <td>1</td>\n",
       "      <td>0</td>\n",
       "      <td>53.1000</td>\n",
       "      <td>2</td>\n",
       "      <td>3</td>\n",
       "    </tr>\n",
       "    <tr>\n",
       "      <th>4</th>\n",
       "      <td>3</td>\n",
       "      <td>1</td>\n",
       "      <td>35.0</td>\n",
       "      <td>0</td>\n",
       "      <td>0</td>\n",
       "      <td>8.0500</td>\n",
       "      <td>7</td>\n",
       "      <td>3</td>\n",
       "    </tr>\n",
       "  </tbody>\n",
       "</table>\n",
       "</div>"
      ],
      "text/plain": [
       "   Pclass  Sex   Age  SibSp  Parch     Fare  Cabin  Embarked\n",
       "0       3    1  22.0      1      0   7.2500      7         3\n",
       "1       1    0  38.0      1      0  71.2833      2         0\n",
       "2       3    0  26.0      0      0   7.9250      7         3\n",
       "3       1    0  35.0      1      0  53.1000      2         3\n",
       "4       3    1  35.0      0      0   8.0500      7         3"
      ]
     },
     "execution_count": 30,
     "metadata": {},
     "output_type": "execute_result"
    }
   ],
   "source": [
    "X.head()"
   ]
  },
  {
   "cell_type": "code",
   "execution_count": 31,
   "id": "1345ab22-d6c3-40bc-a511-546719d08d51",
   "metadata": {},
   "outputs": [],
   "source": [
    "from sklearn.model_selection import train_test_split"
   ]
  },
  {
   "cell_type": "code",
   "execution_count": 38,
   "id": "a3ee4534-c36b-44d1-bf3c-488a2abc19b7",
   "metadata": {},
   "outputs": [],
   "source": [
    "X_train, X_test, y_train, y_test = train_test_split(X, y, test_size=0.2, random_state=11)"
   ]
  },
  {
   "cell_type": "code",
   "execution_count": 39,
   "id": "546aa2cb-8062-417b-a6cd-02914172a4c3",
   "metadata": {},
   "outputs": [],
   "source": [
    "from sklearn.tree import DecisionTreeClassifier\n",
    "from sklearn.ensemble import RandomForestClassifier\n",
    "# 생존이냐 사망이냐 하는 거니까 이진분류\n",
    "\n",
    "from sklearn.linear_model import LogisticRegression\n",
    "from sklearn.metrics import accuracy_score"
   ]
  },
  {
   "cell_type": "code",
   "execution_count": 40,
   "id": "05628fca-4413-46cb-b19b-3987e2769a59",
   "metadata": {},
   "outputs": [],
   "source": [
    "dt_clf = DecisionTreeClassifier(random_state=11)\n",
    "rf_clf = RandomForestClassifier(random_state=11)\n",
    "lr_clf = LogisticRegression(solver='liblinear') # solver='liblinear' 이거 머여??\n"
   ]
  },
  {
   "cell_type": "code",
   "execution_count": 41,
   "id": "7563f015-da4a-4484-9d9e-7c99233b47ff",
   "metadata": {},
   "outputs": [
    {
     "data": {
      "text/plain": [
       "0.7877094972067039"
      ]
     },
     "execution_count": 41,
     "metadata": {},
     "output_type": "execute_result"
    }
   ],
   "source": [
    "dt_clf.fit(X_train, y_train)\n",
    "dt_pred = dt_clf.predict(X_test)\n",
    "accuracy_score(y_test, dt_pred)"
   ]
  },
  {
   "cell_type": "code",
   "execution_count": 42,
   "id": "3bb61e9d-49d7-4d0c-bcf3-5ed574657a40",
   "metadata": {},
   "outputs": [
    {
     "data": {
      "text/plain": [
       "0.8547486033519553"
      ]
     },
     "execution_count": 42,
     "metadata": {},
     "output_type": "execute_result"
    }
   ],
   "source": [
    "rf_clf.fit(X_train, y_train)\n",
    "rf_pred = rf_clf.predict(X_test)\n",
    "accuracy_score(y_test, rf_pred)"
   ]
  },
  {
   "cell_type": "code",
   "execution_count": 43,
   "id": "4a272656-6d06-40fd-bff0-8d5a6b52d538",
   "metadata": {},
   "outputs": [
    {
     "data": {
      "text/plain": [
       "0.8659217877094972"
      ]
     },
     "execution_count": 43,
     "metadata": {},
     "output_type": "execute_result"
    }
   ],
   "source": [
    "lr_clf.fit(X_train, y_train)\n",
    "lr_pred = lr_clf.predict(X_test)\n",
    "accuracy_score(y_test, lr_pred)"
   ]
  },
  {
   "cell_type": "code",
   "execution_count": 44,
   "id": "1404ddaa-9c79-43ba-a928-ee4a0f5b17ee",
   "metadata": {},
   "outputs": [],
   "source": [
    "from sklearn.model_selection import GridSearchCV"
   ]
  },
  {
   "cell_type": "raw",
   "id": "7fbc1557-dc0a-4854-864b-99f20007f603",
   "metadata": {},
   "source": [
    "DecisionTreeClassifier(random_state=11) 에 도움말에서 가져온 거 \n",
    "\n",
    "max_depth=None,\n",
    "    min_samples_split=2,\n",
    "    min_samples_leaf=1,"
   ]
  },
  {
   "cell_type": "code",
   "execution_count": 45,
   "id": "b4e4e5f6-2d5d-4ad9-9f62-975abd92f3e6",
   "metadata": {},
   "outputs": [],
   "source": [
    "param = {\n",
    "    'max_depth' : [2,3,5,10], \n",
    "    'min_samples_split' : [2,3,5],\n",
    "    'min_samples_leaf' : [1,5,8]\n",
    "}\n",
    "\n",
    "\n",
    "# 'min_samples_leaf 리프노드가 되기위한 최소 샘플의 수\n",
    "# 마지막 동그라미에 최소 몇개의 데이터가 들어가잇어야 하냐 그건가?"
   ]
  },
  {
   "cell_type": "code",
   "execution_count": 46,
   "id": "4a26c28d-63e6-4194-922b-cc4b60f85f9d",
   "metadata": {},
   "outputs": [
    {
     "data": {
      "text/plain": [
       "GridSearchCV(cv=5, estimator=DecisionTreeClassifier(random_state=11),\n",
       "             param_grid={'max_depth': [2, 3, 5, 10],\n",
       "                         'min_samples_leaf': [1, 5, 8],\n",
       "                         'min_samples_split': [2, 3, 5]},\n",
       "             scoring='accuracy')"
      ]
     },
     "execution_count": 46,
     "metadata": {},
     "output_type": "execute_result"
    }
   ],
   "source": [
    "grid = GridSearchCV(dt_clf, param_grid=param, cv=5, scoring='accuracy')\n",
    "grid.fit(X_train, y_train)\n",
    "\n"
   ]
  },
  {
   "cell_type": "code",
   "execution_count": 47,
   "id": "642c1dd6-15f1-4f17-82bb-2e1b1bf9f64b",
   "metadata": {},
   "outputs": [],
   "source": [
    "pred = grid.predict(X_test)"
   ]
  },
  {
   "cell_type": "code",
   "execution_count": 48,
   "id": "7b1a7c7f-c9bb-4d1c-b069-f82166b016e4",
   "metadata": {},
   "outputs": [
    {
     "data": {
      "text/plain": [
       "0.8715083798882681"
      ]
     },
     "execution_count": 48,
     "metadata": {},
     "output_type": "execute_result"
    }
   ],
   "source": [
    "accuracy_score(y_test, pred)"
   ]
  },
  {
   "cell_type": "code",
   "execution_count": 49,
   "id": "9717b90a-b094-4175-858d-3c36ecef0c62",
   "metadata": {},
   "outputs": [
    {
     "data": {
      "text/plain": [
       "{'max_depth': 3, 'min_samples_leaf': 5, 'min_samples_split': 2}"
      ]
     },
     "execution_count": 49,
     "metadata": {},
     "output_type": "execute_result"
    }
   ],
   "source": [
    "grid.best_params_"
   ]
  },
  {
   "cell_type": "code",
   "execution_count": 51,
   "id": "ecc04932-0a30-4a87-a894-1345d047f2cc",
   "metadata": {},
   "outputs": [],
   "source": [
    "# grid.cv_results_\n",
    "df = pd.DataFrame(grid.cv_results_)"
   ]
  },
  {
   "cell_type": "code",
   "execution_count": 52,
   "id": "da5d6f3a-f8e1-4003-8a7d-27134d5b0bb2",
   "metadata": {
    "collapsed": true,
    "jupyter": {
     "outputs_hidden": true
    },
    "tags": []
   },
   "outputs": [
    {
     "data": {
      "text/html": [
       "<div>\n",
       "<style scoped>\n",
       "    .dataframe tbody tr th:only-of-type {\n",
       "        vertical-align: middle;\n",
       "    }\n",
       "\n",
       "    .dataframe tbody tr th {\n",
       "        vertical-align: top;\n",
       "    }\n",
       "\n",
       "    .dataframe thead th {\n",
       "        text-align: right;\n",
       "    }\n",
       "</style>\n",
       "<table border=\"1\" class=\"dataframe\">\n",
       "  <thead>\n",
       "    <tr style=\"text-align: right;\">\n",
       "      <th></th>\n",
       "      <th>mean_fit_time</th>\n",
       "      <th>std_fit_time</th>\n",
       "      <th>mean_score_time</th>\n",
       "      <th>std_score_time</th>\n",
       "      <th>param_max_depth</th>\n",
       "      <th>param_min_samples_leaf</th>\n",
       "      <th>param_min_samples_split</th>\n",
       "      <th>params</th>\n",
       "      <th>split0_test_score</th>\n",
       "      <th>split1_test_score</th>\n",
       "      <th>split2_test_score</th>\n",
       "      <th>split3_test_score</th>\n",
       "      <th>split4_test_score</th>\n",
       "      <th>mean_test_score</th>\n",
       "      <th>std_test_score</th>\n",
       "      <th>rank_test_score</th>\n",
       "    </tr>\n",
       "  </thead>\n",
       "  <tbody>\n",
       "    <tr>\n",
       "      <th>0</th>\n",
       "      <td>0.002705</td>\n",
       "      <td>0.000401</td>\n",
       "      <td>0.001210</td>\n",
       "      <td>3.892509e-04</td>\n",
       "      <td>2</td>\n",
       "      <td>1</td>\n",
       "      <td>2</td>\n",
       "      <td>{'max_depth': 2, 'min_samples_leaf': 1, 'min_s...</td>\n",
       "      <td>0.734266</td>\n",
       "      <td>0.769231</td>\n",
       "      <td>0.753521</td>\n",
       "      <td>0.788732</td>\n",
       "      <td>0.746479</td>\n",
       "      <td>0.758446</td>\n",
       "      <td>0.018898</td>\n",
       "      <td>28</td>\n",
       "    </tr>\n",
       "    <tr>\n",
       "      <th>1</th>\n",
       "      <td>0.003570</td>\n",
       "      <td>0.000637</td>\n",
       "      <td>0.002200</td>\n",
       "      <td>7.657923e-04</td>\n",
       "      <td>2</td>\n",
       "      <td>1</td>\n",
       "      <td>3</td>\n",
       "      <td>{'max_depth': 2, 'min_samples_leaf': 1, 'min_s...</td>\n",
       "      <td>0.734266</td>\n",
       "      <td>0.769231</td>\n",
       "      <td>0.753521</td>\n",
       "      <td>0.788732</td>\n",
       "      <td>0.746479</td>\n",
       "      <td>0.758446</td>\n",
       "      <td>0.018898</td>\n",
       "      <td>28</td>\n",
       "    </tr>\n",
       "    <tr>\n",
       "      <th>2</th>\n",
       "      <td>0.001810</td>\n",
       "      <td>0.000367</td>\n",
       "      <td>0.000989</td>\n",
       "      <td>3.707347e-05</td>\n",
       "      <td>2</td>\n",
       "      <td>1</td>\n",
       "      <td>5</td>\n",
       "      <td>{'max_depth': 2, 'min_samples_leaf': 1, 'min_s...</td>\n",
       "      <td>0.734266</td>\n",
       "      <td>0.769231</td>\n",
       "      <td>0.753521</td>\n",
       "      <td>0.788732</td>\n",
       "      <td>0.746479</td>\n",
       "      <td>0.758446</td>\n",
       "      <td>0.018898</td>\n",
       "      <td>28</td>\n",
       "    </tr>\n",
       "    <tr>\n",
       "      <th>3</th>\n",
       "      <td>0.003195</td>\n",
       "      <td>0.001158</td>\n",
       "      <td>0.002199</td>\n",
       "      <td>7.341031e-04</td>\n",
       "      <td>2</td>\n",
       "      <td>5</td>\n",
       "      <td>2</td>\n",
       "      <td>{'max_depth': 2, 'min_samples_leaf': 5, 'min_s...</td>\n",
       "      <td>0.734266</td>\n",
       "      <td>0.769231</td>\n",
       "      <td>0.753521</td>\n",
       "      <td>0.788732</td>\n",
       "      <td>0.746479</td>\n",
       "      <td>0.758446</td>\n",
       "      <td>0.018898</td>\n",
       "      <td>28</td>\n",
       "    </tr>\n",
       "    <tr>\n",
       "      <th>4</th>\n",
       "      <td>0.003002</td>\n",
       "      <td>0.000623</td>\n",
       "      <td>0.001569</td>\n",
       "      <td>4.862625e-04</td>\n",
       "      <td>2</td>\n",
       "      <td>5</td>\n",
       "      <td>3</td>\n",
       "      <td>{'max_depth': 2, 'min_samples_leaf': 5, 'min_s...</td>\n",
       "      <td>0.734266</td>\n",
       "      <td>0.769231</td>\n",
       "      <td>0.753521</td>\n",
       "      <td>0.788732</td>\n",
       "      <td>0.746479</td>\n",
       "      <td>0.758446</td>\n",
       "      <td>0.018898</td>\n",
       "      <td>28</td>\n",
       "    </tr>\n",
       "    <tr>\n",
       "      <th>5</th>\n",
       "      <td>0.003042</td>\n",
       "      <td>0.000953</td>\n",
       "      <td>0.001297</td>\n",
       "      <td>6.008594e-04</td>\n",
       "      <td>2</td>\n",
       "      <td>5</td>\n",
       "      <td>5</td>\n",
       "      <td>{'max_depth': 2, 'min_samples_leaf': 5, 'min_s...</td>\n",
       "      <td>0.734266</td>\n",
       "      <td>0.769231</td>\n",
       "      <td>0.753521</td>\n",
       "      <td>0.788732</td>\n",
       "      <td>0.746479</td>\n",
       "      <td>0.758446</td>\n",
       "      <td>0.018898</td>\n",
       "      <td>28</td>\n",
       "    </tr>\n",
       "    <tr>\n",
       "      <th>6</th>\n",
       "      <td>0.003380</td>\n",
       "      <td>0.001378</td>\n",
       "      <td>0.002419</td>\n",
       "      <td>5.175344e-04</td>\n",
       "      <td>2</td>\n",
       "      <td>8</td>\n",
       "      <td>2</td>\n",
       "      <td>{'max_depth': 2, 'min_samples_leaf': 8, 'min_s...</td>\n",
       "      <td>0.734266</td>\n",
       "      <td>0.769231</td>\n",
       "      <td>0.753521</td>\n",
       "      <td>0.788732</td>\n",
       "      <td>0.746479</td>\n",
       "      <td>0.758446</td>\n",
       "      <td>0.018898</td>\n",
       "      <td>28</td>\n",
       "    </tr>\n",
       "    <tr>\n",
       "      <th>7</th>\n",
       "      <td>0.002547</td>\n",
       "      <td>0.000480</td>\n",
       "      <td>0.001791</td>\n",
       "      <td>4.211344e-04</td>\n",
       "      <td>2</td>\n",
       "      <td>8</td>\n",
       "      <td>3</td>\n",
       "      <td>{'max_depth': 2, 'min_samples_leaf': 8, 'min_s...</td>\n",
       "      <td>0.734266</td>\n",
       "      <td>0.769231</td>\n",
       "      <td>0.753521</td>\n",
       "      <td>0.788732</td>\n",
       "      <td>0.746479</td>\n",
       "      <td>0.758446</td>\n",
       "      <td>0.018898</td>\n",
       "      <td>28</td>\n",
       "    </tr>\n",
       "    <tr>\n",
       "      <th>8</th>\n",
       "      <td>0.001989</td>\n",
       "      <td>0.000043</td>\n",
       "      <td>0.001164</td>\n",
       "      <td>4.637348e-04</td>\n",
       "      <td>2</td>\n",
       "      <td>8</td>\n",
       "      <td>5</td>\n",
       "      <td>{'max_depth': 2, 'min_samples_leaf': 8, 'min_s...</td>\n",
       "      <td>0.734266</td>\n",
       "      <td>0.769231</td>\n",
       "      <td>0.753521</td>\n",
       "      <td>0.788732</td>\n",
       "      <td>0.746479</td>\n",
       "      <td>0.758446</td>\n",
       "      <td>0.018898</td>\n",
       "      <td>28</td>\n",
       "    </tr>\n",
       "    <tr>\n",
       "      <th>9</th>\n",
       "      <td>0.002596</td>\n",
       "      <td>0.000761</td>\n",
       "      <td>0.001407</td>\n",
       "      <td>5.190718e-04</td>\n",
       "      <td>3</td>\n",
       "      <td>1</td>\n",
       "      <td>2</td>\n",
       "      <td>{'max_depth': 3, 'min_samples_leaf': 1, 'min_s...</td>\n",
       "      <td>0.790210</td>\n",
       "      <td>0.797203</td>\n",
       "      <td>0.830986</td>\n",
       "      <td>0.802817</td>\n",
       "      <td>0.774648</td>\n",
       "      <td>0.799173</td>\n",
       "      <td>0.018499</td>\n",
       "      <td>4</td>\n",
       "    </tr>\n",
       "    <tr>\n",
       "      <th>10</th>\n",
       "      <td>0.002982</td>\n",
       "      <td>0.000051</td>\n",
       "      <td>0.002004</td>\n",
       "      <td>6.245059e-04</td>\n",
       "      <td>3</td>\n",
       "      <td>1</td>\n",
       "      <td>3</td>\n",
       "      <td>{'max_depth': 3, 'min_samples_leaf': 1, 'min_s...</td>\n",
       "      <td>0.790210</td>\n",
       "      <td>0.797203</td>\n",
       "      <td>0.830986</td>\n",
       "      <td>0.802817</td>\n",
       "      <td>0.774648</td>\n",
       "      <td>0.799173</td>\n",
       "      <td>0.018499</td>\n",
       "      <td>4</td>\n",
       "    </tr>\n",
       "    <tr>\n",
       "      <th>11</th>\n",
       "      <td>0.002792</td>\n",
       "      <td>0.000746</td>\n",
       "      <td>0.001395</td>\n",
       "      <td>4.893205e-04</td>\n",
       "      <td>3</td>\n",
       "      <td>1</td>\n",
       "      <td>5</td>\n",
       "      <td>{'max_depth': 3, 'min_samples_leaf': 1, 'min_s...</td>\n",
       "      <td>0.790210</td>\n",
       "      <td>0.797203</td>\n",
       "      <td>0.830986</td>\n",
       "      <td>0.802817</td>\n",
       "      <td>0.774648</td>\n",
       "      <td>0.799173</td>\n",
       "      <td>0.018499</td>\n",
       "      <td>4</td>\n",
       "    </tr>\n",
       "    <tr>\n",
       "      <th>12</th>\n",
       "      <td>0.001794</td>\n",
       "      <td>0.000745</td>\n",
       "      <td>0.000797</td>\n",
       "      <td>3.985647e-04</td>\n",
       "      <td>3</td>\n",
       "      <td>5</td>\n",
       "      <td>2</td>\n",
       "      <td>{'max_depth': 3, 'min_samples_leaf': 5, 'min_s...</td>\n",
       "      <td>0.790210</td>\n",
       "      <td>0.790210</td>\n",
       "      <td>0.830986</td>\n",
       "      <td>0.802817</td>\n",
       "      <td>0.781690</td>\n",
       "      <td>0.799183</td>\n",
       "      <td>0.017272</td>\n",
       "      <td>1</td>\n",
       "    </tr>\n",
       "    <tr>\n",
       "      <th>13</th>\n",
       "      <td>0.001795</td>\n",
       "      <td>0.000399</td>\n",
       "      <td>0.000804</td>\n",
       "      <td>4.020143e-04</td>\n",
       "      <td>3</td>\n",
       "      <td>5</td>\n",
       "      <td>3</td>\n",
       "      <td>{'max_depth': 3, 'min_samples_leaf': 5, 'min_s...</td>\n",
       "      <td>0.790210</td>\n",
       "      <td>0.790210</td>\n",
       "      <td>0.830986</td>\n",
       "      <td>0.802817</td>\n",
       "      <td>0.781690</td>\n",
       "      <td>0.799183</td>\n",
       "      <td>0.017272</td>\n",
       "      <td>1</td>\n",
       "    </tr>\n",
       "    <tr>\n",
       "      <th>14</th>\n",
       "      <td>0.001609</td>\n",
       "      <td>0.000500</td>\n",
       "      <td>0.000897</td>\n",
       "      <td>1.995567e-04</td>\n",
       "      <td>3</td>\n",
       "      <td>5</td>\n",
       "      <td>5</td>\n",
       "      <td>{'max_depth': 3, 'min_samples_leaf': 5, 'min_s...</td>\n",
       "      <td>0.790210</td>\n",
       "      <td>0.790210</td>\n",
       "      <td>0.830986</td>\n",
       "      <td>0.802817</td>\n",
       "      <td>0.781690</td>\n",
       "      <td>0.799183</td>\n",
       "      <td>0.017272</td>\n",
       "      <td>1</td>\n",
       "    </tr>\n",
       "    <tr>\n",
       "      <th>15</th>\n",
       "      <td>0.001794</td>\n",
       "      <td>0.000399</td>\n",
       "      <td>0.000598</td>\n",
       "      <td>4.883051e-04</td>\n",
       "      <td>3</td>\n",
       "      <td>8</td>\n",
       "      <td>2</td>\n",
       "      <td>{'max_depth': 3, 'min_samples_leaf': 8, 'min_s...</td>\n",
       "      <td>0.790210</td>\n",
       "      <td>0.790210</td>\n",
       "      <td>0.823944</td>\n",
       "      <td>0.802817</td>\n",
       "      <td>0.732394</td>\n",
       "      <td>0.787915</td>\n",
       "      <td>0.030375</td>\n",
       "      <td>16</td>\n",
       "    </tr>\n",
       "    <tr>\n",
       "      <th>16</th>\n",
       "      <td>0.001794</td>\n",
       "      <td>0.000399</td>\n",
       "      <td>0.000997</td>\n",
       "      <td>8.449576e-07</td>\n",
       "      <td>3</td>\n",
       "      <td>8</td>\n",
       "      <td>3</td>\n",
       "      <td>{'max_depth': 3, 'min_samples_leaf': 8, 'min_s...</td>\n",
       "      <td>0.790210</td>\n",
       "      <td>0.790210</td>\n",
       "      <td>0.823944</td>\n",
       "      <td>0.802817</td>\n",
       "      <td>0.732394</td>\n",
       "      <td>0.787915</td>\n",
       "      <td>0.030375</td>\n",
       "      <td>16</td>\n",
       "    </tr>\n",
       "    <tr>\n",
       "      <th>17</th>\n",
       "      <td>0.001594</td>\n",
       "      <td>0.000797</td>\n",
       "      <td>0.000997</td>\n",
       "      <td>3.371748e-07</td>\n",
       "      <td>3</td>\n",
       "      <td>8</td>\n",
       "      <td>5</td>\n",
       "      <td>{'max_depth': 3, 'min_samples_leaf': 8, 'min_s...</td>\n",
       "      <td>0.790210</td>\n",
       "      <td>0.790210</td>\n",
       "      <td>0.823944</td>\n",
       "      <td>0.802817</td>\n",
       "      <td>0.732394</td>\n",
       "      <td>0.787915</td>\n",
       "      <td>0.030375</td>\n",
       "      <td>16</td>\n",
       "    </tr>\n",
       "    <tr>\n",
       "      <th>18</th>\n",
       "      <td>0.001805</td>\n",
       "      <td>0.000404</td>\n",
       "      <td>0.000800</td>\n",
       "      <td>3.999107e-04</td>\n",
       "      <td>5</td>\n",
       "      <td>1</td>\n",
       "      <td>2</td>\n",
       "      <td>{'max_depth': 5, 'min_samples_leaf': 1, 'min_s...</td>\n",
       "      <td>0.727273</td>\n",
       "      <td>0.783217</td>\n",
       "      <td>0.802817</td>\n",
       "      <td>0.802817</td>\n",
       "      <td>0.788732</td>\n",
       "      <td>0.780971</td>\n",
       "      <td>0.027940</td>\n",
       "      <td>26</td>\n",
       "    </tr>\n",
       "    <tr>\n",
       "      <th>19</th>\n",
       "      <td>0.002805</td>\n",
       "      <td>0.001596</td>\n",
       "      <td>0.001595</td>\n",
       "      <td>4.887733e-04</td>\n",
       "      <td>5</td>\n",
       "      <td>1</td>\n",
       "      <td>3</td>\n",
       "      <td>{'max_depth': 5, 'min_samples_leaf': 1, 'min_s...</td>\n",
       "      <td>0.727273</td>\n",
       "      <td>0.783217</td>\n",
       "      <td>0.823944</td>\n",
       "      <td>0.802817</td>\n",
       "      <td>0.781690</td>\n",
       "      <td>0.783788</td>\n",
       "      <td>0.032166</td>\n",
       "      <td>24</td>\n",
       "    </tr>\n",
       "    <tr>\n",
       "      <th>20</th>\n",
       "      <td>0.003983</td>\n",
       "      <td>0.000627</td>\n",
       "      <td>0.002022</td>\n",
       "      <td>3.139805e-05</td>\n",
       "      <td>5</td>\n",
       "      <td>1</td>\n",
       "      <td>5</td>\n",
       "      <td>{'max_depth': 5, 'min_samples_leaf': 1, 'min_s...</td>\n",
       "      <td>0.727273</td>\n",
       "      <td>0.776224</td>\n",
       "      <td>0.838028</td>\n",
       "      <td>0.802817</td>\n",
       "      <td>0.781690</td>\n",
       "      <td>0.785206</td>\n",
       "      <td>0.036193</td>\n",
       "      <td>22</td>\n",
       "    </tr>\n",
       "    <tr>\n",
       "      <th>21</th>\n",
       "      <td>0.004171</td>\n",
       "      <td>0.001189</td>\n",
       "      <td>0.001792</td>\n",
       "      <td>7.411984e-04</td>\n",
       "      <td>5</td>\n",
       "      <td>5</td>\n",
       "      <td>2</td>\n",
       "      <td>{'max_depth': 5, 'min_samples_leaf': 5, 'min_s...</td>\n",
       "      <td>0.720280</td>\n",
       "      <td>0.783217</td>\n",
       "      <td>0.838028</td>\n",
       "      <td>0.816901</td>\n",
       "      <td>0.788732</td>\n",
       "      <td>0.789432</td>\n",
       "      <td>0.039843</td>\n",
       "      <td>7</td>\n",
       "    </tr>\n",
       "    <tr>\n",
       "      <th>22</th>\n",
       "      <td>0.002391</td>\n",
       "      <td>0.000489</td>\n",
       "      <td>0.000997</td>\n",
       "      <td>1.122341e-06</td>\n",
       "      <td>5</td>\n",
       "      <td>5</td>\n",
       "      <td>3</td>\n",
       "      <td>{'max_depth': 5, 'min_samples_leaf': 5, 'min_s...</td>\n",
       "      <td>0.720280</td>\n",
       "      <td>0.783217</td>\n",
       "      <td>0.838028</td>\n",
       "      <td>0.816901</td>\n",
       "      <td>0.788732</td>\n",
       "      <td>0.789432</td>\n",
       "      <td>0.039843</td>\n",
       "      <td>7</td>\n",
       "    </tr>\n",
       "    <tr>\n",
       "      <th>23</th>\n",
       "      <td>0.002196</td>\n",
       "      <td>0.000397</td>\n",
       "      <td>0.001194</td>\n",
       "      <td>3.955126e-04</td>\n",
       "      <td>5</td>\n",
       "      <td>5</td>\n",
       "      <td>5</td>\n",
       "      <td>{'max_depth': 5, 'min_samples_leaf': 5, 'min_s...</td>\n",
       "      <td>0.720280</td>\n",
       "      <td>0.783217</td>\n",
       "      <td>0.838028</td>\n",
       "      <td>0.816901</td>\n",
       "      <td>0.788732</td>\n",
       "      <td>0.789432</td>\n",
       "      <td>0.039843</td>\n",
       "      <td>7</td>\n",
       "    </tr>\n",
       "    <tr>\n",
       "      <th>24</th>\n",
       "      <td>0.001594</td>\n",
       "      <td>0.000488</td>\n",
       "      <td>0.000610</td>\n",
       "      <td>4.982283e-04</td>\n",
       "      <td>5</td>\n",
       "      <td>8</td>\n",
       "      <td>2</td>\n",
       "      <td>{'max_depth': 5, 'min_samples_leaf': 8, 'min_s...</td>\n",
       "      <td>0.727273</td>\n",
       "      <td>0.804196</td>\n",
       "      <td>0.823944</td>\n",
       "      <td>0.816901</td>\n",
       "      <td>0.774648</td>\n",
       "      <td>0.789392</td>\n",
       "      <td>0.035344</td>\n",
       "      <td>13</td>\n",
       "    </tr>\n",
       "    <tr>\n",
       "      <th>25</th>\n",
       "      <td>0.002606</td>\n",
       "      <td>0.001192</td>\n",
       "      <td>0.001385</td>\n",
       "      <td>4.651725e-04</td>\n",
       "      <td>5</td>\n",
       "      <td>8</td>\n",
       "      <td>3</td>\n",
       "      <td>{'max_depth': 5, 'min_samples_leaf': 8, 'min_s...</td>\n",
       "      <td>0.727273</td>\n",
       "      <td>0.804196</td>\n",
       "      <td>0.823944</td>\n",
       "      <td>0.816901</td>\n",
       "      <td>0.774648</td>\n",
       "      <td>0.789392</td>\n",
       "      <td>0.035344</td>\n",
       "      <td>13</td>\n",
       "    </tr>\n",
       "    <tr>\n",
       "      <th>26</th>\n",
       "      <td>0.004010</td>\n",
       "      <td>0.000054</td>\n",
       "      <td>0.001810</td>\n",
       "      <td>4.085238e-04</td>\n",
       "      <td>5</td>\n",
       "      <td>8</td>\n",
       "      <td>5</td>\n",
       "      <td>{'max_depth': 5, 'min_samples_leaf': 8, 'min_s...</td>\n",
       "      <td>0.727273</td>\n",
       "      <td>0.804196</td>\n",
       "      <td>0.823944</td>\n",
       "      <td>0.816901</td>\n",
       "      <td>0.774648</td>\n",
       "      <td>0.789392</td>\n",
       "      <td>0.035344</td>\n",
       "      <td>13</td>\n",
       "    </tr>\n",
       "    <tr>\n",
       "      <th>27</th>\n",
       "      <td>0.004193</td>\n",
       "      <td>0.000741</td>\n",
       "      <td>0.001561</td>\n",
       "      <td>5.270702e-04</td>\n",
       "      <td>10</td>\n",
       "      <td>1</td>\n",
       "      <td>2</td>\n",
       "      <td>{'max_depth': 10, 'min_samples_leaf': 1, 'min_...</td>\n",
       "      <td>0.762238</td>\n",
       "      <td>0.741259</td>\n",
       "      <td>0.816901</td>\n",
       "      <td>0.816901</td>\n",
       "      <td>0.746479</td>\n",
       "      <td>0.776756</td>\n",
       "      <td>0.033499</td>\n",
       "      <td>27</td>\n",
       "    </tr>\n",
       "    <tr>\n",
       "      <th>28</th>\n",
       "      <td>0.001983</td>\n",
       "      <td>0.000046</td>\n",
       "      <td>0.000818</td>\n",
       "      <td>4.100093e-04</td>\n",
       "      <td>10</td>\n",
       "      <td>1</td>\n",
       "      <td>3</td>\n",
       "      <td>{'max_depth': 10, 'min_samples_leaf': 1, 'min_...</td>\n",
       "      <td>0.762238</td>\n",
       "      <td>0.734266</td>\n",
       "      <td>0.816901</td>\n",
       "      <td>0.830986</td>\n",
       "      <td>0.767606</td>\n",
       "      <td>0.782399</td>\n",
       "      <td>0.036037</td>\n",
       "      <td>25</td>\n",
       "    </tr>\n",
       "    <tr>\n",
       "      <th>29</th>\n",
       "      <td>0.002042</td>\n",
       "      <td>0.000087</td>\n",
       "      <td>0.001001</td>\n",
       "      <td>6.445950e-06</td>\n",
       "      <td>10</td>\n",
       "      <td>1</td>\n",
       "      <td>5</td>\n",
       "      <td>{'max_depth': 10, 'min_samples_leaf': 1, 'min_...</td>\n",
       "      <td>0.769231</td>\n",
       "      <td>0.734266</td>\n",
       "      <td>0.816901</td>\n",
       "      <td>0.830986</td>\n",
       "      <td>0.767606</td>\n",
       "      <td>0.783798</td>\n",
       "      <td>0.035356</td>\n",
       "      <td>23</td>\n",
       "    </tr>\n",
       "    <tr>\n",
       "      <th>30</th>\n",
       "      <td>0.002168</td>\n",
       "      <td>0.000394</td>\n",
       "      <td>0.000616</td>\n",
       "      <td>5.034186e-04</td>\n",
       "      <td>10</td>\n",
       "      <td>5</td>\n",
       "      <td>2</td>\n",
       "      <td>{'max_depth': 10, 'min_samples_leaf': 5, 'min_...</td>\n",
       "      <td>0.727273</td>\n",
       "      <td>0.720280</td>\n",
       "      <td>0.838028</td>\n",
       "      <td>0.859155</td>\n",
       "      <td>0.788732</td>\n",
       "      <td>0.786694</td>\n",
       "      <td>0.056270</td>\n",
       "      <td>19</td>\n",
       "    </tr>\n",
       "    <tr>\n",
       "      <th>31</th>\n",
       "      <td>0.001924</td>\n",
       "      <td>0.000147</td>\n",
       "      <td>0.000994</td>\n",
       "      <td>1.371883e-05</td>\n",
       "      <td>10</td>\n",
       "      <td>5</td>\n",
       "      <td>3</td>\n",
       "      <td>{'max_depth': 10, 'min_samples_leaf': 5, 'min_...</td>\n",
       "      <td>0.727273</td>\n",
       "      <td>0.720280</td>\n",
       "      <td>0.838028</td>\n",
       "      <td>0.859155</td>\n",
       "      <td>0.788732</td>\n",
       "      <td>0.786694</td>\n",
       "      <td>0.056270</td>\n",
       "      <td>19</td>\n",
       "    </tr>\n",
       "    <tr>\n",
       "      <th>32</th>\n",
       "      <td>0.002004</td>\n",
       "      <td>0.000019</td>\n",
       "      <td>0.000787</td>\n",
       "      <td>3.944365e-04</td>\n",
       "      <td>10</td>\n",
       "      <td>5</td>\n",
       "      <td>5</td>\n",
       "      <td>{'max_depth': 10, 'min_samples_leaf': 5, 'min_...</td>\n",
       "      <td>0.727273</td>\n",
       "      <td>0.720280</td>\n",
       "      <td>0.838028</td>\n",
       "      <td>0.859155</td>\n",
       "      <td>0.788732</td>\n",
       "      <td>0.786694</td>\n",
       "      <td>0.056270</td>\n",
       "      <td>19</td>\n",
       "    </tr>\n",
       "    <tr>\n",
       "      <th>33</th>\n",
       "      <td>0.001995</td>\n",
       "      <td>0.000018</td>\n",
       "      <td>0.000982</td>\n",
       "      <td>3.029451e-05</td>\n",
       "      <td>10</td>\n",
       "      <td>8</td>\n",
       "      <td>2</td>\n",
       "      <td>{'max_depth': 10, 'min_samples_leaf': 8, 'min_...</td>\n",
       "      <td>0.748252</td>\n",
       "      <td>0.755245</td>\n",
       "      <td>0.838028</td>\n",
       "      <td>0.830986</td>\n",
       "      <td>0.774648</td>\n",
       "      <td>0.789432</td>\n",
       "      <td>0.037872</td>\n",
       "      <td>7</td>\n",
       "    </tr>\n",
       "    <tr>\n",
       "      <th>34</th>\n",
       "      <td>0.002213</td>\n",
       "      <td>0.000930</td>\n",
       "      <td>0.001179</td>\n",
       "      <td>4.198551e-04</td>\n",
       "      <td>10</td>\n",
       "      <td>8</td>\n",
       "      <td>3</td>\n",
       "      <td>{'max_depth': 10, 'min_samples_leaf': 8, 'min_...</td>\n",
       "      <td>0.748252</td>\n",
       "      <td>0.755245</td>\n",
       "      <td>0.838028</td>\n",
       "      <td>0.830986</td>\n",
       "      <td>0.774648</td>\n",
       "      <td>0.789432</td>\n",
       "      <td>0.037872</td>\n",
       "      <td>7</td>\n",
       "    </tr>\n",
       "    <tr>\n",
       "      <th>35</th>\n",
       "      <td>0.004028</td>\n",
       "      <td>0.000910</td>\n",
       "      <td>0.001996</td>\n",
       "      <td>4.954519e-06</td>\n",
       "      <td>10</td>\n",
       "      <td>8</td>\n",
       "      <td>5</td>\n",
       "      <td>{'max_depth': 10, 'min_samples_leaf': 8, 'min_...</td>\n",
       "      <td>0.748252</td>\n",
       "      <td>0.755245</td>\n",
       "      <td>0.838028</td>\n",
       "      <td>0.830986</td>\n",
       "      <td>0.774648</td>\n",
       "      <td>0.789432</td>\n",
       "      <td>0.037872</td>\n",
       "      <td>7</td>\n",
       "    </tr>\n",
       "  </tbody>\n",
       "</table>\n",
       "</div>"
      ],
      "text/plain": [
       "    mean_fit_time  std_fit_time  mean_score_time  std_score_time  \\\n",
       "0        0.002705      0.000401         0.001210    3.892509e-04   \n",
       "1        0.003570      0.000637         0.002200    7.657923e-04   \n",
       "2        0.001810      0.000367         0.000989    3.707347e-05   \n",
       "3        0.003195      0.001158         0.002199    7.341031e-04   \n",
       "4        0.003002      0.000623         0.001569    4.862625e-04   \n",
       "5        0.003042      0.000953         0.001297    6.008594e-04   \n",
       "6        0.003380      0.001378         0.002419    5.175344e-04   \n",
       "7        0.002547      0.000480         0.001791    4.211344e-04   \n",
       "8        0.001989      0.000043         0.001164    4.637348e-04   \n",
       "9        0.002596      0.000761         0.001407    5.190718e-04   \n",
       "10       0.002982      0.000051         0.002004    6.245059e-04   \n",
       "11       0.002792      0.000746         0.001395    4.893205e-04   \n",
       "12       0.001794      0.000745         0.000797    3.985647e-04   \n",
       "13       0.001795      0.000399         0.000804    4.020143e-04   \n",
       "14       0.001609      0.000500         0.000897    1.995567e-04   \n",
       "15       0.001794      0.000399         0.000598    4.883051e-04   \n",
       "16       0.001794      0.000399         0.000997    8.449576e-07   \n",
       "17       0.001594      0.000797         0.000997    3.371748e-07   \n",
       "18       0.001805      0.000404         0.000800    3.999107e-04   \n",
       "19       0.002805      0.001596         0.001595    4.887733e-04   \n",
       "20       0.003983      0.000627         0.002022    3.139805e-05   \n",
       "21       0.004171      0.001189         0.001792    7.411984e-04   \n",
       "22       0.002391      0.000489         0.000997    1.122341e-06   \n",
       "23       0.002196      0.000397         0.001194    3.955126e-04   \n",
       "24       0.001594      0.000488         0.000610    4.982283e-04   \n",
       "25       0.002606      0.001192         0.001385    4.651725e-04   \n",
       "26       0.004010      0.000054         0.001810    4.085238e-04   \n",
       "27       0.004193      0.000741         0.001561    5.270702e-04   \n",
       "28       0.001983      0.000046         0.000818    4.100093e-04   \n",
       "29       0.002042      0.000087         0.001001    6.445950e-06   \n",
       "30       0.002168      0.000394         0.000616    5.034186e-04   \n",
       "31       0.001924      0.000147         0.000994    1.371883e-05   \n",
       "32       0.002004      0.000019         0.000787    3.944365e-04   \n",
       "33       0.001995      0.000018         0.000982    3.029451e-05   \n",
       "34       0.002213      0.000930         0.001179    4.198551e-04   \n",
       "35       0.004028      0.000910         0.001996    4.954519e-06   \n",
       "\n",
       "   param_max_depth param_min_samples_leaf param_min_samples_split  \\\n",
       "0                2                      1                       2   \n",
       "1                2                      1                       3   \n",
       "2                2                      1                       5   \n",
       "3                2                      5                       2   \n",
       "4                2                      5                       3   \n",
       "5                2                      5                       5   \n",
       "6                2                      8                       2   \n",
       "7                2                      8                       3   \n",
       "8                2                      8                       5   \n",
       "9                3                      1                       2   \n",
       "10               3                      1                       3   \n",
       "11               3                      1                       5   \n",
       "12               3                      5                       2   \n",
       "13               3                      5                       3   \n",
       "14               3                      5                       5   \n",
       "15               3                      8                       2   \n",
       "16               3                      8                       3   \n",
       "17               3                      8                       5   \n",
       "18               5                      1                       2   \n",
       "19               5                      1                       3   \n",
       "20               5                      1                       5   \n",
       "21               5                      5                       2   \n",
       "22               5                      5                       3   \n",
       "23               5                      5                       5   \n",
       "24               5                      8                       2   \n",
       "25               5                      8                       3   \n",
       "26               5                      8                       5   \n",
       "27              10                      1                       2   \n",
       "28              10                      1                       3   \n",
       "29              10                      1                       5   \n",
       "30              10                      5                       2   \n",
       "31              10                      5                       3   \n",
       "32              10                      5                       5   \n",
       "33              10                      8                       2   \n",
       "34              10                      8                       3   \n",
       "35              10                      8                       5   \n",
       "\n",
       "                                               params  split0_test_score  \\\n",
       "0   {'max_depth': 2, 'min_samples_leaf': 1, 'min_s...           0.734266   \n",
       "1   {'max_depth': 2, 'min_samples_leaf': 1, 'min_s...           0.734266   \n",
       "2   {'max_depth': 2, 'min_samples_leaf': 1, 'min_s...           0.734266   \n",
       "3   {'max_depth': 2, 'min_samples_leaf': 5, 'min_s...           0.734266   \n",
       "4   {'max_depth': 2, 'min_samples_leaf': 5, 'min_s...           0.734266   \n",
       "5   {'max_depth': 2, 'min_samples_leaf': 5, 'min_s...           0.734266   \n",
       "6   {'max_depth': 2, 'min_samples_leaf': 8, 'min_s...           0.734266   \n",
       "7   {'max_depth': 2, 'min_samples_leaf': 8, 'min_s...           0.734266   \n",
       "8   {'max_depth': 2, 'min_samples_leaf': 8, 'min_s...           0.734266   \n",
       "9   {'max_depth': 3, 'min_samples_leaf': 1, 'min_s...           0.790210   \n",
       "10  {'max_depth': 3, 'min_samples_leaf': 1, 'min_s...           0.790210   \n",
       "11  {'max_depth': 3, 'min_samples_leaf': 1, 'min_s...           0.790210   \n",
       "12  {'max_depth': 3, 'min_samples_leaf': 5, 'min_s...           0.790210   \n",
       "13  {'max_depth': 3, 'min_samples_leaf': 5, 'min_s...           0.790210   \n",
       "14  {'max_depth': 3, 'min_samples_leaf': 5, 'min_s...           0.790210   \n",
       "15  {'max_depth': 3, 'min_samples_leaf': 8, 'min_s...           0.790210   \n",
       "16  {'max_depth': 3, 'min_samples_leaf': 8, 'min_s...           0.790210   \n",
       "17  {'max_depth': 3, 'min_samples_leaf': 8, 'min_s...           0.790210   \n",
       "18  {'max_depth': 5, 'min_samples_leaf': 1, 'min_s...           0.727273   \n",
       "19  {'max_depth': 5, 'min_samples_leaf': 1, 'min_s...           0.727273   \n",
       "20  {'max_depth': 5, 'min_samples_leaf': 1, 'min_s...           0.727273   \n",
       "21  {'max_depth': 5, 'min_samples_leaf': 5, 'min_s...           0.720280   \n",
       "22  {'max_depth': 5, 'min_samples_leaf': 5, 'min_s...           0.720280   \n",
       "23  {'max_depth': 5, 'min_samples_leaf': 5, 'min_s...           0.720280   \n",
       "24  {'max_depth': 5, 'min_samples_leaf': 8, 'min_s...           0.727273   \n",
       "25  {'max_depth': 5, 'min_samples_leaf': 8, 'min_s...           0.727273   \n",
       "26  {'max_depth': 5, 'min_samples_leaf': 8, 'min_s...           0.727273   \n",
       "27  {'max_depth': 10, 'min_samples_leaf': 1, 'min_...           0.762238   \n",
       "28  {'max_depth': 10, 'min_samples_leaf': 1, 'min_...           0.762238   \n",
       "29  {'max_depth': 10, 'min_samples_leaf': 1, 'min_...           0.769231   \n",
       "30  {'max_depth': 10, 'min_samples_leaf': 5, 'min_...           0.727273   \n",
       "31  {'max_depth': 10, 'min_samples_leaf': 5, 'min_...           0.727273   \n",
       "32  {'max_depth': 10, 'min_samples_leaf': 5, 'min_...           0.727273   \n",
       "33  {'max_depth': 10, 'min_samples_leaf': 8, 'min_...           0.748252   \n",
       "34  {'max_depth': 10, 'min_samples_leaf': 8, 'min_...           0.748252   \n",
       "35  {'max_depth': 10, 'min_samples_leaf': 8, 'min_...           0.748252   \n",
       "\n",
       "    split1_test_score  split2_test_score  split3_test_score  \\\n",
       "0            0.769231           0.753521           0.788732   \n",
       "1            0.769231           0.753521           0.788732   \n",
       "2            0.769231           0.753521           0.788732   \n",
       "3            0.769231           0.753521           0.788732   \n",
       "4            0.769231           0.753521           0.788732   \n",
       "5            0.769231           0.753521           0.788732   \n",
       "6            0.769231           0.753521           0.788732   \n",
       "7            0.769231           0.753521           0.788732   \n",
       "8            0.769231           0.753521           0.788732   \n",
       "9            0.797203           0.830986           0.802817   \n",
       "10           0.797203           0.830986           0.802817   \n",
       "11           0.797203           0.830986           0.802817   \n",
       "12           0.790210           0.830986           0.802817   \n",
       "13           0.790210           0.830986           0.802817   \n",
       "14           0.790210           0.830986           0.802817   \n",
       "15           0.790210           0.823944           0.802817   \n",
       "16           0.790210           0.823944           0.802817   \n",
       "17           0.790210           0.823944           0.802817   \n",
       "18           0.783217           0.802817           0.802817   \n",
       "19           0.783217           0.823944           0.802817   \n",
       "20           0.776224           0.838028           0.802817   \n",
       "21           0.783217           0.838028           0.816901   \n",
       "22           0.783217           0.838028           0.816901   \n",
       "23           0.783217           0.838028           0.816901   \n",
       "24           0.804196           0.823944           0.816901   \n",
       "25           0.804196           0.823944           0.816901   \n",
       "26           0.804196           0.823944           0.816901   \n",
       "27           0.741259           0.816901           0.816901   \n",
       "28           0.734266           0.816901           0.830986   \n",
       "29           0.734266           0.816901           0.830986   \n",
       "30           0.720280           0.838028           0.859155   \n",
       "31           0.720280           0.838028           0.859155   \n",
       "32           0.720280           0.838028           0.859155   \n",
       "33           0.755245           0.838028           0.830986   \n",
       "34           0.755245           0.838028           0.830986   \n",
       "35           0.755245           0.838028           0.830986   \n",
       "\n",
       "    split4_test_score  mean_test_score  std_test_score  rank_test_score  \n",
       "0            0.746479         0.758446        0.018898               28  \n",
       "1            0.746479         0.758446        0.018898               28  \n",
       "2            0.746479         0.758446        0.018898               28  \n",
       "3            0.746479         0.758446        0.018898               28  \n",
       "4            0.746479         0.758446        0.018898               28  \n",
       "5            0.746479         0.758446        0.018898               28  \n",
       "6            0.746479         0.758446        0.018898               28  \n",
       "7            0.746479         0.758446        0.018898               28  \n",
       "8            0.746479         0.758446        0.018898               28  \n",
       "9            0.774648         0.799173        0.018499                4  \n",
       "10           0.774648         0.799173        0.018499                4  \n",
       "11           0.774648         0.799173        0.018499                4  \n",
       "12           0.781690         0.799183        0.017272                1  \n",
       "13           0.781690         0.799183        0.017272                1  \n",
       "14           0.781690         0.799183        0.017272                1  \n",
       "15           0.732394         0.787915        0.030375               16  \n",
       "16           0.732394         0.787915        0.030375               16  \n",
       "17           0.732394         0.787915        0.030375               16  \n",
       "18           0.788732         0.780971        0.027940               26  \n",
       "19           0.781690         0.783788        0.032166               24  \n",
       "20           0.781690         0.785206        0.036193               22  \n",
       "21           0.788732         0.789432        0.039843                7  \n",
       "22           0.788732         0.789432        0.039843                7  \n",
       "23           0.788732         0.789432        0.039843                7  \n",
       "24           0.774648         0.789392        0.035344               13  \n",
       "25           0.774648         0.789392        0.035344               13  \n",
       "26           0.774648         0.789392        0.035344               13  \n",
       "27           0.746479         0.776756        0.033499               27  \n",
       "28           0.767606         0.782399        0.036037               25  \n",
       "29           0.767606         0.783798        0.035356               23  \n",
       "30           0.788732         0.786694        0.056270               19  \n",
       "31           0.788732         0.786694        0.056270               19  \n",
       "32           0.788732         0.786694        0.056270               19  \n",
       "33           0.774648         0.789432        0.037872                7  \n",
       "34           0.774648         0.789432        0.037872                7  \n",
       "35           0.774648         0.789432        0.037872                7  "
      ]
     },
     "execution_count": 52,
     "metadata": {},
     "output_type": "execute_result"
    }
   ],
   "source": [
    "df"
   ]
  },
  {
   "cell_type": "code",
   "execution_count": null,
   "id": "b99f4fd8-900a-46eb-b121-ece6ac0d9fd1",
   "metadata": {},
   "outputs": [],
   "source": []
  },
  {
   "cell_type": "markdown",
   "id": "fffe36f6-0ced-4f4f-a0b6-2963abd0c37a",
   "metadata": {
    "tags": []
   },
   "source": [
    "## 3.평가"
   ]
  },
  {
   "cell_type": "markdown",
   "id": "b0e2c49b-606c-4dd2-b88f-d991c8784c73",
   "metadata": {},
   "source": [
    "### 3.1 정확도\n",
    "데이터 레이블의 불균형이 심한 경우 정확도가 떨어질 수 있다\n"
   ]
  },
  {
   "cell_type": "code",
   "execution_count": 8,
   "id": "7e6fc8b2-852a-4643-8fb9-97701ab41911",
   "metadata": {},
   "outputs": [],
   "source": [
    "from sklearn.base import BaseEstimator\n",
    "# 에스티메이터가 가져야할 기본적인 게 들어있는 거\n",
    "\n",
    "from sklearn.model_selection import train_test_split\n",
    "import pandas as pd\n",
    "from sklearn.metrics import accuracy_score\n",
    "import numpy as np"
   ]
  },
  {
   "cell_type": "code",
   "execution_count": 5,
   "id": "03f055ce-75e6-4a03-bfe9-99ddfd2f65e6",
   "metadata": {},
   "outputs": [],
   "source": [
    "# 학습은 안 하는데(빈 함수) 예측만 하는(여자면 생존 남자는 사망) 모델\n",
    "class MyDummyClassifier(BaseEstimator): # 파이썬 클래스 이름은 자바에서 이름 붙일때처럼 단어의 첫글자는 대문자로..\n",
    "    def fit (self, X, y=None): # ??? self는 자기 주소값을 받는댜. 뭔소리지.. 만들떄만 필요하고 함수 사용할 때는 뭐 넣어주는 거 아님\n",
    "        pass # 건너뛰겠따? 뭘요?????????? 아 줄맞춤 해주느라고 써준거?\n",
    "    \n",
    "    def predict(self, X):\n",
    "        pred = np.zeros((X.shape[0],1))\n",
    "        for i in range(X.shape[0]):\n",
    "            if X['Sex'].iloc[i] == 1:\n",
    "                pred[i] = 0\n",
    "            else:\n",
    "                pred[i] = 1\n",
    "        return pred\n",
    "                "
   ]
  },
  {
   "cell_type": "code",
   "execution_count": 6,
   "id": "e820a16f-942d-49b2-be2e-1831a5fbdb85",
   "metadata": {},
   "outputs": [
    {
     "name": "stdout",
     "output_type": "stream",
     "text": [
      "['female' 'male']\n",
      "['A' 'B' 'C' 'D' 'E' 'F' 'G' 'N' 'T']\n",
      "['C' 'N' 'Q' 'S']\n"
     ]
    }
   ],
   "source": [
    "# 타이타닉 데이터 또 갖다 쓸 때를 댇비해서 함수 만들어놓기\n",
    "def fillna(df):\n",
    "    df['Age'].fillna(df['Age'].mean(), inplace=True) \n",
    "    df['Cabin'].fillna('N', inplace=True) \n",
    "    df['Embarked'].fillna('N', inplace=True)\n",
    "    df['Fare'].fillna(0, inplace=True)\n",
    "    return df\n",
    "\n",
    "def drop_features(df):\n",
    "    df.drop(columns=['PassengerId', 'Name', 'Ticket'], inplace=True)\n",
    "    return df\n",
    "\n",
    "\n",
    "def format_features(df):\n",
    "    from sklearn.preprocessing import LabelEncoder\n",
    "    df['Cabin'] = df['Cabin'].str[:1]\n",
    "    features = ['Sex', 'Cabin', 'Embarked']# 레이블 인코딩 하려는 거 적ㄱ기\n",
    "    for feature in features:\n",
    "        le = LabelEncoder()\n",
    "        df[feature] = le.fit_transform(df[feature])\n",
    "        print(le.classes_)\n",
    "    return df\n",
    "\n",
    "def transform_features(df):\n",
    "    df = fillna(df)\n",
    "    df = drop_features(df)\n",
    "    df = format_features(df)\n",
    "    return df\n",
    "\n",
    "df = pd.read_csv('titanic.csv')\n",
    "y = df['Survived']\n",
    "X = df.drop(columns=['Survived'])\n",
    "X = transform_features(X)\n",
    "\n",
    "X_train, X_test, y_train, y_test = train_test_split(X, y, test_size=0.2, random_state=11)"
   ]
  },
  {
   "cell_type": "markdown",
   "id": "a518d0fc-da90-4e7a-892b-09acdc85e66c",
   "metadata": {},
   "source": [
    "???????????? 뭐한거져ㅛ"
   ]
  },
  {
   "cell_type": "code",
   "execution_count": 9,
   "id": "32dd5dff-b729-461f-a17a-1b2cae42cb5a",
   "metadata": {},
   "outputs": [
    {
     "data": {
      "text/plain": [
       "0.8324022346368715"
      ]
     },
     "execution_count": 9,
     "metadata": {},
     "output_type": "execute_result"
    }
   ],
   "source": [
    "myclf = MyDummyClassifier()\n",
    "myclf.fit(X_train, y_train)\n",
    "pred = myclf.predict(X_test)\n",
    "accuracy_score(y_test, pred)"
   ]
  },
  {
   "cell_type": "markdown",
   "id": "70906202-bcd1-4188-8b35-6b0f17af468e",
   "metadata": {},
   "source": [
    "데이터가 답이 한쪽으로 치우쳐진 경우\n",
    "학습도 안 시켰는데 예측치가 83프로나 나옴!\n",
    "이건 정확도만 가지고 평가할 수 있는 게 아니다\n"
   ]
  },
  {
   "attachments": {
    "6d4e69a8-71ec-4c3d-a83c-9bca0f9c9483.png": {
     "image/png": "[encoded data removed]"
    }
   },
   "cell_type": "markdown",
   "id": "d233957a-d714-4ca4-9e8f-4e5311847fc6",
   "metadata": {},
   "source": [
    "### 3.2 오차 행렬\n",
    "맞추면 츄르 못맞추면 false\n",
    "예측클래스를 예측을 0이라고 해서 맞췄으면 네거티브, 1이라고 해서 맞췄으면 포지티브\n",
    "![image.png](attachment:6d4e69a8-71ec-4c3d-a83c-9bca0f9c9483.png)"
   ]
  },
  {
   "cell_type": "code",
   "execution_count": 10,
   "id": "1ca94700-6914-4e6f-b8f0-e9d2f6b304c3",
   "metadata": {},
   "outputs": [],
   "source": [
    "from sklearn.metrics import confusion_matrix"
   ]
  },
  {
   "cell_type": "code",
   "execution_count": 11,
   "id": "fe5bba49-1c6b-4d30-84bc-7d05904a9c9b",
   "metadata": {},
   "outputs": [
    {
     "data": {
      "text/plain": [
       "array([[103,  15],\n",
       "       [ 15,  46]], dtype=int64)"
      ]
     },
     "execution_count": 11,
     "metadata": {},
     "output_type": "execute_result"
    }
   ],
   "source": [
    "confusion_matrix(y_test, pred)\n",
    "\n",
    "#TN, FP, FN, TP 값이 얼마나 나오냐.. 를 보고 평가한다"
   ]
  },
  {
   "cell_type": "markdown",
   "id": "ee78c392-fa85-4397-adff-dec4048c74d4",
   "metadata": {
    "toc-hr-collapsed": true
   },
   "source": [
    "### 3.3 정밀도와 재현율\n",
    "정확도: 맞춘 건수/ 전체건수  \n",
    "정밀도: 1이라고 예측한 값에서 몇건이나 맞았나. 예측값 1 기준. 예측한 것 중에 얼마나 맞췄나  \n",
    "재현율: 실제건(실제건맞춤+실제건못맞춤) 중에 실제 맞춘 거. 실제건 1 기준. 실제값중에 얼마나 맞추었냐 \n",
    "\n",
    "정밀도와 재현율은 반비례한다. 한쪽으로 치우치지 않게 해야.. 경우에따라 정밀도가 중요할 수도 있고, 재현율이 중요할 수도 있다."
   ]
  },
  {
   "cell_type": "markdown",
   "id": "04148ca1-ed25-4e00-ac76-f52fe2e0b1c7",
   "metadata": {},
   "source": [
    "재현율을 민감도 또는 TPR 이라고 부르기도 함 true positive rate"
   ]
  },
  {
   "cell_type": "code",
   "execution_count": 1,
   "id": "c3a061df-25e1-46ef-8ced-e23580435699",
   "metadata": {},
   "outputs": [],
   "source": [
    "def get_clf_eval(y_test, pred):\n",
    "    from sklearn.metrics import accuracy_score, precision_score, recall_score, confusion_matrix\n",
    "    confusion = confusion_matrix(y_test, pred)\n",
    "    accuracy = accuracy_score(y_test, pred)\n",
    "    precision = precision_score(y_test, pred)\n",
    "    recall = recall_score(y_test, pred)\n",
    "    \n",
    "    print ('오차행렬')\n",
    "    print (confusion)\n",
    "    print (f'정확도: {accuracy:.4f}, 정밀도: {precision:.4f}, 재현율: {recall:.4f}')"
   ]
  },
  {
   "cell_type": "markdown",
   "id": "a1f1bc69-f211-40cd-ad40-e1762394945e",
   "metadata": {},
   "source": [
    "print (f'정확도: {accuracy:.4f}, 정밀도: {precision:.4f}, 재현율: {recall:.4f}')\n",
    "print ('정확도: {0:.4f}, 정밀도: {1:.4f}, 재현율: {2:.4f}'.format(accuracy, precision, recall))\n",
    "이거랑 같은거"
   ]
  },
  {
   "cell_type": "code",
   "execution_count": 2,
   "id": "ecbb9c0d-cfb8-4482-a259-80ed47dc3efe",
   "metadata": {},
   "outputs": [],
   "source": [
    "import pandas as pd\n",
    "import numpy as np\n",
    "from sklearn.model_selection import train_test_split\n",
    "from sklearn.linear_model import LogisticRegression"
   ]
  },
  {
   "cell_type": "code",
   "execution_count": 3,
   "id": "bc928414-dbae-466f-bf79-6e1ef830c128",
   "metadata": {},
   "outputs": [],
   "source": [
    "# 타이타닉 데이터 또 갖다 쓸 때를 댇비해서 함수 만들어놓기\n",
    "def fillna(df): # na값 채우는거지?\n",
    "    df['Age'].fillna(df['Age'].mean(), inplace=True) \n",
    "    df['Cabin'].fillna('N', inplace=True) \n",
    "    df['Embarked'].fillna('N', inplace=True)\n",
    "    df['Fare'].fillna(0, inplace=True)\n",
    "    return df\n",
    "\n",
    "def drop_features(df): # 필요 없는 컬럼 지우기?\n",
    "    df.drop(columns=['PassengerId', 'Name', 'Ticket'], inplace=True)\n",
    "    return df\n",
    "\n",
    "def format_features(df): \n",
    "    from sklearn.preprocessing import LabelEncoder\n",
    "    df['Cabin'] = df['Cabin'].str[:1] # 객실 등급 구분하려고 캐빈 앞글자만 가져오기\n",
    "    \n",
    "    features = ['Sex', 'Cabin', 'Embarked'] # 레이블 붙여준거\n",
    "    for feature in features:\n",
    "        le = LabelEncoder()\n",
    "        df[feature] = le.fit_transform(df[feature])\n",
    "        print(le.classes_)\n",
    "    return df\n",
    "\n",
    "def transform_features(df): # 위에 세개 한번에\n",
    "    df = fillna(df)\n",
    "    df = drop_features(df)\n",
    "    df = format_features(df)\n",
    "    return df\n"
   ]
  },
  {
   "cell_type": "code",
   "execution_count": 4,
   "id": "a4bfc22c-c48a-4427-9414-203aaf090559",
   "metadata": {},
   "outputs": [
    {
     "name": "stdout",
     "output_type": "stream",
     "text": [
      "['female' 'male']\n",
      "['A' 'B' 'C' 'D' 'E' 'F' 'G' 'N' 'T']\n",
      "['C' 'N' 'Q' 'S']\n"
     ]
    }
   ],
   "source": [
    "df = pd.read_csv('titanic.csv')\n",
    "y = df['Survived']\n",
    "X = df.drop(columns=['Survived'])\n",
    "\n",
    "X = transform_features(X)"
   ]
  },
  {
   "cell_type": "code",
   "execution_count": 5,
   "id": "058452a8-b4d1-4a6f-a85b-8359a9fd6c7f",
   "metadata": {},
   "outputs": [],
   "source": [
    "X_train, X_test, y_train, y_test = train_test_split(X, y, test_size=0.2, random_state=11)"
   ]
  },
  {
   "cell_type": "code",
   "execution_count": 6,
   "id": "14075822-4a56-4c45-8f3b-8b55d8464965",
   "metadata": {},
   "outputs": [
    {
     "name": "stdout",
     "output_type": "stream",
     "text": [
      "오차행렬\n",
      "[[108  10]\n",
      " [ 14  47]]\n",
      "정확도: 0.8659, 정밀도: 0.8246, 재현율: 0.7705\n"
     ]
    }
   ],
   "source": [
    "lr_clf = LogisticRegression(solver='liblinear')\n",
    "lr_clf.fit (X_train, y_train)\n",
    "pred = lr_clf.predict(X_test)\n",
    "get_clf_eval(y_test, pred)"
   ]
  },
  {
   "cell_type": "markdown",
   "id": "b52278d9-4769-423e-a47c-f54ad9362dd6",
   "metadata": {},
   "source": [
    "정밀도: 내가 맞다고 한 것(fp+tp) 중 맞은 비율\n",
    "재현율: 실제값 중 (fn+tp) 중 내가 맞다고 한 비율"
   ]
  },
  {
   "cell_type": "markdown",
   "id": "2c9cfb4f-d450-4b6a-a835-3aba8537521c",
   "metadata": {
    "tags": []
   },
   "source": [
    "#### 정밀도 재현율 트레이드오프"
   ]
  },
  {
   "cell_type": "code",
   "execution_count": 7,
   "id": "9966a002-1bf7-43f9-a941-6b3443e1ad3f",
   "metadata": {
    "tags": []
   },
   "outputs": [],
   "source": [
    "# 개별 데이터별로 에측 확률을 반환 predict_proba()\n",
    "pred_proba = lr_clf.predict_proba(X_test)"
   ]
  },
  {
   "cell_type": "raw",
   "id": "bee44a57-2c10-4cfc-9b43-1e3cecaa5913",
   "metadata": {},
   "source": [
    "lr_clf.predict_proba(X_test) 결과. \n",
    "array([[0.44935225, 0.55064775],  <--- [0이 될 확률, 1이 될 확률]\n",
    "       [0.86335511, 0.13664489],\n",
    "       [0.86429643, 0.13570357],\n",
    "       [0.84968519, 0.15031481],\n",
    "       [0.82343409, 0.17656591],\n",
    "       ...\n",
    "       \n",
    "       지금은 0.5가 임계값인데 이걸 조정하면 1이 0이 되거나 할 수도 있따"
   ]
  },
  {
   "cell_type": "code",
   "execution_count": 8,
   "id": "0e54498d-5c2b-47bd-9dbd-21e5af1d0560",
   "metadata": {
    "collapsed": true,
    "jupyter": {
     "outputs_hidden": true
    },
    "tags": []
   },
   "outputs": [
    {
     "data": {
      "text/plain": [
       "array([[0.44935225, 0.55064775, 1.        ],\n",
       "       [0.86335511, 0.13664489, 0.        ],\n",
       "       [0.86429643, 0.13570357, 0.        ],\n",
       "       [0.84968519, 0.15031481, 0.        ],\n",
       "       [0.82343409, 0.17656591, 0.        ],\n",
       "       [0.84231224, 0.15768776, 0.        ],\n",
       "       [0.87095489, 0.12904511, 0.        ],\n",
       "       [0.27228603, 0.72771397, 1.        ],\n",
       "       [0.78185128, 0.21814872, 0.        ],\n",
       "       [0.33185998, 0.66814002, 1.        ],\n",
       "       [0.86178763, 0.13821237, 0.        ],\n",
       "       [0.87058097, 0.12941903, 0.        ],\n",
       "       [0.8642595 , 0.1357405 , 0.        ],\n",
       "       [0.87065944, 0.12934056, 0.        ],\n",
       "       [0.56033544, 0.43966456, 0.        ],\n",
       "       [0.85003022, 0.14996978, 0.        ],\n",
       "       [0.88954172, 0.11045828, 0.        ],\n",
       "       [0.74250732, 0.25749268, 0.        ],\n",
       "       [0.71120224, 0.28879776, 0.        ],\n",
       "       [0.23776278, 0.76223722, 1.        ],\n",
       "       [0.75684107, 0.24315893, 0.        ],\n",
       "       [0.62428169, 0.37571831, 0.        ],\n",
       "       [0.84655246, 0.15344754, 0.        ],\n",
       "       [0.82711256, 0.17288744, 0.        ],\n",
       "       [0.86825628, 0.13174372, 0.        ],\n",
       "       [0.77003828, 0.22996172, 0.        ],\n",
       "       [0.82946349, 0.17053651, 0.        ],\n",
       "       [0.90336131, 0.09663869, 0.        ],\n",
       "       [0.73372049, 0.26627951, 0.        ],\n",
       "       [0.68847387, 0.31152613, 0.        ],\n",
       "       [0.07646869, 0.92353131, 1.        ],\n",
       "       [0.2253212 , 0.7746788 , 1.        ],\n",
       "       [0.87161939, 0.12838061, 0.        ],\n",
       "       [0.24075418, 0.75924582, 1.        ],\n",
       "       [0.62711731, 0.37288269, 0.        ],\n",
       "       [0.77003828, 0.22996172, 0.        ],\n",
       "       [0.90554276, 0.09445724, 0.        ],\n",
       "       [0.40602574, 0.59397426, 1.        ],\n",
       "       [0.93043584, 0.06956416, 0.        ],\n",
       "       [0.8765052 , 0.1234948 , 0.        ],\n",
       "       [0.69797422, 0.30202578, 0.        ],\n",
       "       [0.89664595, 0.10335405, 0.        ],\n",
       "       [0.21993379, 0.78006621, 1.        ],\n",
       "       [0.31565713, 0.68434287, 1.        ],\n",
       "       [0.37942228, 0.62057772, 1.        ],\n",
       "       [0.37932891, 0.62067109, 1.        ],\n",
       "       [0.07161281, 0.92838719, 1.        ],\n",
       "       [0.55777586, 0.44222414, 0.        ],\n",
       "       [0.07914487, 0.92085513, 1.        ],\n",
       "       [0.86803082, 0.13196918, 0.        ],\n",
       "       [0.50790057, 0.49209943, 0.        ],\n",
       "       [0.87065944, 0.12934056, 0.        ],\n",
       "       [0.85576405, 0.14423595, 0.        ],\n",
       "       [0.34870129, 0.65129871, 1.        ],\n",
       "       [0.71558417, 0.28441583, 0.        ],\n",
       "       [0.78853206, 0.21146794, 0.        ],\n",
       "       [0.7461921 , 0.2538079 , 0.        ],\n",
       "       [0.86429   , 0.13571   , 0.        ],\n",
       "       [0.84079003, 0.15920997, 0.        ],\n",
       "       [0.59838066, 0.40161934, 0.        ],\n",
       "       [0.73532081, 0.26467919, 0.        ],\n",
       "       [0.88705596, 0.11294404, 0.        ],\n",
       "       [0.545528  , 0.454472  , 0.        ],\n",
       "       [0.55326343, 0.44673657, 0.        ],\n",
       "       [0.62583522, 0.37416478, 0.        ],\n",
       "       [0.88363277, 0.11636723, 0.        ],\n",
       "       [0.35181256, 0.64818744, 1.        ],\n",
       "       [0.39903352, 0.60096648, 1.        ],\n",
       "       [0.08300815, 0.91699185, 1.        ],\n",
       "       [0.85072522, 0.14927478, 0.        ],\n",
       "       [0.86778819, 0.13221181, 0.        ],\n",
       "       [0.83070924, 0.16929076, 0.        ],\n",
       "       [0.87649042, 0.12350958, 0.        ],\n",
       "       [0.05959915, 0.94040085, 1.        ],\n",
       "       [0.78735759, 0.21264241, 0.        ],\n",
       "       [0.87065944, 0.12934056, 0.        ],\n",
       "       [0.716541  , 0.283459  , 0.        ],\n",
       "       [0.79159804, 0.20840196, 0.        ],\n",
       "       [0.20303098, 0.79696902, 1.        ],\n",
       "       [0.86429   , 0.13571   , 0.        ],\n",
       "       [0.2400505 , 0.7599495 , 1.        ],\n",
       "       [0.37123587, 0.62876413, 1.        ],\n",
       "       [0.08369626, 0.91630374, 1.        ],\n",
       "       [0.84018612, 0.15981388, 0.        ],\n",
       "       [0.07766719, 0.92233281, 1.        ],\n",
       "       [0.08973248, 0.91026752, 1.        ],\n",
       "       [0.84723076, 0.15276924, 0.        ],\n",
       "       [0.8624153 , 0.1375847 , 0.        ],\n",
       "       [0.16539734, 0.83460266, 1.        ],\n",
       "       [0.87065944, 0.12934056, 0.        ],\n",
       "       [0.87065944, 0.12934056, 0.        ],\n",
       "       [0.77003828, 0.22996172, 0.        ],\n",
       "       [0.75416744, 0.24583256, 0.        ],\n",
       "       [0.87065944, 0.12934056, 0.        ],\n",
       "       [0.37932891, 0.62067109, 1.        ],\n",
       "       [0.89883889, 0.10116111, 0.        ],\n",
       "       [0.07361403, 0.92638597, 1.        ],\n",
       "       [0.87897226, 0.12102774, 0.        ],\n",
       "       [0.60197825, 0.39802175, 0.        ],\n",
       "       [0.06738996, 0.93261004, 1.        ],\n",
       "       [0.47948281, 0.52051719, 1.        ],\n",
       "       [0.9046927 , 0.0953073 , 0.        ],\n",
       "       [0.05673721, 0.94326279, 1.        ],\n",
       "       [0.88180787, 0.11819213, 0.        ],\n",
       "       [0.45587969, 0.54412031, 1.        ],\n",
       "       [0.86133437, 0.13866563, 0.        ],\n",
       "       [0.84974929, 0.15025071, 0.        ],\n",
       "       [0.85072697, 0.14927303, 0.        ],\n",
       "       [0.55502751, 0.44497249, 0.        ],\n",
       "       [0.88426898, 0.11573102, 0.        ],\n",
       "       [0.84747418, 0.15252582, 0.        ],\n",
       "       [0.87269562, 0.12730438, 0.        ],\n",
       "       [0.67538692, 0.32461308, 0.        ],\n",
       "       [0.48275247, 0.51724753, 1.        ],\n",
       "       [0.86825628, 0.13174372, 0.        ],\n",
       "       [0.9159719 , 0.0840281 , 0.        ],\n",
       "       [0.84194204, 0.15805796, 0.        ],\n",
       "       [0.78872838, 0.21127162, 0.        ],\n",
       "       [0.11141754, 0.88858246, 1.        ],\n",
       "       [0.90534855, 0.09465145, 0.        ],\n",
       "       [0.87071643, 0.12928357, 0.        ],\n",
       "       [0.86905438, 0.13094562, 0.        ],\n",
       "       [0.91525793, 0.08474207, 0.        ],\n",
       "       [0.58196827, 0.41803173, 0.        ],\n",
       "       [0.98025012, 0.01974988, 0.        ],\n",
       "       [0.87071643, 0.12928357, 0.        ],\n",
       "       [0.87219019, 0.12780981, 0.        ],\n",
       "       [0.7119464 , 0.2880536 , 0.        ],\n",
       "       [0.34348899, 0.65651101, 1.        ],\n",
       "       [0.70226693, 0.29773307, 0.        ],\n",
       "       [0.06738996, 0.93261004, 1.        ],\n",
       "       [0.59805546, 0.40194454, 0.        ],\n",
       "       [0.3288534 , 0.6711466 , 1.        ],\n",
       "       [0.48644765, 0.51355235, 1.        ],\n",
       "       [0.42864813, 0.57135187, 1.        ],\n",
       "       [0.56346572, 0.43653428, 0.        ],\n",
       "       [0.25853148, 0.74146852, 1.        ],\n",
       "       [0.77643225, 0.22356775, 0.        ],\n",
       "       [0.87632447, 0.12367553, 0.        ],\n",
       "       [0.15009277, 0.84990723, 1.        ],\n",
       "       [0.13434695, 0.86565305, 1.        ],\n",
       "       [0.85072697, 0.14927303, 0.        ],\n",
       "       [0.86772102, 0.13227898, 0.        ],\n",
       "       [0.89628756, 0.10371244, 0.        ],\n",
       "       [0.88613339, 0.11386661, 0.        ],\n",
       "       [0.34797639, 0.65202361, 1.        ],\n",
       "       [0.89917048, 0.10082952, 0.        ],\n",
       "       [0.72997342, 0.27002658, 0.        ],\n",
       "       [0.12221446, 0.87778554, 1.        ],\n",
       "       [0.8171969 , 0.1828031 , 0.        ],\n",
       "       [0.61865112, 0.38134888, 0.        ],\n",
       "       [0.37370305, 0.62629695, 1.        ],\n",
       "       [0.38348341, 0.61651659, 1.        ],\n",
       "       [0.86463298, 0.13536702, 0.        ],\n",
       "       [0.25161298, 0.74838702, 1.        ],\n",
       "       [0.10388332, 0.89611668, 1.        ],\n",
       "       [0.57648057, 0.42351943, 0.        ],\n",
       "       [0.85476848, 0.14523152, 0.        ],\n",
       "       [0.31415125, 0.68584875, 1.        ],\n",
       "       [0.33907972, 0.66092028, 1.        ],\n",
       "       [0.84347719, 0.15652281, 0.        ],\n",
       "       [0.23261134, 0.76738866, 1.        ],\n",
       "       [0.88859273, 0.11140727, 0.        ],\n",
       "       [0.35220567, 0.64779433, 1.        ],\n",
       "       [0.58554858, 0.41445142, 0.        ],\n",
       "       [0.36143288, 0.63856712, 1.        ],\n",
       "       [0.1363406 , 0.8636594 , 1.        ],\n",
       "       [0.67797005, 0.32202995, 0.        ],\n",
       "       [0.88600083, 0.11399917, 0.        ],\n",
       "       [0.13946115, 0.86053885, 1.        ],\n",
       "       [0.87095489, 0.12904511, 0.        ],\n",
       "       [0.20616022, 0.79383978, 1.        ],\n",
       "       [0.76719902, 0.23280098, 0.        ],\n",
       "       [0.77437244, 0.22562756, 0.        ],\n",
       "       [0.50324048, 0.49675952, 0.        ],\n",
       "       [0.91079838, 0.08920162, 0.        ],\n",
       "       [0.84970738, 0.15029262, 0.        ],\n",
       "       [0.54874087, 0.45125913, 0.        ],\n",
       "       [0.48192063, 0.51807937, 1.        ]])"
      ]
     },
     "execution_count": 8,
     "metadata": {},
     "output_type": "execute_result"
    }
   ],
   "source": [
    "# p.158. \n",
    "# 0, 1로 나온 pred 값(결정값?)이랑 predict_proba()로 받은 확률이랑 붙여놓고 비교\n",
    "np.concatenate([pred_proba, pred.reshape(-1,1)], axis=1)"
   ]
  },
  {
   "cell_type": "code",
   "execution_count": 9,
   "id": "a8618be3-4c91-436f-a295-c840bac16427",
   "metadata": {},
   "outputs": [],
   "source": [
    "# 임계값 설정해주기"
   ]
  },
  {
   "cell_type": "code",
   "execution_count": 10,
   "id": "4b514811-404a-43ea-b143-75462e1845f3",
   "metadata": {},
   "outputs": [],
   "source": [
    "from sklearn.preprocessing import Binarizer"
   ]
  },
  {
   "cell_type": "code",
   "execution_count": 11,
   "id": "7c4f7aa9-be08-4a42-810a-fa6b16645748",
   "metadata": {},
   "outputs": [
    {
     "data": {
      "text/plain": [
       "[[1, -1, 2], [2, 0, 0], [0, 1.1, 1.2]]"
      ]
     },
     "execution_count": 11,
     "metadata": {},
     "output_type": "execute_result"
    }
   ],
   "source": [
    "# 보기 쉽게 간단한 2차원 리스트 만들어주기\n",
    "X = [[1, -1, 2],\n",
    "     [2,0,0],\n",
    "     [0,1.1,1.2],\n",
    "    ]\n",
    "X"
   ]
  },
  {
   "cell_type": "code",
   "execution_count": 12,
   "id": "f017fdc6-6aa1-4bc2-89b2-ea21c6c1a6c3",
   "metadata": {},
   "outputs": [],
   "source": [
    "binarizer = Binarizer(threshold=1.1)\n",
    "# threshold 임계값 디폴트는 0.0인데 1.1로 잡기. \n",
    "# 임계값인 1.1까지는 0, 그보다 크면 1이 됨"
   ]
  },
  {
   "cell_type": "code",
   "execution_count": 13,
   "id": "c5bf937e-2263-4378-921f-db0a9ea16635",
   "metadata": {},
   "outputs": [
    {
     "data": {
      "text/plain": [
       "array([[0., 0., 1.],\n",
       "       [1., 0., 0.],\n",
       "       [0., 0., 1.]])"
      ]
     },
     "execution_count": 13,
     "metadata": {},
     "output_type": "execute_result"
    }
   ],
   "source": [
    "binarizer.fit_transform(X)"
   ]
  },
  {
   "cell_type": "code",
   "execution_count": 14,
   "id": "231549f3-ed9d-4d9e-adf9-3a3040aa599a",
   "metadata": {},
   "outputs": [],
   "source": [
    "# p.160\n",
    "custom_threshold = 0.5"
   ]
  },
  {
   "cell_type": "code",
   "execution_count": 15,
   "id": "7bcdb54d-d47f-4eda-a7ac-6b4c16b2d12f",
   "metadata": {},
   "outputs": [],
   "source": [
    "# pred_proba[:,1] # pred_proba 중에 두번쨰...그것만 가져오기\n",
    "pred_proba_1 = pred_proba[:,1].reshape(-1,1)"
   ]
  },
  {
   "cell_type": "code",
   "execution_count": 16,
   "id": "aca1d2c7-aeb2-4b8c-a5a5-d4626e0284e3",
   "metadata": {},
   "outputs": [],
   "source": [
    "custom_predict = Binarizer(threshold=custom_threshold).fit_transform(pred_proba_1)"
   ]
  },
  {
   "cell_type": "code",
   "execution_count": 17,
   "id": "dc5a4158-5784-4d7b-8d60-ddb2353ce9ae",
   "metadata": {},
   "outputs": [
    {
     "name": "stdout",
     "output_type": "stream",
     "text": [
      "오차행렬\n",
      "[[108  10]\n",
      " [ 14  47]]\n",
      "정확도: 0.8659, 정밀도: 0.8246, 재현율: 0.7705\n"
     ]
    }
   ],
   "source": [
    "# lr_clf = LogisticRegression(solver='liblinear')\n",
    "# lr_clf.fit (X_train, y_train)\n",
    "# pred = lr_clf.predict(X_test)\n",
    "# get_clf_eval(y_test, pred)\n",
    "# 돌렸을 때 임계값 0.5라 \n",
    "# 오차행렬\n",
    "# [[108  10]\n",
    "#  [ 14  47]]\n",
    "# 정확도: 0.8659, 정밀도: 0.8246, 재현율: 0.7705\n",
    "# 똑같이 나옴\n",
    "\n",
    "get_clf_eval(y_test, custom_predict)"
   ]
  },
  {
   "cell_type": "code",
   "execution_count": 18,
   "id": "069b1e6b-f9fb-4c23-abdf-6e0df605e86f",
   "metadata": {},
   "outputs": [
    {
     "name": "stdout",
     "output_type": "stream",
     "text": [
      "오차행렬\n",
      "[[97 21]\n",
      " [11 50]]\n",
      "정확도: 0.8212, 정밀도: 0.7042, 재현율: 0.8197\n"
     ]
    }
   ],
   "source": [
    "custom_threshold=0.4 # 임계값 0.4로 바꿔줌\n",
    "custom_predict = Binarizer(threshold=custom_threshold).fit_transform(pred_proba_1)\n",
    "get_clf_eval(y_test, custom_predict)"
   ]
  },
  {
   "cell_type": "markdown",
   "id": "06569641-f421-49a4-8af0-9ab73bff37e7",
   "metadata": {},
   "source": [
    "임계값 작아지면 재현율 올라감  \n",
    "임계값 커지면 정밀도 올라감"
   ]
  },
  {
   "cell_type": "code",
   "execution_count": 19,
   "id": "9951396e-103a-4657-adf1-ba6c9a6f9817",
   "metadata": {},
   "outputs": [
    {
     "name": "stdout",
     "output_type": "stream",
     "text": [
      "오차행렬\n",
      "[[113   5]\n",
      " [ 17  44]]\n",
      "정확도: 0.8771, 정밀도: 0.8980, 재현율: 0.7213\n"
     ]
    }
   ],
   "source": [
    "custom_threshold=0.6\n",
    "custom_predict = Binarizer(threshold=custom_threshold).fit_transform(pred_proba_1)\n",
    "get_clf_eval(y_test, custom_predict)"
   ]
  },
  {
   "cell_type": "code",
   "execution_count": 20,
   "id": "b050ae40-de6f-4d4f-9ef6-580d6988f31a",
   "metadata": {
    "collapsed": true,
    "jupyter": {
     "outputs_hidden": true
    },
    "tags": []
   },
   "outputs": [
    {
     "name": "stdout",
     "output_type": "stream",
     "text": [
      "오차행렬\n",
      "[[97 21]\n",
      " [11 50]]\n",
      "정확도: 0.8212, 정밀도: 0.7042, 재현율: 0.8197\n",
      "오차행렬\n",
      "[[105  13]\n",
      " [ 13  48]]\n",
      "정확도: 0.8547, 정밀도: 0.7869, 재현율: 0.7869\n",
      "오차행렬\n",
      "[[108  10]\n",
      " [ 14  47]]\n",
      "정확도: 0.8659, 정밀도: 0.8246, 재현율: 0.7705\n",
      "오차행렬\n",
      "[[111   7]\n",
      " [ 16  45]]\n",
      "정확도: 0.8715, 정밀도: 0.8654, 재현율: 0.7377\n",
      "오차행렬\n",
      "[[113   5]\n",
      " [ 17  44]]\n",
      "정확도: 0.8771, 정밀도: 0.8980, 재현율: 0.7213\n"
     ]
    }
   ],
   "source": [
    "# p.161\n",
    "thresholds = [0.4,0.45,0.5,0.55,0.6]\n",
    "def get_eval_by_threshold(y_test, pred_proba_1, thresholds):\n",
    "    for custom_threshold in thresholds:\n",
    "        custom_predict = Binarizer(threshold=custom_threshold).fit_transform(pred_proba_1)\n",
    "        get_clf_eval(y_test, custom_predict)\n",
    "get_eval_by_threshold(y_test, pred_proba_1, thresholds)"
   ]
  },
  {
   "cell_type": "code",
   "execution_count": 21,
   "id": "8c040f72-ed44-4ed1-8878-d267ed17fb1f",
   "metadata": {},
   "outputs": [],
   "source": [
    "# p.162 precision_recall_curve\n",
    "\n",
    "# 임계값에 따른 프리시즌 리콜 값 변화"
   ]
  },
  {
   "cell_type": "code",
   "execution_count": 22,
   "id": "2b417dc2-ff58-4198-a79c-e1355aeec0b8",
   "metadata": {},
   "outputs": [],
   "source": [
    "from sklearn.metrics import precision_recall_curve"
   ]
  },
  {
   "cell_type": "code",
   "execution_count": 24,
   "id": "033228f5-78b9-498f-8474-df3f9b573653",
   "metadata": {
    "tags": []
   },
   "outputs": [],
   "source": [
    "precisions, recalls, thresholds =  precision_recall_curve(y_test, pred_proba_1)\n",
    "# precision 정밀도, recall값, 임게값을 순서대로 반환"
   ]
  },
  {
   "cell_type": "code",
   "execution_count": 26,
   "id": "ea0f9c59-a0bd-4fc3-a55e-b4f5701116dd",
   "metadata": {},
   "outputs": [
    {
     "data": {
      "text/plain": [
       "((148,), (148,), (147,))"
      ]
     },
     "execution_count": 26,
     "metadata": {},
     "output_type": "execute_result"
    }
   ],
   "source": [
    "precisions.shape, recalls.shape, thresholds.shape"
   ]
  },
  {
   "cell_type": "code",
   "execution_count": 28,
   "id": "f7a22866-4672-4320-a1dc-d70fc1846625",
   "metadata": {},
   "outputs": [],
   "source": [
    "# 각각 10개씩만 뽑아서 그래프 그려보자\n",
    "thr_index = np.arange(0,thresholds.shape[0], 15)"
   ]
  },
  {
   "cell_type": "code",
   "execution_count": 29,
   "id": "894c35b1-458c-4305-a1f3-a4554ece0a1e",
   "metadata": {},
   "outputs": [
    {
     "data": {
      "text/plain": [
       "array([  0,  15,  30,  45,  60,  75,  90, 105, 120, 135])"
      ]
     },
     "execution_count": 29,
     "metadata": {},
     "output_type": "execute_result"
    }
   ],
   "source": [
    "thr_index"
   ]
  },
  {
   "cell_type": "code",
   "execution_count": 32,
   "id": "70c0f60b-6c6c-4ee2-b4fa-d729c850b854",
   "metadata": {},
   "outputs": [
    {
     "data": {
      "text/plain": [
       "array([0.12, 0.13, 0.15, 0.17, 0.26, 0.38, 0.49, 0.63, 0.76, 0.9 ])"
      ]
     },
     "execution_count": 32,
     "metadata": {},
     "output_type": "execute_result"
    }
   ],
   "source": [
    "np.round(thresholds[thr_index],2)"
   ]
  },
  {
   "cell_type": "code",
   "execution_count": 33,
   "id": "27fc6d42-a5a6-4296-9f94-8f7d9ba0d2f1",
   "metadata": {},
   "outputs": [
    {
     "data": {
      "text/plain": [
       "array([0.379, 0.424, 0.455, 0.519, 0.618, 0.676, 0.797, 0.93 , 0.964,\n",
       "       1.   ])"
      ]
     },
     "execution_count": 33,
     "metadata": {},
     "output_type": "execute_result"
    }
   ],
   "source": [
    "np.round(precisions[thr_index],3)"
   ]
  },
  {
   "cell_type": "code",
   "execution_count": 35,
   "id": "235f52ff-ad7a-459a-b988-dc3025bc9245",
   "metadata": {},
   "outputs": [
    {
     "data": {
      "text/plain": [
       "array([1.   , 0.967, 0.902, 0.902, 0.902, 0.82 , 0.77 , 0.656, 0.443,\n",
       "       0.213])"
      ]
     },
     "execution_count": 35,
     "metadata": {},
     "output_type": "execute_result"
    }
   ],
   "source": [
    "np.round(recalls[thr_index],3)"
   ]
  },
  {
   "cell_type": "code",
   "execution_count": 36,
   "id": "04c245f4-93ff-4e35-90bb-8063bb89dd70",
   "metadata": {},
   "outputs": [],
   "source": [
    "# 그래프로 그리기. 재현율과 정밀도가 겹치는 부분?!\n",
    "import matplotlib.pyplot as plt"
   ]
  },
  {
   "cell_type": "code",
   "execution_count": 42,
   "id": "44af03c1-79fe-4b96-b7e2-fc45c99138b1",
   "metadata": {},
   "outputs": [],
   "source": [
    "def prcision_recall_curve_plot(y_test, pred_proba_1):\n",
    "    from sklearn.metrics import precision_recall_curve\n",
    "    import matplotlib.pyplot as plt\n",
    "    precisions, recalls, thresholds =  precision_recall_curve(y_test, pred_proba_1)\n",
    "    # x축 임계값에 따른 축 리콜, 프리시즌값 나타내기\n",
    "    plt.figure(figsize=(4,3))\n",
    "    threshold_boundary = thresholds.shape[0] \n",
    "    plt.plot(thresholds, precisions[0:threshold_boundary], linestyle='--', label='precisions') \n",
    "    # precisions[0:threshold_boundary] 개수가 하나 차이나서 마지막꺼 뺌\n",
    "    plt.plot(thresholds, recalls[0:threshold_boundary], label='recalls')\n",
    "    # x축이 어디부터 어디까지인지...? 음????\n",
    "    # x축의 시작값이랑 끝값을 start, end에 넣어줌\n",
    "    start, end = plt.xlim() \n",
    "    # x축 눈금을 0.1단위로\n",
    "    plt.xticks(np.round(np.arange(start, end, 0.1),2))\n",
    "    # 레이블 달기\n",
    "    plt.xlabel('임계값')\n",
    "    plt.ylabel('정밀도, 재현율')\n",
    "    # 범례\n",
    "    plt.legend()\n",
    "    # 눈금\n",
    "    plt.grid()\n",
    "    # 끄읕!\n",
    "    plt.show()"
   ]
  },
  {
   "cell_type": "code",
   "execution_count": 43,
   "id": "30512cf0-4de2-4a29-bd30-dc30f8478c1f",
   "metadata": {},
   "outputs": [
    {
     "name": "stdout",
     "output_type": "stream",
     "text": [
      "0.07435443475012565 0.984639379155035\n"
     ]
    },
    {
     "data": {
      "image/png": "[encoded data removed]",
      "text/plain": [
       "<Figure size 400x300 with 1 Axes>"
      ]
     },
     "metadata": {},
     "output_type": "display_data"
    }
   ],
   "source": [
    "prcision_recall_curve_plot(y_test, pred_proba_1)"
   ]
  },
  {
   "cell_type": "markdown",
   "id": "b315382d-507d-4853-a0ac-ef3308745930",
   "metadata": {},
   "source": [
    "#### 정밀도와 재현율의 맹점\n",
    "대략 어느 한쪽만 높여봤자 의미없다~~ 는 얘기"
   ]
  },
  {
   "cell_type": "markdown",
   "id": "d42a07b0-d0ad-4c6f-8d15-a1349c554cbb",
   "metadata": {},
   "source": [
    "### 3.4 F1스코어\n",
    "정밀도와 재현율을 결합한 지표. 정밀도 재현율 어느 한쪽으로 치우치지 않을 때 F1 스코어가 높게 나온당\n",
    "metrix에 있음"
   ]
  },
  {
   "cell_type": "code",
   "execution_count": 44,
   "id": "ae436abb-439d-414a-ab17-0928d4b0bcfe",
   "metadata": {},
   "outputs": [],
   "source": [
    "# p.166\n",
    "\n",
    "from sklearn.metrics import f1_score"
   ]
  },
  {
   "cell_type": "code",
   "execution_count": 45,
   "id": "0fa78a17-cc65-4f4f-ba96-0952f5179944",
   "metadata": {},
   "outputs": [
    {
     "data": {
      "text/plain": [
       "0.7966101694915254"
      ]
     },
     "execution_count": 45,
     "metadata": {},
     "output_type": "execute_result"
    }
   ],
   "source": [
    "f1_score(y_test, pred)"
   ]
  },
  {
   "cell_type": "code",
   "execution_count": 48,
   "id": "3cf637ed-7920-4741-86d3-47f75e7a0be1",
   "metadata": {},
   "outputs": [
    {
     "name": "stdout",
     "output_type": "stream",
     "text": [
      "임계값: 0.4\n",
      "오차행렬\n",
      "[[97 21]\n",
      " [11 50]]\n",
      "정확도: 0.8212, 정밀도: 0.7042, 재현율: 0.8197, F1: 0.7576\n",
      "--------------------------------\n",
      "임계값: 0.45\n",
      "오차행렬\n",
      "[[105  13]\n",
      " [ 13  48]]\n",
      "정확도: 0.8547, 정밀도: 0.7869, 재현율: 0.7869, F1: 0.7869\n",
      "--------------------------------\n",
      "임계값: 0.5\n",
      "오차행렬\n",
      "[[108  10]\n",
      " [ 14  47]]\n",
      "정확도: 0.8659, 정밀도: 0.8246, 재현율: 0.7705, F1: 0.7966\n",
      "--------------------------------\n",
      "임계값: 0.55\n",
      "오차행렬\n",
      "[[111   7]\n",
      " [ 16  45]]\n",
      "정확도: 0.8715, 정밀도: 0.8654, 재현율: 0.7377, F1: 0.7965\n",
      "--------------------------------\n",
      "임계값: 0.6\n",
      "오차행렬\n",
      "[[113   5]\n",
      " [ 17  44]]\n",
      "정확도: 0.8771, 정밀도: 0.8980, 재현율: 0.7213, F1: 0.8000\n",
      "--------------------------------\n"
     ]
    }
   ],
   "source": [
    "def get_clf_eval(y_test, pred):\n",
    "    from sklearn.metrics import accuracy_score, precision_score, recall_score, confusion_matrix, f1_score\n",
    "    confusion = confusion_matrix(y_test, pred)\n",
    "    accuracy = accuracy_score(y_test, pred)\n",
    "    precision = precision_score(y_test, pred)\n",
    "    recall = recall_score(y_test, pred)\n",
    "    f1 = f1_score(y_test, pred)\n",
    "    \n",
    "    print ('오차행렬')\n",
    "    print (confusion)\n",
    "    print (f'정확도: {accuracy:.4f}, 정밀도: {precision:.4f}, 재현율: {recall:.4f}, F1: {f1:.4f}')\n",
    "    print('--------------------------------')\n",
    "    \n",
    "    \n",
    "thresholds = [0.4,0.45,0.5,0.55,0.6]\n",
    "def get_eval_by_threshold(y_test, pred_proba_1, thresholds):\n",
    "    for custom_threshold in thresholds:\n",
    "        custom_predict = Binarizer(threshold=custom_threshold).fit_transform(pred_proba_1)\n",
    "        print (f'임계값: {custom_threshold}')\n",
    "        get_clf_eval(y_test, custom_predict)\n",
    "get_eval_by_threshold(y_test, pred_proba_1, thresholds)"
   ]
  },
  {
   "cell_type": "markdown",
   "id": "9f403cf1-b161-4e79-8fdb-e26ea5d5df6f",
   "metadata": {},
   "source": [
    "### 3.5 ROC 곡선과 AUC\n",
    "ROC 곡선 아래부분 넓이가 AUC (AUC 스코어) . 1에 가까울 수록 좋다\n",
    "ROC 곡선 수신자 판단 곡선 receiver operation characteristic. fpr이 변할 때 tpr(재현율)이 어떻게 변하는지 나타내는 곡선\n",
    "\n",
    "?????\n",
    "\n",
    "녜???ㅠㅠㅠ"
   ]
  },
  {
   "cell_type": "code",
   "execution_count": 49,
   "id": "7eedbc96-64d4-49db-b14b-b7e6b81eb1ce",
   "metadata": {},
   "outputs": [],
   "source": [
    "# p.169\n",
    "from sklearn.metrics import roc_curve"
   ]
  },
  {
   "cell_type": "code",
   "execution_count": 50,
   "id": "9f0ec5fd-b639-4c09-993f-f6a7a1f1d13b",
   "metadata": {
    "collapsed": true,
    "jupyter": {
     "outputs_hidden": true
    },
    "tags": []
   },
   "outputs": [
    {
     "data": {
      "text/plain": [
       "(array([0.        , 0.        , 0.        , 0.        , 0.        ,\n",
       "        0.00847458, 0.00847458, 0.01694915, 0.01694915, 0.02542373,\n",
       "        0.02542373, 0.02542373, 0.04237288, 0.04237288, 0.05932203,\n",
       "        0.05932203, 0.07627119, 0.07627119, 0.10169492, 0.10169492,\n",
       "        0.12711864, 0.12711864, 0.16949153, 0.16949153, 0.20338983,\n",
       "        0.20338983, 0.25423729, 0.25423729, 0.3220339 , 0.34745763,\n",
       "        0.55932203, 0.57627119, 0.59322034, 0.59322034, 0.60169492,\n",
       "        0.60169492, 0.61016949, 0.61864407, 0.66101695, 0.6779661 ,\n",
       "        0.69491525, 0.74576271, 0.77966102, 0.8220339 , 0.8220339 ,\n",
       "        0.84745763, 0.84745763, 1.        ]),\n",
       " array([0.        , 0.01639344, 0.03278689, 0.06557377, 0.24590164,\n",
       "        0.24590164, 0.49180328, 0.49180328, 0.63934426, 0.63934426,\n",
       "        0.67213115, 0.70491803, 0.70491803, 0.72131148, 0.72131148,\n",
       "        0.73770492, 0.73770492, 0.7704918 , 0.7704918 , 0.78688525,\n",
       "        0.78688525, 0.80327869, 0.80327869, 0.81967213, 0.81967213,\n",
       "        0.8852459 , 0.8852459 , 0.90163934, 0.90163934, 0.90163934,\n",
       "        0.90163934, 0.90163934, 0.90163934, 0.91803279, 0.91803279,\n",
       "        0.95081967, 0.95081967, 0.96721311, 0.96721311, 0.96721311,\n",
       "        0.96721311, 0.96721311, 0.96721311, 0.96721311, 0.98360656,\n",
       "        0.98360656, 1.        , 1.        ]),\n",
       " array([1.94326279, 0.94326279, 0.94040085, 0.93261004, 0.87778554,\n",
       "        0.86565305, 0.72771397, 0.68584875, 0.64779433, 0.63856712,\n",
       "        0.62629695, 0.62067109, 0.61651659, 0.60096648, 0.57135187,\n",
       "        0.55064775, 0.52051719, 0.51724753, 0.49209943, 0.454472  ,\n",
       "        0.44497249, 0.44222414, 0.41445142, 0.40194454, 0.37571831,\n",
       "        0.32202995, 0.28441583, 0.283459  , 0.23280098, 0.22996172,\n",
       "        0.14927478, 0.14927303, 0.14423595, 0.13866563, 0.13821237,\n",
       "        0.13664489, 0.1357405 , 0.13571   , 0.13196918, 0.13174372,\n",
       "        0.12941903, 0.12934056, 0.12904511, 0.12350958, 0.1234948 ,\n",
       "        0.11636723, 0.11573102, 0.01974988]))"
      ]
     },
     "execution_count": 50,
     "metadata": {},
     "output_type": "execute_result"
    }
   ],
   "source": [
    "roc_curve(y_test, pred_proba_1)\n",
    "# fpr, tpr(=민감도=재현율), thresholds 순으로 return"
   ]
  },
  {
   "cell_type": "code",
   "execution_count": 56,
   "id": "d75e4801-86c8-4c74-a99b-0c2a32a8432e",
   "metadata": {},
   "outputs": [],
   "source": [
    "# p.170\n",
    "# 그래프 그리기\n",
    "def roc_curve_plot(y_test, pred_proba_1):\n",
    "    from sklearn.metrics import roc_curve\n",
    "    import matplotlib.pyplot as plt\n",
    "    \n",
    "    fprs, tprs, thresholds = roc_curve(y_test, pred_proba_1)\n",
    "    plt.plot(fprs, tprs, label='ROC')\n",
    "    plt.plot([0,1], [0,1], 'k--', label='Random') # 정비례 직선\n",
    "    \n",
    "    plt.legend()\n",
    "    plt.show()"
   ]
  },
  {
   "cell_type": "code",
   "execution_count": 57,
   "id": "7d7e2fdd-f9ae-4113-8116-27485e8acd12",
   "metadata": {},
   "outputs": [
    {
     "data": {
      "image/png": "[encoded data removed]",
      "text/plain": [
       "<Figure size 640x480 with 1 Axes>"
      ]
     },
     "metadata": {},
     "output_type": "display_data"
    }
   ],
   "source": [
    "roc_curve_plot(y_test, pred_proba_1)"
   ]
  },
  {
   "cell_type": "code",
   "execution_count": 59,
   "id": "082e411d-888f-4a74-8171-69d9744d65ef",
   "metadata": {},
   "outputs": [],
   "source": [
    "# p.171\n",
    "from sklearn.metrics import roc_auc_score"
   ]
  },
  {
   "cell_type": "code",
   "execution_count": 60,
   "id": "1e312dad-01f2-432c-941b-412d39679bb8",
   "metadata": {},
   "outputs": [
    {
     "data": {
      "text/plain": [
       "0.8986524034454015"
      ]
     },
     "execution_count": 60,
     "metadata": {},
     "output_type": "execute_result"
    }
   ],
   "source": [
    "roc_auc_score(y_test, pred_proba_1)"
   ]
  },
  {
   "cell_type": "code",
   "execution_count": null,
   "id": "ddf16993-fbcb-4a76-a575-ef4d9e21156c",
   "metadata": {},
   "outputs": [],
   "source": [
    "# p.172\n",
    "\n",
    "def get_clf_eval(y_test, pred):\n",
    "    from sklearn.metrics import accuracy_score, precision_score, recall_score, confusion_matrix, f1_score, roc_auc_score\n",
    "    confusion = confusion_matrix(y_test, pred)\n",
    "    accuracy = accuracy_score(y_test, pred)\n",
    "    precision = precision_score(y_test, pred)\n",
    "    recall = recall_score(y_test, pred)\n",
    "    f1 = f1_score(y_test, pred)\n",
    "    auc = roc_auc_score(y_test, pred_proba_1)\n",
    "    \n",
    "    print ('오차행렬')\n",
    "    print (confusion)\n",
    "    print (f'정확도: {accuracy:.4f}, 정밀도: {precision:.4f}, 재현율: {recall:.4f}, F1: {f1:.4f}, AUC: {auc:.4f}')\n",
    "    print('--------------------------------')\n",
    "    \n"
   ]
  },
  {
   "cell_type": "markdown",
   "id": "0f556477-f1d2-4a69-82d1-63524dfd5a84",
   "metadata": {},
   "source": [
    "### 3.6 피마 인디언 당뇨병 예측"
   ]
  },
  {
   "cell_type": "code",
   "execution_count": 1,
   "id": "a7488ee1-f27d-438d-ab96-26ba6d13cf21",
   "metadata": {},
   "outputs": [],
   "source": [
    "import numpy as np\n",
    "import pandas as pd\n",
    "import matplotlib.pyplot as plt\n",
    "from sklearn.model_selection import train_test_split\n",
    "from sklearn.preprocessing import StandardScaler\n",
    "from sklearn.linear_model import LogisticRegression\n"
   ]
  },
  {
   "cell_type": "code",
   "execution_count": 3,
   "id": "48a14211-9c1f-4bb3-bb24-992df6594706",
   "metadata": {},
   "outputs": [],
   "source": [
    "df = pd.read_csv('diabetes.csv')"
   ]
  },
  {
   "cell_type": "code",
   "execution_count": 4,
   "id": "a5efc2c5-2d05-4a55-b0ac-7c2320cdd4e8",
   "metadata": {},
   "outputs": [
    {
     "data": {
      "text/html": [
       "<div>\n",
       "<style scoped>\n",
       "    .dataframe tbody tr th:only-of-type {\n",
       "        vertical-align: middle;\n",
       "    }\n",
       "\n",
       "    .dataframe tbody tr th {\n",
       "        vertical-align: top;\n",
       "    }\n",
       "\n",
       "    .dataframe thead th {\n",
       "        text-align: right;\n",
       "    }\n",
       "</style>\n",
       "<table border=\"1\" class=\"dataframe\">\n",
       "  <thead>\n",
       "    <tr style=\"text-align: right;\">\n",
       "      <th></th>\n",
       "      <th>Pregnancies</th>\n",
       "      <th>Glucose</th>\n",
       "      <th>BloodPressure</th>\n",
       "      <th>SkinThickness</th>\n",
       "      <th>Insulin</th>\n",
       "      <th>BMI</th>\n",
       "      <th>DiabetesPedigreeFunction</th>\n",
       "      <th>Age</th>\n",
       "      <th>Outcome</th>\n",
       "    </tr>\n",
       "  </thead>\n",
       "  <tbody>\n",
       "    <tr>\n",
       "      <th>654</th>\n",
       "      <td>1</td>\n",
       "      <td>106</td>\n",
       "      <td>70</td>\n",
       "      <td>28</td>\n",
       "      <td>135</td>\n",
       "      <td>34.2</td>\n",
       "      <td>0.142</td>\n",
       "      <td>22</td>\n",
       "      <td>0</td>\n",
       "    </tr>\n",
       "    <tr>\n",
       "      <th>474</th>\n",
       "      <td>4</td>\n",
       "      <td>114</td>\n",
       "      <td>64</td>\n",
       "      <td>0</td>\n",
       "      <td>0</td>\n",
       "      <td>28.9</td>\n",
       "      <td>0.126</td>\n",
       "      <td>24</td>\n",
       "      <td>0</td>\n",
       "    </tr>\n",
       "    <tr>\n",
       "      <th>275</th>\n",
       "      <td>2</td>\n",
       "      <td>100</td>\n",
       "      <td>70</td>\n",
       "      <td>52</td>\n",
       "      <td>57</td>\n",
       "      <td>40.5</td>\n",
       "      <td>0.677</td>\n",
       "      <td>25</td>\n",
       "      <td>0</td>\n",
       "    </tr>\n",
       "  </tbody>\n",
       "</table>\n",
       "</div>"
      ],
      "text/plain": [
       "     Pregnancies  Glucose  BloodPressure  SkinThickness  Insulin   BMI  \\\n",
       "654            1      106             70             28      135  34.2   \n",
       "474            4      114             64              0        0  28.9   \n",
       "275            2      100             70             52       57  40.5   \n",
       "\n",
       "     DiabetesPedigreeFunction  Age  Outcome  \n",
       "654                     0.142   22        0  \n",
       "474                     0.126   24        0  \n",
       "275                     0.677   25        0  "
      ]
     },
     "execution_count": 4,
     "metadata": {},
     "output_type": "execute_result"
    }
   ],
   "source": [
    "df.sample(3)"
   ]
  },
  {
   "cell_type": "code",
   "execution_count": 5,
   "id": "0917ac1c-725c-4484-bff2-ca8d51d938ab",
   "metadata": {},
   "outputs": [
    {
     "name": "stdout",
     "output_type": "stream",
     "text": [
      "<class 'pandas.core.frame.DataFrame'>\n",
      "RangeIndex: 768 entries, 0 to 767\n",
      "Data columns (total 9 columns):\n",
      " #   Column                    Non-Null Count  Dtype  \n",
      "---  ------                    --------------  -----  \n",
      " 0   Pregnancies               768 non-null    int64  \n",
      " 1   Glucose                   768 non-null    int64  \n",
      " 2   BloodPressure             768 non-null    int64  \n",
      " 3   SkinThickness             768 non-null    int64  \n",
      " 4   Insulin                   768 non-null    int64  \n",
      " 5   BMI                       768 non-null    float64\n",
      " 6   DiabetesPedigreeFunction  768 non-null    float64\n",
      " 7   Age                       768 non-null    int64  \n",
      " 8   Outcome                   768 non-null    int64  \n",
      "dtypes: float64(2), int64(7)\n",
      "memory usage: 54.1 KB\n"
     ]
    }
   ],
   "source": [
    "df.info()"
   ]
  },
  {
   "cell_type": "code",
   "execution_count": 7,
   "id": "f8580992-2658-4065-a693-47a489ba97d6",
   "metadata": {},
   "outputs": [
    {
     "data": {
      "text/plain": [
       "0    500\n",
       "1    268\n",
       "Name: Outcome, dtype: int64"
      ]
     },
     "execution_count": 7,
     "metadata": {},
     "output_type": "execute_result"
    }
   ],
   "source": [
    "# 결정값? 레이블값?\n",
    "\n",
    "df.Outcome.value_counts()"
   ]
  },
  {
   "cell_type": "code",
   "execution_count": 8,
   "id": "d36c9773-2f60-4a6e-af4a-f3cb84a3266f",
   "metadata": {},
   "outputs": [],
   "source": [
    "# p.175\n",
    "X = df.drop(columns=['Outcome'])\n",
    "y = df.Outcome"
   ]
  },
  {
   "cell_type": "code",
   "execution_count": 9,
   "id": "d15743e3-26e2-4190-b6be-46f083b79e11",
   "metadata": {},
   "outputs": [
    {
     "data": {
      "text/html": [
       "<div>\n",
       "<style scoped>\n",
       "    .dataframe tbody tr th:only-of-type {\n",
       "        vertical-align: middle;\n",
       "    }\n",
       "\n",
       "    .dataframe tbody tr th {\n",
       "        vertical-align: top;\n",
       "    }\n",
       "\n",
       "    .dataframe thead th {\n",
       "        text-align: right;\n",
       "    }\n",
       "</style>\n",
       "<table border=\"1\" class=\"dataframe\">\n",
       "  <thead>\n",
       "    <tr style=\"text-align: right;\">\n",
       "      <th></th>\n",
       "      <th>Pregnancies</th>\n",
       "      <th>Glucose</th>\n",
       "      <th>BloodPressure</th>\n",
       "      <th>SkinThickness</th>\n",
       "      <th>Insulin</th>\n",
       "      <th>BMI</th>\n",
       "      <th>DiabetesPedigreeFunction</th>\n",
       "      <th>Age</th>\n",
       "    </tr>\n",
       "  </thead>\n",
       "  <tbody>\n",
       "    <tr>\n",
       "      <th>0</th>\n",
       "      <td>6</td>\n",
       "      <td>148</td>\n",
       "      <td>72</td>\n",
       "      <td>35</td>\n",
       "      <td>0</td>\n",
       "      <td>33.6</td>\n",
       "      <td>0.627</td>\n",
       "      <td>50</td>\n",
       "    </tr>\n",
       "    <tr>\n",
       "      <th>1</th>\n",
       "      <td>1</td>\n",
       "      <td>85</td>\n",
       "      <td>66</td>\n",
       "      <td>29</td>\n",
       "      <td>0</td>\n",
       "      <td>26.6</td>\n",
       "      <td>0.351</td>\n",
       "      <td>31</td>\n",
       "    </tr>\n",
       "    <tr>\n",
       "      <th>2</th>\n",
       "      <td>8</td>\n",
       "      <td>183</td>\n",
       "      <td>64</td>\n",
       "      <td>0</td>\n",
       "      <td>0</td>\n",
       "      <td>23.3</td>\n",
       "      <td>0.672</td>\n",
       "      <td>32</td>\n",
       "    </tr>\n",
       "    <tr>\n",
       "      <th>3</th>\n",
       "      <td>1</td>\n",
       "      <td>89</td>\n",
       "      <td>66</td>\n",
       "      <td>23</td>\n",
       "      <td>94</td>\n",
       "      <td>28.1</td>\n",
       "      <td>0.167</td>\n",
       "      <td>21</td>\n",
       "    </tr>\n",
       "    <tr>\n",
       "      <th>4</th>\n",
       "      <td>0</td>\n",
       "      <td>137</td>\n",
       "      <td>40</td>\n",
       "      <td>35</td>\n",
       "      <td>168</td>\n",
       "      <td>43.1</td>\n",
       "      <td>2.288</td>\n",
       "      <td>33</td>\n",
       "    </tr>\n",
       "    <tr>\n",
       "      <th>...</th>\n",
       "      <td>...</td>\n",
       "      <td>...</td>\n",
       "      <td>...</td>\n",
       "      <td>...</td>\n",
       "      <td>...</td>\n",
       "      <td>...</td>\n",
       "      <td>...</td>\n",
       "      <td>...</td>\n",
       "    </tr>\n",
       "    <tr>\n",
       "      <th>763</th>\n",
       "      <td>10</td>\n",
       "      <td>101</td>\n",
       "      <td>76</td>\n",
       "      <td>48</td>\n",
       "      <td>180</td>\n",
       "      <td>32.9</td>\n",
       "      <td>0.171</td>\n",
       "      <td>63</td>\n",
       "    </tr>\n",
       "    <tr>\n",
       "      <th>764</th>\n",
       "      <td>2</td>\n",
       "      <td>122</td>\n",
       "      <td>70</td>\n",
       "      <td>27</td>\n",
       "      <td>0</td>\n",
       "      <td>36.8</td>\n",
       "      <td>0.340</td>\n",
       "      <td>27</td>\n",
       "    </tr>\n",
       "    <tr>\n",
       "      <th>765</th>\n",
       "      <td>5</td>\n",
       "      <td>121</td>\n",
       "      <td>72</td>\n",
       "      <td>23</td>\n",
       "      <td>112</td>\n",
       "      <td>26.2</td>\n",
       "      <td>0.245</td>\n",
       "      <td>30</td>\n",
       "    </tr>\n",
       "    <tr>\n",
       "      <th>766</th>\n",
       "      <td>1</td>\n",
       "      <td>126</td>\n",
       "      <td>60</td>\n",
       "      <td>0</td>\n",
       "      <td>0</td>\n",
       "      <td>30.1</td>\n",
       "      <td>0.349</td>\n",
       "      <td>47</td>\n",
       "    </tr>\n",
       "    <tr>\n",
       "      <th>767</th>\n",
       "      <td>1</td>\n",
       "      <td>93</td>\n",
       "      <td>70</td>\n",
       "      <td>31</td>\n",
       "      <td>0</td>\n",
       "      <td>30.4</td>\n",
       "      <td>0.315</td>\n",
       "      <td>23</td>\n",
       "    </tr>\n",
       "  </tbody>\n",
       "</table>\n",
       "<p>768 rows × 8 columns</p>\n",
       "</div>"
      ],
      "text/plain": [
       "     Pregnancies  Glucose  BloodPressure  SkinThickness  Insulin   BMI  \\\n",
       "0              6      148             72             35        0  33.6   \n",
       "1              1       85             66             29        0  26.6   \n",
       "2              8      183             64              0        0  23.3   \n",
       "3              1       89             66             23       94  28.1   \n",
       "4              0      137             40             35      168  43.1   \n",
       "..           ...      ...            ...            ...      ...   ...   \n",
       "763           10      101             76             48      180  32.9   \n",
       "764            2      122             70             27        0  36.8   \n",
       "765            5      121             72             23      112  26.2   \n",
       "766            1      126             60              0        0  30.1   \n",
       "767            1       93             70             31        0  30.4   \n",
       "\n",
       "     DiabetesPedigreeFunction  Age  \n",
       "0                       0.627   50  \n",
       "1                       0.351   31  \n",
       "2                       0.672   32  \n",
       "3                       0.167   21  \n",
       "4                       2.288   33  \n",
       "..                        ...  ...  \n",
       "763                     0.171   63  \n",
       "764                     0.340   27  \n",
       "765                     0.245   30  \n",
       "766                     0.349   47  \n",
       "767                     0.315   23  \n",
       "\n",
       "[768 rows x 8 columns]"
      ]
     },
     "execution_count": 9,
     "metadata": {},
     "output_type": "execute_result"
    }
   ],
   "source": [
    "X"
   ]
  },
  {
   "cell_type": "code",
   "execution_count": 10,
   "id": "705db36d-9e8b-4036-8fee-7f3a8d961c9a",
   "metadata": {},
   "outputs": [
    {
     "data": {
      "text/plain": [
       "0      1\n",
       "1      0\n",
       "2      1\n",
       "3      0\n",
       "4      1\n",
       "      ..\n",
       "763    0\n",
       "764    0\n",
       "765    0\n",
       "766    1\n",
       "767    0\n",
       "Name: Outcome, Length: 768, dtype: int64"
      ]
     },
     "execution_count": 10,
     "metadata": {},
     "output_type": "execute_result"
    }
   ],
   "source": [
    "y"
   ]
  },
  {
   "cell_type": "code",
   "execution_count": 11,
   "id": "87732cf8-6075-47a3-b5e1-82a89d4bc391",
   "metadata": {},
   "outputs": [],
   "source": [
    "X_tranin, X_test, y_train, y_test = train_test_split(X, y, test_size=0.2, random_state=156, stratify=y)\n",
    "# stratify 비율따져야징 한쪽에 0이나 1이 쏠리지 않게\n",
    "lr_clf = LogisticRegression(solver='liblinear')\n",
    "lr_clf.fit (X_tranin, y_train)\n",
    "#여기서부터 모르겠답...!\n",
    "pred = lr_clf.predict(X_test)\n",
    "pred_proba = lr_clf.predict_proba(X_test)[:,1]"
   ]
  },
  {
   "cell_type": "code",
   "execution_count": 16,
   "id": "a5043615-e71f-4f16-a152-92446132a16c",
   "metadata": {},
   "outputs": [],
   "source": [
    "# 함수 모음\n",
    "def get_clf_eval(y_test, pred, pred_proba_1):\n",
    "    from sklearn.metrics import accuracy_score, precision_score, recall_score, confusion_matrix, f1_score, roc_auc_score\n",
    "    confusion = confusion_matrix(y_test, pred)\n",
    "    accuracy = accuracy_score(y_test, pred)\n",
    "    precision = precision_score(y_test, pred)\n",
    "    recall = recall_score(y_test, pred)\n",
    "    f1 = f1_score(y_test, pred)\n",
    "    auc = roc_auc_score(y_test, pred_proba_1)\n",
    "    \n",
    "    print ('오차행렬')\n",
    "    print (confusion)\n",
    "    print (f'정확도: {accuracy:.4f}, 정밀도: {precision:.4f}, 재현율: {recall:.4f}, F1: {f1:.4f}, AUC: {auc:.4f}')\n",
    "    print('--------------------------------')\n",
    "    \n",
    "# 머시기 그래프 그리는 함수\n",
    "def prcision_recall_curve_plot(y_test, pred_proba_1):\n",
    "    from sklearn.metrics import precision_recall_curve\n",
    "    import matplotlib.pyplot as plt\n",
    "    precisions, recalls, thresholds =  precision_recall_curve(y_test, pred_proba_1)\n",
    "    # x축 임계값에 따른 축 리콜, 프리시즌값 나타내기\n",
    "    plt.figure(figsize=(5,3))\n",
    "    threshold_boundary = thresholds.shape[0] \n",
    "    plt.plot(thresholds, precisions[0:threshold_boundary], linestyle='--', label='precisions') \n",
    "    # precisions[0:threshold_boundary] 개수가 하나 차이나서 마지막꺼 뺌\n",
    "    plt.plot(thresholds, recalls[0:threshold_boundary], label='recalls')\n",
    "    # x축이 어디부터 어디까지인지...? 음????\n",
    "    # x축의 시작값이랑 끝값을 start, end에 넣어줌\n",
    "    start, end = plt.xlim() \n",
    "    # x축 눈금을 0.1단위로\n",
    "    plt.xticks(np.round(np.arange(start, end, 0.1),2))\n",
    "    # 레이블 달기\n",
    "    plt.xlabel('임계값')\n",
    "    plt.ylabel('정밀도, 재현율')\n",
    "    # 범례\n",
    "    plt.legend()\n",
    "    # 눈금\n",
    "    plt.grid()\n",
    "    # 끄읕!\n",
    "    plt.show()\n",
    "    "
   ]
  },
  {
   "cell_type": "code",
   "execution_count": 13,
   "id": "08b85dba-06a4-4d07-83b5-bd4c6c6d1676",
   "metadata": {},
   "outputs": [
    {
     "name": "stdout",
     "output_type": "stream",
     "text": [
      "오차행렬\n",
      "[[87 13]\n",
      " [22 32]]\n",
      "정확도: 0.7727, 정밀도: 0.7111, 재현율: 0.5926, F1: 0.6465, AUC: 0.8083\n",
      "--------------------------------\n"
     ]
    }
   ],
   "source": [
    "get_clf_eval(y_test, pred, pred_proba)"
   ]
  },
  {
   "cell_type": "raw",
   "id": "dfe2423c-c9b3-4bf8-8811-da6b689e65d6",
   "metadata": {},
   "source": [
    "오차행렬\n",
    "[[87 13]\n",
    " [22 32]]\n",
    "정확도: 0.7727, 정밀도: 0.7111, 재현율: 0.5926, F1: 0.6465, AUC: 0.8083\n",
    "재현율 : 32/22+32"
   ]
  },
  {
   "cell_type": "code",
   "execution_count": 17,
   "id": "10023d2f-a1bc-4d30-81a8-dfbd2b7cdbd4",
   "metadata": {},
   "outputs": [
    {
     "name": "stderr",
     "output_type": "stream",
     "text": [
      "C:\\Users\\user\\anaconda3\\lib\\site-packages\\IPython\\core\\pylabtools.py:151: UserWarning: Glyph 8722 (\\N{MINUS SIGN}) missing from current font.\n",
      "  fig.canvas.print_figure(bytes_io, **kw)\n"
     ]
    },
    {
     "data": {
      "image/png": "[encoded data removed]",
      "text/plain": [
       "<Figure size 500x300 with 1 Axes>"
      ]
     },
     "metadata": {},
     "output_type": "display_data"
    }
   ],
   "source": [
    "prcision_recall_curve_plot(y_test, pred_proba)"
   ]
  },
  {
   "cell_type": "code",
   "execution_count": 18,
   "id": "2dcd5586-f11d-434f-9ded-f8a2f184258b",
   "metadata": {},
   "outputs": [
    {
     "data": {
      "text/html": [
       "<div>\n",
       "<style scoped>\n",
       "    .dataframe tbody tr th:only-of-type {\n",
       "        vertical-align: middle;\n",
       "    }\n",
       "\n",
       "    .dataframe tbody tr th {\n",
       "        vertical-align: top;\n",
       "    }\n",
       "\n",
       "    .dataframe thead th {\n",
       "        text-align: right;\n",
       "    }\n",
       "</style>\n",
       "<table border=\"1\" class=\"dataframe\">\n",
       "  <thead>\n",
       "    <tr style=\"text-align: right;\">\n",
       "      <th></th>\n",
       "      <th>Pregnancies</th>\n",
       "      <th>Glucose</th>\n",
       "      <th>BloodPressure</th>\n",
       "      <th>SkinThickness</th>\n",
       "      <th>Insulin</th>\n",
       "      <th>BMI</th>\n",
       "      <th>DiabetesPedigreeFunction</th>\n",
       "      <th>Age</th>\n",
       "      <th>Outcome</th>\n",
       "    </tr>\n",
       "  </thead>\n",
       "  <tbody>\n",
       "    <tr>\n",
       "      <th>count</th>\n",
       "      <td>768.000000</td>\n",
       "      <td>768.000000</td>\n",
       "      <td>768.000000</td>\n",
       "      <td>768.000000</td>\n",
       "      <td>768.000000</td>\n",
       "      <td>768.000000</td>\n",
       "      <td>768.000000</td>\n",
       "      <td>768.000000</td>\n",
       "      <td>768.000000</td>\n",
       "    </tr>\n",
       "    <tr>\n",
       "      <th>mean</th>\n",
       "      <td>3.845052</td>\n",
       "      <td>120.894531</td>\n",
       "      <td>69.105469</td>\n",
       "      <td>20.536458</td>\n",
       "      <td>79.799479</td>\n",
       "      <td>31.992578</td>\n",
       "      <td>0.471876</td>\n",
       "      <td>33.240885</td>\n",
       "      <td>0.348958</td>\n",
       "    </tr>\n",
       "    <tr>\n",
       "      <th>std</th>\n",
       "      <td>3.369578</td>\n",
       "      <td>31.972618</td>\n",
       "      <td>19.355807</td>\n",
       "      <td>15.952218</td>\n",
       "      <td>115.244002</td>\n",
       "      <td>7.884160</td>\n",
       "      <td>0.331329</td>\n",
       "      <td>11.760232</td>\n",
       "      <td>0.476951</td>\n",
       "    </tr>\n",
       "    <tr>\n",
       "      <th>min</th>\n",
       "      <td>0.000000</td>\n",
       "      <td>0.000000</td>\n",
       "      <td>0.000000</td>\n",
       "      <td>0.000000</td>\n",
       "      <td>0.000000</td>\n",
       "      <td>0.000000</td>\n",
       "      <td>0.078000</td>\n",
       "      <td>21.000000</td>\n",
       "      <td>0.000000</td>\n",
       "    </tr>\n",
       "    <tr>\n",
       "      <th>25%</th>\n",
       "      <td>1.000000</td>\n",
       "      <td>99.000000</td>\n",
       "      <td>62.000000</td>\n",
       "      <td>0.000000</td>\n",
       "      <td>0.000000</td>\n",
       "      <td>27.300000</td>\n",
       "      <td>0.243750</td>\n",
       "      <td>24.000000</td>\n",
       "      <td>0.000000</td>\n",
       "    </tr>\n",
       "    <tr>\n",
       "      <th>50%</th>\n",
       "      <td>3.000000</td>\n",
       "      <td>117.000000</td>\n",
       "      <td>72.000000</td>\n",
       "      <td>23.000000</td>\n",
       "      <td>30.500000</td>\n",
       "      <td>32.000000</td>\n",
       "      <td>0.372500</td>\n",
       "      <td>29.000000</td>\n",
       "      <td>0.000000</td>\n",
       "    </tr>\n",
       "    <tr>\n",
       "      <th>75%</th>\n",
       "      <td>6.000000</td>\n",
       "      <td>140.250000</td>\n",
       "      <td>80.000000</td>\n",
       "      <td>32.000000</td>\n",
       "      <td>127.250000</td>\n",
       "      <td>36.600000</td>\n",
       "      <td>0.626250</td>\n",
       "      <td>41.000000</td>\n",
       "      <td>1.000000</td>\n",
       "    </tr>\n",
       "    <tr>\n",
       "      <th>max</th>\n",
       "      <td>17.000000</td>\n",
       "      <td>199.000000</td>\n",
       "      <td>122.000000</td>\n",
       "      <td>99.000000</td>\n",
       "      <td>846.000000</td>\n",
       "      <td>67.100000</td>\n",
       "      <td>2.420000</td>\n",
       "      <td>81.000000</td>\n",
       "      <td>1.000000</td>\n",
       "    </tr>\n",
       "  </tbody>\n",
       "</table>\n",
       "</div>"
      ],
      "text/plain": [
       "       Pregnancies     Glucose  BloodPressure  SkinThickness     Insulin  \\\n",
       "count   768.000000  768.000000     768.000000     768.000000  768.000000   \n",
       "mean      3.845052  120.894531      69.105469      20.536458   79.799479   \n",
       "std       3.369578   31.972618      19.355807      15.952218  115.244002   \n",
       "min       0.000000    0.000000       0.000000       0.000000    0.000000   \n",
       "25%       1.000000   99.000000      62.000000       0.000000    0.000000   \n",
       "50%       3.000000  117.000000      72.000000      23.000000   30.500000   \n",
       "75%       6.000000  140.250000      80.000000      32.000000  127.250000   \n",
       "max      17.000000  199.000000     122.000000      99.000000  846.000000   \n",
       "\n",
       "              BMI  DiabetesPedigreeFunction         Age     Outcome  \n",
       "count  768.000000                768.000000  768.000000  768.000000  \n",
       "mean    31.992578                  0.471876   33.240885    0.348958  \n",
       "std      7.884160                  0.331329   11.760232    0.476951  \n",
       "min      0.000000                  0.078000   21.000000    0.000000  \n",
       "25%     27.300000                  0.243750   24.000000    0.000000  \n",
       "50%     32.000000                  0.372500   29.000000    0.000000  \n",
       "75%     36.600000                  0.626250   41.000000    1.000000  \n",
       "max     67.100000                  2.420000   81.000000    1.000000  "
      ]
     },
     "execution_count": 18,
     "metadata": {},
     "output_type": "execute_result"
    }
   ],
   "source": [
    "# p.176\n",
    "df.describe()"
   ]
  },
  {
   "cell_type": "code",
   "execution_count": 21,
   "id": "5818dfce-540b-46d9-b8a8-12985eccd2df",
   "metadata": {},
   "outputs": [
    {
     "data": {
      "image/png": "[encoded data removed]",
      "text/plain": [
       "<Figure size 640x480 with 1 Axes>"
      ]
     },
     "metadata": {},
     "output_type": "display_data"
    }
   ],
   "source": [
    "plt.hist(df.Glucose, bins=100)\n",
    "plt.show()"
   ]
  },
  {
   "cell_type": "code",
   "execution_count": 22,
   "id": "954fdcdd-75c2-4e5f-939e-448549fa251e",
   "metadata": {},
   "outputs": [
    {
     "data": {
      "text/plain": [
       "Index(['Pregnancies', 'Glucose', 'BloodPressure', 'SkinThickness', 'Insulin',\n",
       "       'BMI', 'DiabetesPedigreeFunction', 'Age', 'Outcome'],\n",
       "      dtype='object')"
      ]
     },
     "execution_count": 22,
     "metadata": {},
     "output_type": "execute_result"
    }
   ],
   "source": [
    "df.columns"
   ]
  },
  {
   "cell_type": "code",
   "execution_count": 23,
   "id": "7d5b67fc-e37c-43e4-a1e1-8e0ecfe26bf1",
   "metadata": {},
   "outputs": [
    {
     "name": "stdout",
     "output_type": "stream",
     "text": [
      "Glucose컬럼의 값이 0인 경우는 5건, 비율은 0.6510416666666667%\n",
      "BloodPressure컬럼의 값이 0인 경우는 35건, 비율은 4.557291666666666%\n",
      "SkinThickness컬럼의 값이 0인 경우는 227건, 비율은 29.557291666666668%\n",
      "Insulin컬럼의 값이 0인 경우는 374건, 비율은 48.69791666666667%\n",
      "BMI컬럼의 값이 0인 경우는 11건, 비율은 1.4322916666666665%\n"
     ]
    }
   ],
   "source": [
    "# p.177 0인 데이터 개수 세기\n",
    "zero_features = ['Glucose', 'BloodPressure', 'SkinThickness', 'Insulin', 'BMI']\n",
    "total_count = df['Glucose'].count()\n",
    "for feature in zero_features:\n",
    "    zero_count = df[df[feature]==0][feature].count() # 0인 개수 세기\n",
    "    print (f'{feature}컬럼의 값이 0인 경우는 {zero_count}건, 비율은 {zero_count/total_count*100}%')"
   ]
  },
  {
   "cell_type": "code",
   "execution_count": 25,
   "id": "794c9b73-9f20-4f75-922a-a0c6bce58007",
   "metadata": {},
   "outputs": [],
   "source": [
    "# p.178\n",
    "mean_zero_features = df[zero_features].mean()"
   ]
  },
  {
   "cell_type": "code",
   "execution_count": 27,
   "id": "3a9dfe4d-8488-454c-a797-06d3b3924403",
   "metadata": {},
   "outputs": [],
   "source": [
    "df[zero_features] = df[zero_features].replace(0,mean_zero_features)\n",
    "# df[zero_features]에 0을 mean_zero_features값으로 바꿔랑"
   ]
  },
  {
   "cell_type": "code",
   "execution_count": 28,
   "id": "cb5523a6-4379-447e-a708-e99823fd5698",
   "metadata": {},
   "outputs": [
    {
     "name": "stdout",
     "output_type": "stream",
     "text": [
      "Glucose컬럼의 값이 0인 경우는 0건, 비율은 0.0%\n",
      "BloodPressure컬럼의 값이 0인 경우는 0건, 비율은 0.0%\n",
      "SkinThickness컬럼의 값이 0인 경우는 0건, 비율은 0.0%\n",
      "Insulin컬럼의 값이 0인 경우는 0건, 비율은 0.0%\n",
      "BMI컬럼의 값이 0인 경우는 0건, 비율은 0.0%\n"
     ]
    }
   ],
   "source": [
    "# 잘 바뀌었는지 다시 확인\n",
    "zero_features = ['Glucose', 'BloodPressure', 'SkinThickness', 'Insulin', 'BMI']\n",
    "total_count = df['Glucose'].count()\n",
    "for feature in zero_features:\n",
    "    zero_count = df[df[feature]==0][feature].count() # 0인 개수 세기\n",
    "    print (f'{feature}컬럼의 값이 0인 경우는 {zero_count}건, 비율은 {zero_count/total_count*100}%')"
   ]
  },
  {
   "cell_type": "code",
   "execution_count": 29,
   "id": "c1b4f4ae-f7d4-49d8-86c6-cf9aa1312dab",
   "metadata": {},
   "outputs": [
    {
     "name": "stdout",
     "output_type": "stream",
     "text": [
      "오차행렬\n",
      "[[90 10]\n",
      " [21 33]]\n",
      "정확도: 0.7987, 정밀도: 0.7674, 재현율: 0.6111, F1: 0.6804, AUC: 0.8433\n",
      "--------------------------------\n"
     ]
    }
   ],
   "source": [
    "# standard scaler 평균0 분산1인 값으로 변환. p.123\n",
    "\n",
    "X = df.drop(columns=['Outcome'])\n",
    "y = df.Outcome\n",
    "scaler = StandardScaler()\n",
    "X_scaled = scaler.fit_transform(X)\n",
    "X_tranin, X_test, y_train, y_test = train_test_split(X_scaled,y, test_size=0.2, random_state=156, stratify=y)\n",
    "\n",
    "lr_clf = LogisticRegression(solver='liblinear')\n",
    "lr_clf.fit (X_tranin, y_train)\n",
    "#여기서부터 모르겠답...!\n",
    "pred = lr_clf.predict(X_test)\n",
    "pred_proba = lr_clf.predict_proba(X_test)[:,1]\n",
    "get_clf_eval(y_test, pred, pred_proba)\n"
   ]
  },
  {
   "cell_type": "raw",
   "id": "e7b9055e-7e0b-4317-addd-78cba827fdb2",
   "metadata": {},
   "source": [
    "비포 ---------------------------------------------------\n",
    "오차행렬\n",
    "[[87 13]\n",
    " [22 32]]\n",
    "정확도: 0.7727, 정밀도: 0.7111, 재현율: 0.5926, F1: 0.6465, AUC: 0.8083\n",
    "\n",
    "0이 들어갈리 없는 데이터들을 평균값으로 채워준 후 -----------\n",
    "오차행렬\n",
    "[[90 10]\n",
    " [21 33]]\n",
    "정확도: 0.7987, 정밀도: 0.7674, 재현율: 0.6111, F1: 0.6804, AUC: 0.8433\n"
   ]
  },
  {
   "cell_type": "code",
   "execution_count": 33,
   "id": "aa61509f-5070-4d47-8d25-22ddabc32a5d",
   "metadata": {
    "collapsed": true,
    "jupyter": {
     "outputs_hidden": true
    },
    "tags": []
   },
   "outputs": [
    {
     "name": "stdout",
     "output_type": "stream",
     "text": [
      "임계값: 0.3\n",
      "오차행렬\n",
      "[[65 35]\n",
      " [11 43]]\n",
      "정확도: 0.7013, 정밀도: 0.5513, 재현율: 0.7963, F1: 0.6515, AUC: 0.8433\n",
      "--------------------------------\n",
      "임계값: 0.33\n",
      "오차행렬\n",
      "[[71 29]\n",
      " [11 43]]\n",
      "정확도: 0.7403, 정밀도: 0.5972, 재현율: 0.7963, F1: 0.6825, AUC: 0.8433\n",
      "--------------------------------\n",
      "임계값: 0.36\n",
      "오차행렬\n",
      "[[76 24]\n",
      " [15 39]]\n",
      "정확도: 0.7468, 정밀도: 0.6190, 재현율: 0.7222, F1: 0.6667, AUC: 0.8433\n",
      "--------------------------------\n",
      "임계값: 0.39\n",
      "오차행렬\n",
      "[[78 22]\n",
      " [16 38]]\n",
      "정확도: 0.7532, 정밀도: 0.6333, 재현율: 0.7037, F1: 0.6667, AUC: 0.8433\n",
      "--------------------------------\n",
      "임계값: 0.42\n",
      "오차행렬\n",
      "[[84 16]\n",
      " [18 36]]\n",
      "정확도: 0.7792, 정밀도: 0.6923, 재현율: 0.6667, F1: 0.6792, AUC: 0.8433\n",
      "--------------------------------\n",
      "임계값: 0.45\n",
      "오차행렬\n",
      "[[85 15]\n",
      " [18 36]]\n",
      "정확도: 0.7857, 정밀도: 0.7059, 재현율: 0.6667, F1: 0.6857, AUC: 0.8433\n",
      "--------------------------------\n",
      "임계값: 0.48\n",
      "오차행렬\n",
      "[[88 12]\n",
      " [19 35]]\n",
      "정확도: 0.7987, 정밀도: 0.7447, 재현율: 0.6481, F1: 0.6931, AUC: 0.8433\n",
      "--------------------------------\n",
      "임계값: 0.5\n",
      "오차행렬\n",
      "[[90 10]\n",
      " [21 33]]\n",
      "정확도: 0.7987, 정밀도: 0.7674, 재현율: 0.6111, F1: 0.6804, AUC: 0.8433\n",
      "--------------------------------\n"
     ]
    }
   ],
   "source": [
    "thresholds = [0.3, 0.33, 0.36, 0.39, 0.42, 0.45, 0.48, 0.5] # 재현율 높이기 위해 0.5보다 작은 값으로 보기\n",
    "def get_eval_by_threshold(y_test, pred_proba_1, thresholds):\n",
    "    from sklearn.preprocessing import Binarizer\n",
    "    for custom_threshold in thresholds:\n",
    "        custom_predict = Binarizer(threshold=custom_threshold).fit_transform(pred_proba_1)\n",
    "        print (f'임계값: {custom_threshold}')\n",
    "        get_clf_eval(y_test, custom_predict, pred_proba)\n",
    "get_eval_by_threshold(y_test, pred_proba.reshape(-1,1), thresholds)"
   ]
  }
 ],
 "metadata": {
  "kernelspec": {
   "display_name": "Python 3 (ipykernel)",
   "language": "python",
   "name": "python3"
  },
  "language_info": {
   "codemirror_mode": {
    "name": "ipython",
    "version": 3
   },
   "file_extension": ".py",
   "mimetype": "text/x-python",
   "name": "python",
   "nbconvert_exporter": "python",
   "pygments_lexer": "ipython3",
   "version": "3.9.13"
  }
 },
 "nbformat": 4,
 "nbformat_minor": 5
}
