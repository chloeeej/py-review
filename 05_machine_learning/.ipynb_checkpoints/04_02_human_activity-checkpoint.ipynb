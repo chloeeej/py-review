{
 "cells": [
  {
   "cell_type": "markdown",
   "id": "6932529f-7057-453c-a54a-c69adf1ed913",
   "metadata": {},
   "source": [
    "#### 결정트리 실습 - 사용자 행동 인식 데이터 세트"
   ]
  },
  {
   "cell_type": "code",
   "execution_count": 1,
   "id": "d0e38b22-456e-4d93-b5cf-1a9bce6ba6e2",
   "metadata": {},
   "outputs": [],
   "source": [
    "import pandas as pd\n",
    "import matplotlib.pyplot as plt"
   ]
  },
  {
   "cell_type": "code",
   "execution_count": 8,
   "id": "0ad9c082-a871-4b0f-97ab-f83ff4f847fd",
   "metadata": {},
   "outputs": [],
   "source": [
    "feature_name_df = pd.read_csv('human_activity/features.txt', \n",
    "                              sep='\\s+',\n",
    "                              header=None,\n",
    "                              names=['column_index', 'column_name'])\n",
    "# sep='\\s+' 구분자,  header=Nonen 첫번쨰 데이터가 컬럼으로 들어간거 빼줌, names=[] 컬럼만들어줌"
   ]
  },
  {
   "cell_type": "code",
   "execution_count": 10,
   "id": "63299851-c8d6-4a12-8bbb-4f941d27edd7",
   "metadata": {},
   "outputs": [],
   "source": [
    "feature_name = feature_name_df.iloc[:,1].values.tolist()"
   ]
  },
  {
   "cell_type": "code",
   "execution_count": 11,
   "id": "2a049569-0a34-464f-9a6d-ca13ecb2edd3",
   "metadata": {},
   "outputs": [
    {
     "data": {
      "text/plain": [
       "['tBodyAcc-mean()-X',\n",
       " 'tBodyAcc-mean()-Y',\n",
       " 'tBodyAcc-mean()-Z',\n",
       " 'tBodyAcc-std()-X',\n",
       " 'tBodyAcc-std()-Y',\n",
       " 'tBodyAcc-std()-Z',\n",
       " 'tBodyAcc-mad()-X',\n",
       " 'tBodyAcc-mad()-Y',\n",
       " 'tBodyAcc-mad()-Z',\n",
       " 'tBodyAcc-max()-X']"
      ]
     },
     "execution_count": 11,
     "metadata": {},
     "output_type": "execute_result"
    }
   ],
   "source": [
    "feature_name[:10]"
   ]
  },
  {
   "cell_type": "code",
   "execution_count": 14,
   "id": "67d9f1e4-5549-4462-be44-00e993c7dc01",
   "metadata": {},
   "outputs": [],
   "source": [
    "feature_dup_df = feature_name_df.groupby('column_name').count()"
   ]
  },
  {
   "cell_type": "code",
   "execution_count": 16,
   "id": "9cdbd5d8-6451-4743-9a13-1b20a5e51faf",
   "metadata": {},
   "outputs": [
    {
     "data": {
      "text/plain": [
       "column_index    42\n",
       "dtype: int64"
      ]
     },
     "execution_count": 16,
     "metadata": {},
     "output_type": "execute_result"
    }
   ],
   "source": [
    "feature_dup_df[feature_dup_df['column_index']>1].count()"
   ]
  },
  {
   "cell_type": "code",
   "execution_count": 33,
   "id": "4a7c7662-2dd3-4762-825b-73b2d9fe2963",
   "metadata": {},
   "outputs": [
    {
     "ename": "SyntaxError",
     "evalue": "cannot assign to function call (2643590363.py, line 5)",
     "output_type": "error",
     "traceback": [
      "\u001b[1;36m  File \u001b[1;32m\"C:\\Users\\user\\AppData\\Local\\Temp\\ipykernel_14444\\2643590363.py\"\u001b[1;36m, line \u001b[1;32m5\u001b[0m\n\u001b[1;33m    new_df['column_name'] = new_df[['column_name', 'dup_cnt']].apply(lambda x: x[0]+'_'+str(x[1]) if x[1]>0 else x[0]), axis=1)\u001b[0m\n\u001b[1;37m                            ^\u001b[0m\n\u001b[1;31mSyntaxError\u001b[0m\u001b[1;31m:\u001b[0m cannot assign to function call\n"
     ]
    }
   ],
   "source": [
    "def get_new_df(old_df):\n",
    "    dup_df = pd.DataFrame(data=old_df.groupby('column_name').cumcount(), columns=['dup_cnt'])\n",
    "    dup_df = dup_df.reset_index()\n",
    "    new_df = pd.merge(old_df.reset_index(), dup_df, how='outer') # join 비슷한거\n",
    "    new_df['column_name'] = new_df[['column_name', 'dup_cnt']].apply(lambda x:x[0]+'_'+str(x[1]) if x[1]>0 else x[0]), axis=1)\n",
    "    new_df.drop(columns=['index'])\n",
    "    \n",
    "    return new_df"
   ]
  },
  {
   "cell_type": "code",
   "execution_count": 34,
   "id": "481adcd4-dd99-4b46-b940-d34876243c3e",
   "metadata": {},
   "outputs": [],
   "source": [
    "def get_new_df(old_df):\n",
    "    dup_df = pd.DataFrame(data = old_df.groupby('column_name').cumcount(), columns=['dup_cnt'])\n",
    "    new_df = dup_df.reset_index()\n",
    "    new_df = pd.merge(old_df.reset_index(), dup_df, how='outer')\n",
    "    new_df['column_name'] = new_df[['column_name', 'dup_cnt']].apply(lambda x:x[0]+'_'+str(x[1]) if x[1]>0 else x[0], axis=1)\n",
    "    new_df.drop(columns=['index'])\n",
    "    return new_df"
   ]
  },
  {
   "cell_type": "code",
   "execution_count": null,
   "id": "6fefa1e3-6731-4af4-8734-1a24a4773154",
   "metadata": {},
   "outputs": [],
   "source": [
    "\n",
    "def get_human_dataset():\n",
    "    feature_name_df = pd.read_csv('human_activity/features.txt', \n",
    "                              sep='\\s+',\n",
    "                              header=None,\n",
    "                              names=['column_index', 'column_name'])\n",
    "    \n",
    "    name_df = get_new_df(feature_namd_df)\n",
    "    feature_name = name_df.iloc[:,1].values.tolist()\n",
    "    X_train = pd.read_csv('human_activity/train/X_train.txt', sep='\\s+', names=feature_name)\n",
    "    X_test = pd.read_csv('human_activity/test/X_test.txt', sep='\\s+', names=feature_name)\n",
    "    y_train = pd.read_csv('human_activity/train/y_train.txt', sep='\\s+', names=['action'])\n",
    "    y_test = pd.read_csv('human_activity/test/y_test.txt', sep='\\s+', names=['action'])\n",
    "   \n"
   ]
  },
  {
   "cell_type": "code",
   "execution_count": null,
   "id": "c5a48ad6-d128-474f-b7e1-d259eea5d919",
   "metadata": {},
   "outputs": [],
   "source": []
  },
  {
   "cell_type": "code",
   "execution_count": null,
   "id": "9b114074-354c-42ca-b940-f333f93f4963",
   "metadata": {},
   "outputs": [],
   "source": []
  },
  {
   "cell_type": "code",
   "execution_count": null,
   "id": "d99eb4c7-645b-423a-ac5c-622406558220",
   "metadata": {},
   "outputs": [],
   "source": []
  },
  {
   "cell_type": "code",
   "execution_count": null,
   "id": "a4944727-025c-4a21-8ba8-5671e415be71",
   "metadata": {},
   "outputs": [],
   "source": []
  },
  {
   "cell_type": "code",
   "execution_count": null,
   "id": "4768e034-87fd-4968-9a9e-95536ecd6cc6",
   "metadata": {},
   "outputs": [],
   "source": []
  },
  {
   "cell_type": "code",
   "execution_count": null,
   "id": "d928009d-aeec-4386-b97c-66026591d3cb",
   "metadata": {},
   "outputs": [],
   "source": []
  },
  {
   "cell_type": "code",
   "execution_count": null,
   "id": "112e8c0b-690b-4eea-92c1-16feaa08514d",
   "metadata": {},
   "outputs": [],
   "source": []
  },
  {
   "cell_type": "code",
   "execution_count": null,
   "id": "96c2768a-5893-4132-bdb2-d848bbcd45d8",
   "metadata": {},
   "outputs": [],
   "source": []
  },
  {
   "cell_type": "code",
   "execution_count": null,
   "id": "8e4b1cf7-040d-453c-92f1-770f3d7d5e25",
   "metadata": {},
   "outputs": [],
   "source": []
  },
  {
   "cell_type": "code",
   "execution_count": null,
   "id": "83bc3dca-c773-4353-a431-32bfef43abea",
   "metadata": {},
   "outputs": [],
   "source": []
  },
  {
   "cell_type": "code",
   "execution_count": null,
   "id": "d65b4a36-7f74-4669-be6a-98f1b60c57c3",
   "metadata": {},
   "outputs": [],
   "source": []
  },
  {
   "cell_type": "code",
   "execution_count": null,
   "id": "132f051e-3a37-4996-a040-48b5847890a2",
   "metadata": {},
   "outputs": [],
   "source": []
  },
  {
   "cell_type": "code",
   "execution_count": null,
   "id": "7941ac0b-84fc-4e22-a6a9-73397f625d14",
   "metadata": {},
   "outputs": [],
   "source": []
  },
  {
   "cell_type": "code",
   "execution_count": null,
   "id": "d532e154-10af-4d02-abe1-5569dc068771",
   "metadata": {},
   "outputs": [],
   "source": []
  },
  {
   "cell_type": "code",
   "execution_count": null,
   "id": "6d362e2d-7429-4e19-9e0a-0d227eef2209",
   "metadata": {},
   "outputs": [],
   "source": []
  }
 ],
 "metadata": {
  "kernelspec": {
   "display_name": "Python 3 (ipykernel)",
   "language": "python",
   "name": "python3"
  },
  "language_info": {
   "codemirror_mode": {
    "name": "ipython",
    "version": 3
   },
   "file_extension": ".py",
   "mimetype": "text/x-python",
   "name": "python",
   "nbconvert_exporter": "python",
   "pygments_lexer": "ipython3",
   "version": "3.9.13"
  }
 },
 "nbformat": 4,
 "nbformat_minor": 5
}
