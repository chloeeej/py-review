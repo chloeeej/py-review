{
 "cells": [
  {
   "cell_type": "markdown",
   "id": "5e1c3a68-5daf-4558-8233-2479f6a306dd",
   "metadata": {
    "tags": []
   },
   "source": [
    "정확도: 맞춘 건수/ 전체건수  \n",
    "정밀도: 1이라고 예측한 값에서 몇건이나 맞았나. 예측값 1 기준. 예측한 것 중에 얼마나 맞췄나  \n",
    "재현율: 실제건(실제건맞춤+실제건못맞춤) 중에 실제 맞춘 거. 실제건 1 기준. 실제값중에 얼마나 맞추었냐 \n",
    "\n",
    "정밀도와 재현율은 반비례한다. 한쪽으로 치우치지 않게 해야.. 경우에따라 정밀도가 중요할 수도 있고, 재현율이 중요할 수도 있다."
   ]
  },
  {
   "cell_type": "markdown",
   "id": "a0469c7f-b293-4d54-be85-acb1486d754a",
   "metadata": {},
   "source": [
    "### 3.3 정밀도와 재현율\n"
   ]
  },
  {
   "cell_type": "markdown",
   "id": "2a656079-4121-40fe-a325-13677ff3d083",
   "metadata": {},
   "source": [
    "재현율을 민감도 또는 TPR 이라고 부르기도 함 true positive rate"
   ]
  },
  {
   "cell_type": "code",
   "execution_count": 1,
   "id": "c9d7fe75-b9df-4608-84c5-48c607c665c0",
   "metadata": {},
   "outputs": [],
   "source": [
    "def get_clf_eval(y_test, pred):\n",
    "    from sklearn.metrics import accuracy_score, precision_score, recall_score, confusion_matrix\n",
    "    confusion = confusion_matrix(y_test, pred)\n",
    "    accuracy = accuracy_score(y_test, pred)\n",
    "    precision = precision_score(y_test, pred)\n",
    "    recall = recall_score(y_test, pred)\n",
    "    \n",
    "    print ('오차행렬')\n",
    "    print (confusion)\n",
    "    print (f'정확도: {accuracy:.4f}, 정밀도: {precision:.4f}, 재현율: {recall:.4f}')"
   ]
  },
  {
   "cell_type": "markdown",
   "id": "b8f65903-9041-46be-ad73-99c5a32423bd",
   "metadata": {},
   "source": [
    "print (f'정확도: {accuracy:.4f}, 정밀도: {precision:.4f}, 재현율: {recall:.4f}')\n",
    "print ('정확도: {0:.4f}, 정밀도: {1:.4f}, 재현율: {2:.4f}'.format(accuracy, precision, recall))\n",
    "이거랑 같은거"
   ]
  },
  {
   "cell_type": "code",
   "execution_count": 2,
   "id": "28ea4a6c-360d-464d-9abd-7c1688f2ac8b",
   "metadata": {},
   "outputs": [],
   "source": [
    "import pandas as pd\n",
    "import numpy as np\n",
    "from sklearn.model_selection import train_test_split\n",
    "from sklearn.linear_model import LogisticRegression"
   ]
  },
  {
   "cell_type": "code",
   "execution_count": 3,
   "id": "303703a9-1a95-49f0-b681-b7bdba856d77",
   "metadata": {},
   "outputs": [],
   "source": [
    "# 타이타닉 데이터 또 갖다 쓸 때를 댇비해서 함수 만들어놓기\n",
    "def fillna(df): # na값 채우는거지?\n",
    "    df['Age'].fillna(df['Age'].mean(), inplace=True) \n",
    "    df['Cabin'].fillna('N', inplace=True) \n",
    "    df['Embarked'].fillna('N', inplace=True)\n",
    "    df['Fare'].fillna(0, inplace=True)\n",
    "    return df\n",
    "\n",
    "def drop_features(df): # 필요 없는 컬럼 지우기?\n",
    "    df.drop(columns=['PassengerId', 'Name', 'Ticket'], inplace=True)\n",
    "    return df\n",
    "\n",
    "def format_features(df): \n",
    "    from sklearn.preprocessing import LabelEncoder\n",
    "    df['Cabin'] = df['Cabin'].str[:1] # 객실 등급 구분하려고 캐빈 앞글자만 가져오기\n",
    "    \n",
    "    features = ['Sex', 'Cabin', 'Embarked'] # 레이블 붙여준거\n",
    "    for feature in features:\n",
    "        le = LabelEncoder()\n",
    "        df[feature] = le.fit_transform(df[feature])\n",
    "        print(le.classes_)\n",
    "    return df\n",
    "\n",
    "def transform_features(df): # 위에 세개 한번에\n",
    "    df = fillna(df)\n",
    "    df = drop_features(df)\n",
    "    df = format_features(df)\n",
    "    return df\n"
   ]
  },
  {
   "cell_type": "code",
   "execution_count": 4,
   "id": "5c764eea-fab9-475a-b7ad-b41b366dd834",
   "metadata": {},
   "outputs": [
    {
     "name": "stdout",
     "output_type": "stream",
     "text": [
      "['female' 'male']\n",
      "['A' 'B' 'C' 'D' 'E' 'F' 'G' 'N' 'T']\n",
      "['C' 'N' 'Q' 'S']\n"
     ]
    }
   ],
   "source": [
    "df = pd.read_csv('titanic.csv')\n",
    "y = df['Survived']\n",
    "X = df.drop(columns=['Survived'])\n",
    "\n",
    "X = transform_features(X)"
   ]
  },
  {
   "cell_type": "code",
   "execution_count": 5,
   "id": "319ea361-6164-4ba5-856d-4560b296f7c6",
   "metadata": {},
   "outputs": [],
   "source": [
    "X_train, X_test, y_train, y_test = train_test_split(X, y, test_size=0.2, random_state=11)"
   ]
  },
  {
   "cell_type": "code",
   "execution_count": 6,
   "id": "19af7a58-298b-4d3d-b27d-1e9fb798417b",
   "metadata": {},
   "outputs": [
    {
     "name": "stdout",
     "output_type": "stream",
     "text": [
      "오차행렬\n",
      "[[108  10]\n",
      " [ 14  47]]\n",
      "정확도: 0.8659, 정밀도: 0.8246, 재현율: 0.7705\n"
     ]
    }
   ],
   "source": [
    "lr_clf = LogisticRegression(solver='liblinear')\n",
    "lr_clf.fit (X_train, y_train)\n",
    "pred = lr_clf.predict(X_test)\n",
    "get_clf_eval(y_test, pred)"
   ]
  },
  {
   "cell_type": "markdown",
   "id": "a7159957-d04d-43ad-b5be-574e6665029c",
   "metadata": {},
   "source": [
    "정밀도: 내가 맞다고 한 것(fp+tp) 중 맞은 비율\n",
    "재현율: 실제값 중 (fn+tp) 중 내가 맞다고 한 비율"
   ]
  },
  {
   "cell_type": "markdown",
   "id": "f143c6fa-223b-42e3-8c08-33a6d60e15ff",
   "metadata": {
    "tags": []
   },
   "source": [
    "#### 정밀도 재현율 트레이드오프"
   ]
  },
  {
   "cell_type": "code",
   "execution_count": 7,
   "id": "91e84e3e-18d4-4c6c-a621-5d45b272dcd5",
   "metadata": {
    "tags": []
   },
   "outputs": [],
   "source": [
    "# 개별 데이터별로 에측 확률을 반환 predict_proba()\n",
    "pred_proba = lr_clf.predict_proba(X_test)"
   ]
  },
  {
   "cell_type": "raw",
   "id": "e70eda7d-75b0-422a-8b64-2a6c3e3f3175",
   "metadata": {},
   "source": [
    "lr_clf.predict_proba(X_test) 결과. \n",
    "array([[0.44935225, 0.55064775],  <--- [0이 될 확률, 1이 될 확률]\n",
    "       [0.86335511, 0.13664489],\n",
    "       [0.86429643, 0.13570357],\n",
    "       [0.84968519, 0.15031481],\n",
    "       [0.82343409, 0.17656591],\n",
    "       ...\n",
    "       \n",
    "       지금은 0.5가 임계값인데 이걸 조정하면 1이 0이 되거나 할 수도 있따"
   ]
  },
  {
   "cell_type": "code",
   "execution_count": 8,
   "id": "b13a9e37-c693-45d0-a14d-7c3d05e1cae0",
   "metadata": {
    "collapsed": true,
    "jupyter": {
     "outputs_hidden": true
    },
    "tags": []
   },
   "outputs": [
    {
     "data": {
      "text/plain": [
       "array([[0.44935225, 0.55064775, 1.        ],\n",
       "       [0.86335511, 0.13664489, 0.        ],\n",
       "       [0.86429643, 0.13570357, 0.        ],\n",
       "       [0.84968519, 0.15031481, 0.        ],\n",
       "       [0.82343409, 0.17656591, 0.        ],\n",
       "       [0.84231224, 0.15768776, 0.        ],\n",
       "       [0.87095489, 0.12904511, 0.        ],\n",
       "       [0.27228603, 0.72771397, 1.        ],\n",
       "       [0.78185128, 0.21814872, 0.        ],\n",
       "       [0.33185998, 0.66814002, 1.        ],\n",
       "       [0.86178763, 0.13821237, 0.        ],\n",
       "       [0.87058097, 0.12941903, 0.        ],\n",
       "       [0.8642595 , 0.1357405 , 0.        ],\n",
       "       [0.87065944, 0.12934056, 0.        ],\n",
       "       [0.56033544, 0.43966456, 0.        ],\n",
       "       [0.85003022, 0.14996978, 0.        ],\n",
       "       [0.88954172, 0.11045828, 0.        ],\n",
       "       [0.74250732, 0.25749268, 0.        ],\n",
       "       [0.71120224, 0.28879776, 0.        ],\n",
       "       [0.23776278, 0.76223722, 1.        ],\n",
       "       [0.75684107, 0.24315893, 0.        ],\n",
       "       [0.62428169, 0.37571831, 0.        ],\n",
       "       [0.84655246, 0.15344754, 0.        ],\n",
       "       [0.82711256, 0.17288744, 0.        ],\n",
       "       [0.86825628, 0.13174372, 0.        ],\n",
       "       [0.77003828, 0.22996172, 0.        ],\n",
       "       [0.82946349, 0.17053651, 0.        ],\n",
       "       [0.90336131, 0.09663869, 0.        ],\n",
       "       [0.73372049, 0.26627951, 0.        ],\n",
       "       [0.68847387, 0.31152613, 0.        ],\n",
       "       [0.07646869, 0.92353131, 1.        ],\n",
       "       [0.2253212 , 0.7746788 , 1.        ],\n",
       "       [0.87161939, 0.12838061, 0.        ],\n",
       "       [0.24075418, 0.75924582, 1.        ],\n",
       "       [0.62711731, 0.37288269, 0.        ],\n",
       "       [0.77003828, 0.22996172, 0.        ],\n",
       "       [0.90554276, 0.09445724, 0.        ],\n",
       "       [0.40602574, 0.59397426, 1.        ],\n",
       "       [0.93043584, 0.06956416, 0.        ],\n",
       "       [0.8765052 , 0.1234948 , 0.        ],\n",
       "       [0.69797422, 0.30202578, 0.        ],\n",
       "       [0.89664595, 0.10335405, 0.        ],\n",
       "       [0.21993379, 0.78006621, 1.        ],\n",
       "       [0.31565713, 0.68434287, 1.        ],\n",
       "       [0.37942228, 0.62057772, 1.        ],\n",
       "       [0.37932891, 0.62067109, 1.        ],\n",
       "       [0.07161281, 0.92838719, 1.        ],\n",
       "       [0.55777586, 0.44222414, 0.        ],\n",
       "       [0.07914487, 0.92085513, 1.        ],\n",
       "       [0.86803082, 0.13196918, 0.        ],\n",
       "       [0.50790057, 0.49209943, 0.        ],\n",
       "       [0.87065944, 0.12934056, 0.        ],\n",
       "       [0.85576405, 0.14423595, 0.        ],\n",
       "       [0.34870129, 0.65129871, 1.        ],\n",
       "       [0.71558417, 0.28441583, 0.        ],\n",
       "       [0.78853206, 0.21146794, 0.        ],\n",
       "       [0.7461921 , 0.2538079 , 0.        ],\n",
       "       [0.86429   , 0.13571   , 0.        ],\n",
       "       [0.84079003, 0.15920997, 0.        ],\n",
       "       [0.59838066, 0.40161934, 0.        ],\n",
       "       [0.73532081, 0.26467919, 0.        ],\n",
       "       [0.88705596, 0.11294404, 0.        ],\n",
       "       [0.545528  , 0.454472  , 0.        ],\n",
       "       [0.55326343, 0.44673657, 0.        ],\n",
       "       [0.62583522, 0.37416478, 0.        ],\n",
       "       [0.88363277, 0.11636723, 0.        ],\n",
       "       [0.35181256, 0.64818744, 1.        ],\n",
       "       [0.39903352, 0.60096648, 1.        ],\n",
       "       [0.08300815, 0.91699185, 1.        ],\n",
       "       [0.85072522, 0.14927478, 0.        ],\n",
       "       [0.86778819, 0.13221181, 0.        ],\n",
       "       [0.83070924, 0.16929076, 0.        ],\n",
       "       [0.87649042, 0.12350958, 0.        ],\n",
       "       [0.05959915, 0.94040085, 1.        ],\n",
       "       [0.78735759, 0.21264241, 0.        ],\n",
       "       [0.87065944, 0.12934056, 0.        ],\n",
       "       [0.716541  , 0.283459  , 0.        ],\n",
       "       [0.79159804, 0.20840196, 0.        ],\n",
       "       [0.20303098, 0.79696902, 1.        ],\n",
       "       [0.86429   , 0.13571   , 0.        ],\n",
       "       [0.2400505 , 0.7599495 , 1.        ],\n",
       "       [0.37123587, 0.62876413, 1.        ],\n",
       "       [0.08369626, 0.91630374, 1.        ],\n",
       "       [0.84018612, 0.15981388, 0.        ],\n",
       "       [0.07766719, 0.92233281, 1.        ],\n",
       "       [0.08973248, 0.91026752, 1.        ],\n",
       "       [0.84723076, 0.15276924, 0.        ],\n",
       "       [0.8624153 , 0.1375847 , 0.        ],\n",
       "       [0.16539734, 0.83460266, 1.        ],\n",
       "       [0.87065944, 0.12934056, 0.        ],\n",
       "       [0.87065944, 0.12934056, 0.        ],\n",
       "       [0.77003828, 0.22996172, 0.        ],\n",
       "       [0.75416744, 0.24583256, 0.        ],\n",
       "       [0.87065944, 0.12934056, 0.        ],\n",
       "       [0.37932891, 0.62067109, 1.        ],\n",
       "       [0.89883889, 0.10116111, 0.        ],\n",
       "       [0.07361403, 0.92638597, 1.        ],\n",
       "       [0.87897226, 0.12102774, 0.        ],\n",
       "       [0.60197825, 0.39802175, 0.        ],\n",
       "       [0.06738996, 0.93261004, 1.        ],\n",
       "       [0.47948281, 0.52051719, 1.        ],\n",
       "       [0.9046927 , 0.0953073 , 0.        ],\n",
       "       [0.05673721, 0.94326279, 1.        ],\n",
       "       [0.88180787, 0.11819213, 0.        ],\n",
       "       [0.45587969, 0.54412031, 1.        ],\n",
       "       [0.86133437, 0.13866563, 0.        ],\n",
       "       [0.84974929, 0.15025071, 0.        ],\n",
       "       [0.85072697, 0.14927303, 0.        ],\n",
       "       [0.55502751, 0.44497249, 0.        ],\n",
       "       [0.88426898, 0.11573102, 0.        ],\n",
       "       [0.84747418, 0.15252582, 0.        ],\n",
       "       [0.87269562, 0.12730438, 0.        ],\n",
       "       [0.67538692, 0.32461308, 0.        ],\n",
       "       [0.48275247, 0.51724753, 1.        ],\n",
       "       [0.86825628, 0.13174372, 0.        ],\n",
       "       [0.9159719 , 0.0840281 , 0.        ],\n",
       "       [0.84194204, 0.15805796, 0.        ],\n",
       "       [0.78872838, 0.21127162, 0.        ],\n",
       "       [0.11141754, 0.88858246, 1.        ],\n",
       "       [0.90534855, 0.09465145, 0.        ],\n",
       "       [0.87071643, 0.12928357, 0.        ],\n",
       "       [0.86905438, 0.13094562, 0.        ],\n",
       "       [0.91525793, 0.08474207, 0.        ],\n",
       "       [0.58196827, 0.41803173, 0.        ],\n",
       "       [0.98025012, 0.01974988, 0.        ],\n",
       "       [0.87071643, 0.12928357, 0.        ],\n",
       "       [0.87219019, 0.12780981, 0.        ],\n",
       "       [0.7119464 , 0.2880536 , 0.        ],\n",
       "       [0.34348899, 0.65651101, 1.        ],\n",
       "       [0.70226693, 0.29773307, 0.        ],\n",
       "       [0.06738996, 0.93261004, 1.        ],\n",
       "       [0.59805546, 0.40194454, 0.        ],\n",
       "       [0.3288534 , 0.6711466 , 1.        ],\n",
       "       [0.48644765, 0.51355235, 1.        ],\n",
       "       [0.42864813, 0.57135187, 1.        ],\n",
       "       [0.56346572, 0.43653428, 0.        ],\n",
       "       [0.25853148, 0.74146852, 1.        ],\n",
       "       [0.77643225, 0.22356775, 0.        ],\n",
       "       [0.87632447, 0.12367553, 0.        ],\n",
       "       [0.15009277, 0.84990723, 1.        ],\n",
       "       [0.13434695, 0.86565305, 1.        ],\n",
       "       [0.85072697, 0.14927303, 0.        ],\n",
       "       [0.86772102, 0.13227898, 0.        ],\n",
       "       [0.89628756, 0.10371244, 0.        ],\n",
       "       [0.88613339, 0.11386661, 0.        ],\n",
       "       [0.34797639, 0.65202361, 1.        ],\n",
       "       [0.89917048, 0.10082952, 0.        ],\n",
       "       [0.72997342, 0.27002658, 0.        ],\n",
       "       [0.12221446, 0.87778554, 1.        ],\n",
       "       [0.8171969 , 0.1828031 , 0.        ],\n",
       "       [0.61865112, 0.38134888, 0.        ],\n",
       "       [0.37370305, 0.62629695, 1.        ],\n",
       "       [0.38348341, 0.61651659, 1.        ],\n",
       "       [0.86463298, 0.13536702, 0.        ],\n",
       "       [0.25161298, 0.74838702, 1.        ],\n",
       "       [0.10388332, 0.89611668, 1.        ],\n",
       "       [0.57648057, 0.42351943, 0.        ],\n",
       "       [0.85476848, 0.14523152, 0.        ],\n",
       "       [0.31415125, 0.68584875, 1.        ],\n",
       "       [0.33907972, 0.66092028, 1.        ],\n",
       "       [0.84347719, 0.15652281, 0.        ],\n",
       "       [0.23261134, 0.76738866, 1.        ],\n",
       "       [0.88859273, 0.11140727, 0.        ],\n",
       "       [0.35220567, 0.64779433, 1.        ],\n",
       "       [0.58554858, 0.41445142, 0.        ],\n",
       "       [0.36143288, 0.63856712, 1.        ],\n",
       "       [0.1363406 , 0.8636594 , 1.        ],\n",
       "       [0.67797005, 0.32202995, 0.        ],\n",
       "       [0.88600083, 0.11399917, 0.        ],\n",
       "       [0.13946115, 0.86053885, 1.        ],\n",
       "       [0.87095489, 0.12904511, 0.        ],\n",
       "       [0.20616022, 0.79383978, 1.        ],\n",
       "       [0.76719902, 0.23280098, 0.        ],\n",
       "       [0.77437244, 0.22562756, 0.        ],\n",
       "       [0.50324048, 0.49675952, 0.        ],\n",
       "       [0.91079838, 0.08920162, 0.        ],\n",
       "       [0.84970738, 0.15029262, 0.        ],\n",
       "       [0.54874087, 0.45125913, 0.        ],\n",
       "       [0.48192063, 0.51807937, 1.        ]])"
      ]
     },
     "execution_count": 8,
     "metadata": {},
     "output_type": "execute_result"
    }
   ],
   "source": [
    "# p.158. \n",
    "# 0, 1로 나온 pred 값(결정값?)이랑 predict_proba()로 받은 확률이랑 붙여놓고 비교\n",
    "np.concatenate([pred_proba, pred.reshape(-1,1)], axis=1)"
   ]
  },
  {
   "cell_type": "code",
   "execution_count": 9,
   "id": "c972c420-ce60-4b30-abaa-5e463b2a5cde",
   "metadata": {},
   "outputs": [],
   "source": [
    "# 임계값 설정해주기"
   ]
  },
  {
   "cell_type": "code",
   "execution_count": 10,
   "id": "e26fa828-4b65-4f22-aabf-0565f43e3085",
   "metadata": {},
   "outputs": [],
   "source": [
    "from sklearn.preprocessing import Binarizer"
   ]
  },
  {
   "cell_type": "code",
   "execution_count": 11,
   "id": "5e108d28-617e-48f1-a266-69b00128e86b",
   "metadata": {},
   "outputs": [
    {
     "data": {
      "text/plain": [
       "[[1, -1, 2], [2, 0, 0], [0, 1.1, 1.2]]"
      ]
     },
     "execution_count": 11,
     "metadata": {},
     "output_type": "execute_result"
    }
   ],
   "source": [
    "# 보기 쉽게 간단한 2차원 리스트 만들어주기\n",
    "X = [[1, -1, 2],\n",
    "     [2,0,0],\n",
    "     [0,1.1,1.2],\n",
    "    ]\n",
    "X"
   ]
  },
  {
   "cell_type": "code",
   "execution_count": 12,
   "id": "e96f5372-06df-4ded-aa6a-bb164f674f67",
   "metadata": {},
   "outputs": [],
   "source": [
    "binarizer = Binarizer(threshold=1.1)\n",
    "# threshold 임계값 디폴트는 0.0인데 1.1로 잡기. \n",
    "# 임계값인 1.1까지는 0, 그보다 크면 1이 됨"
   ]
  },
  {
   "cell_type": "code",
   "execution_count": 13,
   "id": "71e87133-38bf-43f7-b304-e910b4b99de2",
   "metadata": {},
   "outputs": [
    {
     "data": {
      "text/plain": [
       "array([[0., 0., 1.],\n",
       "       [1., 0., 0.],\n",
       "       [0., 0., 1.]])"
      ]
     },
     "execution_count": 13,
     "metadata": {},
     "output_type": "execute_result"
    }
   ],
   "source": [
    "binarizer.fit_transform(X)"
   ]
  },
  {
   "cell_type": "code",
   "execution_count": 14,
   "id": "ef958e90-92bf-4e76-95fa-df6f2c9e6253",
   "metadata": {},
   "outputs": [],
   "source": [
    "# p.160\n",
    "custom_threshold = 0.5"
   ]
  },
  {
   "cell_type": "code",
   "execution_count": 15,
   "id": "96add490-7111-4e0e-9764-333ac8c331f3",
   "metadata": {},
   "outputs": [],
   "source": [
    "# pred_proba[:,1] # pred_proba 중에 두번쨰...그것만 가져오기\n",
    "pred_proba_1 = pred_proba[:,1].reshape(-1,1)"
   ]
  },
  {
   "cell_type": "code",
   "execution_count": 16,
   "id": "e21a8764-8ec9-4d8b-9b23-81d613279d0c",
   "metadata": {},
   "outputs": [],
   "source": [
    "custom_predict = Binarizer(threshold=custom_threshold).fit_transform(pred_proba_1)"
   ]
  },
  {
   "cell_type": "code",
   "execution_count": 17,
   "id": "847abde0-6670-4e94-9792-b72e493fbc1e",
   "metadata": {},
   "outputs": [
    {
     "name": "stdout",
     "output_type": "stream",
     "text": [
      "오차행렬\n",
      "[[108  10]\n",
      " [ 14  47]]\n",
      "정확도: 0.8659, 정밀도: 0.8246, 재현율: 0.7705\n"
     ]
    }
   ],
   "source": [
    "# lr_clf = LogisticRegression(solver='liblinear')\n",
    "# lr_clf.fit (X_train, y_train)\n",
    "# pred = lr_clf.predict(X_test)\n",
    "# get_clf_eval(y_test, pred)\n",
    "# 돌렸을 때 임계값 0.5라 \n",
    "# 오차행렬\n",
    "# [[108  10]\n",
    "#  [ 14  47]]\n",
    "# 정확도: 0.8659, 정밀도: 0.8246, 재현율: 0.7705\n",
    "# 똑같이 나옴\n",
    "\n",
    "get_clf_eval(y_test, custom_predict)"
   ]
  },
  {
   "cell_type": "code",
   "execution_count": 18,
   "id": "03860165-0c6b-4293-96ef-5395be6588a9",
   "metadata": {},
   "outputs": [
    {
     "name": "stdout",
     "output_type": "stream",
     "text": [
      "오차행렬\n",
      "[[97 21]\n",
      " [11 50]]\n",
      "정확도: 0.8212, 정밀도: 0.7042, 재현율: 0.8197\n"
     ]
    }
   ],
   "source": [
    "custom_threshold=0.4 # 임계값 0.4로 바꿔줌\n",
    "custom_predict = Binarizer(threshold=custom_threshold).fit_transform(pred_proba_1)\n",
    "get_clf_eval(y_test, custom_predict)"
   ]
  },
  {
   "cell_type": "markdown",
   "id": "511d0dca-1f8b-494d-915e-9e51dba33e41",
   "metadata": {},
   "source": [
    "임계값 작아지면 재현율 올라감  \n",
    "임계값 커지면 정밀도 올라감"
   ]
  },
  {
   "cell_type": "code",
   "execution_count": 19,
   "id": "6d143331-c904-450a-837b-50d01288fba9",
   "metadata": {},
   "outputs": [
    {
     "name": "stdout",
     "output_type": "stream",
     "text": [
      "오차행렬\n",
      "[[113   5]\n",
      " [ 17  44]]\n",
      "정확도: 0.8771, 정밀도: 0.8980, 재현율: 0.7213\n"
     ]
    }
   ],
   "source": [
    "custom_threshold=0.6\n",
    "custom_predict = Binarizer(threshold=custom_threshold).fit_transform(pred_proba_1)\n",
    "get_clf_eval(y_test, custom_predict)"
   ]
  },
  {
   "cell_type": "code",
   "execution_count": 20,
   "id": "1b5392e4-a34b-44fc-8314-8b9d09bb6ce2",
   "metadata": {
    "collapsed": true,
    "jupyter": {
     "outputs_hidden": true
    },
    "tags": []
   },
   "outputs": [
    {
     "name": "stdout",
     "output_type": "stream",
     "text": [
      "오차행렬\n",
      "[[97 21]\n",
      " [11 50]]\n",
      "정확도: 0.8212, 정밀도: 0.7042, 재현율: 0.8197\n",
      "오차행렬\n",
      "[[105  13]\n",
      " [ 13  48]]\n",
      "정확도: 0.8547, 정밀도: 0.7869, 재현율: 0.7869\n",
      "오차행렬\n",
      "[[108  10]\n",
      " [ 14  47]]\n",
      "정확도: 0.8659, 정밀도: 0.8246, 재현율: 0.7705\n",
      "오차행렬\n",
      "[[111   7]\n",
      " [ 16  45]]\n",
      "정확도: 0.8715, 정밀도: 0.8654, 재현율: 0.7377\n",
      "오차행렬\n",
      "[[113   5]\n",
      " [ 17  44]]\n",
      "정확도: 0.8771, 정밀도: 0.8980, 재현율: 0.7213\n"
     ]
    }
   ],
   "source": [
    "# p.161\n",
    "thresholds = [0.4,0.45,0.5,0.55,0.6]\n",
    "def get_eval_by_threshold(y_test, pred_proba_1, thresholds):\n",
    "    for custom_threshold in thresholds:\n",
    "        custom_predict = Binarizer(threshold=custom_threshold).fit_transform(pred_proba_1)\n",
    "        get_clf_eval(y_test, custom_predict)\n",
    "get_eval_by_threshold(y_test, pred_proba_1, thresholds)"
   ]
  },
  {
   "cell_type": "code",
   "execution_count": 21,
   "id": "eee3c0dd-fa74-4d9c-967f-971e391734e3",
   "metadata": {},
   "outputs": [],
   "source": [
    "# p.162 precision_recall_curve\n",
    "\n",
    "# 임계값에 따른 프리시즌 리콜 값 변화"
   ]
  },
  {
   "cell_type": "code",
   "execution_count": 22,
   "id": "d7a6f5d9-94e0-4dab-8c83-d4412c135e86",
   "metadata": {},
   "outputs": [],
   "source": [
    "from sklearn.metrics import precision_recall_curve"
   ]
  },
  {
   "cell_type": "code",
   "execution_count": 24,
   "id": "585949f3-1c5e-4420-b24f-940ecef4ac32",
   "metadata": {
    "tags": []
   },
   "outputs": [],
   "source": [
    "precisions, recalls, thresholds =  precision_recall_curve(y_test, pred_proba_1)\n",
    "# precision 정밀도, recall값, 임게값을 순서대로 반환"
   ]
  },
  {
   "cell_type": "code",
   "execution_count": 26,
   "id": "2e167d81-9039-4383-a8bb-4b65027ede37",
   "metadata": {},
   "outputs": [
    {
     "data": {
      "text/plain": [
       "((148,), (148,), (147,))"
      ]
     },
     "execution_count": 26,
     "metadata": {},
     "output_type": "execute_result"
    }
   ],
   "source": [
    "precisions.shape, recalls.shape, thresholds.shape"
   ]
  },
  {
   "cell_type": "code",
   "execution_count": 28,
   "id": "7f030be5-5a68-4f15-9e4e-1ed02c46171b",
   "metadata": {},
   "outputs": [],
   "source": [
    "# 각각 10개씩만 뽑아서 그래프 그려보자\n",
    "thr_index = np.arange(0,thresholds.shape[0], 15)"
   ]
  },
  {
   "cell_type": "code",
   "execution_count": 29,
   "id": "f234df6f-8486-42fd-a0a3-6e21a8f79b11",
   "metadata": {},
   "outputs": [
    {
     "data": {
      "text/plain": [
       "array([  0,  15,  30,  45,  60,  75,  90, 105, 120, 135])"
      ]
     },
     "execution_count": 29,
     "metadata": {},
     "output_type": "execute_result"
    }
   ],
   "source": [
    "thr_index"
   ]
  },
  {
   "cell_type": "code",
   "execution_count": 32,
   "id": "975521c1-9367-48fa-9272-d340990f2a83",
   "metadata": {},
   "outputs": [
    {
     "data": {
      "text/plain": [
       "array([0.12, 0.13, 0.15, 0.17, 0.26, 0.38, 0.49, 0.63, 0.76, 0.9 ])"
      ]
     },
     "execution_count": 32,
     "metadata": {},
     "output_type": "execute_result"
    }
   ],
   "source": [
    "np.round(thresholds[thr_index],2)"
   ]
  },
  {
   "cell_type": "code",
   "execution_count": 33,
   "id": "0236060d-058b-4c25-ad9e-801147d26b31",
   "metadata": {},
   "outputs": [
    {
     "data": {
      "text/plain": [
       "array([0.379, 0.424, 0.455, 0.519, 0.618, 0.676, 0.797, 0.93 , 0.964,\n",
       "       1.   ])"
      ]
     },
     "execution_count": 33,
     "metadata": {},
     "output_type": "execute_result"
    }
   ],
   "source": [
    "np.round(precisions[thr_index],3)"
   ]
  },
  {
   "cell_type": "code",
   "execution_count": 35,
   "id": "3c15b6af-3be4-4400-990a-64f0b111342c",
   "metadata": {},
   "outputs": [
    {
     "data": {
      "text/plain": [
       "array([1.   , 0.967, 0.902, 0.902, 0.902, 0.82 , 0.77 , 0.656, 0.443,\n",
       "       0.213])"
      ]
     },
     "execution_count": 35,
     "metadata": {},
     "output_type": "execute_result"
    }
   ],
   "source": [
    "np.round(recalls[thr_index],3)"
   ]
  },
  {
   "cell_type": "code",
   "execution_count": 36,
   "id": "48639679-5190-42c3-9c78-eee2785cfba9",
   "metadata": {},
   "outputs": [],
   "source": [
    "# 그래프로 그리기. 재현율과 정밀도가 겹치는 부분?!\n",
    "import matplotlib.pyplot as plt"
   ]
  },
  {
   "cell_type": "code",
   "execution_count": 42,
   "id": "1d5b42df-d5bc-4bdb-8fa0-d1eb6efd9744",
   "metadata": {},
   "outputs": [],
   "source": [
    "def prcision_recall_curve_plot(y_test, pred_proba_1):\n",
    "    from sklearn.metrics import precision_recall_curve\n",
    "    import matplotlib.pyplot as plt\n",
    "    precisions, recalls, thresholds =  precision_recall_curve(y_test, pred_proba_1)\n",
    "    # x축 임계값에 따른 축 리콜, 프리시즌값 나타내기\n",
    "    plt.figure(figsize=(4,3))\n",
    "    threshold_boundary = thresholds.shape[0] \n",
    "    plt.plot(thresholds, precisions[0:threshold_boundary], linestyle='--', label='precisions') \n",
    "    # precisions[0:threshold_boundary] 개수가 하나 차이나서 마지막꺼 뺌\n",
    "    plt.plot(thresholds, recalls[0:threshold_boundary], label='recalls')\n",
    "    # x축이 어디부터 어디까지인지...? 음????\n",
    "    # x축의 시작값이랑 끝값을 start, end에 넣어줌\n",
    "    start, end = plt.xlim() \n",
    "    # x축 눈금을 0.1단위로\n",
    "    plt.xticks(np.round(np.arange(start, end, 0.1),2))\n",
    "    # 레이블 달기\n",
    "    plt.xlabel('임계값')\n",
    "    plt.ylabel('정밀도, 재현율')\n",
    "    # 범례\n",
    "    plt.legend()\n",
    "    # 눈금\n",
    "    plt.grid()\n",
    "    # 끄읕!\n",
    "    plt.show()"
   ]
  },
  {
   "cell_type": "code",
   "execution_count": 43,
   "id": "e541333c-3d31-4a2a-b602-890c098a8875",
   "metadata": {},
   "outputs": [
    {
     "name": "stdout",
     "output_type": "stream",
     "text": [
      "0.07435443475012565 0.984639379155035\n"
     ]
    },
    {
     "data": {
      "image/png": "[encoded data removed]",
      "text/plain": [
       "<Figure size 400x300 with 1 Axes>"
      ]
     },
     "metadata": {},
     "output_type": "display_data"
    }
   ],
   "source": [
    "prcision_recall_curve_plot(y_test, pred_proba_1)"
   ]
  },
  {
   "cell_type": "markdown",
   "id": "c4fba5fc-09c4-4c1b-a1ff-8199b9f46beb",
   "metadata": {},
   "source": [
    "#### 정밀도와 재현율의 맹점\n",
    "대략 어느 한쪽만 높여봤자 의미없다~~ 는 얘기"
   ]
  },
  {
   "cell_type": "markdown",
   "id": "ac2f72ad-1233-4628-8b10-a27809a4cda9",
   "metadata": {},
   "source": [
    "### 3.4 F1스코어\n",
    "정밀도와 재현율을 결합한 지표. 정밀도 재현율 어느 한쪽으로 치우치지 않을 때 F1 스코어가 높게 나온당\n",
    "metrix에 있음"
   ]
  },
  {
   "cell_type": "code",
   "execution_count": 44,
   "id": "139226c0-98eb-4289-b2cd-9dc81e2fe4c3",
   "metadata": {},
   "outputs": [],
   "source": [
    "# p.166\n",
    "\n",
    "from sklearn.metrics import f1_score"
   ]
  },
  {
   "cell_type": "code",
   "execution_count": 45,
   "id": "9b8df342-a456-4486-a932-27ddb6fd0099",
   "metadata": {},
   "outputs": [
    {
     "data": {
      "text/plain": [
       "0.7966101694915254"
      ]
     },
     "execution_count": 45,
     "metadata": {},
     "output_type": "execute_result"
    }
   ],
   "source": [
    "f1_score(y_test, pred)"
   ]
  },
  {
   "cell_type": "code",
   "execution_count": 48,
   "id": "693797f4-530f-4ee9-b05a-f3213ad3a3be",
   "metadata": {},
   "outputs": [
    {
     "name": "stdout",
     "output_type": "stream",
     "text": [
      "임계값: 0.4\n",
      "오차행렬\n",
      "[[97 21]\n",
      " [11 50]]\n",
      "정확도: 0.8212, 정밀도: 0.7042, 재현율: 0.8197, F1: 0.7576\n",
      "--------------------------------\n",
      "임계값: 0.45\n",
      "오차행렬\n",
      "[[105  13]\n",
      " [ 13  48]]\n",
      "정확도: 0.8547, 정밀도: 0.7869, 재현율: 0.7869, F1: 0.7869\n",
      "--------------------------------\n",
      "임계값: 0.5\n",
      "오차행렬\n",
      "[[108  10]\n",
      " [ 14  47]]\n",
      "정확도: 0.8659, 정밀도: 0.8246, 재현율: 0.7705, F1: 0.7966\n",
      "--------------------------------\n",
      "임계값: 0.55\n",
      "오차행렬\n",
      "[[111   7]\n",
      " [ 16  45]]\n",
      "정확도: 0.8715, 정밀도: 0.8654, 재현율: 0.7377, F1: 0.7965\n",
      "--------------------------------\n",
      "임계값: 0.6\n",
      "오차행렬\n",
      "[[113   5]\n",
      " [ 17  44]]\n",
      "정확도: 0.8771, 정밀도: 0.8980, 재현율: 0.7213, F1: 0.8000\n",
      "--------------------------------\n"
     ]
    }
   ],
   "source": [
    "def get_clf_eval(y_test, pred):\n",
    "    from sklearn.metrics import accuracy_score, precision_score, recall_score, confusion_matrix, f1_score\n",
    "    confusion = confusion_matrix(y_test, pred)\n",
    "    accuracy = accuracy_score(y_test, pred)\n",
    "    precision = precision_score(y_test, pred)\n",
    "    recall = recall_score(y_test, pred)\n",
    "    f1 = f1_score(y_test, pred)\n",
    "    \n",
    "    print ('오차행렬')\n",
    "    print (confusion)\n",
    "    print (f'정확도: {accuracy:.4f}, 정밀도: {precision:.4f}, 재현율: {recall:.4f}, F1: {f1:.4f}')\n",
    "    print('--------------------------------')\n",
    "    \n",
    "    \n",
    "thresholds = [0.4,0.45,0.5,0.55,0.6]\n",
    "def get_eval_by_threshold(y_test, pred_proba_1, thresholds):\n",
    "    for custom_threshold in thresholds:\n",
    "        custom_predict = Binarizer(threshold=custom_threshold).fit_transform(pred_proba_1)\n",
    "        print (f'임계값: {custom_threshold}')\n",
    "        get_clf_eval(y_test, custom_predict)\n",
    "get_eval_by_threshold(y_test, pred_proba_1, thresholds)"
   ]
  },
  {
   "cell_type": "markdown",
   "id": "711230df-68ef-466d-b10c-0de8d5f8fb9f",
   "metadata": {},
   "source": [
    "### 3.5 ROC 곡선과 AUC\n",
    "ROC 곡선 아래부분 넓이가 AUC (AUC 스코어) . 1에 가까울 수록 좋다\n",
    "ROC 곡선 수신자 판단 곡선 receiver operation characteristic. fpr이 변할 때 tpr(재현율)이 어떻게 변하는지 나타내는 곡선\n",
    "\n",
    "?????\n",
    "\n",
    "녜???ㅠㅠㅠ"
   ]
  },
  {
   "cell_type": "code",
   "execution_count": 49,
   "id": "829abc69-3d33-43c5-bd17-71df09cde3cd",
   "metadata": {},
   "outputs": [],
   "source": [
    "# p.169\n",
    "from sklearn.metrics import roc_curve"
   ]
  },
  {
   "cell_type": "code",
   "execution_count": 50,
   "id": "d736404e-40bd-4634-bb5b-ba1066fee455",
   "metadata": {
    "collapsed": true,
    "jupyter": {
     "outputs_hidden": true
    },
    "tags": []
   },
   "outputs": [
    {
     "data": {
      "text/plain": [
       "(array([0.        , 0.        , 0.        , 0.        , 0.        ,\n",
       "        0.00847458, 0.00847458, 0.01694915, 0.01694915, 0.02542373,\n",
       "        0.02542373, 0.02542373, 0.04237288, 0.04237288, 0.05932203,\n",
       "        0.05932203, 0.07627119, 0.07627119, 0.10169492, 0.10169492,\n",
       "        0.12711864, 0.12711864, 0.16949153, 0.16949153, 0.20338983,\n",
       "        0.20338983, 0.25423729, 0.25423729, 0.3220339 , 0.34745763,\n",
       "        0.55932203, 0.57627119, 0.59322034, 0.59322034, 0.60169492,\n",
       "        0.60169492, 0.61016949, 0.61864407, 0.66101695, 0.6779661 ,\n",
       "        0.69491525, 0.74576271, 0.77966102, 0.8220339 , 0.8220339 ,\n",
       "        0.84745763, 0.84745763, 1.        ]),\n",
       " array([0.        , 0.01639344, 0.03278689, 0.06557377, 0.24590164,\n",
       "        0.24590164, 0.49180328, 0.49180328, 0.63934426, 0.63934426,\n",
       "        0.67213115, 0.70491803, 0.70491803, 0.72131148, 0.72131148,\n",
       "        0.73770492, 0.73770492, 0.7704918 , 0.7704918 , 0.78688525,\n",
       "        0.78688525, 0.80327869, 0.80327869, 0.81967213, 0.81967213,\n",
       "        0.8852459 , 0.8852459 , 0.90163934, 0.90163934, 0.90163934,\n",
       "        0.90163934, 0.90163934, 0.90163934, 0.91803279, 0.91803279,\n",
       "        0.95081967, 0.95081967, 0.96721311, 0.96721311, 0.96721311,\n",
       "        0.96721311, 0.96721311, 0.96721311, 0.96721311, 0.98360656,\n",
       "        0.98360656, 1.        , 1.        ]),\n",
       " array([1.94326279, 0.94326279, 0.94040085, 0.93261004, 0.87778554,\n",
       "        0.86565305, 0.72771397, 0.68584875, 0.64779433, 0.63856712,\n",
       "        0.62629695, 0.62067109, 0.61651659, 0.60096648, 0.57135187,\n",
       "        0.55064775, 0.52051719, 0.51724753, 0.49209943, 0.454472  ,\n",
       "        0.44497249, 0.44222414, 0.41445142, 0.40194454, 0.37571831,\n",
       "        0.32202995, 0.28441583, 0.283459  , 0.23280098, 0.22996172,\n",
       "        0.14927478, 0.14927303, 0.14423595, 0.13866563, 0.13821237,\n",
       "        0.13664489, 0.1357405 , 0.13571   , 0.13196918, 0.13174372,\n",
       "        0.12941903, 0.12934056, 0.12904511, 0.12350958, 0.1234948 ,\n",
       "        0.11636723, 0.11573102, 0.01974988]))"
      ]
     },
     "execution_count": 50,
     "metadata": {},
     "output_type": "execute_result"
    }
   ],
   "source": [
    "roc_curve(y_test, pred_proba_1)\n",
    "# fpr, tpr(=민감도=재현율), thresholds 순으로 return"
   ]
  },
  {
   "cell_type": "code",
   "execution_count": 56,
   "id": "e8bd661c-5baf-4ab5-abe4-41b4cae2435b",
   "metadata": {},
   "outputs": [],
   "source": [
    "# p.170\n",
    "# 그래프 그리기\n",
    "def roc_curve_plot(y_test, pred_proba_1):\n",
    "    from sklearn.metrics import roc_curve\n",
    "    import matplotlib.pyplot as plt\n",
    "    \n",
    "    fprs, tprs, thresholds = roc_curve(y_test, pred_proba_1)\n",
    "    plt.plot(fprs, tprs, label='ROC')\n",
    "    plt.plot([0,1], [0,1], 'k--', label='Random') # 정비례 직선\n",
    "    \n",
    "    plt.legend()\n",
    "    plt.show()"
   ]
  },
  {
   "cell_type": "code",
   "execution_count": 57,
   "id": "1b0ceaf9-3fdf-4fa5-97f8-fbb1ff70406d",
   "metadata": {},
   "outputs": [
    {
     "data": {
      "image/png": "[encoded data removed]",
      "text/plain": [
       "<Figure size 640x480 with 1 Axes>"
      ]
     },
     "metadata": {},
     "output_type": "display_data"
    }
   ],
   "source": [
    "roc_curve_plot(y_test, pred_proba_1)"
   ]
  },
  {
   "cell_type": "code",
   "execution_count": 59,
   "id": "4382a28d-b164-4f51-913f-6b9d5bd6fb21",
   "metadata": {},
   "outputs": [],
   "source": [
    "# p.171\n",
    "from sklearn.metrics import roc_auc_score"
   ]
  },
  {
   "cell_type": "code",
   "execution_count": 60,
   "id": "6f52a1af-3725-4c9a-ba37-a8dc022fa0b4",
   "metadata": {},
   "outputs": [
    {
     "data": {
      "text/plain": [
       "0.8986524034454015"
      ]
     },
     "execution_count": 60,
     "metadata": {},
     "output_type": "execute_result"
    }
   ],
   "source": [
    "roc_auc_score(y_test, pred_proba_1)"
   ]
  },
  {
   "cell_type": "code",
   "execution_count": null,
   "id": "30a38425-3bd6-4796-b040-a71f80a2c12a",
   "metadata": {},
   "outputs": [],
   "source": [
    "# p.172\n",
    "\n",
    "def get_clf_eval(y_test, pred):\n",
    "    from sklearn.metrics import accuracy_score, precision_score, recall_score, confusion_matrix, f1_score, roc_auc_score\n",
    "    confusion = confusion_matrix(y_test, pred)\n",
    "    accuracy = accuracy_score(y_test, pred)\n",
    "    precision = precision_score(y_test, pred)\n",
    "    recall = recall_score(y_test, pred)\n",
    "    f1 = f1_score(y_test, pred)\n",
    "    auc = roc_auc_score(y_test, pred_proba_1)\n",
    "    \n",
    "    print ('오차행렬')\n",
    "    print (confusion)\n",
    "    print (f'정확도: {accuracy:.4f}, 정밀도: {precision:.4f}, 재현율: {recall:.4f}, F1: {f1:.4f}, AUC: {auc:.4f}')\n",
    "    print('--------------------------------')\n",
    "    \n"
   ]
  },
  {
   "cell_type": "code",
   "execution_count": null,
   "id": "37e83a3f-b26a-406a-946f-dcf9e7645816",
   "metadata": {},
   "outputs": [],
   "source": []
  },
  {
   "cell_type": "code",
   "execution_count": null,
   "id": "65bd7263-89dd-413e-857e-2d96afa49b8e",
   "metadata": {},
   "outputs": [],
   "source": []
  },
  {
   "cell_type": "code",
   "execution_count": null,
   "id": "88236c4c-07fc-460d-9cc8-d894294bdf8c",
   "metadata": {},
   "outputs": [],
   "source": []
  },
  {
   "cell_type": "code",
   "execution_count": null,
   "id": "0a1568c6-6f73-4cf4-baeb-3fe6032cb7a8",
   "metadata": {},
   "outputs": [],
   "source": []
  },
  {
   "cell_type": "code",
   "execution_count": null,
   "id": "9d58b877-ddda-47cb-b8f9-08825af14a83",
   "metadata": {},
   "outputs": [],
   "source": []
  },
  {
   "cell_type": "code",
   "execution_count": null,
   "id": "660fc508-a6d1-4ec7-a1fd-272bbe3bd934",
   "metadata": {},
   "outputs": [],
   "source": []
  }
 ],
 "metadata": {
  "kernelspec": {
   "display_name": "Python 3 (ipykernel)",
   "language": "python",
   "name": "python3"
  },
  "language_info": {
   "codemirror_mode": {
    "name": "ipython",
    "version": 3
   },
   "file_extension": ".py",
   "mimetype": "text/x-python",
   "name": "python",
   "nbconvert_exporter": "python",
   "pygments_lexer": "ipython3",
   "version": "3.9.13"
  }
 },
 "nbformat": 4,
 "nbformat_minor": 5
}
