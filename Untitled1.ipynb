{
 "cells": [
  {
   "cell_type": "markdown",
   "id": "3a70e2cd-a4cb-4dde-beac-37078b4baae3",
   "metadata": {},
   "source": [
    "자료형\n",
    "자료구조 데이터를 어떻게 정리하고 저장할건지\n",
    "\n",
    "덱 스택+큐\n",
    "트리\n",
    "그래프\n",
    "\n",
    "\n",
    "리스트\n",
    "서점에, 분류, 분류 안에 책장?!"
   ]
  }
 ],
 "metadata": {
  "kernelspec": {
   "display_name": "Python 3 (ipykernel)",
   "language": "python",
   "name": "python3"
  },
  "language_info": {
   "codemirror_mode": {
    "name": "ipython",
    "version": 3
   },
   "file_extension": ".py",
   "mimetype": "text/x-python",
   "name": "python",
   "nbconvert_exporter": "python",
   "pygments_lexer": "ipython3",
   "version": "3.9.13"
  }
 },
 "nbformat": 4,
 "nbformat_minor": 5
}
