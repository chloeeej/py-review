{
 "cells": [
  {
   "cell_type": "code",
   "execution_count": 2,
   "id": "33bba92b-0bfc-4680-9bbd-5ac7aeb28ec5",
   "metadata": {},
   "outputs": [],
   "source": [
    "import pandas as pd"
   ]
  },
  {
   "cell_type": "markdown",
   "id": "01d649b0-3338-4605-a534-3559236d0186",
   "metadata": {},
   "source": [
    "--------\n",
    "미세먼지 PM10 전처리\n",
    "\n",
    "-----"
   ]
  },
  {
   "cell_type": "code",
   "execution_count": 5,
   "id": "f12c60d2-a439-4e7f-83d7-0aedb48742cc",
   "metadata": {},
   "outputs": [],
   "source": [
    "pm10 = pd.read_csv('미세먼지_PM10__월별_도시별_대기오염도_20221118165018.csv', encoding='cp949')"
   ]
  },
  {
   "cell_type": "code",
   "execution_count": 6,
   "id": "1b6d5b23-47b9-4d35-be3f-07c6e5287787",
   "metadata": {},
   "outputs": [
    {
     "data": {
      "text/html": [
       "<div>\n",
       "<style scoped>\n",
       "    .dataframe tbody tr th:only-of-type {\n",
       "        vertical-align: middle;\n",
       "    }\n",
       "\n",
       "    .dataframe tbody tr th {\n",
       "        vertical-align: top;\n",
       "    }\n",
       "\n",
       "    .dataframe thead th {\n",
       "        text-align: right;\n",
       "    }\n",
       "</style>\n",
       "<table border=\"1\" class=\"dataframe\">\n",
       "  <thead>\n",
       "    <tr style=\"text-align: right;\">\n",
       "      <th></th>\n",
       "      <th>시점</th>\n",
       "      <th>구분(1)</th>\n",
       "      <th>구분(2)</th>\n",
       "      <th>데이터</th>\n",
       "    </tr>\n",
       "  </thead>\n",
       "  <tbody>\n",
       "    <tr>\n",
       "      <th>0</th>\n",
       "      <td>2010.01</td>\n",
       "      <td>서울특별시</td>\n",
       "      <td>서울특별시</td>\n",
       "      <td>59</td>\n",
       "    </tr>\n",
       "    <tr>\n",
       "      <th>1</th>\n",
       "      <td>2010.01</td>\n",
       "      <td>대구광역시</td>\n",
       "      <td>대구광역시</td>\n",
       "      <td>56</td>\n",
       "    </tr>\n",
       "    <tr>\n",
       "      <th>2</th>\n",
       "      <td>2010.01</td>\n",
       "      <td>인천광역시</td>\n",
       "      <td>인천광역시</td>\n",
       "      <td>64</td>\n",
       "    </tr>\n",
       "    <tr>\n",
       "      <th>3</th>\n",
       "      <td>2010.01</td>\n",
       "      <td>광주광역시</td>\n",
       "      <td>광주광역시</td>\n",
       "      <td>46</td>\n",
       "    </tr>\n",
       "    <tr>\n",
       "      <th>4</th>\n",
       "      <td>2010.01</td>\n",
       "      <td>대전광역시</td>\n",
       "      <td>대전광역시</td>\n",
       "      <td>48</td>\n",
       "    </tr>\n",
       "    <tr>\n",
       "      <th>...</th>\n",
       "      <td>...</td>\n",
       "      <td>...</td>\n",
       "      <td>...</td>\n",
       "      <td>...</td>\n",
       "    </tr>\n",
       "    <tr>\n",
       "      <th>2194</th>\n",
       "      <td>2021.10</td>\n",
       "      <td>전라북도</td>\n",
       "      <td>도평균</td>\n",
       "      <td>31</td>\n",
       "    </tr>\n",
       "    <tr>\n",
       "      <th>2195</th>\n",
       "      <td>2021.10</td>\n",
       "      <td>전라남도</td>\n",
       "      <td>도평균</td>\n",
       "      <td>24</td>\n",
       "    </tr>\n",
       "    <tr>\n",
       "      <th>2196</th>\n",
       "      <td>2021.10</td>\n",
       "      <td>경상북도</td>\n",
       "      <td>도평균</td>\n",
       "      <td>25</td>\n",
       "    </tr>\n",
       "    <tr>\n",
       "      <th>2197</th>\n",
       "      <td>2021.10</td>\n",
       "      <td>경상남도</td>\n",
       "      <td>도평균</td>\n",
       "      <td>23</td>\n",
       "    </tr>\n",
       "    <tr>\n",
       "      <th>2198</th>\n",
       "      <td>2021.10</td>\n",
       "      <td>제주특별자치도</td>\n",
       "      <td>도평균</td>\n",
       "      <td>24</td>\n",
       "    </tr>\n",
       "  </tbody>\n",
       "</table>\n",
       "<p>2199 rows × 4 columns</p>\n",
       "</div>"
      ],
      "text/plain": [
       "           시점    구분(1)  구분(2) 데이터\n",
       "0     2010.01    서울특별시  서울특별시  59\n",
       "1     2010.01    대구광역시  대구광역시  56\n",
       "2     2010.01    인천광역시  인천광역시  64\n",
       "3     2010.01    광주광역시  광주광역시  46\n",
       "4     2010.01    대전광역시  대전광역시  48\n",
       "...       ...      ...    ...  ..\n",
       "2194  2021.10     전라북도    도평균  31\n",
       "2195  2021.10     전라남도    도평균  24\n",
       "2196  2021.10     경상북도    도평균  25\n",
       "2197  2021.10     경상남도    도평균  23\n",
       "2198  2021.10  제주특별자치도    도평균  24\n",
       "\n",
       "[2199 rows x 4 columns]"
      ]
     },
     "execution_count": 6,
     "metadata": {},
     "output_type": "execute_result"
    }
   ],
   "source": [
    "pm10"
   ]
  },
  {
   "cell_type": "code",
   "execution_count": 7,
   "id": "c520bf9a-dd7f-49ef-b398-2437285603d6",
   "metadata": {},
   "outputs": [
    {
     "name": "stdout",
     "output_type": "stream",
     "text": [
      "<class 'pandas.core.frame.DataFrame'>\n",
      "RangeIndex: 2199 entries, 0 to 2198\n",
      "Data columns (total 4 columns):\n",
      " #   Column  Non-Null Count  Dtype  \n",
      "---  ------  --------------  -----  \n",
      " 0   시점      2199 non-null   float64\n",
      " 1   구분(1)   2199 non-null   object \n",
      " 2   구분(2)   2199 non-null   object \n",
      " 3   데이터     2199 non-null   object \n",
      "dtypes: float64(1), object(3)\n",
      "memory usage: 68.8+ KB\n"
     ]
    }
   ],
   "source": [
    "pm10.info()"
   ]
  },
  {
   "cell_type": "code",
   "execution_count": 9,
   "id": "914a7d84-0ab0-4333-b667-7619e1ec23eb",
   "metadata": {},
   "outputs": [
    {
     "data": {
      "text/plain": [
       "시점       0\n",
       "구분(1)    0\n",
       "구분(2)    0\n",
       "데이터      0\n",
       "dtype: int64"
      ]
     },
     "execution_count": 9,
     "metadata": {},
     "output_type": "execute_result"
    }
   ],
   "source": [
    "pm10.isna().sum()"
   ]
  },
  {
   "cell_type": "code",
   "execution_count": 16,
   "id": "b07d9f5d-0e52-44d6-9c19-70a0158e524a",
   "metadata": {},
   "outputs": [],
   "source": [
    "pm10['기간'] = pm10['시점'].astype('str').str.split('.').str.get(0).astype('int')"
   ]
  },
  {
   "cell_type": "code",
   "execution_count": 21,
   "id": "1435a945-9cf1-4b6a-a8f6-184144302df4",
   "metadata": {},
   "outputs": [
    {
     "data": {
      "text/plain": [
       "array(['서울특별시', '대구광역시', '인천광역시', '광주광역시', '대전광역시', '울산광역시', '경기도', '강원도',\n",
       "       '충청북도', '충청남도', '전라북도', '전라남도', '경상북도', '경상남도', '제주특별자치도',\n",
       "       '세종특별자치시'], dtype=object)"
      ]
     },
     "execution_count": 21,
     "metadata": {},
     "output_type": "execute_result"
    }
   ],
   "source": [
    "pm10['구분(1)'].unique()"
   ]
  },
  {
   "cell_type": "code",
   "execution_count": 33,
   "id": "1717ad72-52e0-45ee-a889-e5c27e976c06",
   "metadata": {},
   "outputs": [],
   "source": [
    "pm10['지역'] = pm10['구분(1)'].str.split('특').str.get(0).str.split('광역').str.get(0).str.replace('도', '').str.replace('청', '').str.replace('라', '').str.replace('상', '')"
   ]
  },
  {
   "cell_type": "code",
   "execution_count": 42,
   "id": "16f61bc3-d0c7-4571-bbc4-c64dba0bfba8",
   "metadata": {},
   "outputs": [
    {
     "name": "stderr",
     "output_type": "stream",
     "text": [
      "C:\\Users\\user\\AppData\\Local\\Temp\\ipykernel_13104\\1826248700.py:1: FutureWarning: The default value of regex will change from True to False in a future version. In addition, single character regular expressions will *not* be treated as literal strings when regex=True.\n",
      "  pm10['미세먼지'] = pm10['데이터'].str.replace('*', '').astype('int')\n"
     ]
    }
   ],
   "source": [
    "pm10['미세먼지'] = pm10['데이터'].str.replace('*', '').astype('int')"
   ]
  },
  {
   "cell_type": "code",
   "execution_count": 47,
   "id": "03ec5555-24f3-418d-918e-1882bb255a20",
   "metadata": {},
   "outputs": [],
   "source": [
    "pm10_data = pm10[['기간', '지역', '미세먼지']]"
   ]
  },
  {
   "cell_type": "code",
   "execution_count": 51,
   "id": "21c6bb3b-8453-4cc9-ae0c-f7c77f35b98c",
   "metadata": {},
   "outputs": [],
   "source": [
    "pm10_data.to_csv('pm10_data.csv', encoding='cp949')"
   ]
  },
  {
   "cell_type": "code",
   "execution_count": null,
   "id": "2d48df96-8dc8-4c2e-a88c-a06571f6af6f",
   "metadata": {},
   "outputs": [],
   "source": []
  }
 ],
 "metadata": {
  "kernelspec": {
   "display_name": "Python 3 (ipykernel)",
   "language": "python",
   "name": "python3"
  },
  "language_info": {
   "codemirror_mode": {
    "name": "ipython",
    "version": 3
   },
   "file_extension": ".py",
   "mimetype": "text/x-python",
   "name": "python",
   "nbconvert_exporter": "python",
   "pygments_lexer": "ipython3",
   "version": "3.9.13"
  }
 },
 "nbformat": 4,
 "nbformat_minor": 5
}
