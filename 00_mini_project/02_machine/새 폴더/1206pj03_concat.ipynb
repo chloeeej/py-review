{
 "cells": [
  {
   "cell_type": "code",
   "execution_count": 2,
   "id": "47c6b369-54e1-45e6-b2fb-afb1c5e712fe",
   "metadata": {},
   "outputs": [],
   "source": [
    "import numpy as np\n",
    "import pandas as pd\n",
    "import seaborn as sns\n",
    "import matplotlib.pyplot as plt\n",
    "import warnings\n",
    "warnings.filterwarnings('ignore')"
   ]
  },
  {
   "cell_type": "code",
   "execution_count": 3,
   "id": "27364be9-91bb-481d-b4a3-ea8a488ea67d",
   "metadata": {},
   "outputs": [],
   "source": [
    "def df_clear(data):\n",
    "    df = data \n",
    "    df.columns = ['ranking', 'title', 'opening_date', 'sales',\n",
    "             'sales_percent', 'sum_sales', 'audience', 'sum_audience', \n",
    "            'screens', 'shows', 'main_nation', 'nation', \n",
    "              'producer', 'distributor', 'rated', \n",
    "              'genre', 'director', 'actor'] \n",
    "    df.drop(columns=['ranking', 'sales', 'sales_percent', 'audience', 'nation'], inplace=True)\n",
    "    df.dropna(subset=['opening_date','genre','director','actor'], inplace=True)\n",
    "    df = df[~df['genre'].str.contains('성인물', na=False)]\n",
    "    df.fillna(value={'rated':'전체관람가'}, inplace=True)\n",
    "    return df"
   ]
  },
  {
   "cell_type": "markdown",
   "id": "4cfdc9f6-eb22-4710-a6af-b8202b2a97fa",
   "metadata": {},
   "source": [
    "#### 데이터 불러오기"
   ]
  },
  {
   "cell_type": "code",
   "execution_count": null,
   "id": "585b02af-54bd-4f0f-b352-f0ce61b42190",
   "metadata": {},
   "outputs": [
    {
     "data": {
      "text/html": [
       "<div>\n",
       "<style scoped>\n",
       "    .dataframe tbody tr th:only-of-type {\n",
       "        vertical-align: middle;\n",
       "    }\n",
       "\n",
       "    .dataframe tbody tr th {\n",
       "        vertical-align: top;\n",
       "    }\n",
       "\n",
       "    .dataframe thead th {\n",
       "        text-align: right;\n",
       "    }\n",
       "</style>\n",
       "<table border=\"1\" class=\"dataframe\">\n",
       "  <thead>\n",
       "    <tr style=\"text-align: right;\">\n",
       "      <th></th>\n",
       "      <th>순위</th>\n",
       "      <th>영화명</th>\n",
       "      <th>개봉일</th>\n",
       "      <th>매출액</th>\n",
       "      <th>매출액</th>\n",
       "      <th>누적매출액</th>\n",
       "      <th>관객수</th>\n",
       "      <th>누적관객수</th>\n",
       "      <th>스크린수</th>\n",
       "      <th>상영횟수</th>\n",
       "      <th>대표국적</th>\n",
       "      <th>국적</th>\n",
       "      <th>제작사</th>\n",
       "      <th>배급사</th>\n",
       "      <th>등급</th>\n",
       "      <th>장르</th>\n",
       "      <th>감독</th>\n",
       "      <th>배우</th>\n",
       "    </tr>\n",
       "  </thead>\n",
       "  <tbody>\n",
       "    <tr>\n",
       "      <th>0</th>\n",
       "      <td>1</td>\n",
       "      <td>극한직업</td>\n",
       "      <td>2019-01-23</td>\n",
       "      <td>139651845516</td>\n",
       "      <td>0.039</td>\n",
       "      <td>139651845516</td>\n",
       "      <td>16265618</td>\n",
       "      <td>16265618</td>\n",
       "      <td>2003</td>\n",
       "      <td>292584</td>\n",
       "      <td>한국</td>\n",
       "      <td>한국</td>\n",
       "      <td>(주)어바웃잇,영화사 해그림 주식회사,(주)씨제이이엔엠</td>\n",
       "      <td>(주)씨제이이엔엠</td>\n",
       "      <td>15세이상관람가</td>\n",
       "      <td>코미디</td>\n",
       "      <td>이병헌</td>\n",
       "      <td>류승룡,이하늬,진선규,이동휘,공명,양현민,장진희,한준우,김명준,나철,정재광,정원창,...</td>\n",
       "    </tr>\n",
       "    <tr>\n",
       "      <th>1</th>\n",
       "      <td>2</td>\n",
       "      <td>어벤져스: 엔드게임</td>\n",
       "      <td>2019-04-24</td>\n",
       "      <td>122182694160</td>\n",
       "      <td>0.034</td>\n",
       "      <td>122182694160</td>\n",
       "      <td>13934592</td>\n",
       "      <td>13934592</td>\n",
       "      <td>2835</td>\n",
       "      <td>242001</td>\n",
       "      <td>미국</td>\n",
       "      <td>미국</td>\n",
       "      <td>NaN</td>\n",
       "      <td>월트디즈니컴퍼니코리아 유한책임회사</td>\n",
       "      <td>12세이상관람가</td>\n",
       "      <td>액션,SF</td>\n",
       "      <td>안소니 루소,조 루소</td>\n",
       "      <td>로버트 다우니 주니어,크리스 에반스,마크 러팔로,크리스 헴스워스,스칼렛 요한슨,제레...</td>\n",
       "    </tr>\n",
       "  </tbody>\n",
       "</table>\n",
       "</div>"
      ],
      "text/plain": [
       "  순위         영화명        개봉일          매출액     매출액        누적매출액       관객수   \\\n",
       "0  1        극한직업 2019-01-23  139651845516  0.039  139651845516  16265618   \n",
       "1  2  어벤져스: 엔드게임 2019-04-24  122182694160  0.034  122182694160  13934592   \n",
       "\n",
       "     누적관객수   스크린수    상영횟수  대표국적  국적                             제작사   \\\n",
       "0  16265618   2003  292584    한국  한국  (주)어바웃잇,영화사 해그림 주식회사,(주)씨제이이엔엠   \n",
       "1  13934592   2835  242001    미국  미국                             NaN   \n",
       "\n",
       "                 배급사        등급     장르           감독   \\\n",
       "0           (주)씨제이이엔엠  15세이상관람가    코미디          이병헌   \n",
       "1  월트디즈니컴퍼니코리아 유한책임회사  12세이상관람가  액션,SF  안소니 루소,조 루소   \n",
       "\n",
       "                                                 배우   \n",
       "0  류승룡,이하늬,진선규,이동휘,공명,양현민,장진희,한준우,김명준,나철,정재광,정원창,...  \n",
       "1  로버트 다우니 주니어,크리스 에반스,마크 러팔로,크리스 헴스워스,스칼렛 요한슨,제레...  "
      ]
     },
     "execution_count": 4,
     "metadata": {},
     "output_type": "execute_result"
    }
   ],
   "source": [
    "df = pd.read_excel('KOBIS_기간별박스오피스_2018-01-01_2019-12-31.xlsx')\n",
    "df.head(2)"
   ]
  },
  {
   "cell_type": "code",
   "execution_count": null,
   "id": "27e716cc-2a41-4b33-ab66-7037a2b8df7a",
   "metadata": {},
   "outputs": [
    {
     "data": {
      "text/plain": [
       "(6530, 18)"
      ]
     },
     "execution_count": 5,
     "metadata": {},
     "output_type": "execute_result"
    }
   ],
   "source": [
    "df.shape"
   ]
  },
  {
   "cell_type": "code",
   "execution_count": null,
   "id": "f2026606-d889-4fc3-b22d-c515715e7230",
   "metadata": {},
   "outputs": [
    {
     "data": {
      "text/plain": [
       "(1634, 13)"
      ]
     },
     "execution_count": 6,
     "metadata": {},
     "output_type": "execute_result"
    }
   ],
   "source": [
    "data1 = df_clear(df)\n",
    "data1.shape"
   ]
  },
  {
   "cell_type": "code",
   "execution_count": null,
   "id": "e2b6fe1b-a966-4108-9501-27eddf7011aa",
   "metadata": {},
   "outputs": [
    {
     "data": {
      "text/html": [
       "<div>\n",
       "<style scoped>\n",
       "    .dataframe tbody tr th:only-of-type {\n",
       "        vertical-align: middle;\n",
       "    }\n",
       "\n",
       "    .dataframe tbody tr th {\n",
       "        vertical-align: top;\n",
       "    }\n",
       "\n",
       "    .dataframe thead th {\n",
       "        text-align: right;\n",
       "    }\n",
       "</style>\n",
       "<table border=\"1\" class=\"dataframe\">\n",
       "  <thead>\n",
       "    <tr style=\"text-align: right;\">\n",
       "      <th></th>\n",
       "      <th>title</th>\n",
       "      <th>opening_date</th>\n",
       "      <th>sum_sales</th>\n",
       "      <th>sum_audience</th>\n",
       "      <th>screens</th>\n",
       "      <th>shows</th>\n",
       "      <th>main_nation</th>\n",
       "      <th>producer</th>\n",
       "      <th>distributor</th>\n",
       "      <th>rated</th>\n",
       "      <th>genre</th>\n",
       "      <th>director</th>\n",
       "      <th>actor</th>\n",
       "    </tr>\n",
       "  </thead>\n",
       "  <tbody>\n",
       "    <tr>\n",
       "      <th>0</th>\n",
       "      <td>극한직업</td>\n",
       "      <td>2019-01-23</td>\n",
       "      <td>139651845516</td>\n",
       "      <td>16265618</td>\n",
       "      <td>2003</td>\n",
       "      <td>292584</td>\n",
       "      <td>한국</td>\n",
       "      <td>(주)어바웃잇,영화사 해그림 주식회사,(주)씨제이이엔엠</td>\n",
       "      <td>(주)씨제이이엔엠</td>\n",
       "      <td>15세이상관람가</td>\n",
       "      <td>코미디</td>\n",
       "      <td>이병헌</td>\n",
       "      <td>류승룡,이하늬,진선규,이동휘,공명,양현민,장진희,한준우,김명준,나철,정재광,정원창,...</td>\n",
       "    </tr>\n",
       "  </tbody>\n",
       "</table>\n",
       "</div>"
      ],
      "text/plain": [
       "  title opening_date     sum_sales  sum_audience  screens   shows main_nation  \\\n",
       "0  극한직업   2019-01-23  139651845516      16265618     2003  292584          한국   \n",
       "\n",
       "                         producer distributor     rated genre director  \\\n",
       "0  (주)어바웃잇,영화사 해그림 주식회사,(주)씨제이이엔엠   (주)씨제이이엔엠  15세이상관람가   코미디      이병헌   \n",
       "\n",
       "                                               actor  \n",
       "0  류승룡,이하늬,진선규,이동휘,공명,양현민,장진희,한준우,김명준,나철,정재광,정원창,...  "
      ]
     },
     "execution_count": 7,
     "metadata": {},
     "output_type": "execute_result"
    }
   ],
   "source": [
    "data1.head(1)"
   ]
  },
  {
   "cell_type": "code",
   "execution_count": null,
   "id": "7c076d60-19e8-4e41-a706-a41313adb614",
   "metadata": {},
   "outputs": [
    {
     "data": {
      "text/html": [
       "<div>\n",
       "<style scoped>\n",
       "    .dataframe tbody tr th:only-of-type {\n",
       "        vertical-align: middle;\n",
       "    }\n",
       "\n",
       "    .dataframe tbody tr th {\n",
       "        vertical-align: top;\n",
       "    }\n",
       "\n",
       "    .dataframe thead th {\n",
       "        text-align: right;\n",
       "    }\n",
       "</style>\n",
       "<table border=\"1\" class=\"dataframe\">\n",
       "  <thead>\n",
       "    <tr style=\"text-align: right;\">\n",
       "      <th></th>\n",
       "      <th>순위</th>\n",
       "      <th>영화명</th>\n",
       "      <th>개봉일</th>\n",
       "      <th>매출액</th>\n",
       "      <th>매출액</th>\n",
       "      <th>누적매출액</th>\n",
       "      <th>관객수</th>\n",
       "      <th>누적관객수</th>\n",
       "      <th>스크린수</th>\n",
       "      <th>상영횟수</th>\n",
       "      <th>대표국적</th>\n",
       "      <th>국적</th>\n",
       "      <th>제작사</th>\n",
       "      <th>배급사</th>\n",
       "      <th>등급</th>\n",
       "      <th>장르</th>\n",
       "      <th>감독</th>\n",
       "      <th>배우</th>\n",
       "    </tr>\n",
       "  </thead>\n",
       "  <tbody>\n",
       "    <tr>\n",
       "      <th>0</th>\n",
       "      <td>1</td>\n",
       "      <td>택시운전사</td>\n",
       "      <td>2017-08-02</td>\n",
       "      <td>95853645649</td>\n",
       "      <td>0.029</td>\n",
       "      <td>95853645649</td>\n",
       "      <td>12186327</td>\n",
       "      <td>12186327</td>\n",
       "      <td>1906</td>\n",
       "      <td>184075</td>\n",
       "      <td>한국</td>\n",
       "      <td>한국</td>\n",
       "      <td>더램프(주)</td>\n",
       "      <td>(주)쇼박스</td>\n",
       "      <td>15세이상관람가</td>\n",
       "      <td>드라마</td>\n",
       "      <td>장훈</td>\n",
       "      <td>이수민,송강호,토마스 크레취만,유해진,류준열,박혁권,최귀화,이창섭,이호균,서정우,송...</td>\n",
       "    </tr>\n",
       "    <tr>\n",
       "      <th>1</th>\n",
       "      <td>2</td>\n",
       "      <td>부산행</td>\n",
       "      <td>2016-07-20</td>\n",
       "      <td>93182579048</td>\n",
       "      <td>0.028</td>\n",
       "      <td>93182579048</td>\n",
       "      <td>11566862</td>\n",
       "      <td>11566862</td>\n",
       "      <td>1788</td>\n",
       "      <td>151350</td>\n",
       "      <td>한국</td>\n",
       "      <td>한국</td>\n",
       "      <td>(주)영화사레드피터</td>\n",
       "      <td>(주)넥스트엔터테인먼트월드(NEW)</td>\n",
       "      <td>15세이상관람가</td>\n",
       "      <td>액션,스릴러</td>\n",
       "      <td>연상호</td>\n",
       "      <td>공유,김정희,정유미,김율호,이주원,이영욱,마동석,김찬호,김운,최우식,안소희,김의성,...</td>\n",
       "    </tr>\n",
       "  </tbody>\n",
       "</table>\n",
       "</div>"
      ],
      "text/plain": [
       "  순위    영화명        개봉일         매출액     매출액       누적매출액       관객수     누적관객수   \\\n",
       "0  1  택시운전사 2017-08-02  95853645649  0.029  95853645649  12186327  12186327   \n",
       "1  2    부산행 2016-07-20  93182579048  0.028  93182579048  11566862  11566862   \n",
       "\n",
       "   스크린수    상영횟수  대표국적  국적         제작사                  배급사        등급      장르   \\\n",
       "0   1906  184075    한국  한국      더램프(주)               (주)쇼박스  15세이상관람가     드라마   \n",
       "1   1788  151350    한국  한국  (주)영화사레드피터  (주)넥스트엔터테인먼트월드(NEW)  15세이상관람가  액션,스릴러   \n",
       "\n",
       "   감독                                                 배우   \n",
       "0   장훈  이수민,송강호,토마스 크레취만,유해진,류준열,박혁권,최귀화,이창섭,이호균,서정우,송...  \n",
       "1  연상호  공유,김정희,정유미,김율호,이주원,이영욱,마동석,김찬호,김운,최우식,안소희,김의성,...  "
      ]
     },
     "execution_count": 8,
     "metadata": {},
     "output_type": "execute_result"
    }
   ],
   "source": [
    "df2 = pd.read_excel('KOBIS_기간별박스오피스_2016-01-01_2017-12-31.xlsx')\n",
    "df2.head(2)"
   ]
  },
  {
   "cell_type": "code",
   "execution_count": null,
   "id": "c0fc0f5b-c626-4255-8922-7d6f9f8fa72b",
   "metadata": {},
   "outputs": [
    {
     "data": {
      "text/plain": [
       "(5865, 18)"
      ]
     },
     "execution_count": 9,
     "metadata": {},
     "output_type": "execute_result"
    }
   ],
   "source": [
    "df2.shape"
   ]
  },
  {
   "cell_type": "code",
   "execution_count": null,
   "id": "a33e7696-8237-45c5-bdc1-acd9d9918c9f",
   "metadata": {},
   "outputs": [
    {
     "data": {
      "text/plain": [
       "(2002, 13)"
      ]
     },
     "execution_count": 10,
     "metadata": {},
     "output_type": "execute_result"
    }
   ],
   "source": [
    "data2 = df_clear(df2)\n",
    "data2.shape"
   ]
  },
  {
   "cell_type": "code",
   "execution_count": null,
   "id": "cd31568a-7b7f-43a7-9f4f-c0e7ba4b83fa",
   "metadata": {},
   "outputs": [
    {
     "data": {
      "text/html": [
       "<div>\n",
       "<style scoped>\n",
       "    .dataframe tbody tr th:only-of-type {\n",
       "        vertical-align: middle;\n",
       "    }\n",
       "\n",
       "    .dataframe tbody tr th {\n",
       "        vertical-align: top;\n",
       "    }\n",
       "\n",
       "    .dataframe thead th {\n",
       "        text-align: right;\n",
       "    }\n",
       "</style>\n",
       "<table border=\"1\" class=\"dataframe\">\n",
       "  <thead>\n",
       "    <tr style=\"text-align: right;\">\n",
       "      <th></th>\n",
       "      <th>순위</th>\n",
       "      <th>영화명</th>\n",
       "      <th>개봉일</th>\n",
       "      <th>매출액</th>\n",
       "      <th>매출액</th>\n",
       "      <th>누적매출액</th>\n",
       "      <th>관객수</th>\n",
       "      <th>누적관객수</th>\n",
       "      <th>스크린수</th>\n",
       "      <th>상영횟수</th>\n",
       "      <th>대표국적</th>\n",
       "      <th>국적</th>\n",
       "      <th>제작사</th>\n",
       "      <th>배급사</th>\n",
       "      <th>등급</th>\n",
       "      <th>장르</th>\n",
       "      <th>감독</th>\n",
       "      <th>배우</th>\n",
       "    </tr>\n",
       "  </thead>\n",
       "  <tbody>\n",
       "    <tr>\n",
       "      <th>0</th>\n",
       "      <td>1</td>\n",
       "      <td>명량</td>\n",
       "      <td>2014-07-30</td>\n",
       "      <td>135753219310</td>\n",
       "      <td>0.043</td>\n",
       "      <td>135753219310</td>\n",
       "      <td>17615039</td>\n",
       "      <td>17615039</td>\n",
       "      <td>1587</td>\n",
       "      <td>188646</td>\n",
       "      <td>한국</td>\n",
       "      <td>한국</td>\n",
       "      <td>(주)빅스톤픽쳐스</td>\n",
       "      <td>(주)씨제이이엔엠</td>\n",
       "      <td>15세이상관람가</td>\n",
       "      <td>사극,액션</td>\n",
       "      <td>김한민</td>\n",
       "      <td>최민식,류승룡,조진웅,김명곤,진구,이정현,권율,노민우,이승준,오타니 료헤이,박보검,...</td>\n",
       "    </tr>\n",
       "    <tr>\n",
       "      <th>1</th>\n",
       "      <td>2</td>\n",
       "      <td>국제시장</td>\n",
       "      <td>2014-12-17</td>\n",
       "      <td>110930943730</td>\n",
       "      <td>0.035</td>\n",
       "      <td>110930943730</td>\n",
       "      <td>14261581</td>\n",
       "      <td>14261581</td>\n",
       "      <td>1044</td>\n",
       "      <td>212664</td>\n",
       "      <td>한국</td>\n",
       "      <td>한국</td>\n",
       "      <td>(주)제이케이필름,(주)씨제이이엔엠</td>\n",
       "      <td>(주)씨제이이엔엠</td>\n",
       "      <td>12세이상관람가</td>\n",
       "      <td>드라마</td>\n",
       "      <td>윤제균</td>\n",
       "      <td>황정민,김윤진,오달수,정진영,장영남,라미란,김슬기,정영기,맹세창,김동원,김현중,김지...</td>\n",
       "    </tr>\n",
       "  </tbody>\n",
       "</table>\n",
       "</div>"
      ],
      "text/plain": [
       "  순위   영화명        개봉일          매출액     매출액        누적매출액       관객수     누적관객수   \\\n",
       "0  1    명량 2014-07-30  135753219310  0.043  135753219310  17615039  17615039   \n",
       "1  2  국제시장 2014-12-17  110930943730  0.035  110930943730  14261581  14261581   \n",
       "\n",
       "   스크린수    상영횟수  대표국적  국적                  제작사        배급사        등급     장르   \\\n",
       "0   1587  188646    한국  한국            (주)빅스톤픽쳐스  (주)씨제이이엔엠  15세이상관람가  사극,액션   \n",
       "1   1044  212664    한국  한국  (주)제이케이필름,(주)씨제이이엔엠  (주)씨제이이엔엠  12세이상관람가    드라마   \n",
       "\n",
       "   감독                                                 배우   \n",
       "0  김한민  최민식,류승룡,조진웅,김명곤,진구,이정현,권율,노민우,이승준,오타니 료헤이,박보검,...  \n",
       "1  윤제균  황정민,김윤진,오달수,정진영,장영남,라미란,김슬기,정영기,맹세창,김동원,김현중,김지...  "
      ]
     },
     "execution_count": 11,
     "metadata": {},
     "output_type": "execute_result"
    }
   ],
   "source": [
    "df3 = pd.read_excel('KOBIS_기간별박스오피스_2014-01-01_2015-12-31.xlsx')\n",
    "df3.head(2)"
   ]
  },
  {
   "cell_type": "code",
   "execution_count": null,
   "id": "3e1d96dc-e498-474a-8c73-9eae4f3a6cb6",
   "metadata": {},
   "outputs": [
    {
     "data": {
      "text/plain": [
       "(1753, 13)"
      ]
     },
     "execution_count": 12,
     "metadata": {},
     "output_type": "execute_result"
    }
   ],
   "source": [
    "data3 = df_clear(df3)\n",
    "data3.shape"
   ]
  },
  {
   "cell_type": "code",
   "execution_count": null,
   "id": "80a29499-e9cd-4f29-98a0-db88888e4895",
   "metadata": {},
   "outputs": [
    {
     "data": {
      "text/html": [
       "<div>\n",
       "<style scoped>\n",
       "    .dataframe tbody tr th:only-of-type {\n",
       "        vertical-align: middle;\n",
       "    }\n",
       "\n",
       "    .dataframe tbody tr th {\n",
       "        vertical-align: top;\n",
       "    }\n",
       "\n",
       "    .dataframe thead th {\n",
       "        text-align: right;\n",
       "    }\n",
       "</style>\n",
       "<table border=\"1\" class=\"dataframe\">\n",
       "  <thead>\n",
       "    <tr style=\"text-align: right;\">\n",
       "      <th></th>\n",
       "      <th>순위</th>\n",
       "      <th>영화명</th>\n",
       "      <th>개봉일</th>\n",
       "      <th>매출액</th>\n",
       "      <th>매출액</th>\n",
       "      <th>누적매출액</th>\n",
       "      <th>관객수</th>\n",
       "      <th>누적관객수</th>\n",
       "      <th>스크린수</th>\n",
       "      <th>상영횟수</th>\n",
       "      <th>대표국적</th>\n",
       "      <th>국적</th>\n",
       "      <th>제작사</th>\n",
       "      <th>배급사</th>\n",
       "      <th>등급</th>\n",
       "      <th>장르</th>\n",
       "      <th>감독</th>\n",
       "      <th>배우</th>\n",
       "    </tr>\n",
       "  </thead>\n",
       "  <tbody>\n",
       "    <tr>\n",
       "      <th>0</th>\n",
       "      <td>1</td>\n",
       "      <td>도둑들</td>\n",
       "      <td>2012-07-25</td>\n",
       "      <td>93665568500</td>\n",
       "      <td>0.032</td>\n",
       "      <td>93665568500</td>\n",
       "      <td>12983330</td>\n",
       "      <td>12983330</td>\n",
       "      <td>1091</td>\n",
       "      <td>155393</td>\n",
       "      <td>한국</td>\n",
       "      <td>한국,홍콩</td>\n",
       "      <td>(주)케이퍼필름</td>\n",
       "      <td>(주)쇼박스</td>\n",
       "      <td>15세이상관람가</td>\n",
       "      <td>액션,범죄</td>\n",
       "      <td>최동훈</td>\n",
       "      <td>김윤석,김혜수,이정재,전지현,임달화,김해숙,오달수,김수현,이심결,증국상,서영주,장동...</td>\n",
       "    </tr>\n",
       "    <tr>\n",
       "      <th>1</th>\n",
       "      <td>2</td>\n",
       "      <td>7번방의 선물</td>\n",
       "      <td>2013-01-23</td>\n",
       "      <td>91431914670</td>\n",
       "      <td>0.031</td>\n",
       "      <td>91431914670</td>\n",
       "      <td>12811206</td>\n",
       "      <td>12811206</td>\n",
       "      <td>866</td>\n",
       "      <td>166815</td>\n",
       "      <td>한국</td>\n",
       "      <td>한국</td>\n",
       "      <td>(주)화인웍스,(주)씨엘엔터테인먼트</td>\n",
       "      <td>(주)넥스트엔터테인먼트월드(NEW)</td>\n",
       "      <td>15세이상관람가</td>\n",
       "      <td>코미디,드라마</td>\n",
       "      <td>이환경</td>\n",
       "      <td>장이준,류승룡,박신혜,갈소원,정진영,오달수,박원상,김정태,정만식,김기천,장호준,김동...</td>\n",
       "    </tr>\n",
       "  </tbody>\n",
       "</table>\n",
       "</div>"
      ],
      "text/plain": [
       "  순위      영화명        개봉일         매출액     매출액       누적매출액       관객수     누적관객수   \\\n",
       "0  1      도둑들 2012-07-25  93665568500  0.032  93665568500  12983330  12983330   \n",
       "1  2  7번방의 선물 2013-01-23  91431914670  0.031  91431914670  12811206  12811206   \n",
       "\n",
       "   스크린수    상영횟수  대표국적     국적                  제작사                  배급사   \\\n",
       "0   1091  155393    한국  한국,홍콩             (주)케이퍼필름               (주)쇼박스   \n",
       "1    866  166815    한국     한국  (주)화인웍스,(주)씨엘엔터테인먼트  (주)넥스트엔터테인먼트월드(NEW)   \n",
       "\n",
       "        등급       장르   감독                                                 배우   \n",
       "0  15세이상관람가    액션,범죄  최동훈  김윤석,김혜수,이정재,전지현,임달화,김해숙,오달수,김수현,이심결,증국상,서영주,장동...  \n",
       "1  15세이상관람가  코미디,드라마  이환경  장이준,류승룡,박신혜,갈소원,정진영,오달수,박원상,김정태,정만식,김기천,장호준,김동...  "
      ]
     },
     "execution_count": 13,
     "metadata": {},
     "output_type": "execute_result"
    }
   ],
   "source": [
    "df4 = pd.read_excel('KOBIS_기간별박스오피스_2012-01-01_2013-12-31.xlsx')\n",
    "df4.head(2)"
   ]
  },
  {
   "cell_type": "code",
   "execution_count": null,
   "id": "07f385c4-40a6-4099-b721-893e7b6cd159",
   "metadata": {},
   "outputs": [
    {
     "data": {
      "text/plain": [
       "(1236, 13)"
      ]
     },
     "execution_count": 14,
     "metadata": {},
     "output_type": "execute_result"
    }
   ],
   "source": [
    "data4 = df_clear(df4)\n",
    "data4.shape"
   ]
  },
  {
   "cell_type": "code",
   "execution_count": null,
   "id": "8a36b4a9-e1fd-4b88-ae20-e8f988fab2e8",
   "metadata": {},
   "outputs": [
    {
     "data": {
      "text/html": [
       "<div>\n",
       "<style scoped>\n",
       "    .dataframe tbody tr th:only-of-type {\n",
       "        vertical-align: middle;\n",
       "    }\n",
       "\n",
       "    .dataframe tbody tr th {\n",
       "        vertical-align: top;\n",
       "    }\n",
       "\n",
       "    .dataframe thead th {\n",
       "        text-align: right;\n",
       "    }\n",
       "</style>\n",
       "<table border=\"1\" class=\"dataframe\">\n",
       "  <thead>\n",
       "    <tr style=\"text-align: right;\">\n",
       "      <th></th>\n",
       "      <th>순위</th>\n",
       "      <th>영화명</th>\n",
       "      <th>개봉일</th>\n",
       "      <th>매출액</th>\n",
       "      <th>매출액</th>\n",
       "      <th>누적매출액</th>\n",
       "      <th>관객수</th>\n",
       "      <th>누적관객수</th>\n",
       "      <th>스크린수</th>\n",
       "      <th>상영횟수</th>\n",
       "      <th>대표국적</th>\n",
       "      <th>국적</th>\n",
       "      <th>제작사</th>\n",
       "      <th>배급사</th>\n",
       "      <th>등급</th>\n",
       "      <th>장르</th>\n",
       "      <th>감독</th>\n",
       "      <th>배우</th>\n",
       "    </tr>\n",
       "  </thead>\n",
       "  <tbody>\n",
       "    <tr>\n",
       "      <th>0</th>\n",
       "      <td>1</td>\n",
       "      <td>트랜스포머 3</td>\n",
       "      <td>2011-06-29</td>\n",
       "      <td>74840681500</td>\n",
       "      <td>0.034</td>\n",
       "      <td>74840681500</td>\n",
       "      <td>7784743</td>\n",
       "      <td>7784743</td>\n",
       "      <td>1409</td>\n",
       "      <td>124450</td>\n",
       "      <td>미국</td>\n",
       "      <td>미국</td>\n",
       "      <td>NaN</td>\n",
       "      <td>(주)씨제이이엔엠</td>\n",
       "      <td>12세이상관람가</td>\n",
       "      <td>액션,어드벤처</td>\n",
       "      <td>마이클 베이</td>\n",
       "      <td>조쉬 더하멜,존 말코비치,로지 헌팅턴-휘틀리,샤이아 라보프,패트릭 뎀시</td>\n",
       "    </tr>\n",
       "    <tr>\n",
       "      <th>1</th>\n",
       "      <td>2</td>\n",
       "      <td>최종병기 활</td>\n",
       "      <td>2011-08-10</td>\n",
       "      <td>55827861500</td>\n",
       "      <td>0.025</td>\n",
       "      <td>55827861500</td>\n",
       "      <td>7470633</td>\n",
       "      <td>7470633</td>\n",
       "      <td>615</td>\n",
       "      <td>130054</td>\n",
       "      <td>한국</td>\n",
       "      <td>한국</td>\n",
       "      <td>(주)디씨지플러스,(주)다세포클럽</td>\n",
       "      <td>롯데쇼핑㈜롯데엔터테인먼트</td>\n",
       "      <td>15세이상관람가</td>\n",
       "      <td>사극,액션</td>\n",
       "      <td>김한민</td>\n",
       "      <td>박해일,류승룡,김무열,문채원,이한위,김구택,이경영,박기웅,이승준,이재구,박노식,이다...</td>\n",
       "    </tr>\n",
       "  </tbody>\n",
       "</table>\n",
       "</div>"
      ],
      "text/plain": [
       "  순위      영화명        개봉일         매출액     매출액       누적매출액      관객수    누적관객수   \\\n",
       "0  1  트랜스포머 3 2011-06-29  74840681500  0.034  74840681500  7784743  7784743   \n",
       "1  2   최종병기 활 2011-08-10  55827861500  0.025  55827861500  7470633  7470633   \n",
       "\n",
       "   스크린수    상영횟수  대표국적  국적                 제작사            배급사        등급   \\\n",
       "0   1409  124450    미국  미국                 NaN      (주)씨제이이엔엠  12세이상관람가   \n",
       "1    615  130054    한국  한국  (주)디씨지플러스,(주)다세포클럽  롯데쇼핑㈜롯데엔터테인먼트  15세이상관람가   \n",
       "\n",
       "       장르      감독                                                 배우   \n",
       "0  액션,어드벤처  마이클 베이            조쉬 더하멜,존 말코비치,로지 헌팅턴-휘틀리,샤이아 라보프,패트릭 뎀시  \n",
       "1    사극,액션     김한민  박해일,류승룡,김무열,문채원,이한위,김구택,이경영,박기웅,이승준,이재구,박노식,이다...  "
      ]
     },
     "execution_count": 15,
     "metadata": {},
     "output_type": "execute_result"
    }
   ],
   "source": [
    "df5 = pd.read_excel('KOBIS_기간별박스오피스_2010-01-01_2011-12-31.xlsx')\n",
    "df5.head(2)"
   ]
  },
  {
   "cell_type": "code",
   "execution_count": null,
   "id": "39bfae6c-cbea-43dc-b8a3-b35a992cf910",
   "metadata": {},
   "outputs": [
    {
     "data": {
      "text/plain": [
       "(725, 13)"
      ]
     },
     "execution_count": 16,
     "metadata": {},
     "output_type": "execute_result"
    }
   ],
   "source": [
    "data5 = df_clear(df5)\n",
    "data5.shape"
   ]
  },
  {
   "cell_type": "markdown",
   "id": "965c8ce8-acc5-4494-9110-c5405752ff6b",
   "metadata": {
    "tags": []
   },
   "source": [
    "## 데이터 합치기"
   ]
  },
  {
   "cell_type": "code",
   "execution_count": null,
   "id": "0d04694f-5bfd-4e58-a1ca-6ddd95d1e5f3",
   "metadata": {},
   "outputs": [
    {
     "data": {
      "text/html": [
       "<div>\n",
       "<style scoped>\n",
       "    .dataframe tbody tr th:only-of-type {\n",
       "        vertical-align: middle;\n",
       "    }\n",
       "\n",
       "    .dataframe tbody tr th {\n",
       "        vertical-align: top;\n",
       "    }\n",
       "\n",
       "    .dataframe thead th {\n",
       "        text-align: right;\n",
       "    }\n",
       "</style>\n",
       "<table border=\"1\" class=\"dataframe\">\n",
       "  <thead>\n",
       "    <tr style=\"text-align: right;\">\n",
       "      <th></th>\n",
       "      <th>title</th>\n",
       "      <th>opening_date</th>\n",
       "      <th>sum_sales</th>\n",
       "      <th>sum_audience</th>\n",
       "      <th>screens</th>\n",
       "      <th>shows</th>\n",
       "      <th>main_nation</th>\n",
       "      <th>producer</th>\n",
       "      <th>distributor</th>\n",
       "      <th>rated</th>\n",
       "      <th>genre</th>\n",
       "      <th>director</th>\n",
       "      <th>actor</th>\n",
       "    </tr>\n",
       "  </thead>\n",
       "  <tbody>\n",
       "    <tr>\n",
       "      <th>0</th>\n",
       "      <td>극한직업</td>\n",
       "      <td>2019-01-23</td>\n",
       "      <td>139651845516</td>\n",
       "      <td>16265618</td>\n",
       "      <td>2003</td>\n",
       "      <td>292584</td>\n",
       "      <td>한국</td>\n",
       "      <td>(주)어바웃잇,영화사 해그림 주식회사,(주)씨제이이엔엠</td>\n",
       "      <td>(주)씨제이이엔엠</td>\n",
       "      <td>15세이상관람가</td>\n",
       "      <td>코미디</td>\n",
       "      <td>이병헌</td>\n",
       "      <td>류승룡,이하늬,진선규,이동휘,공명,양현민,장진희,한준우,김명준,나철,정재광,정원창,...</td>\n",
       "    </tr>\n",
       "    <tr>\n",
       "      <th>1</th>\n",
       "      <td>어벤져스: 엔드게임</td>\n",
       "      <td>2019-04-24</td>\n",
       "      <td>122182694160</td>\n",
       "      <td>13934592</td>\n",
       "      <td>2835</td>\n",
       "      <td>242001</td>\n",
       "      <td>미국</td>\n",
       "      <td>NaN</td>\n",
       "      <td>월트디즈니컴퍼니코리아 유한책임회사</td>\n",
       "      <td>12세이상관람가</td>\n",
       "      <td>액션,SF</td>\n",
       "      <td>안소니 루소,조 루소</td>\n",
       "      <td>로버트 다우니 주니어,크리스 에반스,마크 러팔로,크리스 헴스워스,스칼렛 요한슨,제레...</td>\n",
       "    </tr>\n",
       "  </tbody>\n",
       "</table>\n",
       "</div>"
      ],
      "text/plain": [
       "        title opening_date     sum_sales  sum_audience  screens   shows  \\\n",
       "0        극한직업   2019-01-23  139651845516      16265618     2003  292584   \n",
       "1  어벤져스: 엔드게임   2019-04-24  122182694160      13934592     2835  242001   \n",
       "\n",
       "  main_nation                        producer         distributor     rated  \\\n",
       "0          한국  (주)어바웃잇,영화사 해그림 주식회사,(주)씨제이이엔엠           (주)씨제이이엔엠  15세이상관람가   \n",
       "1          미국                             NaN  월트디즈니컴퍼니코리아 유한책임회사  12세이상관람가   \n",
       "\n",
       "   genre     director                                              actor  \n",
       "0    코미디          이병헌  류승룡,이하늬,진선규,이동휘,공명,양현민,장진희,한준우,김명준,나철,정재광,정원창,...  \n",
       "1  액션,SF  안소니 루소,조 루소  로버트 다우니 주니어,크리스 에반스,마크 러팔로,크리스 헴스워스,스칼렛 요한슨,제레...  "
      ]
     },
     "execution_count": 17,
     "metadata": {},
     "output_type": "execute_result"
    }
   ],
   "source": [
    "df_con = pd.concat([data1, data2, data3, data4, data5])\n",
    "df_con.head(2)"
   ]
  },
  {
   "cell_type": "code",
   "execution_count": null,
   "id": "6a20638a-9491-4c57-9254-14349491b577",
   "metadata": {},
   "outputs": [
    {
     "data": {
      "text/plain": [
       "(7350, 13)"
      ]
     },
     "execution_count": 18,
     "metadata": {},
     "output_type": "execute_result"
    }
   ],
   "source": [
    "df_con.shape"
   ]
  },
  {
   "cell_type": "code",
   "execution_count": null,
   "id": "6ce6a186-9e64-40e7-b233-43777a6a2d76",
   "metadata": {},
   "outputs": [],
   "source": [
    "#데이터 검증\n",
    "#df_con.to_excel('data_con.xlsx', index=False)"
   ]
  },
  {
   "cell_type": "code",
   "execution_count": null,
   "id": "03bf506c-d280-423f-a58f-ac63bdd238c9",
   "metadata": {},
   "outputs": [
    {
     "data": {
      "text/html": [
       "<div>\n",
       "<style scoped>\n",
       "    .dataframe tbody tr th:only-of-type {\n",
       "        vertical-align: middle;\n",
       "    }\n",
       "\n",
       "    .dataframe tbody tr th {\n",
       "        vertical-align: top;\n",
       "    }\n",
       "\n",
       "    .dataframe thead th {\n",
       "        text-align: right;\n",
       "    }\n",
       "</style>\n",
       "<table border=\"1\" class=\"dataframe\">\n",
       "  <thead>\n",
       "    <tr style=\"text-align: right;\">\n",
       "      <th></th>\n",
       "      <th>title</th>\n",
       "      <th>opening_date</th>\n",
       "      <th>sum_sales</th>\n",
       "      <th>sum_audience</th>\n",
       "      <th>screens</th>\n",
       "      <th>shows</th>\n",
       "      <th>main_nation</th>\n",
       "      <th>producer</th>\n",
       "      <th>distributor</th>\n",
       "      <th>rated</th>\n",
       "      <th>genre</th>\n",
       "      <th>director</th>\n",
       "      <th>actor</th>\n",
       "    </tr>\n",
       "  </thead>\n",
       "  <tbody>\n",
       "    <tr>\n",
       "      <th>0</th>\n",
       "      <td>극한직업</td>\n",
       "      <td>2019-01-23</td>\n",
       "      <td>139651845516</td>\n",
       "      <td>16265618</td>\n",
       "      <td>2003</td>\n",
       "      <td>292584</td>\n",
       "      <td>한국</td>\n",
       "      <td>(주)어바웃잇,영화사 해그림 주식회사,(주)씨제이이엔엠</td>\n",
       "      <td>(주)씨제이이엔엠</td>\n",
       "      <td>15세이상관람가</td>\n",
       "      <td>코미디</td>\n",
       "      <td>이병헌</td>\n",
       "      <td>류승룡,이하늬,진선규,이동휘,공명,양현민,장진희,한준우,김명준,나철,정재광,정원창,...</td>\n",
       "    </tr>\n",
       "    <tr>\n",
       "      <th>1</th>\n",
       "      <td>어벤져스: 엔드게임</td>\n",
       "      <td>2019-04-24</td>\n",
       "      <td>122182694160</td>\n",
       "      <td>13934592</td>\n",
       "      <td>2835</td>\n",
       "      <td>242001</td>\n",
       "      <td>미국</td>\n",
       "      <td>NaN</td>\n",
       "      <td>월트디즈니컴퍼니코리아 유한책임회사</td>\n",
       "      <td>12세이상관람가</td>\n",
       "      <td>액션,SF</td>\n",
       "      <td>안소니 루소,조 루소</td>\n",
       "      <td>로버트 다우니 주니어,크리스 에반스,마크 러팔로,크리스 헴스워스,스칼렛 요한슨,제레...</td>\n",
       "    </tr>\n",
       "    <tr>\n",
       "      <th>2</th>\n",
       "      <td>겨울왕국 2</td>\n",
       "      <td>2019-11-21</td>\n",
       "      <td>111596248720</td>\n",
       "      <td>13369064</td>\n",
       "      <td>2648</td>\n",
       "      <td>282557</td>\n",
       "      <td>미국</td>\n",
       "      <td>NaN</td>\n",
       "      <td>월트디즈니컴퍼니코리아 유한책임회사</td>\n",
       "      <td>전체관람가</td>\n",
       "      <td>애니메이션</td>\n",
       "      <td>크리스 벅,제니퍼 리</td>\n",
       "      <td>크리스틴 벨,이디나 멘젤,조시 게드,조나단 그로프</td>\n",
       "    </tr>\n",
       "    <tr>\n",
       "      <th>3</th>\n",
       "      <td>알라딘</td>\n",
       "      <td>2019-05-23</td>\n",
       "      <td>106955138359</td>\n",
       "      <td>12552283</td>\n",
       "      <td>1409</td>\n",
       "      <td>266469</td>\n",
       "      <td>미국</td>\n",
       "      <td>NaN</td>\n",
       "      <td>월트디즈니컴퍼니코리아 유한책임회사</td>\n",
       "      <td>전체관람가</td>\n",
       "      <td>어드벤처,가족,판타지</td>\n",
       "      <td>가이 리치</td>\n",
       "      <td>메나 마수드,윌 스미스,나오미 스콧</td>\n",
       "    </tr>\n",
       "    <tr>\n",
       "      <th>4</th>\n",
       "      <td>신과함께-인과 연</td>\n",
       "      <td>2018-08-01</td>\n",
       "      <td>102677675409</td>\n",
       "      <td>12276350</td>\n",
       "      <td>2235</td>\n",
       "      <td>180042</td>\n",
       "      <td>한국</td>\n",
       "      <td>리얼라이즈픽쳐스(주),(주)덱스터스튜디오</td>\n",
       "      <td>롯데컬처웍스(주)롯데엔터테인먼트</td>\n",
       "      <td>12세이상관람가</td>\n",
       "      <td>판타지,드라마</td>\n",
       "      <td>김용화</td>\n",
       "      <td>하정우,주지훈,김향기,마동석,김동욱,이정재,김기태,오희준,도경수,이준혁,이수봉,이용...</td>\n",
       "    </tr>\n",
       "  </tbody>\n",
       "</table>\n",
       "</div>"
      ],
      "text/plain": [
       "        title opening_date     sum_sales  sum_audience  screens   shows  \\\n",
       "0        극한직업   2019-01-23  139651845516      16265618     2003  292584   \n",
       "1  어벤져스: 엔드게임   2019-04-24  122182694160      13934592     2835  242001   \n",
       "2      겨울왕국 2   2019-11-21  111596248720      13369064     2648  282557   \n",
       "3         알라딘   2019-05-23  106955138359      12552283     1409  266469   \n",
       "4   신과함께-인과 연   2018-08-01  102677675409      12276350     2235  180042   \n",
       "\n",
       "  main_nation                        producer         distributor     rated  \\\n",
       "0          한국  (주)어바웃잇,영화사 해그림 주식회사,(주)씨제이이엔엠           (주)씨제이이엔엠  15세이상관람가   \n",
       "1          미국                             NaN  월트디즈니컴퍼니코리아 유한책임회사  12세이상관람가   \n",
       "2          미국                             NaN  월트디즈니컴퍼니코리아 유한책임회사     전체관람가   \n",
       "3          미국                             NaN  월트디즈니컴퍼니코리아 유한책임회사     전체관람가   \n",
       "4          한국          리얼라이즈픽쳐스(주),(주)덱스터스튜디오   롯데컬처웍스(주)롯데엔터테인먼트  12세이상관람가   \n",
       "\n",
       "         genre     director                                              actor  \n",
       "0          코미디          이병헌  류승룡,이하늬,진선규,이동휘,공명,양현민,장진희,한준우,김명준,나철,정재광,정원창,...  \n",
       "1        액션,SF  안소니 루소,조 루소  로버트 다우니 주니어,크리스 에반스,마크 러팔로,크리스 헴스워스,스칼렛 요한슨,제레...  \n",
       "2        애니메이션  크리스 벅,제니퍼 리                        크리스틴 벨,이디나 멘젤,조시 게드,조나단 그로프  \n",
       "3  어드벤처,가족,판타지        가이 리치                                메나 마수드,윌 스미스,나오미 스콧  \n",
       "4      판타지,드라마          김용화  하정우,주지훈,김향기,마동석,김동욱,이정재,김기태,오희준,도경수,이준혁,이수봉,이용...  "
      ]
     },
     "execution_count": 20,
     "metadata": {},
     "output_type": "execute_result"
    }
   ],
   "source": [
    "df_con.head()"
   ]
  },
  {
   "cell_type": "code",
   "execution_count": null,
   "id": "05e244ca-794f-43c7-abac-4f1301a9ceb9",
   "metadata": {},
   "outputs": [
    {
     "name": "stdout",
     "output_type": "stream",
     "text": [
      "<class 'pandas.core.frame.DataFrame'>\n",
      "Int64Index: 7350 entries, 0 to 2360\n",
      "Data columns (total 13 columns):\n",
      " #   Column        Non-Null Count  Dtype         \n",
      "---  ------        --------------  -----         \n",
      " 0   title         7350 non-null   object        \n",
      " 1   opening_date  7350 non-null   datetime64[ns]\n",
      " 2   sum_sales     7350 non-null   int64         \n",
      " 3   sum_audience  7350 non-null   int64         \n",
      " 4   screens       7350 non-null   int64         \n",
      " 5   shows         7350 non-null   int64         \n",
      " 6   main_nation   7350 non-null   object        \n",
      " 7   producer      3103 non-null   object        \n",
      " 8   distributor   6134 non-null   object        \n",
      " 9   rated         7350 non-null   object        \n",
      " 10  genre         7350 non-null   object        \n",
      " 11  director      7350 non-null   object        \n",
      " 12  actor         7350 non-null   object        \n",
      "dtypes: datetime64[ns](1), int64(4), object(8)\n",
      "memory usage: 803.9+ KB\n"
     ]
    }
   ],
   "source": [
    "df_con.info()"
   ]
  },
  {
   "cell_type": "markdown",
   "id": "c796d40b-51f3-4434-8153-d80faade16e3",
   "metadata": {
    "tags": []
   },
   "source": [
    "## 데이터 제목, 오프닝 중복 제거 (2년치 데이터 붙이면서 중복되는 데이터 제거)"
   ]
  },
  {
   "cell_type": "code",
   "execution_count": null,
   "id": "45297a6f-cad5-487a-b591-4b10b7c16aeb",
   "metadata": {},
   "outputs": [],
   "source": [
    "# df_con[df_con.duplicated(subset=['title', 'opening_date'], keep=False)].groupby('title').count()"
   ]
  },
  {
   "cell_type": "code",
   "execution_count": null,
   "id": "a8b68f43-ea4e-403e-a830-0848cd78094d",
   "metadata": {
    "collapsed": true,
    "jupyter": {
     "outputs_hidden": true
    },
    "tags": []
   },
   "outputs": [
    {
     "data": {
      "text/html": [
       "<div>\n",
       "<style scoped>\n",
       "    .dataframe tbody tr th:only-of-type {\n",
       "        vertical-align: middle;\n",
       "    }\n",
       "\n",
       "    .dataframe tbody tr th {\n",
       "        vertical-align: top;\n",
       "    }\n",
       "\n",
       "    .dataframe thead th {\n",
       "        text-align: right;\n",
       "    }\n",
       "</style>\n",
       "<table border=\"1\" class=\"dataframe\">\n",
       "  <thead>\n",
       "    <tr style=\"text-align: right;\">\n",
       "      <th></th>\n",
       "      <th>title</th>\n",
       "      <th>opening_date</th>\n",
       "      <th>sum_sales</th>\n",
       "      <th>sum_audience</th>\n",
       "      <th>screens</th>\n",
       "      <th>shows</th>\n",
       "      <th>main_nation</th>\n",
       "      <th>producer</th>\n",
       "      <th>distributor</th>\n",
       "      <th>rated</th>\n",
       "      <th>genre</th>\n",
       "      <th>director</th>\n",
       "      <th>actor</th>\n",
       "    </tr>\n",
       "  </thead>\n",
       "  <tbody>\n",
       "    <tr>\n",
       "      <th>0</th>\n",
       "      <td>극한직업</td>\n",
       "      <td>2019-01-23</td>\n",
       "      <td>139651845516</td>\n",
       "      <td>16265618</td>\n",
       "      <td>2003</td>\n",
       "      <td>292584</td>\n",
       "      <td>한국</td>\n",
       "      <td>(주)어바웃잇,영화사 해그림 주식회사,(주)씨제이이엔엠</td>\n",
       "      <td>(주)씨제이이엔엠</td>\n",
       "      <td>15세이상관람가</td>\n",
       "      <td>코미디</td>\n",
       "      <td>이병헌</td>\n",
       "      <td>류승룡,이하늬,진선규,이동휘,공명,양현민,장진희,한준우,김명준,나철,정재광,정원창,...</td>\n",
       "    </tr>\n",
       "    <tr>\n",
       "      <th>1</th>\n",
       "      <td>어벤져스: 엔드게임</td>\n",
       "      <td>2019-04-24</td>\n",
       "      <td>122182694160</td>\n",
       "      <td>13934592</td>\n",
       "      <td>2835</td>\n",
       "      <td>242001</td>\n",
       "      <td>미국</td>\n",
       "      <td>NaN</td>\n",
       "      <td>월트디즈니컴퍼니코리아 유한책임회사</td>\n",
       "      <td>12세이상관람가</td>\n",
       "      <td>액션,SF</td>\n",
       "      <td>안소니 루소,조 루소</td>\n",
       "      <td>로버트 다우니 주니어,크리스 에반스,마크 러팔로,크리스 헴스워스,스칼렛 요한슨,제레...</td>\n",
       "    </tr>\n",
       "    <tr>\n",
       "      <th>2</th>\n",
       "      <td>겨울왕국 2</td>\n",
       "      <td>2019-11-21</td>\n",
       "      <td>111596248720</td>\n",
       "      <td>13369064</td>\n",
       "      <td>2648</td>\n",
       "      <td>282557</td>\n",
       "      <td>미국</td>\n",
       "      <td>NaN</td>\n",
       "      <td>월트디즈니컴퍼니코리아 유한책임회사</td>\n",
       "      <td>전체관람가</td>\n",
       "      <td>애니메이션</td>\n",
       "      <td>크리스 벅,제니퍼 리</td>\n",
       "      <td>크리스틴 벨,이디나 멘젤,조시 게드,조나단 그로프</td>\n",
       "    </tr>\n",
       "    <tr>\n",
       "      <th>3</th>\n",
       "      <td>알라딘</td>\n",
       "      <td>2019-05-23</td>\n",
       "      <td>106955138359</td>\n",
       "      <td>12552283</td>\n",
       "      <td>1409</td>\n",
       "      <td>266469</td>\n",
       "      <td>미국</td>\n",
       "      <td>NaN</td>\n",
       "      <td>월트디즈니컴퍼니코리아 유한책임회사</td>\n",
       "      <td>전체관람가</td>\n",
       "      <td>어드벤처,가족,판타지</td>\n",
       "      <td>가이 리치</td>\n",
       "      <td>메나 마수드,윌 스미스,나오미 스콧</td>\n",
       "    </tr>\n",
       "    <tr>\n",
       "      <th>4</th>\n",
       "      <td>신과함께-인과 연</td>\n",
       "      <td>2018-08-01</td>\n",
       "      <td>102677675409</td>\n",
       "      <td>12276350</td>\n",
       "      <td>2235</td>\n",
       "      <td>180042</td>\n",
       "      <td>한국</td>\n",
       "      <td>리얼라이즈픽쳐스(주),(주)덱스터스튜디오</td>\n",
       "      <td>롯데컬처웍스(주)롯데엔터테인먼트</td>\n",
       "      <td>12세이상관람가</td>\n",
       "      <td>판타지,드라마</td>\n",
       "      <td>김용화</td>\n",
       "      <td>하정우,주지훈,김향기,마동석,김동욱,이정재,김기태,오희준,도경수,이준혁,이수봉,이용...</td>\n",
       "    </tr>\n",
       "    <tr>\n",
       "      <th>...</th>\n",
       "      <td>...</td>\n",
       "      <td>...</td>\n",
       "      <td>...</td>\n",
       "      <td>...</td>\n",
       "      <td>...</td>\n",
       "      <td>...</td>\n",
       "      <td>...</td>\n",
       "      <td>...</td>\n",
       "      <td>...</td>\n",
       "      <td>...</td>\n",
       "      <td>...</td>\n",
       "      <td>...</td>\n",
       "      <td>...</td>\n",
       "    </tr>\n",
       "    <tr>\n",
       "      <th>2348</th>\n",
       "      <td>킹콩</td>\n",
       "      <td>2005-12-14</td>\n",
       "      <td>21476352900</td>\n",
       "      <td>3469371</td>\n",
       "      <td>3</td>\n",
       "      <td>8</td>\n",
       "      <td>미국</td>\n",
       "      <td>유니버셜 픽쳐스</td>\n",
       "      <td>UIP코리아</td>\n",
       "      <td>15세관람가</td>\n",
       "      <td>드라마,어드벤처</td>\n",
       "      <td>피터 잭슨</td>\n",
       "      <td>잭 블랙,애드리언 브로디,나오미 왓츠</td>\n",
       "    </tr>\n",
       "    <tr>\n",
       "      <th>2350</th>\n",
       "      <td>트랜스포머: 패자의 역습</td>\n",
       "      <td>2009-06-24</td>\n",
       "      <td>50697608000</td>\n",
       "      <td>7392990</td>\n",
       "      <td>1</td>\n",
       "      <td>1</td>\n",
       "      <td>미국</td>\n",
       "      <td>드림웍스 SKG,파라마운트 픽쳐스</td>\n",
       "      <td>CJ ENM</td>\n",
       "      <td>12세이상관람가</td>\n",
       "      <td>SF,액션,어드벤처</td>\n",
       "      <td>마이클 베이</td>\n",
       "      <td>샤이아 라보프,메간 폭스</td>\n",
       "    </tr>\n",
       "    <tr>\n",
       "      <th>2353</th>\n",
       "      <td>프로포즈</td>\n",
       "      <td>2009-09-03</td>\n",
       "      <td>2442083500</td>\n",
       "      <td>323707</td>\n",
       "      <td>1</td>\n",
       "      <td>1</td>\n",
       "      <td>미국</td>\n",
       "      <td>터치스톤 픽쳐스</td>\n",
       "      <td>한국소니픽쳐스릴리징브에나비스타영화㈜</td>\n",
       "      <td>15세이상관람가</td>\n",
       "      <td>멜로/로맨스,코미디,드라마</td>\n",
       "      <td>앤 플레쳐</td>\n",
       "      <td>산드라 블록,라이언 레이놀즈</td>\n",
       "    </tr>\n",
       "    <tr>\n",
       "      <th>2357</th>\n",
       "      <td>헬 라이드</td>\n",
       "      <td>2010-08-26</td>\n",
       "      <td>0</td>\n",
       "      <td>0</td>\n",
       "      <td>1</td>\n",
       "      <td>1</td>\n",
       "      <td>미국</td>\n",
       "      <td>NaN</td>\n",
       "      <td>NaN</td>\n",
       "      <td>청소년관람불가</td>\n",
       "      <td>드라마,스릴러</td>\n",
       "      <td>래리 비숍</td>\n",
       "      <td>마이클 매드슨</td>\n",
       "    </tr>\n",
       "    <tr>\n",
       "      <th>2360</th>\n",
       "      <td>007 카지노 로얄</td>\n",
       "      <td>2006-12-21</td>\n",
       "      <td>6267161700</td>\n",
       "      <td>1012085</td>\n",
       "      <td>1</td>\n",
       "      <td>1</td>\n",
       "      <td>미국</td>\n",
       "      <td>NaN</td>\n",
       "      <td>한국소니픽쳐스릴리징브에나비스타영화㈜</td>\n",
       "      <td>15세이상관람가</td>\n",
       "      <td>액션</td>\n",
       "      <td>마틴 캠벨</td>\n",
       "      <td>다니엘 크레이그</td>\n",
       "    </tr>\n",
       "  </tbody>\n",
       "</table>\n",
       "<p>7350 rows × 13 columns</p>\n",
       "</div>"
      ],
      "text/plain": [
       "              title opening_date     sum_sales  sum_audience  screens   shows  \\\n",
       "0              극한직업   2019-01-23  139651845516      16265618     2003  292584   \n",
       "1        어벤져스: 엔드게임   2019-04-24  122182694160      13934592     2835  242001   \n",
       "2            겨울왕국 2   2019-11-21  111596248720      13369064     2648  282557   \n",
       "3               알라딘   2019-05-23  106955138359      12552283     1409  266469   \n",
       "4         신과함께-인과 연   2018-08-01  102677675409      12276350     2235  180042   \n",
       "...             ...          ...           ...           ...      ...     ...   \n",
       "2348             킹콩   2005-12-14   21476352900       3469371        3       8   \n",
       "2350  트랜스포머: 패자의 역습   2009-06-24   50697608000       7392990        1       1   \n",
       "2353           프로포즈   2009-09-03    2442083500        323707        1       1   \n",
       "2357          헬 라이드   2010-08-26             0             0        1       1   \n",
       "2360     007 카지노 로얄   2006-12-21    6267161700       1012085        1       1   \n",
       "\n",
       "     main_nation                        producer          distributor  \\\n",
       "0             한국  (주)어바웃잇,영화사 해그림 주식회사,(주)씨제이이엔엠            (주)씨제이이엔엠   \n",
       "1             미국                             NaN   월트디즈니컴퍼니코리아 유한책임회사   \n",
       "2             미국                             NaN   월트디즈니컴퍼니코리아 유한책임회사   \n",
       "3             미국                             NaN   월트디즈니컴퍼니코리아 유한책임회사   \n",
       "4             한국          리얼라이즈픽쳐스(주),(주)덱스터스튜디오    롯데컬처웍스(주)롯데엔터테인먼트   \n",
       "...          ...                             ...                  ...   \n",
       "2348          미국                        유니버셜 픽쳐스               UIP코리아   \n",
       "2350          미국              드림웍스 SKG,파라마운트 픽쳐스               CJ ENM   \n",
       "2353          미국                        터치스톤 픽쳐스  한국소니픽쳐스릴리징브에나비스타영화㈜   \n",
       "2357          미국                             NaN                  NaN   \n",
       "2360          미국                             NaN  한국소니픽쳐스릴리징브에나비스타영화㈜   \n",
       "\n",
       "         rated           genre     director  \\\n",
       "0     15세이상관람가             코미디          이병헌   \n",
       "1     12세이상관람가           액션,SF  안소니 루소,조 루소   \n",
       "2        전체관람가           애니메이션  크리스 벅,제니퍼 리   \n",
       "3        전체관람가     어드벤처,가족,판타지        가이 리치   \n",
       "4     12세이상관람가         판타지,드라마          김용화   \n",
       "...        ...             ...          ...   \n",
       "2348    15세관람가        드라마,어드벤처        피터 잭슨   \n",
       "2350  12세이상관람가      SF,액션,어드벤처       마이클 베이   \n",
       "2353  15세이상관람가  멜로/로맨스,코미디,드라마        앤 플레쳐   \n",
       "2357   청소년관람불가         드라마,스릴러        래리 비숍   \n",
       "2360  15세이상관람가              액션        마틴 캠벨   \n",
       "\n",
       "                                                  actor  \n",
       "0     류승룡,이하늬,진선규,이동휘,공명,양현민,장진희,한준우,김명준,나철,정재광,정원창,...  \n",
       "1     로버트 다우니 주니어,크리스 에반스,마크 러팔로,크리스 헴스워스,스칼렛 요한슨,제레...  \n",
       "2                           크리스틴 벨,이디나 멘젤,조시 게드,조나단 그로프  \n",
       "3                                   메나 마수드,윌 스미스,나오미 스콧  \n",
       "4     하정우,주지훈,김향기,마동석,김동욱,이정재,김기태,오희준,도경수,이준혁,이수봉,이용...  \n",
       "...                                                 ...  \n",
       "2348                               잭 블랙,애드리언 브로디,나오미 왓츠  \n",
       "2350                                      샤이아 라보프,메간 폭스  \n",
       "2353                                    산드라 블록,라이언 레이놀즈  \n",
       "2357                                            마이클 매드슨  \n",
       "2360                                           다니엘 크레이그  \n",
       "\n",
       "[7350 rows x 13 columns]"
      ]
     },
     "execution_count": 24,
     "metadata": {},
     "output_type": "execute_result"
    }
   ],
   "source": [
    "df_con"
   ]
  },
  {
   "cell_type": "code",
   "execution_count": 1,
   "id": "0986d6c0-0b87-4966-a942-55dd8af8ddc2",
   "metadata": {},
   "outputs": [],
   "source": [
    "df_con.groupby('title').max()['sum_audience']"
   ]
  },
  {
   "cell_type": "code",
   "execution_count": 32,
   "id": "87b146b4-5651-4acc-b2a4-74e8d8b77fa2",
   "metadata": {},
   "outputs": [],
   "source": [
    "df_con.groupby('title').sum()['screens']"
   ]
  },
  {
   "cell_type": "code",
   "execution_count": 34,
   "id": "766f065b-419c-4c6f-8977-b04e14b8b6b1",
   "metadata": {},
   "outputs": [],
   "source": [
    "df_con.to_excel('data_dup2.xlsx', index=False)"
   ]
  },
  {
   "cell_type": "code",
   "execution_count": 25,
   "id": "c01c8c63-a542-4579-a36f-f79d61616dbe",
   "metadata": {},
   "outputs": [],
   "source": [
    "# df_con[df_con.duplicated(['title'], keep=False) == True].to_excel('data_dup2.xlsx', index=False)"
   ]
  },
  {
   "cell_type": "markdown",
   "id": "5729acf4-148e-499a-80fc-e66366b217e0",
   "metadata": {},
   "source": [
    "# 중복값 제거, 첫번째 항목만 남김 (최근, 누적 관객수 많은 값)\n",
    "df_dup = df_con.drop_duplicates(subset=['title', 'opening_date'], keep='last')"
   ]
  },
  {
   "cell_type": "markdown",
   "id": "897f5750-c9fe-495d-94e0-1bfe5e63f90a",
   "metadata": {},
   "source": []
  },
  {
   "cell_type": "markdown",
   "id": "2872ca5d-d3c4-4119-8be5-a649e0f17989",
   "metadata": {},
   "source": [
    "# 중복 값 확인. 없어야 정상\n",
    "df_dup[df_dup.duplicated(subset=['title', 'opening_date'], keep=False)].groupby('title').count()"
   ]
  },
  {
   "cell_type": "markdown",
   "id": "9feee805-c037-47b5-8bf9-af804b29ddea",
   "metadata": {},
   "source": [
    "df_dup.shape"
   ]
  },
  {
   "cell_type": "markdown",
   "id": "a67674c7-a623-4982-85df-c9479a2d6340",
   "metadata": {},
   "source": [
    "df_dup.info()"
   ]
  },
  {
   "cell_type": "markdown",
   "id": "428047a2-56ec-431d-91ec-bfaeea974bb3",
   "metadata": {},
   "source": [
    "df_dup[['title']].value_counts(ascending=True)"
   ]
  },
  {
   "cell_type": "markdown",
   "id": "344c695a-48fe-4cb8-b964-6f716dffd301",
   "metadata": {},
   "source": [
    "#데이터 검증\n",
    "df_dup.to_excel('data_dup.xlsx', index=False)"
   ]
  },
  {
   "cell_type": "markdown",
   "id": "907a8051-6ba0-46a3-a04d-d18701453d07",
   "metadata": {},
   "source": [
    "## 100,00 명 미만 인원수 제거"
   ]
  },
  {
   "cell_type": "markdown",
   "id": "e39a8cb9-a10b-4140-9ef5-9256d86ccde0",
   "metadata": {},
   "source": [
    "data = df_dup[df_dup['sum_audience'] >= 10**4]\n",
    "data.shape"
   ]
  },
  {
   "cell_type": "markdown",
   "id": "c9440d07-6f8a-4553-b024-303466333b0c",
   "metadata": {},
   "source": [
    "data.reset_index(drop=True, inplace=True)"
   ]
  },
  {
   "cell_type": "markdown",
   "id": "41065c2a-90d6-4f19-9a7d-a3d3c9fc8610",
   "metadata": {},
   "source": [
    "## 감독 지수"
   ]
  },
  {
   "cell_type": "markdown",
   "id": "e915e56e-597f-456b-b9de-629bdfb79e8e",
   "metadata": {},
   "source": [
    "dir_count = data[['title','director']].groupby('director').count()\n",
    "dir_count = dir_count.reset_index()\n",
    "dir_count"
   ]
  },
  {
   "cell_type": "markdown",
   "id": "792db762-281a-4d7c-9794-da991baadf57",
   "metadata": {},
   "source": [
    "dir_data = data.sort_values(by=['director','title', 'opening_date'])\n",
    "dir_data.head()"
   ]
  },
  {
   "cell_type": "markdown",
   "id": "ce2aa115-b859-45c4-bb29-49ff886e05de",
   "metadata": {},
   "source": []
  },
  {
   "cell_type": "markdown",
   "id": "bddec130-37bd-43c6-9867-4a1e032101f6",
   "metadata": {},
   "source": [
    "## 왓차 평점 붙이기"
   ]
  },
  {
   "cell_type": "markdown",
   "id": "ee85b23c-2c50-4480-b416-186284063b9c",
   "metadata": {},
   "source": [
    "data['year'] = data.opening_date.dt.year\n",
    "data.head(5)"
   ]
  },
  {
   "cell_type": "markdown",
   "id": "ce15ae9c-3270-42d1-be8e-28ce909134f9",
   "metadata": {},
   "source": [
    "data.info()"
   ]
  },
  {
   "cell_type": "markdown",
   "id": "4973475d-b0b0-4697-9999-36de9e52fc6f",
   "metadata": {},
   "source": [
    "#데이터 검증\n",
    "#data.to_excel('data_mv.xlsx', index=False)"
   ]
  },
  {
   "cell_type": "markdown",
   "id": "cab1fc7f-12d5-47e0-81ff-ff6b95e35683",
   "metadata": {},
   "source": [
    "# from watcha2 import watchapedia"
   ]
  },
  {
   "cell_type": "code",
   "execution_count": 26,
   "id": "85810028-b9a1-49b2-a863-35600bd3fe0d",
   "metadata": {},
   "outputs": [],
   "source": [
    "# movie_list = []\n",
    "# for i in range(1, len(data)):\n",
    "#     a_dict = { 'title': str(data.iloc[i]['title']) , 'year': str(data.iloc[i]['year'])}\n",
    "#     movie_list.append(a_dict)"
   ]
  },
  {
   "cell_type": "code",
   "execution_count": 27,
   "id": "0e0746a1-84d0-4638-af46-2cbf7a0bba34",
   "metadata": {},
   "outputs": [],
   "source": [
    "# #성공\n",
    "# test_list = [{'title': '알라딘', 'year': '2019'}, {'title': '겨울왕국 2', 'year': '2019'}]\n",
    "# #못찾음 , 왓차는 극한직업 2018 로 되어 이음\n",
    "# test_list2 =  [{'title': '극한직업', 'year': '2019'}]"
   ]
  },
  {
   "cell_type": "code",
   "execution_count": 28,
   "id": "c0e09c28-4766-4c86-91ac-f864cf7396c2",
   "metadata": {
    "tags": []
   },
   "outputs": [],
   "source": [
    "# w = watchapedia(movie_list)\n",
    "# w.getMovieUrl()\n",
    "# w.getMovieData()"
   ]
  },
  {
   "cell_type": "code",
   "execution_count": 29,
   "id": "105c1c8c-cae4-4c4c-98a4-b1ad50008169",
   "metadata": {},
   "outputs": [],
   "source": [
    "# mv_data = w.getMovieData()\n",
    "# mv_data"
   ]
  },
  {
   "cell_type": "code",
   "execution_count": null,
   "id": "da67201d-f3e0-4d8b-8486-9d7a314d36da",
   "metadata": {},
   "outputs": [],
   "source": []
  }
 ],
 "metadata": {
  "kernelspec": {
   "display_name": "Python 3 (ipykernel)",
   "language": "python",
   "name": "python3"
  },
  "language_info": {
   "codemirror_mode": {
    "name": "ipython",
    "version": 3
   },
   "file_extension": ".py",
   "mimetype": "text/x-python",
   "name": "python",
   "nbconvert_exporter": "python",
   "pygments_lexer": "ipython3",
   "version": "3.9.13"
  }
 },
 "nbformat": 4,
 "nbformat_minor": 5
}
