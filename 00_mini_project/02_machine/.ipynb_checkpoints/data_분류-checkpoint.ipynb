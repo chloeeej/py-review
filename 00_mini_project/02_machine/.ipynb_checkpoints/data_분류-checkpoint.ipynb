{
 "cells": [
  {
   "cell_type": "markdown",
   "id": "fcfd5e1f-780a-4e1f-941d-884e0c220a5e",
   "metadata": {
    "tags": []
   },
   "source": [
    "# movie_분류"
   ]
  },
  {
   "cell_type": "markdown",
   "id": "49ef1764-a6ea-470e-a63e-71babef77dd9",
   "metadata": {
    "tags": []
   },
   "source": [
    "## import"
   ]
  },
  {
   "cell_type": "code",
   "execution_count": 1,
   "id": "ef9704c8-8fc2-4d26-9904-e60b6ebc2d7e",
   "metadata": {},
   "outputs": [],
   "source": [
    "import numpy as np\n",
    "import pandas as pd\n",
    "import seaborn as sns\n",
    "import matplotlib.pyplot as plt\n",
    "import warnings\n",
    "warnings.filterwarnings('ignore')"
   ]
  },
  {
   "cell_type": "code",
   "execution_count": 2,
   "id": "1a0292c2-ca97-45d2-91dd-bef4a8a08e0c",
   "metadata": {},
   "outputs": [],
   "source": [
    "from sklearn.tree import DecisionTreeClassifier\n",
    "from sklearn.ensemble import RandomForestClassifier\n",
    "from sklearn.linear_model import LogisticRegression\n",
    "\n",
    "from sklearn.model_selection import KFold\n",
    "from sklearn.model_selection import cross_val_score\n",
    "\n",
    "from sklearn.model_selection import train_test_split\n",
    "\n",
    "# 평가지표\n",
    "from sklearn.metrics import accuracy_score, precision_score, recall_score, confusion_matrix, f1_score"
   ]
  },
  {
   "cell_type": "markdown",
   "id": "199b19ee-ea7d-4e4a-8c8b-41f9e12edfeb",
   "metadata": {
    "tags": []
   },
   "source": [
    "## 파일 로드 및 데이터 정리"
   ]
  },
  {
   "cell_type": "code",
   "execution_count": 3,
   "id": "87efb32b-1a4c-402f-b2a4-ae33d95419f7",
   "metadata": {},
   "outputs": [],
   "source": [
    "df = pd.read_excel('data_mv.xlsx')"
   ]
  },
  {
   "cell_type": "code",
   "execution_count": 4,
   "id": "c698c6fb-ec5f-488c-a57e-d22b95f2b1ca",
   "metadata": {},
   "outputs": [
    {
     "data": {
      "text/html": [
       "<div>\n",
       "<style scoped>\n",
       "    .dataframe tbody tr th:only-of-type {\n",
       "        vertical-align: middle;\n",
       "    }\n",
       "\n",
       "    .dataframe tbody tr th {\n",
       "        vertical-align: top;\n",
       "    }\n",
       "\n",
       "    .dataframe thead th {\n",
       "        text-align: right;\n",
       "    }\n",
       "</style>\n",
       "<table border=\"1\" class=\"dataframe\">\n",
       "  <thead>\n",
       "    <tr style=\"text-align: right;\">\n",
       "      <th></th>\n",
       "      <th>title</th>\n",
       "      <th>opening_date</th>\n",
       "      <th>sum_sales</th>\n",
       "      <th>sum_audience</th>\n",
       "      <th>screens</th>\n",
       "      <th>shows</th>\n",
       "      <th>main_nation</th>\n",
       "      <th>producer</th>\n",
       "      <th>distributor</th>\n",
       "      <th>rated</th>\n",
       "      <th>genre</th>\n",
       "      <th>director</th>\n",
       "      <th>actor</th>\n",
       "      <th>year</th>\n",
       "    </tr>\n",
       "  </thead>\n",
       "  <tbody>\n",
       "    <tr>\n",
       "      <th>0</th>\n",
       "      <td>극한직업</td>\n",
       "      <td>2019-01-23</td>\n",
       "      <td>139651845516</td>\n",
       "      <td>16265618</td>\n",
       "      <td>2003</td>\n",
       "      <td>292584</td>\n",
       "      <td>한국</td>\n",
       "      <td>(주)어바웃잇,영화사 해그림 주식회사,(주)씨제이이엔엠</td>\n",
       "      <td>(주)씨제이이엔엠</td>\n",
       "      <td>15세이상관람가</td>\n",
       "      <td>코미디</td>\n",
       "      <td>이병헌</td>\n",
       "      <td>류승룡,이하늬,진선규,이동휘,공명,양현민,장진희,한준우,김명준,나철,정재광,정원창,...</td>\n",
       "      <td>2019</td>\n",
       "    </tr>\n",
       "    <tr>\n",
       "      <th>1</th>\n",
       "      <td>어벤져스: 엔드게임</td>\n",
       "      <td>2019-04-24</td>\n",
       "      <td>122182694160</td>\n",
       "      <td>13934592</td>\n",
       "      <td>2835</td>\n",
       "      <td>242001</td>\n",
       "      <td>미국</td>\n",
       "      <td>NaN</td>\n",
       "      <td>월트디즈니컴퍼니코리아 유한책임회사</td>\n",
       "      <td>12세이상관람가</td>\n",
       "      <td>액션,SF</td>\n",
       "      <td>안소니 루소,조 루소</td>\n",
       "      <td>로버트 다우니 주니어,크리스 에반스,마크 러팔로,크리스 헴스워스,스칼렛 요한슨,제레...</td>\n",
       "      <td>2019</td>\n",
       "    </tr>\n",
       "  </tbody>\n",
       "</table>\n",
       "</div>"
      ],
      "text/plain": [
       "        title opening_date     sum_sales  sum_audience  screens   shows  \\\n",
       "0        극한직업   2019-01-23  139651845516      16265618     2003  292584   \n",
       "1  어벤져스: 엔드게임   2019-04-24  122182694160      13934592     2835  242001   \n",
       "\n",
       "  main_nation                        producer         distributor     rated  \\\n",
       "0          한국  (주)어바웃잇,영화사 해그림 주식회사,(주)씨제이이엔엠           (주)씨제이이엔엠  15세이상관람가   \n",
       "1          미국                             NaN  월트디즈니컴퍼니코리아 유한책임회사  12세이상관람가   \n",
       "\n",
       "   genre     director                                              actor  year  \n",
       "0    코미디          이병헌  류승룡,이하늬,진선규,이동휘,공명,양현민,장진희,한준우,김명준,나철,정재광,정원창,...  2019  \n",
       "1  액션,SF  안소니 루소,조 루소  로버트 다우니 주니어,크리스 에반스,마크 러팔로,크리스 헴스워스,스칼렛 요한슨,제레...  2019  "
      ]
     },
     "execution_count": 4,
     "metadata": {},
     "output_type": "execute_result"
    }
   ],
   "source": [
    "df.head(2)"
   ]
  },
  {
   "cell_type": "code",
   "execution_count": 5,
   "id": "a8cb9167-cf07-4456-ad3a-6b42d2b5b95b",
   "metadata": {},
   "outputs": [
    {
     "data": {
      "text/plain": [
       "Index(['title', 'opening_date', 'sum_sales', 'sum_audience', 'screens',\n",
       "       'shows', 'main_nation', 'producer', 'distributor', 'rated', 'genre',\n",
       "       'director', 'actor', 'year'],\n",
       "      dtype='object')"
      ]
     },
     "execution_count": 5,
     "metadata": {},
     "output_type": "execute_result"
    }
   ],
   "source": [
    "df.columns"
   ]
  },
  {
   "cell_type": "code",
   "execution_count": 6,
   "id": "2bc824c8-2fd9-433f-9ec3-ca1a346c431b",
   "metadata": {},
   "outputs": [],
   "source": [
    "df_copy = df.copy()"
   ]
  },
  {
   "cell_type": "code",
   "execution_count": 7,
   "id": "b224cd1a-9e9f-471f-bf19-60f27efa5047",
   "metadata": {},
   "outputs": [],
   "source": [
    "df_copy.drop(columns=['title', 'opening_date', 'main_nation', 'producer', 'distributor', 'rated', 'genre', 'director', 'actor', 'year'], inplace=True)"
   ]
  },
  {
   "cell_type": "code",
   "execution_count": 34,
   "id": "149708e9-f5ae-4714-ab4a-d8b4442ed13b",
   "metadata": {},
   "outputs": [
    {
     "data": {
      "text/html": [
       "<div>\n",
       "<style scoped>\n",
       "    .dataframe tbody tr th:only-of-type {\n",
       "        vertical-align: middle;\n",
       "    }\n",
       "\n",
       "    .dataframe tbody tr th {\n",
       "        vertical-align: top;\n",
       "    }\n",
       "\n",
       "    .dataframe thead th {\n",
       "        text-align: right;\n",
       "    }\n",
       "</style>\n",
       "<table border=\"1\" class=\"dataframe\">\n",
       "  <thead>\n",
       "    <tr style=\"text-align: right;\">\n",
       "      <th></th>\n",
       "      <th>sum_sales</th>\n",
       "      <th>sum_audience</th>\n",
       "      <th>screens</th>\n",
       "      <th>shows</th>\n",
       "      <th>box_office</th>\n",
       "    </tr>\n",
       "  </thead>\n",
       "  <tbody>\n",
       "    <tr>\n",
       "      <th>0</th>\n",
       "      <td>139651845516</td>\n",
       "      <td>16265618</td>\n",
       "      <td>2003</td>\n",
       "      <td>292584</td>\n",
       "      <td>4</td>\n",
       "    </tr>\n",
       "    <tr>\n",
       "      <th>1</th>\n",
       "      <td>122182694160</td>\n",
       "      <td>13934592</td>\n",
       "      <td>2835</td>\n",
       "      <td>242001</td>\n",
       "      <td>4</td>\n",
       "    </tr>\n",
       "    <tr>\n",
       "      <th>2</th>\n",
       "      <td>111596248720</td>\n",
       "      <td>13369064</td>\n",
       "      <td>2648</td>\n",
       "      <td>282557</td>\n",
       "      <td>4</td>\n",
       "    </tr>\n",
       "    <tr>\n",
       "      <th>3</th>\n",
       "      <td>106955138359</td>\n",
       "      <td>12552283</td>\n",
       "      <td>1409</td>\n",
       "      <td>266469</td>\n",
       "      <td>4</td>\n",
       "    </tr>\n",
       "    <tr>\n",
       "      <th>4</th>\n",
       "      <td>102677675409</td>\n",
       "      <td>12276350</td>\n",
       "      <td>2235</td>\n",
       "      <td>180042</td>\n",
       "      <td>4</td>\n",
       "    </tr>\n",
       "    <tr>\n",
       "      <th>...</th>\n",
       "      <td>...</td>\n",
       "      <td>...</td>\n",
       "      <td>...</td>\n",
       "      <td>...</td>\n",
       "      <td>...</td>\n",
       "    </tr>\n",
       "    <tr>\n",
       "      <th>1637</th>\n",
       "      <td>127441000</td>\n",
       "      <td>11948</td>\n",
       "      <td>27</td>\n",
       "      <td>619</td>\n",
       "      <td>0</td>\n",
       "    </tr>\n",
       "    <tr>\n",
       "      <th>1638</th>\n",
       "      <td>86374000</td>\n",
       "      <td>11547</td>\n",
       "      <td>52</td>\n",
       "      <td>836</td>\n",
       "      <td>0</td>\n",
       "    </tr>\n",
       "    <tr>\n",
       "      <th>1639</th>\n",
       "      <td>75017000</td>\n",
       "      <td>11116</td>\n",
       "      <td>58</td>\n",
       "      <td>985</td>\n",
       "      <td>0</td>\n",
       "    </tr>\n",
       "    <tr>\n",
       "      <th>1640</th>\n",
       "      <td>72851000</td>\n",
       "      <td>10885</td>\n",
       "      <td>47</td>\n",
       "      <td>718</td>\n",
       "      <td>0</td>\n",
       "    </tr>\n",
       "    <tr>\n",
       "      <th>1641</th>\n",
       "      <td>73108500</td>\n",
       "      <td>10449</td>\n",
       "      <td>99</td>\n",
       "      <td>2013</td>\n",
       "      <td>0</td>\n",
       "    </tr>\n",
       "  </tbody>\n",
       "</table>\n",
       "<p>1642 rows × 5 columns</p>\n",
       "</div>"
      ],
      "text/plain": [
       "         sum_sales  sum_audience  screens   shows  box_office\n",
       "0     139651845516      16265618     2003  292584           4\n",
       "1     122182694160      13934592     2835  242001           4\n",
       "2     111596248720      13369064     2648  282557           4\n",
       "3     106955138359      12552283     1409  266469           4\n",
       "4     102677675409      12276350     2235  180042           4\n",
       "...            ...           ...      ...     ...         ...\n",
       "1637     127441000         11948       27     619           0\n",
       "1638      86374000         11547       52     836           0\n",
       "1639      75017000         11116       58     985           0\n",
       "1640      72851000         10885       47     718           0\n",
       "1641      73108500         10449       99    2013           0\n",
       "\n",
       "[1642 rows x 5 columns]"
      ]
     },
     "execution_count": 34,
     "metadata": {},
     "output_type": "execute_result"
    }
   ],
   "source": [
    "df_copy"
   ]
  },
  {
   "cell_type": "markdown",
   "id": "e4e02857-47e1-4dea-b8c4-8db5f273315e",
   "metadata": {
    "tags": []
   },
   "source": [
    "## 박스오피스 관람객수에 따른 흥행등급 나누기"
   ]
  },
  {
   "cell_type": "code",
   "execution_count": 16,
   "id": "f84be87f-b77a-43f1-8f7b-d1970f07d229",
   "metadata": {
    "collapsed": true,
    "jupyter": {
     "outputs_hidden": true
    },
    "tags": []
   },
   "outputs": [
    {
     "data": {
      "text/html": [
       "<div>\n",
       "<style scoped>\n",
       "    .dataframe tbody tr th:only-of-type {\n",
       "        vertical-align: middle;\n",
       "    }\n",
       "\n",
       "    .dataframe tbody tr th {\n",
       "        vertical-align: top;\n",
       "    }\n",
       "\n",
       "    .dataframe thead th {\n",
       "        text-align: right;\n",
       "    }\n",
       "</style>\n",
       "<table border=\"1\" class=\"dataframe\">\n",
       "  <thead>\n",
       "    <tr style=\"text-align: right;\">\n",
       "      <th></th>\n",
       "      <th>title</th>\n",
       "      <th>opening_date</th>\n",
       "      <th>sum_sales</th>\n",
       "      <th>sum_audience</th>\n",
       "      <th>screens</th>\n",
       "      <th>shows</th>\n",
       "      <th>main_nation</th>\n",
       "      <th>producer</th>\n",
       "      <th>distributor</th>\n",
       "      <th>rated</th>\n",
       "      <th>genre</th>\n",
       "      <th>director</th>\n",
       "      <th>actor</th>\n",
       "      <th>year</th>\n",
       "      <th>box_office</th>\n",
       "    </tr>\n",
       "  </thead>\n",
       "  <tbody>\n",
       "    <tr>\n",
       "      <th>0</th>\n",
       "      <td>극한직업</td>\n",
       "      <td>2019-01-23</td>\n",
       "      <td>139651845516</td>\n",
       "      <td>16265618</td>\n",
       "      <td>2003</td>\n",
       "      <td>292584</td>\n",
       "      <td>한국</td>\n",
       "      <td>(주)어바웃잇,영화사 해그림 주식회사,(주)씨제이이엔엠</td>\n",
       "      <td>(주)씨제이이엔엠</td>\n",
       "      <td>15세이상관람가</td>\n",
       "      <td>코미디</td>\n",
       "      <td>이병헌</td>\n",
       "      <td>류승룡,이하늬,진선규,이동휘,공명,양현민,장진희,한준우,김명준,나철,정재광,정원창,...</td>\n",
       "      <td>2019</td>\n",
       "      <td>4</td>\n",
       "    </tr>\n",
       "    <tr>\n",
       "      <th>1</th>\n",
       "      <td>어벤져스: 엔드게임</td>\n",
       "      <td>2019-04-24</td>\n",
       "      <td>122182694160</td>\n",
       "      <td>13934592</td>\n",
       "      <td>2835</td>\n",
       "      <td>242001</td>\n",
       "      <td>미국</td>\n",
       "      <td>NaN</td>\n",
       "      <td>월트디즈니컴퍼니코리아 유한책임회사</td>\n",
       "      <td>12세이상관람가</td>\n",
       "      <td>액션,SF</td>\n",
       "      <td>안소니 루소,조 루소</td>\n",
       "      <td>로버트 다우니 주니어,크리스 에반스,마크 러팔로,크리스 헴스워스,스칼렛 요한슨,제레...</td>\n",
       "      <td>2019</td>\n",
       "      <td>4</td>\n",
       "    </tr>\n",
       "  </tbody>\n",
       "</table>\n",
       "</div>"
      ],
      "text/plain": [
       "        title opening_date     sum_sales  sum_audience  screens   shows  \\\n",
       "0        극한직업   2019-01-23  139651845516      16265618     2003  292584   \n",
       "1  어벤져스: 엔드게임   2019-04-24  122182694160      13934592     2835  242001   \n",
       "\n",
       "  main_nation                        producer         distributor     rated  \\\n",
       "0          한국  (주)어바웃잇,영화사 해그림 주식회사,(주)씨제이이엔엠           (주)씨제이이엔엠  15세이상관람가   \n",
       "1          미국                             NaN  월트디즈니컴퍼니코리아 유한책임회사  12세이상관람가   \n",
       "\n",
       "   genre     director                                              actor  \\\n",
       "0    코미디          이병헌  류승룡,이하늬,진선규,이동휘,공명,양현민,장진희,한준우,김명준,나철,정재광,정원창,...   \n",
       "1  액션,SF  안소니 루소,조 루소  로버트 다우니 주니어,크리스 에반스,마크 러팔로,크리스 헴스워스,스칼렛 요한슨,제레...   \n",
       "\n",
       "   year  box_office  \n",
       "0  2019           4  \n",
       "1  2019           4  "
      ]
     },
     "execution_count": 16,
     "metadata": {},
     "output_type": "execute_result"
    }
   ],
   "source": [
    "# 박스오피스 관람객수에 따른 흥행등급 나누기\n",
    "def box_office(sum_audience):\n",
    "    cat = ''\n",
    "    if sum_audience < 1000000: cat = 0 \n",
    "    elif sum_audience < 5000000 : cat = 1\n",
    "    elif sum_audience < 7000000 : cat = 2\n",
    "    elif sum_audience < 10000000 : cat = 3\n",
    "    else : cat = 4\n",
    "    return cat\n",
    "\n",
    "# df_copy['box_office'] = df_copy['sum_audience'].apply(lambda x : box_office(x))\n",
    "# df_copy.head(2)\n",
    "\n",
    "df_copy['box_office'] = df_copy['sum_audience'].apply(lambda x : box_office(x))\n",
    "df.head(2)"
   ]
  },
  {
   "cell_type": "code",
   "execution_count": 35,
   "id": "f1dba5d5-2880-4c8c-a0e2-ff0726094376",
   "metadata": {},
   "outputs": [
    {
     "data": {
      "text/plain": [
       "sum_sales       19\n",
       "sum_audience    19\n",
       "screens         19\n",
       "shows           19\n",
       "box_office      19\n",
       "dtype: int64"
      ]
     },
     "execution_count": 35,
     "metadata": {},
     "output_type": "execute_result"
    }
   ],
   "source": [
    "df_copy[df_copy['sum_audience'] > 10000000].count()"
   ]
  },
  {
   "cell_type": "code",
   "execution_count": 17,
   "id": "e0b1562c-7486-443e-85ee-3c4a924429e5",
   "metadata": {},
   "outputs": [
    {
     "data": {
      "text/plain": [
       "0    1164\n",
       "1     393\n",
       "2      43\n",
       "3      23\n",
       "4      19\n",
       "Name: box_office, dtype: int64"
      ]
     },
     "execution_count": 17,
     "metadata": {},
     "output_type": "execute_result"
    }
   ],
   "source": [
    "df['box_office'].value_counts()"
   ]
  },
  {
   "cell_type": "code",
   "execution_count": 18,
   "id": "35388518-5b3d-4238-9c6e-c5409ec347d0",
   "metadata": {},
   "outputs": [
    {
     "data": {
      "text/plain": [
       "(array([1164.,    0.,  393.,    0.,    0.,   43.,    0.,   23.,    0.,\n",
       "          19.]),\n",
       " array([0. , 0.4, 0.8, 1.2, 1.6, 2. , 2.4, 2.8, 3.2, 3.6, 4. ]),\n",
       " <BarContainer object of 10 artists>)"
      ]
     },
     "execution_count": 18,
     "metadata": {},
     "output_type": "execute_result"
    },
    {
     "data": {
      "image/png": "[encoded data removed]",
      "text/plain": [
       "<Figure size 640x480 with 1 Axes>"
      ]
     },
     "metadata": {},
     "output_type": "display_data"
    }
   ],
   "source": [
    "plt.hist(df['box_office'])"
   ]
  },
  {
   "cell_type": "code",
   "execution_count": 19,
   "id": "948bf946-444b-4b84-a4b7-637d3946ede4",
   "metadata": {},
   "outputs": [],
   "source": [
    "df1 = df.reset_index()"
   ]
  },
  {
   "cell_type": "code",
   "execution_count": 20,
   "id": "c7381e92-a00a-494b-9481-6f96e52512d6",
   "metadata": {},
   "outputs": [
    {
     "data": {
      "text/plain": [
       "<AxesSubplot:xlabel='box_office', ylabel='index'>"
      ]
     },
     "execution_count": 20,
     "metadata": {},
     "output_type": "execute_result"
    },
    {
     "data": {
      "image/png": "[encoded data removed]",
      "text/plain": [
       "<Figure size 640x480 with 1 Axes>"
      ]
     },
     "metadata": {},
     "output_type": "display_data"
    }
   ],
   "source": [
    "sns.barplot(x='box_office', y='index', data = df1)"
   ]
  },
  {
   "cell_type": "markdown",
   "id": "c76bcd3c-6ec6-4f9d-9fff-59beeb5bbfd0",
   "metadata": {
    "tags": []
   },
   "source": [
    "## 데이터 학습"
   ]
  },
  {
   "cell_type": "code",
   "execution_count": 31,
   "id": "78f510d4-7493-41aa-a244-7b9528234a2c",
   "metadata": {},
   "outputs": [],
   "source": [
    "X_data = df_copy.iloc[:, :-1]\n",
    "y_data = df_copy['box_office']\n",
    "X_train, X_test, y_train, y_test = train_test_split(X_data, y_data, test_size=0.2, random_state=11)"
   ]
  },
  {
   "cell_type": "code",
   "execution_count": 32,
   "id": "f297047c-211d-430d-880e-ee7d2c9c1139",
   "metadata": {},
   "outputs": [],
   "source": [
    "# X_data, y_data\n",
    "# X_train.shape, X_test.shape, y_train.shape, y_test.shape"
   ]
  },
  {
   "cell_type": "code",
   "execution_count": 33,
   "id": "5ed5b2f0-8cb5-4a1a-81df-3f57afde4eb9",
   "metadata": {},
   "outputs": [
    {
     "name": "stdout",
     "output_type": "stream",
     "text": [
      "DecisionTreeClassifier 예측 정확도 : 1.0\n",
      "RandomForestClassifier 예측 정확도 : 1.0\n",
      "LogisticRegression 예측 정확도 : 0.23100303951367782\n"
     ]
    }
   ],
   "source": [
    "dt_clf = DecisionTreeClassifier(random_state=11)\n",
    "rf_clf = RandomForestClassifier(random_state=11)\n",
    "lr_clf = LogisticRegression()\n",
    "\n",
    "# DecisionTreeClassifier 학습/예측/평가\n",
    "dt_clf.fit(X_train, y_train)\n",
    "dt_pred = dt_clf.predict(X_test)\n",
    "print(f'DecisionTreeClassifier 예측 정확도 : {accuracy_score(y_test, dt_pred)}')\n",
    "\n",
    "# RandomForestClassifier 학습/예측/평가\n",
    "rf_clf.fit(X_train, y_train)\n",
    "rf_pred = rf_clf.predict(X_test)\n",
    "print(f'RandomForestClassifier 예측 정확도 : {accuracy_score(y_test, rf_pred)}')\n",
    "\n",
    "# LogisticRegression 학습/예측/평가\n",
    "lr_clf.fit(X_train, y_train)\n",
    "lr_pred = lr_clf.predict(X_test)\n",
    "print(f'LogisticRegression 예측 정확도 : {accuracy_score(y_test, lr_pred)}')"
   ]
  },
  {
   "cell_type": "markdown",
   "id": "cbc54ef4-0f5f-48a1-919f-a7e57ae7bde0",
   "metadata": {},
   "source": [
    "## 평가지표"
   ]
  },
  {
   "cell_type": "code",
   "execution_count": null,
   "id": "c0759c83-1f4b-4b82-b8ee-b8087852efb1",
   "metadata": {},
   "outputs": [],
   "source": [
    "def get_clf_eval(y_test, pred):\n",
    "    confusion = confusion_matrix(y_test, pred)\n",
    "    accuracy = accuracy_score(y_test, pred)\n",
    "    precision = precision_score(y_test, pred)\n",
    "    recall = recall_score(y_test, pred)\n",
    "    f1 = f1_score(y_test, pred)\n",
    "    \n",
    "    print('오차행렬')\n",
    "    print(confusion)\n",
    "    \n",
    "    print(f'정확도 : {accuracy}, 정밀도 : {precision}, 재현율 : {recall}, F1 : {f1}')"
   ]
  },
  {
   "cell_type": "code",
   "execution_count": null,
   "id": "4aa8c3fd-9fd2-42fe-8fe0-4de384fba167",
   "metadata": {},
   "outputs": [],
   "source": [
    "pred_proba = lr_clf.pred_proba(X_test)\n",
    "get_clf_eval(y_test, pred_proba[:, 1].reshape(-1, 1))"
   ]
  },
  {
   "cell_type": "code",
   "execution_count": null,
   "id": "3e32d2a2-c04d-4a3e-990a-a2aa6b792754",
   "metadata": {},
   "outputs": [],
   "source": []
  }
 ],
 "metadata": {
  "kernelspec": {
   "display_name": "Python 3 (ipykernel)",
   "language": "python",
   "name": "python3"
  },
  "language_info": {
   "codemirror_mode": {
    "name": "ipython",
    "version": 3
   },
   "file_extension": ".py",
   "mimetype": "text/x-python",
   "name": "python",
   "nbconvert_exporter": "python",
   "pygments_lexer": "ipython3",
   "version": "3.9.13"
  },
  "toc-autonumbering": true,
  "toc-showmarkdowntxt": false,
  "toc-showtags": false
 },
 "nbformat": 4,
 "nbformat_minor": 5
}
