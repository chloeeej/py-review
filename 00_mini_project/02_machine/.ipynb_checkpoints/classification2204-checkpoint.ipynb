{
 "cells": [
  {
   "cell_type": "code",
   "execution_count": null,
   "id": "be46b732-e946-45f0-a1df-120f4b8ea25f",
   "metadata": {},
   "outputs": [],
   "source": []
  },
  {
   "cell_type": "markdown",
   "id": "b11dc401-e540-4cc8-a4b8-e54a49170ea3",
   "metadata": {},
   "source": [
    "#### 사용하지 않을 컬럼 삭제 - 최"
   ]
  },
  {
   "cell_type": "raw",
   "id": "a53a6a12-ada4-4654-ac01-c79b6ad779ab",
   "metadata": {},
   "source": [
    "# 컬럼 확인\n",
    "data.columns"
   ]
  },
  {
   "cell_type": "raw",
   "id": "96ec00cd-8d00-4654-a75b-c24f6ac15ad3",
   "metadata": {},
   "source": [
    "data.info()"
   ]
  },
  {
   "cell_type": "raw",
   "id": "02ed6a09-c561-4599-8d2e-265faa9cc633",
   "metadata": {},
   "source": [
    "# 사용하지 않을 컬럼 삭제\n",
    "data.drop(columns=['info', '감상포인트', '주연', 'title', 'opening_date', 'sum_sales', 'producer', 'distributor', 'director', 'actor']).columns"
   ]
  },
  {
   "cell_type": "raw",
   "id": "0d1f130f-ecf9-46dd-aed7-70b603cf2210",
   "metadata": {},
   "source": [
    "data = data.drop(columns=['info', '감상포인트', '주연', 'title', 'opening_date', 'sum_sales', 'producer', 'distributor', 'director', 'actor'])"
   ]
  },
  {
   "cell_type": "raw",
   "id": "3c835097-6a54-41f8-b844-2708fdf1b3e1",
   "metadata": {
    "tags": []
   },
   "source": [
    "data.info()"
   ]
  },
  {
   "cell_type": "raw",
   "id": "658ceb6c-4fe0-4f6a-bae9-59a40a4d8ddf",
   "metadata": {},
   "source": [
    "data.columns"
   ]
  },
  {
   "cell_type": "raw",
   "id": "5e5445c1-a157-4964-a3b3-8194a24fb6e0",
   "metadata": {
    "tags": []
   },
   "source": [
    "# 결측치\n",
    "data.isna().sum()"
   ]
  },
  {
   "cell_type": "raw",
   "id": "41707688-03d0-4883-9302-ff98e7205b1e",
   "metadata": {},
   "source": [
    "data.dropna()"
   ]
  },
  {
   "cell_type": "raw",
   "id": "23fb4659-3729-4b3d-8b9a-e7229ca407a1",
   "metadata": {},
   "source": [
    "data = data.dropna()"
   ]
  },
  {
   "cell_type": "markdown",
   "id": "6f67d0a4-1dd9-444c-a17d-68f3eceacf0c",
   "metadata": {
    "tags": []
   },
   "source": [
    "## 박스오피스 관람객수에 따른 흥행등급 나누기"
   ]
  },
  {
   "cell_type": "markdown",
   "id": "6ccad74f-4fc8-4785-8e03-10cdea125e19",
   "metadata": {},
   "source": [
    "### 관객수 카테고리 설정"
   ]
  },
  {
   "cell_type": "code",
   "execution_count": 65,
   "id": "b567aab2-b41f-42d3-8621-122f47bf9df2",
   "metadata": {
    "tags": []
   },
   "outputs": [
    {
     "data": {
      "text/html": [
       "<div>\n",
       "<style scoped>\n",
       "    .dataframe tbody tr th:only-of-type {\n",
       "        vertical-align: middle;\n",
       "    }\n",
       "\n",
       "    .dataframe tbody tr th {\n",
       "        vertical-align: top;\n",
       "    }\n",
       "\n",
       "    .dataframe thead th {\n",
       "        text-align: right;\n",
       "    }\n",
       "</style>\n",
       "<table border=\"1\" class=\"dataframe\">\n",
       "  <thead>\n",
       "    <tr style=\"text-align: right;\">\n",
       "      <th></th>\n",
       "      <th>sum_audience</th>\n",
       "      <th>screens</th>\n",
       "      <th>shows</th>\n",
       "      <th>year</th>\n",
       "      <th>dir_pre_cnt</th>\n",
       "      <th>dir_pre_aud</th>\n",
       "      <th>dir_score</th>\n",
       "      <th>act_pre_aud</th>\n",
       "      <th>act_score</th>\n",
       "      <th>nv_code</th>\n",
       "      <th>...</th>\n",
       "      <th>nation_Japan</th>\n",
       "      <th>nation_China</th>\n",
       "      <th>nation_Czech</th>\n",
       "      <th>nation_Canada</th>\n",
       "      <th>nation_France</th>\n",
       "      <th>nation_Finland</th>\n",
       "      <th>nation_Korea</th>\n",
       "      <th>nation_Australia</th>\n",
       "      <th>nation_HongKong</th>\n",
       "      <th>box_office</th>\n",
       "    </tr>\n",
       "  </thead>\n",
       "  <tbody>\n",
       "    <tr>\n",
       "      <th>658</th>\n",
       "      <td>69786</td>\n",
       "      <td>196</td>\n",
       "      <td>3146</td>\n",
       "      <td>2014</td>\n",
       "      <td>0</td>\n",
       "      <td>69786</td>\n",
       "      <td>0.07</td>\n",
       "      <td>69786</td>\n",
       "      <td>0.0</td>\n",
       "      <td>99792</td>\n",
       "      <td>...</td>\n",
       "      <td>0</td>\n",
       "      <td>0</td>\n",
       "      <td>0</td>\n",
       "      <td>0</td>\n",
       "      <td>0</td>\n",
       "      <td>0</td>\n",
       "      <td>0</td>\n",
       "      <td>0</td>\n",
       "      <td>0</td>\n",
       "      <td>1</td>\n",
       "    </tr>\n",
       "    <tr>\n",
       "      <th>336</th>\n",
       "      <td>220748</td>\n",
       "      <td>297</td>\n",
       "      <td>4347</td>\n",
       "      <td>2013</td>\n",
       "      <td>0</td>\n",
       "      <td>220748</td>\n",
       "      <td>0.22</td>\n",
       "      <td>220748</td>\n",
       "      <td>0.0</td>\n",
       "      <td>103343</td>\n",
       "      <td>...</td>\n",
       "      <td>0</td>\n",
       "      <td>0</td>\n",
       "      <td>0</td>\n",
       "      <td>0</td>\n",
       "      <td>0</td>\n",
       "      <td>0</td>\n",
       "      <td>0</td>\n",
       "      <td>0</td>\n",
       "      <td>0</td>\n",
       "      <td>3</td>\n",
       "    </tr>\n",
       "    <tr>\n",
       "      <th>1348</th>\n",
       "      <td>2718158</td>\n",
       "      <td>904</td>\n",
       "      <td>70451</td>\n",
       "      <td>2016</td>\n",
       "      <td>3</td>\n",
       "      <td>5491559</td>\n",
       "      <td>2.25</td>\n",
       "      <td>2718158</td>\n",
       "      <td>0.0</td>\n",
       "      <td>129383</td>\n",
       "      <td>...</td>\n",
       "      <td>0</td>\n",
       "      <td>0</td>\n",
       "      <td>0</td>\n",
       "      <td>0</td>\n",
       "      <td>0</td>\n",
       "      <td>0</td>\n",
       "      <td>0</td>\n",
       "      <td>0</td>\n",
       "      <td>0</td>\n",
       "      <td>7</td>\n",
       "    </tr>\n",
       "    <tr>\n",
       "      <th>321</th>\n",
       "      <td>500266</td>\n",
       "      <td>324</td>\n",
       "      <td>22299</td>\n",
       "      <td>2010</td>\n",
       "      <td>0</td>\n",
       "      <td>500266</td>\n",
       "      <td>0.50</td>\n",
       "      <td>500266</td>\n",
       "      <td>0.0</td>\n",
       "      <td>70999</td>\n",
       "      <td>...</td>\n",
       "      <td>0</td>\n",
       "      <td>0</td>\n",
       "      <td>0</td>\n",
       "      <td>0</td>\n",
       "      <td>0</td>\n",
       "      <td>0</td>\n",
       "      <td>0</td>\n",
       "      <td>0</td>\n",
       "      <td>0</td>\n",
       "      <td>5</td>\n",
       "    </tr>\n",
       "    <tr>\n",
       "      <th>683</th>\n",
       "      <td>2078825</td>\n",
       "      <td>585</td>\n",
       "      <td>45906</td>\n",
       "      <td>2014</td>\n",
       "      <td>0</td>\n",
       "      <td>2078825</td>\n",
       "      <td>1.27</td>\n",
       "      <td>2078825</td>\n",
       "      <td>0.0</td>\n",
       "      <td>100990</td>\n",
       "      <td>...</td>\n",
       "      <td>0</td>\n",
       "      <td>0</td>\n",
       "      <td>0</td>\n",
       "      <td>0</td>\n",
       "      <td>0</td>\n",
       "      <td>0</td>\n",
       "      <td>0</td>\n",
       "      <td>0</td>\n",
       "      <td>0</td>\n",
       "      <td>7</td>\n",
       "    </tr>\n",
       "  </tbody>\n",
       "</table>\n",
       "<p>5 rows × 56 columns</p>\n",
       "</div>"
      ],
      "text/plain": [
       "      sum_audience  screens  shows  year  dir_pre_cnt  dir_pre_aud  dir_score  \\\n",
       "658          69786      196   3146  2014            0        69786       0.07   \n",
       "336         220748      297   4347  2013            0       220748       0.22   \n",
       "1348       2718158      904  70451  2016            3      5491559       2.25   \n",
       "321         500266      324  22299  2010            0       500266       0.50   \n",
       "683        2078825      585  45906  2014            0      2078825       1.27   \n",
       "\n",
       "      act_pre_aud  act_score  nv_code  ...  nation_Japan  nation_China  \\\n",
       "658         69786        0.0    99792  ...             0             0   \n",
       "336        220748        0.0   103343  ...             0             0   \n",
       "1348      2718158        0.0   129383  ...             0             0   \n",
       "321        500266        0.0    70999  ...             0             0   \n",
       "683       2078825        0.0   100990  ...             0             0   \n",
       "\n",
       "      nation_Czech  nation_Canada  nation_France  nation_Finland  \\\n",
       "658              0              0              0               0   \n",
       "336              0              0              0               0   \n",
       "1348             0              0              0               0   \n",
       "321              0              0              0               0   \n",
       "683              0              0              0               0   \n",
       "\n",
       "      nation_Korea  nation_Australia  nation_HongKong  box_office  \n",
       "658              0                 0                0           1  \n",
       "336              0                 0                0           3  \n",
       "1348             0                 0                0           7  \n",
       "321              0                 0                0           5  \n",
       "683              0                 0                0           7  \n",
       "\n",
       "[5 rows x 56 columns]"
      ]
     },
     "execution_count": 65,
     "metadata": {},
     "output_type": "execute_result"
    }
   ],
   "source": [
    "# 박스오피스 관람객수에 따른 흥행등급 나누기\n",
    "def box_office(sum_audience):\n",
    "    cat = 0\n",
    "    if sum_audience < 1000000: cat = 0 \n",
    "    elif sum_audience < 5000000 : cat = 1\n",
    "    elif sum_audience < 7000000 : cat = 2\n",
    "    elif sum_audience < 10000000 : cat = 3\n",
    "    else : cat = 4\n",
    "    return cat\n",
    "\n",
    "def box_office2(sum_audience):\n",
    "    cat = 0\n",
    "    if sum_audience < 5000000: cat = 0 \n",
    "    else : cat = 1\n",
    "    return cat\n",
    "\n",
    "# 100만, 100~500, 500~700, 700이상\n",
    "def box_office3(sum_audience):\n",
    "    cat = 0\n",
    "    if sum_audience < 1000000: cat = 0 \n",
    "    elif sum_audience < 5000000 : cat = 1\n",
    "    elif sum_audience < 7000000 : cat = 2\n",
    "    else : cat = 3\n",
    "    return cat\n",
    "\n",
    "# 50만, 100~200, 200~300, 300이상\n",
    "def box_office4(sum_audience):\n",
    "    cat = 0\n",
    "    if sum_audience < 500000: cat = 0 \n",
    "    elif sum_audience < 1000000 : cat = 1\n",
    "    elif sum_audience < 2000000 : cat = 2\n",
    "    elif sum_audience < 3000000 : cat = 3\n",
    "    else : cat = 4\n",
    "    return cat\n",
    "\n",
    "# ~5만, 10만, 20만, 30만, 50만, 100만, 200만, 300만, 700만\n",
    "def box_office5(sum_audience):\n",
    "    cat = 0\n",
    "    if sum_audience < 50000: cat = 0 \n",
    "    elif sum_audience < 100000 : cat = 1\n",
    "    elif sum_audience < 200000 : cat = 2\n",
    "    elif sum_audience < 300000 : cat = 3\n",
    "    elif sum_audience < 500000 : cat = 4\n",
    "    elif sum_audience < 1000000 : cat = 5\n",
    "    elif sum_audience < 2000000 : cat = 6\n",
    "    elif sum_audience < 3000000 : cat = 7\n",
    "    elif sum_audience < 7000000 : cat = 8\n",
    "    else : cat = 9\n",
    "    return cat\n",
    "\n",
    "data['box_office'] = data['sum_audience'].apply(lambda x : box_office5(x))\n",
    "data.sample(5)"
   ]
  },
  {
   "cell_type": "code",
   "execution_count": 66,
   "id": "3df757d4-ec05-427b-a32e-65577d38cb9e",
   "metadata": {
    "tags": []
   },
   "outputs": [
    {
     "data": {
      "text/plain": [
       "(array([132.,  96., 113.,  79., 115., 158., 145.,  92., 104.,  34.]),\n",
       " array([0. , 0.9, 1.8, 2.7, 3.6, 4.5, 5.4, 6.3, 7.2, 8.1, 9. ]),\n",
       " <BarContainer object of 10 artists>)"
      ]
     },
     "execution_count": 66,
     "metadata": {},
     "output_type": "execute_result"
    },
    {
     "data": {
      "image/png": "[encoded data removed]",
      "text/plain": [
       "<Figure size 640x480 with 1 Axes>"
      ]
     },
     "metadata": {},
     "output_type": "display_data"
    }
   ],
   "source": [
    "# 카테고리별 관객수 확인\n",
    "plt.hist(data['box_office'])"
   ]
  },
  {
   "cell_type": "markdown",
   "id": "e58da537-4e62-4755-8fd0-93a33f0948ca",
   "metadata": {},
   "source": [
    "### 디시전트리, 랜덤포레스트, 로지스틱회귀, knn, xgb"
   ]
  },
  {
   "cell_type": "code",
   "execution_count": 67,
   "id": "237755ff-ebfe-4e2c-a1a5-416e3394670f",
   "metadata": {},
   "outputs": [],
   "source": [
    "from xgboost import XGBClassifier\n",
    "\n",
    "from sklearn.tree import DecisionTreeClassifier\n",
    "from sklearn.ensemble import RandomForestClassifier\n",
    "from sklearn.linear_model import LogisticRegression\n",
    "from sklearn.neighbors import KNeighborsClassifier\n",
    "\n",
    "from sklearn.model_selection import train_test_split\n",
    "\n",
    "from sklearn.metrics import accuracy_score\n",
    "from sklearn.metrics import precision_score\n",
    "from sklearn.metrics import recall_score\n",
    "from sklearn.metrics import f1_score\n",
    "from sklearn.metrics import classification_report"
   ]
  },
  {
   "cell_type": "code",
   "execution_count": 68,
   "id": "88c6bdd4-28c9-40d1-bf3b-79a16e5dc19c",
   "metadata": {},
   "outputs": [],
   "source": [
    "xgb_clf = XGBClassifier(n_estimators=1500, eval_metric='logloss')\n",
    "\n",
    "dt_clf = DecisionTreeClassifier()\n",
    "rf_clf = RandomForestClassifier()\n",
    "lr_clf = LogisticRegression()\n",
    "knn_clf = KNeighborsClassifier()"
   ]
  },
  {
   "cell_type": "code",
   "execution_count": 69,
   "id": "e0d52b6a-dcc7-432d-9c86-9258ae03a804",
   "metadata": {},
   "outputs": [
    {
     "data": {
      "text/plain": [
       "Index(['sum_audience', 'screens', 'shows', 'year', 'dir_pre_cnt',\n",
       "       'dir_pre_aud', 'dir_score', 'act_pre_aud', 'act_score', 'nv_code',\n",
       "       'ratings_aud', 'ratings_critics', 'ratings_netizen', 'rated_12',\n",
       "       'rated_15', 'rated_all', 'rated_19', 'genre_fantasy', 'genre_family',\n",
       "       'genre_horror', 'genre_etc', 'genre_documentary', 'genre_drama',\n",
       "       'genre_romance', 'genre_mystery', 'genre_crime', 'genre_historical',\n",
       "       'genre_thriller', 'genre_animation', 'genre_action', 'genre_adventure',\n",
       "       'genre_war', 'genre_comedy', 'nation_SouthAfrica', 'nation_Denmark',\n",
       "       'nation_Germany', 'nation_Russia', 'nation_Mexico', 'nation_US',\n",
       "       'nation_Belgium', 'nation_Sweden', 'nation_Spain', 'nation_England',\n",
       "       'nation_Italy', 'nation_India', 'nation_Indonesia', 'nation_Japan',\n",
       "       'nation_China', 'nation_Czech', 'nation_Canada', 'nation_France',\n",
       "       'nation_Finland', 'nation_Korea', 'nation_Australia', 'nation_HongKong',\n",
       "       'box_office'],\n",
       "      dtype='object')"
      ]
     },
     "execution_count": 69,
     "metadata": {},
     "output_type": "execute_result"
    }
   ],
   "source": [
    "data.columns"
   ]
  },
  {
   "cell_type": "markdown",
   "id": "e154254e-187d-4a76-b2d0-7e8c9edfe22b",
   "metadata": {},
   "source": [
    "다 넣은 거"
   ]
  },
  {
   "cell_type": "code",
   "execution_count": 70,
   "id": "f0d7569a-3e51-4fb3-a413-3093e09e60b0",
   "metadata": {},
   "outputs": [],
   "source": [
    "# 포함 컬럼\n",
    "# 스크린, 상영회수, \n",
    "# 감독지수 dir_pre_cnt, dir_pre_aud, dir_score, \n",
    "# 배우지수 act_pre_aud, act_score, \n",
    "# 별점 ratings_aud, ratings_critics, ratings_netizen \n",
    "# 상영등급, 장르, 국가\n",
    "\n",
    "# 뺀 거\n",
    "# ['sum_audience', 'year', 'nv_code', 'box_office']"
   ]
  },
  {
   "cell_type": "code",
   "execution_count": 71,
   "id": "af12abe5-f95e-47c4-94b2-75ba02799ec2",
   "metadata": {
    "tags": []
   },
   "outputs": [
    {
     "name": "stdout",
     "output_type": "stream",
     "text": [
      "DecisionTreeClassifier 정확도 : 1.0// 정밀도: 1.0// 재현율: 1.0// F1스코어 macro 1.0// F1스코어 micro: 1.0\n",
      "RandomForestClassifier 정확도 : 0.963// 정밀도: 0.966// 재현율: 0.939// F1스코어 macro 0.945// F1스코어 micro: 0.963\n",
      "LogisticRegression 정확도 : 0.117// 정밀도: 0.141// 재현율: 0.124// F1스코어 macro 0.053// F1스코어 micro: 0.117\n",
      "KNeighborsClassifier 정확도 : 0.939// 정밀도: 0.945// 재현율: 0.939// F1스코어 macro 0.939// F1스코어 micro: 0.939\n",
      "XGBClassifier 정확도 : 1.0// 정밀도: 1.0// 재현율: 1.0// F1스코어 macro 1.0// F1스코어 micro: 1.0\n"
     ]
    }
   ],
   "source": [
    "# 포함 컬럼\n",
    "# 스크린, 상영회수, \n",
    "# 감독지수 dir_pre_cnt, dir_pre_aud, dir_score, \n",
    "# 배우지수 act_pre_aud, act_score, \n",
    "# 별점 ratings_aud, ratings_critics, ratings_netizen \n",
    "# 상영등급, 장르, 국가\n",
    "\n",
    "y = data['box_office']\n",
    "X = data.drop(columns=['sum_audience', 'year', 'nv_code', 'box_office'])\n",
    "X_train, X_test, y_train, y_test  = train_test_split(X, y, test_size=0.2)\n",
    "\n",
    "models = [dt_clf, rf_clf, lr_clf, knn_clf, xgb_clf]\n",
    "for model in models:\n",
    "    model.fit(X_train,y_train)\n",
    "    pred = model.predict(X_test)\n",
    "    \n",
    "    accuracy = accuracy_score(y_test,pred)\n",
    "    precision = precision_score(y_test,pred, average='macro')\n",
    "    recall = recall_score(y_test,pred, average='macro')\n",
    "    f1_macro = f1_score(y_test, pred, average='macro')\n",
    "    f1_micro = f1_score(y_test, pred, average='micro')\n",
    "    \n",
    "    model_name = model.__class__.__name__\n",
    "    print(f'{model_name} 정확도 : {np.round(accuracy,3)}// 정밀도: {np.round(precision,3)}// 재현율: {np.round(recall,3)}// F1스코어 macro {np.round(f1_macro,3)}// F1스코어 micro: {np.round(f1_micro,3)}')"
   ]
  },
  {
   "cell_type": "code",
   "execution_count": 72,
   "id": "1b572e18-5e80-49d1-b629-4f78637624b6",
   "metadata": {},
   "outputs": [
    {
     "name": "stdout",
     "output_type": "stream",
     "text": [
      "              precision    recall  f1-score   support\n",
      "\n",
      "           0       1.00      1.00      1.00        24\n",
      "           1       1.00      1.00      1.00        22\n",
      "           2       1.00      1.00      1.00        21\n",
      "           3       1.00      1.00      1.00        16\n",
      "           4       1.00      1.00      1.00        20\n",
      "           5       1.00      1.00      1.00        26\n",
      "           6       1.00      1.00      1.00        38\n",
      "           7       1.00      1.00      1.00        19\n",
      "           8       1.00      1.00      1.00        18\n",
      "           9       1.00      1.00      1.00        10\n",
      "\n",
      "    accuracy                           1.00       214\n",
      "   macro avg       1.00      1.00      1.00       214\n",
      "weighted avg       1.00      1.00      1.00       214\n",
      "\n"
     ]
    }
   ],
   "source": [
    "print(classification_report(y_test,pred))"
   ]
  },
  {
   "cell_type": "markdown",
   "id": "f9ab4dd5-2b51-48e4-a9e0-3bd0b739d9fb",
   "metadata": {},
   "source": [
    "감독지수 뺀 거"
   ]
  },
  {
   "cell_type": "code",
   "execution_count": 73,
   "id": "edfdc84b-b13f-48e2-b959-59db53f51cf3",
   "metadata": {},
   "outputs": [],
   "source": [
    "# 포함 컬럼\n",
    "# 스크린, 상영회수, \n",
    "# 배우지수 act_pre_aud, act_score, \n",
    "# 별점 ratings_aud, ratings_critics, ratings_netizen \n",
    "# 상영등급, 장르, 국가\n",
    "\n",
    "# 뺀 거\n",
    "# ['sum_audience', 'year', 'dir_pre_cnt', 'dir_pre_aud', 'dir_score', 'nv_code', 'box_office']"
   ]
  },
  {
   "cell_type": "code",
   "execution_count": 74,
   "id": "15f70481-56bd-4801-a03b-8e9472981a6e",
   "metadata": {},
   "outputs": [
    {
     "name": "stdout",
     "output_type": "stream",
     "text": [
      "DecisionTreeClassifier 정확도 : 1.0// 정밀도: 1.0// 재현율: 1.0// F1스코어 macro 1.0// F1스코어 micro: 1.0\n",
      "RandomForestClassifier 정확도 : 0.888// 정밀도: 0.886// 재현율: 0.832// F1스코어 macro 0.841// F1스코어 micro: 0.888\n",
      "LogisticRegression 정확도 : 0.201// 정밀도: 0.116// 재현율: 0.191// F1스코어 macro 0.123// F1스코어 micro: 0.201\n",
      "KNeighborsClassifier 정확도 : 0.995// 정밀도: 0.994// 재현율: 0.995// F1스코어 macro 0.994// F1스코어 micro: 0.995\n",
      "XGBClassifier 정확도 : 1.0// 정밀도: 1.0// 재현율: 1.0// F1스코어 macro 1.0// F1스코어 micro: 1.0\n"
     ]
    }
   ],
   "source": [
    "# 포함 컬럼\n",
    "# 스크린, 상영회수, \n",
    "# 배우지수 act_pre_aud, act_score, \n",
    "# 별점 ratings_aud, ratings_critics, ratings_netizen \n",
    "# 상영등급, 장르, 국가\n",
    "\n",
    "y = data['box_office']\n",
    "X = data.drop(columns=['sum_audience', 'year', 'dir_pre_cnt', 'dir_pre_aud', 'dir_score', 'nv_code', 'box_office'])\n",
    "X_train, X_test, y_train, y_test  = train_test_split(X, y, test_size=0.2)\n",
    "\n",
    "models = [dt_clf, rf_clf, lr_clf, knn_clf, xgb_clf]\n",
    "for model in models:\n",
    "    model.fit(X_train,y_train)\n",
    "    pred = model.predict(X_test)\n",
    "    \n",
    "    accuracy = accuracy_score(y_test,pred)\n",
    "    precision = precision_score(y_test,pred, average='macro')\n",
    "    recall = recall_score(y_test,pred, average='macro')\n",
    "    f1_macro = f1_score(y_test, pred, average='macro')\n",
    "    f1_micro = f1_score(y_test, pred, average='micro')\n",
    "    \n",
    "    model_name = model.__class__.__name__\n",
    "    print(f'{model_name} 정확도 : {np.round(accuracy,3)}// 정밀도: {np.round(precision,3)}// 재현율: {np.round(recall,3)}// F1스코어 macro {np.round(f1_macro,3)}// F1스코어 micro: {np.round(f1_micro,3)}')"
   ]
  },
  {
   "cell_type": "code",
   "execution_count": 75,
   "id": "3c573aa6-eedd-477c-9464-d725c2284a4a",
   "metadata": {},
   "outputs": [
    {
     "name": "stdout",
     "output_type": "stream",
     "text": [
      "              precision    recall  f1-score   support\n",
      "\n",
      "           0       1.00      1.00      1.00        30\n",
      "           1       1.00      1.00      1.00        19\n",
      "           2       1.00      1.00      1.00        21\n",
      "           3       1.00      1.00      1.00        14\n",
      "           4       1.00      1.00      1.00        20\n",
      "           5       1.00      1.00      1.00        37\n",
      "           6       1.00      1.00      1.00        31\n",
      "           7       1.00      1.00      1.00        19\n",
      "           8       1.00      1.00      1.00        17\n",
      "           9       1.00      1.00      1.00         6\n",
      "\n",
      "    accuracy                           1.00       214\n",
      "   macro avg       1.00      1.00      1.00       214\n",
      "weighted avg       1.00      1.00      1.00       214\n",
      "\n"
     ]
    }
   ],
   "source": [
    "print(classification_report(y_test,pred))"
   ]
  },
  {
   "cell_type": "markdown",
   "id": "11f4cbda-e8b7-484b-8d25-49461807ca94",
   "metadata": {},
   "source": [
    "배우지수 뺀 거"
   ]
  },
  {
   "cell_type": "code",
   "execution_count": 76,
   "id": "b3aa298e-7e41-48bc-803e-0e22d1b14416",
   "metadata": {},
   "outputs": [],
   "source": [
    "# 포함 컬럼\n",
    "# 스크린, 상영회수, \n",
    "# 감독지수 dir_pre_cnt, dir_pre_aud, dir_score, \n",
    "# 배우지수 act_pre_aud, act_score, \n",
    "# 별점 ratings_aud, ratings_critics, ratings_netizen \n",
    "# 상영등급, 장르, 국가\n",
    "\n",
    "# 뺀 거\n",
    "# ['sum_audience', 'year', 'act_pre_aud', 'act_score', 'nv_code', 'box_office']"
   ]
  },
  {
   "cell_type": "code",
   "execution_count": 77,
   "id": "1655e898-2cca-428c-bdf8-1c8d6d8e3bc9",
   "metadata": {},
   "outputs": [
    {
     "name": "stdout",
     "output_type": "stream",
     "text": [
      "DecisionTreeClassifier 정확도 : 0.846// 정밀도: 0.856// 재현율: 0.846// F1스코어 macro 0.848// F1스코어 micro: 0.846\n",
      "RandomForestClassifier 정확도 : 0.804// 정밀도: 0.843// 재현율: 0.78// F1스코어 macro 0.794// F1스코어 micro: 0.804\n",
      "LogisticRegression 정확도 : 0.159// 정밀도: 0.043// 재현율: 0.138// F1스코어 macro 0.062// F1스코어 micro: 0.159\n",
      "KNeighborsClassifier 정확도 : 0.706// 정밀도: 0.729// 재현율: 0.699// F1스코어 macro 0.708// F1스코어 micro: 0.706\n",
      "XGBClassifier 정확도 : 0.86// 정밀도: 0.863// 재현율: 0.86// F1스코어 macro 0.86// F1스코어 micro: 0.86\n"
     ]
    }
   ],
   "source": [
    "# 포함 컬럼\n",
    "# 스크린, 상영회수, \n",
    "# 감독지수 dir_pre_cnt, dir_pre_aud, dir_score, \n",
    "# 배우지수 act_pre_aud, act_score, \n",
    "# 별점 ratings_aud, ratings_critics, ratings_netizen \n",
    "# 상영등급, 장르, 국가\n",
    "\n",
    "y = data['box_office']\n",
    "X = data.drop(columns=['sum_audience', 'year', 'act_pre_aud', 'act_score', 'nv_code', 'box_office'])\n",
    "X_train, X_test, y_train, y_test  = train_test_split(X, y, test_size=0.2)\n",
    "\n",
    "models = [dt_clf, rf_clf, lr_clf, knn_clf, xgb_clf]\n",
    "for model in models:\n",
    "    model.fit(X_train,y_train)\n",
    "    pred = model.predict(X_test)\n",
    "    \n",
    "    accuracy = accuracy_score(y_test,pred)\n",
    "    precision = precision_score(y_test,pred, average='macro')\n",
    "    recall = recall_score(y_test,pred, average='macro')\n",
    "    f1_macro = f1_score(y_test, pred, average='macro')\n",
    "    f1_micro = f1_score(y_test, pred, average='micro')\n",
    "    \n",
    "    model_name = model.__class__.__name__\n",
    "    print(f'{model_name} 정확도 : {np.round(accuracy,3)}// 정밀도: {np.round(precision,3)}// 재현율: {np.round(recall,3)}// F1스코어 macro {np.round(f1_macro,3)}// F1스코어 micro: {np.round(f1_micro,3)}')"
   ]
  },
  {
   "cell_type": "code",
   "execution_count": 78,
   "id": "5cf6f701-09aa-486e-9445-61c3c096271f",
   "metadata": {},
   "outputs": [
    {
     "name": "stdout",
     "output_type": "stream",
     "text": [
      "              precision    recall  f1-score   support\n",
      "\n",
      "           0       0.92      0.96      0.94        23\n",
      "           1       0.94      0.83      0.88        18\n",
      "           2       0.70      0.70      0.70        20\n",
      "           3       0.82      0.88      0.85        16\n",
      "           4       0.90      0.75      0.82        24\n",
      "           5       0.81      0.89      0.85        28\n",
      "           6       0.88      0.91      0.89        23\n",
      "           7       0.87      0.87      0.87        23\n",
      "           8       0.89      0.89      0.89        27\n",
      "           9       0.92      0.92      0.92        12\n",
      "\n",
      "    accuracy                           0.86       214\n",
      "   macro avg       0.86      0.86      0.86       214\n",
      "weighted avg       0.86      0.86      0.86       214\n",
      "\n"
     ]
    }
   ],
   "source": [
    "print(classification_report(y_test,pred))"
   ]
  },
  {
   "cell_type": "markdown",
   "id": "b70a139a-f459-471a-baf5-b834c8ba057d",
   "metadata": {},
   "source": [
    "별점지수 뺀 거"
   ]
  },
  {
   "cell_type": "code",
   "execution_count": 79,
   "id": "fbf1afe2-b376-42e3-af55-af2eca51e7fd",
   "metadata": {},
   "outputs": [],
   "source": [
    "# 포함 컬럼\n",
    "# 스크린, 상영회수, \n",
    "# 감독지수 dir_pre_cnt, dir_pre_aud, dir_score, \n",
    "# 배우지수 act_pre_aud, act_score, \n",
    "# 상영등급, 장르, 국가\n",
    "\n",
    "# 뺀 거\n",
    "# ['sum_audience', 'year', 'nv_code', 'ratings_aud', 'ratings_critics', 'ratings_netizen', 'box_office']"
   ]
  },
  {
   "cell_type": "code",
   "execution_count": 80,
   "id": "4ca61bda-eb59-4900-ac86-ff90bd74ecc7",
   "metadata": {},
   "outputs": [
    {
     "name": "stdout",
     "output_type": "stream",
     "text": [
      "DecisionTreeClassifier 정확도 : 1.0// 정밀도: 1.0// 재현율: 1.0// F1스코어 macro 1.0// F1스코어 micro: 1.0\n",
      "RandomForestClassifier 정확도 : 0.958// 정밀도: 0.949// 재현율: 0.943// F1스코어 macro 0.944// F1스코어 micro: 0.958\n",
      "LogisticRegression 정확도 : 0.15// 정밀도: 0.164// 재현율: 0.153// F1스코어 macro 0.099// F1스코어 micro: 0.15\n",
      "KNeighborsClassifier 정확도 : 0.916// 정밀도: 0.919// 재현율: 0.925// F1스코어 macro 0.92// F1스코어 micro: 0.916\n",
      "XGBClassifier 정확도 : 1.0// 정밀도: 1.0// 재현율: 1.0// F1스코어 macro 1.0// F1스코어 micro: 1.0\n"
     ]
    }
   ],
   "source": [
    "# 포함 컬럼\n",
    "# 스크린, 상영회수, \n",
    "# 감독지수 dir_pre_cnt, dir_pre_aud, dir_score, \n",
    "# 배우지수 act_pre_aud, act_score, \n",
    "# 상영등급, 장르, 국가\n",
    "\n",
    "y = data['box_office']\n",
    "X = data.drop(columns=['sum_audience', 'year', 'nv_code', 'ratings_aud', 'ratings_critics', 'ratings_netizen', 'box_office'])\n",
    "X_train, X_test, y_train, y_test  = train_test_split(X, y, test_size=0.2)\n",
    "\n",
    "models = [dt_clf, rf_clf, lr_clf, knn_clf, xgb_clf]\n",
    "for model in models:\n",
    "    model.fit(X_train,y_train)\n",
    "    pred = model.predict(X_test)\n",
    "    \n",
    "    accuracy = accuracy_score(y_test,pred)\n",
    "    precision = precision_score(y_test,pred, average='macro')\n",
    "    recall = recall_score(y_test,pred, average='macro')\n",
    "    f1_macro = f1_score(y_test, pred, average='macro')\n",
    "    f1_micro = f1_score(y_test, pred, average='micro')\n",
    "    \n",
    "    model_name = model.__class__.__name__\n",
    "    print(f'{model_name} 정확도 : {np.round(accuracy,3)}// 정밀도: {np.round(precision,3)}// 재현율: {np.round(recall,3)}// F1스코어 macro {np.round(f1_macro,3)}// F1스코어 micro: {np.round(f1_micro,3)}')"
   ]
  },
  {
   "cell_type": "code",
   "execution_count": 81,
   "id": "3ceafd3f-9aaf-489a-b346-b321e185ca46",
   "metadata": {},
   "outputs": [
    {
     "name": "stdout",
     "output_type": "stream",
     "text": [
      "              precision    recall  f1-score   support\n",
      "\n",
      "           0       1.00      1.00      1.00        29\n",
      "           1       1.00      1.00      1.00        14\n",
      "           2       1.00      1.00      1.00        25\n",
      "           3       1.00      1.00      1.00        21\n",
      "           4       1.00      1.00      1.00        21\n",
      "           5       1.00      1.00      1.00        33\n",
      "           6       1.00      1.00      1.00        23\n",
      "           7       1.00      1.00      1.00        17\n",
      "           8       1.00      1.00      1.00        25\n",
      "           9       1.00      1.00      1.00         6\n",
      "\n",
      "    accuracy                           1.00       214\n",
      "   macro avg       1.00      1.00      1.00       214\n",
      "weighted avg       1.00      1.00      1.00       214\n",
      "\n"
     ]
    }
   ],
   "source": [
    "print(classification_report(y_test,pred))"
   ]
  },
  {
   "cell_type": "markdown",
   "id": "490c67cf-0cf8-4584-a25d-5ae97e6acf14",
   "metadata": {},
   "source": [
    "상영 전 알 수 있는 정보 넣기"
   ]
  },
  {
   "cell_type": "code",
   "execution_count": 82,
   "id": "752f1d2a-cac1-4524-bf8a-8f13c42ba0e2",
   "metadata": {},
   "outputs": [],
   "source": [
    "# 포함 컬럼\n",
    "# 감독지수 dir_pre_cnt, dir_pre_aud, dir_score, \n",
    "# 배우지수 act_pre_aud, act_score, \n",
    "# 상영등급, 장르, 국가\n",
    "\n",
    "# 뺀 거\n",
    "# ['sum_audience', 'screens', 'shows', 'year', 'nv_code', 'ratings_aud', 'ratings_critics', 'ratings_netizen', 'box_office']"
   ]
  },
  {
   "cell_type": "code",
   "execution_count": 83,
   "id": "d59d6790-c774-4829-8fe2-b3c7ec9020b5",
   "metadata": {},
   "outputs": [
    {
     "name": "stdout",
     "output_type": "stream",
     "text": [
      "DecisionTreeClassifier 정확도 : 1.0// 정밀도: 1.0// 재현율: 1.0// F1스코어 macro 1.0// F1스코어 micro: 1.0\n",
      "RandomForestClassifier 정확도 : 0.888// 정밀도: 0.883// 재현율: 0.882// F1스코어 macro 0.88// F1스코어 micro: 0.888\n",
      "LogisticRegression 정확도 : 0.112// 정밀도: 0.145// 재현율: 0.115// F1스코어 macro 0.047// F1스코어 micro: 0.112\n",
      "KNeighborsClassifier 정확도 : 0.874// 정밀도: 0.88// 재현율: 0.867// F1스코어 macro 0.872// F1스코어 micro: 0.874\n",
      "XGBClassifier 정확도 : 1.0// 정밀도: 1.0// 재현율: 1.0// F1스코어 macro 1.0// F1스코어 micro: 1.0\n"
     ]
    }
   ],
   "source": [
    "# 포함 컬럼\n",
    "# 감독지수 dir_pre_cnt, dir_pre_aud, dir_score, \n",
    "# 배우지수 act_pre_aud, act_score, \n",
    "# 상영등급, 장르, 국가\n",
    "\n",
    "y = data['box_office']\n",
    "X = data.drop(columns=['sum_audience', 'screens', 'shows', 'year', 'nv_code', 'ratings_aud', 'ratings_critics', 'ratings_netizen', 'box_office'])\n",
    "X_train, X_test, y_train, y_test  = train_test_split(X, y, test_size=0.2)\n",
    "\n",
    "models = [dt_clf, rf_clf, lr_clf, knn_clf, xgb_clf]\n",
    "for model in models:\n",
    "    model.fit(X_train,y_train)\n",
    "    pred = model.predict(X_test)\n",
    "    \n",
    "    accuracy = accuracy_score(y_test,pred)\n",
    "    precision = precision_score(y_test,pred, average='macro')\n",
    "    recall = recall_score(y_test,pred, average='macro')\n",
    "    f1_macro = f1_score(y_test, pred, average='macro')\n",
    "    f1_micro = f1_score(y_test, pred, average='micro')\n",
    "    \n",
    "    model_name = model.__class__.__name__\n",
    "    print(f'{model_name} 정확도 : {np.round(accuracy,3)}// 정밀도: {np.round(precision,3)}// 재현율: {np.round(recall,3)}// F1스코어 macro {np.round(f1_macro,3)}// F1스코어 micro: {np.round(f1_micro,3)}')"
   ]
  },
  {
   "cell_type": "code",
   "execution_count": 84,
   "id": "ccae1512-c809-4d9e-b433-47039d6baa9e",
   "metadata": {},
   "outputs": [
    {
     "name": "stdout",
     "output_type": "stream",
     "text": [
      "              precision    recall  f1-score   support\n",
      "\n",
      "           0       1.00      1.00      1.00        29\n",
      "           1       1.00      1.00      1.00        16\n",
      "           2       1.00      1.00      1.00        30\n",
      "           3       1.00      1.00      1.00        12\n",
      "           4       1.00      1.00      1.00        25\n",
      "           5       1.00      1.00      1.00        33\n",
      "           6       1.00      1.00      1.00        29\n",
      "           7       1.00      1.00      1.00        17\n",
      "           8       1.00      1.00      1.00        19\n",
      "           9       1.00      1.00      1.00         4\n",
      "\n",
      "    accuracy                           1.00       214\n",
      "   macro avg       1.00      1.00      1.00       214\n",
      "weighted avg       1.00      1.00      1.00       214\n",
      "\n"
     ]
    }
   ],
   "source": [
    "print(classification_report(y_test,pred))"
   ]
  },
  {
   "cell_type": "markdown",
   "id": "fe273905-6fc1-4da8-8040-8fd757a15754",
   "metadata": {},
   "source": [
    "상영 전 알 수 있는 정보 2 (관객수랑 관련된거 최대한 빼기)"
   ]
  },
  {
   "cell_type": "code",
   "execution_count": 109,
   "id": "013833a5-7c70-4623-8546-76120e7b5a6d",
   "metadata": {},
   "outputs": [],
   "source": [
    "# 포함 컬럼\n",
    "# 감독지수 dir_pre_cnt, dir_score, \n",
    "# 배우지수 act_score, \n",
    "# 상영등급, 장르, 국가\n",
    "\n",
    "# 뺀 거\n",
    "# ['sum_audience', 'screens', 'shows', 'year', 'nv_code', 'dir_pre_aud', 'ratings_aud', 'act_pre_aud', 'ratings_critics', 'ratings_netizen', 'box_office']"
   ]
  },
  {
   "cell_type": "code",
   "execution_count": 86,
   "id": "d3b8fccf-e4ae-447a-808b-eec0b6a223b0",
   "metadata": {},
   "outputs": [
    {
     "name": "stdout",
     "output_type": "stream",
     "text": [
      "DecisionTreeClassifier 정확도 : 0.724// 정밀도: 0.723// 재현율: 0.699// F1스코어 macro 0.705// F1스코어 micro: 0.724\n",
      "RandomForestClassifier 정확도 : 0.607// 정밀도: 0.586// 재현율: 0.565// F1스코어 macro 0.56// F1스코어 micro: 0.607\n",
      "LogisticRegression 정확도 : 0.336// 정밀도: 0.308// 재현율: 0.301// F1스코어 macro 0.289// F1스코어 micro: 0.336\n",
      "KNeighborsClassifier 정확도 : 0.425// 정밀도: 0.406// 재현율: 0.38// F1스코어 macro 0.378// F1스코어 micro: 0.425\n",
      "XGBClassifier 정확도 : 0.743// 정밀도: 0.738// 재현율: 0.713// F1스코어 macro 0.719// F1스코어 micro: 0.743\n"
     ]
    }
   ],
   "source": [
    "# 포함 컬럼\n",
    "# 감독지수 dir_pre_cnt, dir_score, \n",
    "# 배우지수 act_score, \n",
    "# 상영등급, 장르, 국가\n",
    "\n",
    "y = data['box_office']\n",
    "X = data.drop(columns=['sum_audience', 'screens', 'shows', 'year', 'nv_code', 'dir_pre_aud', 'ratings_aud', 'act_pre_aud', 'ratings_critics', 'ratings_netizen', 'box_office'])\n",
    "X_train, X_test, y_train, y_test  = train_test_split(X, y, test_size=0.2)\n",
    "\n",
    "models = [dt_clf, rf_clf, lr_clf, knn_clf, xgb_clf]\n",
    "for model in models:\n",
    "    model.fit(X_train,y_train)\n",
    "    pred = model.predict(X_test)\n",
    "    \n",
    "    accuracy = accuracy_score(y_test,pred)\n",
    "    precision = precision_score(y_test,pred, average='macro')\n",
    "    recall = recall_score(y_test,pred, average='macro')\n",
    "    f1_macro = f1_score(y_test, pred, average='macro')\n",
    "    f1_micro = f1_score(y_test, pred, average='micro')\n",
    "    \n",
    "    model_name = model.__class__.__name__\n",
    "    print(f'{model_name} 정확도 : {np.round(accuracy,3)}// 정밀도: {np.round(precision,3)}// 재현율: {np.round(recall,3)}// F1스코어 macro {np.round(f1_macro,3)}// F1스코어 micro: {np.round(f1_micro,3)}')"
   ]
  },
  {
   "cell_type": "code",
   "execution_count": 87,
   "id": "01d048a6-f4e0-4701-a819-06beb98c795a",
   "metadata": {},
   "outputs": [
    {
     "name": "stdout",
     "output_type": "stream",
     "text": [
      "              precision    recall  f1-score   support\n",
      "\n",
      "           0       0.85      0.92      0.88        24\n",
      "           1       0.84      0.73      0.78        22\n",
      "           2       0.78      0.69      0.73        26\n",
      "           3       0.64      0.82      0.72        17\n",
      "           4       0.56      0.60      0.58        15\n",
      "           5       0.71      0.81      0.76        37\n",
      "           6       0.86      0.73      0.79        33\n",
      "           7       0.75      0.60      0.67        15\n",
      "           8       0.64      0.74      0.68        19\n",
      "           9       0.75      0.50      0.60         6\n",
      "\n",
      "    accuracy                           0.74       214\n",
      "   macro avg       0.74      0.71      0.72       214\n",
      "weighted avg       0.75      0.74      0.74       214\n",
      "\n"
     ]
    }
   ],
   "source": [
    "print(classification_report(y_test,pred))"
   ]
  },
  {
   "cell_type": "markdown",
   "id": "a8768a0d-5866-4852-9ccc-064b09425fd1",
   "metadata": {},
   "source": [
    "상영 전 알 수 있는 정보 3 (관객수랑 관련된거 완전 빼기)"
   ]
  },
  {
   "cell_type": "code",
   "execution_count": 115,
   "id": "bada897d-6248-4c2d-88ea-37c9bda9b996",
   "metadata": {},
   "outputs": [],
   "source": [
    "# 포함 컬럼\n",
    "# 감독지수 dir_pre_cnt,\n",
    "# 상영등급, 장르, 국가\n",
    "\n",
    "# 뺀 거\n",
    "# ['sum_audience', 'screens', 'shows', 'year', 'nv_code', 'dir_pre_aud', 'dir_score', 'ratings_aud', 'act_score', 'act_pre_aud', 'ratings_critics', 'ratings_netizen', 'box_office']"
   ]
  },
  {
   "cell_type": "code",
   "execution_count": 116,
   "id": "caded2fd-8acf-4d3e-a971-8a16ac4a09e7",
   "metadata": {},
   "outputs": [
    {
     "name": "stdout",
     "output_type": "stream",
     "text": [
      "DecisionTreeClassifier 정확도 : 0.192// 정밀도: 0.184// 재현율: 0.159// F1스코어 macro 0.157// F1스코어 micro: 0.192\n",
      "RandomForestClassifier 정확도 : 0.178// 정밀도: 0.203// 재현율: 0.157// F1스코어 macro 0.161// F1스코어 micro: 0.178\n",
      "LogisticRegression 정확도 : 0.178// 정밀도: 0.11// 재현율: 0.142// F1스코어 macro 0.122// F1스코어 micro: 0.178\n",
      "KNeighborsClassifier 정확도 : 0.168// 정밀도: 0.198// 재현율: 0.163// F1스코어 macro 0.16// F1스코어 micro: 0.168\n",
      "XGBClassifier 정확도 : 0.215// 정밀도: 0.241// 재현율: 0.181// F1스코어 macro 0.189// F1스코어 micro: 0.215\n"
     ]
    }
   ],
   "source": [
    "# 포함 컬럼\n",
    "# 감독지수 dir_pre_cnt,\n",
    "# 상영등급, 장르, 국가\n",
    "\n",
    "y = data['box_office']\n",
    "X = data.drop(columns=['sum_audience', 'screens', 'shows', 'year', 'nv_code', 'dir_pre_aud', 'dir_score', 'ratings_aud', 'act_score', 'act_pre_aud', 'ratings_critics', 'ratings_netizen', 'box_office'])\n",
    "X_train, X_test, y_train, y_test  = train_test_split(X, y, test_size=0.2)\n",
    "\n",
    "models = [dt_clf, rf_clf, lr_clf, knn_clf, xgb_clf]\n",
    "for model in models:\n",
    "    model.fit(X_train,y_train)\n",
    "    pred = model.predict(X_test)\n",
    "    \n",
    "    accuracy = accuracy_score(y_test,pred)\n",
    "    precision = precision_score(y_test,pred, average='macro')\n",
    "    recall = recall_score(y_test,pred, average='macro')\n",
    "    f1_macro = f1_score(y_test, pred, average='macro')\n",
    "    f1_micro = f1_score(y_test, pred, average='micro')\n",
    "    \n",
    "    model_name = model.__class__.__name__\n",
    "    print(f'{model_name} 정확도 : {np.round(accuracy,3)}// 정밀도: {np.round(precision,3)}// 재현율: {np.round(recall,3)}// F1스코어 macro {np.round(f1_macro,3)}// F1스코어 micro: {np.round(f1_micro,3)}')"
   ]
  },
  {
   "cell_type": "code",
   "execution_count": 117,
   "id": "7263a742-5a6f-4ca1-9483-f980a7ae0fd3",
   "metadata": {},
   "outputs": [
    {
     "name": "stdout",
     "output_type": "stream",
     "text": [
      "              precision    recall  f1-score   support\n",
      "\n",
      "           0       0.41      0.37      0.39        30\n",
      "           1       0.50      0.19      0.28        26\n",
      "           2       0.14      0.12      0.13        16\n",
      "           3       0.00      0.00      0.00        13\n",
      "           4       0.13      0.10      0.11        20\n",
      "           5       0.27      0.35      0.30        37\n",
      "           6       0.09      0.16      0.11        25\n",
      "           7       0.18      0.12      0.15        16\n",
      "           8       0.19      0.26      0.22        23\n",
      "           9       0.50      0.12      0.20         8\n",
      "\n",
      "    accuracy                           0.21       214\n",
      "   macro avg       0.24      0.18      0.19       214\n",
      "weighted avg       0.25      0.21      0.22       214\n",
      "\n"
     ]
    }
   ],
   "source": [
    "print(classification_report(y_test,pred))"
   ]
  },
  {
   "cell_type": "code",
   "execution_count": null,
   "id": "defe4fae-f370-4f13-a818-eeb0a3bb148a",
   "metadata": {},
   "outputs": [],
   "source": []
  },
  {
   "cell_type": "markdown",
   "id": "39c147dc-f31b-4865-a4a1-b77a9e3bc29f",
   "metadata": {
    "tags": []
   },
   "source": [
    "### XGB, 피처중요도"
   ]
  },
  {
   "cell_type": "code",
   "execution_count": 88,
   "id": "017dc87a-74f2-4de1-bbdf-3cbc0600be7f",
   "metadata": {},
   "outputs": [],
   "source": [
    "import xgboost as xgb\n",
    "from lightgbm import LGBMClassifier\n",
    "\n",
    "from sklearn.model_selection import train_test_split\n",
    "\n",
    "from xgboost import plot_importance"
   ]
  },
  {
   "cell_type": "code",
   "execution_count": 110,
   "id": "2ba77c02-236c-45c7-b21f-b45ea3d32d69",
   "metadata": {},
   "outputs": [],
   "source": [
    "# 포함 컬럼\n",
    "# 감독지수 dir_pre_cnt, dir_score, \n",
    "# 배우지수 act_score, \n",
    "# 상영등급, 장르, 국가\n",
    "\n",
    "y = data['box_office']\n",
    "X = data.drop(columns=['sum_audience', 'screens', 'shows', 'year', 'nv_code', 'dir_pre_aud', 'ratings_aud', 'act_pre_aud', 'ratings_critics', 'ratings_netizen', 'box_office'])\n",
    "\n",
    "X_train, X_test, y_train, y_test  = train_test_split(X, y, test_size=0.2)\n",
    "X_tr, X_val, y_tr, y_val = train_test_split(X_train, y_train, test_size=0.1)\n"
   ]
  },
  {
   "cell_type": "code",
   "execution_count": 111,
   "id": "43a6eb6a-e8b9-4136-bf19-61cd2e36788a",
   "metadata": {},
   "outputs": [],
   "source": [
    "dtr = xgb.DMatrix(data=X_tr, label=y_tr)\n",
    "dval = xgb.DMatrix(data=X_val, label=y_val)\n",
    "dtest = xgb.DMatrix(data=X_test, label=y_test)"
   ]
  },
  {
   "cell_type": "code",
   "execution_count": 112,
   "id": "a221c476-05a8-40be-b6aa-ee263cba651f",
   "metadata": {},
   "outputs": [],
   "source": [
    "params = {\n",
    "    'max_depth': 3,\n",
    "    'eta': 0.05,\n",
    "    # 'objective': 'binary:logistic',\n",
    "    'eval_metric': 'logloss'\n",
    "}\n",
    "num_rounds = 1500\n",
    "eval_list = [(dtr, 'train'), (dval, 'eval')]"
   ]
  },
  {
   "cell_type": "code",
   "execution_count": 113,
   "id": "2785aec0-5365-42cb-b015-5944e403f151",
   "metadata": {
    "collapsed": true,
    "jupyter": {
     "outputs_hidden": true
    },
    "tags": []
   },
   "outputs": [
    {
     "name": "stdout",
     "output_type": "stream",
     "text": [
      "[0]\ttrain-logloss:-3.37803\teval-logloss:-3.59163\n",
      "[1]\ttrain-logloss:-65.49113\teval-logloss:-72.87479\n",
      "[2]\ttrain-logloss:-104.90243\teval-logloss:-114.18547\n",
      "[3]\ttrain-logloss:-108.63627\teval-logloss:-117.12828\n",
      "[4]\ttrain-logloss:-114.02284\teval-logloss:-119.59682\n",
      "[5]\ttrain-logloss:-114.08606\teval-logloss:-120.01681\n",
      "[6]\ttrain-logloss:-114.18153\teval-logloss:-120.10300\n",
      "[7]\ttrain-logloss:-114.31792\teval-logloss:-120.22639\n",
      "[8]\ttrain-logloss:-116.77911\teval-logloss:-122.47938\n",
      "[9]\ttrain-logloss:-116.78680\teval-logloss:-122.51182\n",
      "[10]\ttrain-logloss:-116.79060\teval-logloss:-122.53423\n",
      "[11]\ttrain-logloss:-116.79413\teval-logloss:-123.26402\n",
      "[12]\ttrain-logloss:-116.80615\teval-logloss:-123.23056\n",
      "[13]\ttrain-logloss:-116.81290\teval-logloss:-123.21294\n",
      "[14]\ttrain-logloss:-116.97964\teval-logloss:-122.48256\n",
      "[15]\ttrain-logloss:-116.97919\teval-logloss:-122.48267\n",
      "[16]\ttrain-logloss:-116.98135\teval-logloss:-122.48461\n",
      "[17]\ttrain-logloss:-116.98328\teval-logloss:-122.48684\n",
      "[18]\ttrain-logloss:-116.98261\teval-logloss:-122.48695\n",
      "[19]\ttrain-logloss:-116.98437\teval-logloss:-122.48849\n",
      "[20]\ttrain-logloss:-116.98570\teval-logloss:-122.49040\n",
      "[21]\ttrain-logloss:-116.98676\teval-logloss:-122.49221\n",
      "[22]\ttrain-logloss:-116.98753\teval-logloss:-122.49389\n",
      "[23]\ttrain-logloss:-116.98574\teval-logloss:-122.49398\n",
      "[24]\ttrain-logloss:-116.98834\teval-logloss:-122.49526\n",
      "[25]\ttrain-logloss:-116.98627\teval-logloss:-122.49533\n",
      "[26]\ttrain-logloss:-116.85883\teval-logloss:-122.49651\n",
      "[27]\ttrain-logloss:-116.86034\teval-logloss:-122.49793\n",
      "[28]\ttrain-logloss:-116.86153\teval-logloss:-122.49919\n",
      "[29]\ttrain-logloss:-116.86169\teval-logloss:-122.49925\n",
      "[30]\ttrain-logloss:-116.86272\teval-logloss:-122.50021\n",
      "[31]\ttrain-logloss:-116.86391\teval-logloss:-122.50137\n",
      "[32]\ttrain-logloss:-116.86402\teval-logloss:-122.50143\n",
      "[33]\ttrain-logloss:-116.86493\teval-logloss:-122.50226\n",
      "[34]\ttrain-logloss:-116.86590\teval-logloss:-122.50327\n",
      "[35]\ttrain-logloss:-116.86603\teval-logloss:-122.50332\n",
      "[36]\ttrain-logloss:-116.86617\teval-logloss:-122.50337\n",
      "[37]\ttrain-logloss:-116.86628\teval-logloss:-122.50343\n",
      "[38]\ttrain-logloss:-116.86700\teval-logloss:-122.50411\n",
      "[39]\ttrain-logloss:-116.86743\teval-logloss:-122.50404\n",
      "[40]\ttrain-logloss:-116.86829\teval-logloss:-122.50491\n",
      "[41]\ttrain-logloss:-116.86838\teval-logloss:-122.50495\n",
      "[42]\ttrain-logloss:-116.86890\teval-logloss:-122.50555\n",
      "[43]\ttrain-logloss:-116.86906\teval-logloss:-122.50542\n",
      "[44]\ttrain-logloss:-116.86993\teval-logloss:-122.50627\n",
      "[45]\ttrain-logloss:-116.87054\teval-logloss:-122.50681\n",
      "[46]\ttrain-logloss:-116.87110\teval-logloss:-122.50735\n",
      "[47]\ttrain-logloss:-116.87146\teval-logloss:-122.50727\n",
      "[48]\ttrain-logloss:-116.87173\teval-logloss:-122.50723\n",
      "[49]\ttrain-logloss:-116.87180\teval-logloss:-122.50712\n",
      "[50]\ttrain-logloss:-116.87183\teval-logloss:-122.50703\n",
      "[51]\ttrain-logloss:-116.87241\teval-logloss:-122.50755\n",
      "[52]\ttrain-logloss:-116.87234\teval-logloss:-122.50751\n",
      "[53]\ttrain-logloss:-116.87290\teval-logloss:-122.50802\n",
      "[54]\ttrain-logloss:-116.87286\teval-logloss:-122.50797\n",
      "[55]\ttrain-logloss:-116.87341\teval-logloss:-122.50844\n",
      "[56]\ttrain-logloss:-116.87333\teval-logloss:-122.50840\n",
      "[57]\ttrain-logloss:-116.87320\teval-logloss:-122.50833\n",
      "[58]\ttrain-logloss:-116.87374\teval-logloss:-122.50879\n",
      "[59]\ttrain-logloss:-116.87333\teval-logloss:-122.50857\n",
      "[60]\ttrain-logloss:-116.87386\teval-logloss:-122.50900\n",
      "[61]\ttrain-logloss:-116.87366\teval-logloss:-122.50913\n"
     ]
    }
   ],
   "source": [
    "xgb_model = xgb.train(params, dtr, num_rounds, evals=eval_list, early_stopping_rounds=50)"
   ]
  },
  {
   "cell_type": "code",
   "execution_count": 114,
   "id": "4b371f26-e1c4-4a9f-b925-69b1496df48f",
   "metadata": {
    "tags": []
   },
   "outputs": [
    {
     "data": {
      "text/plain": [
       "<AxesSubplot:title={'center':'Feature importance'}, xlabel='F score', ylabel='Features'>"
      ]
     },
     "execution_count": 114,
     "metadata": {},
     "output_type": "execute_result"
    },
    {
     "data": {
      "image/png": "[encoded data removed]",
      "text/plain": [
       "<Figure size 640x480 with 1 Axes>"
      ]
     },
     "metadata": {},
     "output_type": "display_data"
    }
   ],
   "source": [
    "plot_importance(xgb_model)"
   ]
  },
  {
   "cell_type": "code",
   "execution_count": 118,
   "id": "ec63abe4-b592-41cb-b44e-5e34db3f8a7b",
   "metadata": {},
   "outputs": [],
   "source": [
    "# 포함 컬럼\n",
    "# 감독지수 dir_pre_cnt,\n",
    "# 상영등급, 장르, 국가\n",
    "\n",
    "y = data['box_office']\n",
    "X = data.drop(columns=['sum_audience', 'screens', 'shows', 'year', 'nv_code', 'dir_pre_aud', 'dir_score', 'ratings_aud', 'act_score', 'act_pre_aud', 'ratings_critics', 'ratings_netizen', 'box_office'])\n",
    "\n",
    "X_train, X_test, y_train, y_test  = train_test_split(X, y, test_size=0.2)\n",
    "X_tr, X_val, y_tr, y_val = train_test_split(X_train, y_train, test_size=0.1)\n"
   ]
  },
  {
   "cell_type": "code",
   "execution_count": 119,
   "id": "e2415461-74d5-4e24-aa99-2b308b4e3050",
   "metadata": {},
   "outputs": [],
   "source": [
    "dtr = xgb.DMatrix(data=X_tr, label=y_tr)\n",
    "dval = xgb.DMatrix(data=X_val, label=y_val)\n",
    "dtest = xgb.DMatrix(data=X_test, label=y_test)"
   ]
  },
  {
   "cell_type": "code",
   "execution_count": 120,
   "id": "7f37c49a-4e60-4d62-a8bc-a87736bfeb8c",
   "metadata": {},
   "outputs": [],
   "source": [
    "params = {\n",
    "    'max_depth': 3,\n",
    "    'eta': 0.05,\n",
    "    # 'objective': 'binary:logistic',\n",
    "    'eval_metric': 'logloss'\n",
    "}\n",
    "num_rounds = 1500\n",
    "eval_list = [(dtr, 'train'), (dval, 'eval')]"
   ]
  },
  {
   "cell_type": "code",
   "execution_count": 121,
   "id": "64898e3e-32ae-47f3-96ce-4218aaa43306",
   "metadata": {
    "collapsed": true,
    "jupyter": {
     "outputs_hidden": true
    },
    "tags": []
   },
   "outputs": [
    {
     "name": "stdout",
     "output_type": "stream",
     "text": [
      "[0]\ttrain-logloss:-2.38067\teval-logloss:-2.15613\n",
      "[1]\ttrain-logloss:-12.88028\teval-logloss:-8.06350\n",
      "[2]\ttrain-logloss:-81.86505\teval-logloss:-76.13624\n",
      "[3]\ttrain-logloss:-112.69106\teval-logloss:-104.94892\n",
      "[4]\ttrain-logloss:-112.96858\teval-logloss:-106.58168\n",
      "[5]\ttrain-logloss:-116.72674\teval-logloss:-112.68343\n",
      "[6]\ttrain-logloss:-116.73483\teval-logloss:-113.47914\n",
      "[7]\ttrain-logloss:-116.99176\teval-logloss:-113.09441\n",
      "[8]\ttrain-logloss:-116.90415\teval-logloss:-113.09441\n",
      "[9]\ttrain-logloss:-116.90415\teval-logloss:-113.09441\n",
      "[10]\ttrain-logloss:-116.94253\teval-logloss:-113.09441\n",
      "[11]\ttrain-logloss:-116.94633\teval-logloss:-113.09441\n",
      "[12]\ttrain-logloss:-116.94407\teval-logloss:-113.09441\n",
      "[13]\ttrain-logloss:-116.94669\teval-logloss:-113.09441\n",
      "[14]\ttrain-logloss:-116.94608\teval-logloss:-113.09441\n",
      "[15]\ttrain-logloss:-116.94729\teval-logloss:-113.09441\n",
      "[16]\ttrain-logloss:-116.94714\teval-logloss:-113.09441\n",
      "[17]\ttrain-logloss:-116.94779\teval-logloss:-113.09441\n",
      "[18]\ttrain-logloss:-116.90415\teval-logloss:-113.09441\n",
      "[19]\ttrain-logloss:-116.90415\teval-logloss:-113.09441\n",
      "[20]\ttrain-logloss:-116.90415\teval-logloss:-113.09441\n",
      "[21]\ttrain-logloss:-116.90415\teval-logloss:-113.09441\n",
      "[22]\ttrain-logloss:-116.90415\teval-logloss:-113.09441\n",
      "[23]\ttrain-logloss:-116.90415\teval-logloss:-113.09441\n",
      "[24]\ttrain-logloss:-116.90415\teval-logloss:-113.09441\n",
      "[25]\ttrain-logloss:-116.90415\teval-logloss:-113.09441\n",
      "[26]\ttrain-logloss:-116.90415\teval-logloss:-113.09441\n",
      "[27]\ttrain-logloss:-116.90415\teval-logloss:-113.09441\n",
      "[28]\ttrain-logloss:-116.90415\teval-logloss:-113.09441\n",
      "[29]\ttrain-logloss:-116.90415\teval-logloss:-113.09441\n",
      "[30]\ttrain-logloss:-116.90415\teval-logloss:-113.09441\n",
      "[31]\ttrain-logloss:-116.90415\teval-logloss:-113.09441\n",
      "[32]\ttrain-logloss:-116.90415\teval-logloss:-113.09441\n",
      "[33]\ttrain-logloss:-116.90415\teval-logloss:-113.09441\n",
      "[34]\ttrain-logloss:-116.90415\teval-logloss:-113.09441\n",
      "[35]\ttrain-logloss:-116.90415\teval-logloss:-113.09441\n",
      "[36]\ttrain-logloss:-116.90415\teval-logloss:-113.09441\n",
      "[37]\ttrain-logloss:-116.90415\teval-logloss:-113.09441\n",
      "[38]\ttrain-logloss:-116.90415\teval-logloss:-113.09441\n",
      "[39]\ttrain-logloss:-116.90415\teval-logloss:-113.09441\n",
      "[40]\ttrain-logloss:-116.90415\teval-logloss:-113.09441\n",
      "[41]\ttrain-logloss:-116.90415\teval-logloss:-113.09441\n",
      "[42]\ttrain-logloss:-116.90415\teval-logloss:-113.09441\n",
      "[43]\ttrain-logloss:-116.90415\teval-logloss:-113.09441\n",
      "[44]\ttrain-logloss:-116.90415\teval-logloss:-113.09441\n",
      "[45]\ttrain-logloss:-116.90415\teval-logloss:-113.09441\n",
      "[46]\ttrain-logloss:-116.90415\teval-logloss:-113.09441\n",
      "[47]\ttrain-logloss:-116.90415\teval-logloss:-113.09441\n",
      "[48]\ttrain-logloss:-116.90415\teval-logloss:-113.09441\n",
      "[49]\ttrain-logloss:-116.90415\teval-logloss:-113.09441\n",
      "[50]\ttrain-logloss:-116.90415\teval-logloss:-113.09441\n",
      "[51]\ttrain-logloss:-116.90415\teval-logloss:-113.09441\n",
      "[52]\ttrain-logloss:-116.90415\teval-logloss:-113.09441\n",
      "[53]\ttrain-logloss:-116.90415\teval-logloss:-113.09441\n",
      "[54]\ttrain-logloss:-116.90415\teval-logloss:-113.09441\n",
      "[55]\ttrain-logloss:-116.90415\teval-logloss:-113.09441\n",
      "[56]\ttrain-logloss:-116.90415\teval-logloss:-113.09441\n"
     ]
    }
   ],
   "source": [
    "xgb_model = xgb.train(params, dtr, num_rounds, evals=eval_list, early_stopping_rounds=50)"
   ]
  },
  {
   "cell_type": "code",
   "execution_count": 122,
   "id": "4665f78a-ca3b-4dae-b899-ee71f1c80096",
   "metadata": {
    "tags": []
   },
   "outputs": [
    {
     "data": {
      "text/plain": [
       "<AxesSubplot:title={'center':'Feature importance'}, xlabel='F score', ylabel='Features'>"
      ]
     },
     "execution_count": 122,
     "metadata": {},
     "output_type": "execute_result"
    },
    {
     "data": {
      "image/png": "[encoded data removed]",
      "text/plain": [
       "<Figure size 640x480 with 1 Axes>"
      ]
     },
     "metadata": {},
     "output_type": "display_data"
    }
   ],
   "source": [
    "plot_importance(xgb_model)"
   ]
  },
  {
   "cell_type": "code",
   "execution_count": null,
   "id": "4769b671-c296-49d3-b323-b6216d6829de",
   "metadata": {},
   "outputs": [],
   "source": []
  },
  {
   "cell_type": "code",
   "execution_count": 123,
   "id": "d2a183ef-4ac9-4db8-ab5d-6216f50782c5",
   "metadata": {},
   "outputs": [],
   "source": [
    "# 포함 컬럼\n",
    "# 스크린, 상영회수, \n",
    "# 감독지수 dir_pre_cnt, dir_pre_aud, dir_score, \n",
    "# 배우지수 act_pre_aud, act_score, \n",
    "# 별점 ratings_aud, ratings_critics, ratings_netizen \n",
    "# 상영등급, 장르, 국가\n",
    "\n",
    "y = data['box_office']\n",
    "X = data.drop(columns=['sum_audience', 'year', 'nv_code', 'box_office'])\n",
    "X_train, X_test, y_train, y_test  = train_test_split(X, y, test_size=0.2)\n",
    "X_tr, X_val, y_tr, y_val = train_test_split(X_train, y_train, test_size=0.1)\n"
   ]
  },
  {
   "cell_type": "code",
   "execution_count": 124,
   "id": "31e986d3-14c8-429c-be1c-91dbdfa51d5f",
   "metadata": {},
   "outputs": [],
   "source": [
    "dtr = xgb.DMatrix(data=X_tr, label=y_tr)\n",
    "dval = xgb.DMatrix(data=X_val, label=y_val)\n",
    "dtest = xgb.DMatrix(data=X_test, label=y_test)"
   ]
  },
  {
   "cell_type": "code",
   "execution_count": 125,
   "id": "40c0eefa-9843-4f78-a949-9450ca290e3a",
   "metadata": {},
   "outputs": [],
   "source": [
    "params = {\n",
    "    'max_depth': 3,\n",
    "    'eta': 0.05,\n",
    "    # 'objective': 'binary:logistic',\n",
    "    'eval_metric': 'logloss'\n",
    "}\n",
    "num_rounds = 1500\n",
    "eval_list = [(dtr, 'train'), (dval, 'eval')]"
   ]
  },
  {
   "cell_type": "code",
   "execution_count": 126,
   "id": "8f0374f7-6c5a-42eb-ad4d-2b0a4d7fe7f0",
   "metadata": {
    "tags": []
   },
   "outputs": [
    {
     "name": "stdout",
     "output_type": "stream",
     "text": [
      "[0]\ttrain-logloss:-3.86653\teval-logloss:-3.71796\n",
      "[1]\ttrain-logloss:-78.16198\teval-logloss:-75.05949\n",
      "[2]\ttrain-logloss:-109.18011\teval-logloss:-106.53051\n",
      "[3]\ttrain-logloss:-109.45081\teval-logloss:-106.86942\n",
      "[4]\ttrain-logloss:-114.69785\teval-logloss:-113.61082\n",
      "[5]\ttrain-logloss:-114.76648\teval-logloss:-113.68909\n",
      "[6]\ttrain-logloss:-114.86440\teval-logloss:-113.80177\n",
      "[7]\ttrain-logloss:-115.60395\teval-logloss:-114.66492\n",
      "[8]\ttrain-logloss:-118.59372\teval-logloss:-118.15972\n",
      "[9]\ttrain-logloss:-118.59881\teval-logloss:-118.16419\n",
      "[10]\ttrain-logloss:-118.60354\teval-logloss:-118.16836\n",
      "[11]\ttrain-logloss:-118.60794\teval-logloss:-118.17224\n",
      "[12]\ttrain-logloss:-118.61206\teval-logloss:-118.17586\n",
      "[13]\ttrain-logloss:-118.61585\teval-logloss:-118.17924\n",
      "[14]\ttrain-logloss:-118.61948\teval-logloss:-118.18240\n",
      "[15]\ttrain-logloss:-118.62278\teval-logloss:-118.18536\n",
      "[16]\ttrain-logloss:-118.62592\teval-logloss:-118.18813\n",
      "[17]\ttrain-logloss:-118.62890\teval-logloss:-118.19073\n",
      "[18]\ttrain-logloss:-118.63168\teval-logloss:-118.19317\n",
      "[19]\ttrain-logloss:-118.63424\teval-logloss:-118.19546\n",
      "[20]\ttrain-logloss:-118.63672\teval-logloss:-118.19761\n",
      "[21]\ttrain-logloss:-118.63898\teval-logloss:-118.19964\n",
      "[22]\ttrain-logloss:-118.64115\teval-logloss:-118.20156\n",
      "[23]\ttrain-logloss:-118.64314\teval-logloss:-118.20335\n",
      "[24]\ttrain-logloss:-118.64510\teval-logloss:-118.20505\n",
      "[25]\ttrain-logloss:-118.64687\teval-logloss:-118.20664\n",
      "[26]\ttrain-logloss:-118.64860\teval-logloss:-118.20813\n",
      "[27]\ttrain-logloss:-118.65021\teval-logloss:-118.20955\n",
      "[28]\ttrain-logloss:-118.65173\teval-logloss:-118.21089\n",
      "[29]\ttrain-logloss:-118.65318\teval-logloss:-118.21217\n",
      "[30]\ttrain-logloss:-118.65450\teval-logloss:-118.21337\n",
      "[31]\ttrain-logloss:-118.65580\teval-logloss:-118.21450\n",
      "[32]\ttrain-logloss:-118.65701\teval-logloss:-118.21556\n",
      "[33]\ttrain-logloss:-118.65817\teval-logloss:-118.21657\n",
      "[34]\ttrain-logloss:-118.65926\teval-logloss:-118.21752\n",
      "[35]\ttrain-logloss:-118.66022\teval-logloss:-118.21843\n",
      "[36]\ttrain-logloss:-118.66125\teval-logloss:-118.21928\n",
      "[37]\ttrain-logloss:-118.66215\teval-logloss:-118.22010\n",
      "[38]\ttrain-logloss:-118.66303\teval-logloss:-118.22086\n",
      "[39]\ttrain-logloss:-118.66387\teval-logloss:-118.22159\n",
      "[40]\ttrain-logloss:-118.66459\teval-logloss:-118.22228\n",
      "[41]\ttrain-logloss:-118.66562\teval-logloss:-118.22329\n",
      "[42]\ttrain-logloss:-118.66633\teval-logloss:-118.22389\n",
      "[43]\ttrain-logloss:-118.66697\teval-logloss:-118.22445\n",
      "[44]\ttrain-logloss:-118.66788\teval-logloss:-118.22531\n",
      "[45]\ttrain-logloss:-118.66839\teval-logloss:-118.22581\n",
      "[46]\ttrain-logloss:-118.66920\teval-logloss:-118.22659\n",
      "[47]\ttrain-logloss:-118.66969\teval-logloss:-118.22701\n",
      "[48]\ttrain-logloss:-118.67017\teval-logloss:-118.22742\n",
      "[49]\ttrain-logloss:-118.67063\teval-logloss:-118.22780\n",
      "[50]\ttrain-logloss:-118.67106\teval-logloss:-118.22817\n",
      "[51]\ttrain-logloss:-118.67145\teval-logloss:-118.22852\n",
      "[52]\ttrain-logloss:-118.67184\teval-logloss:-118.22884\n",
      "[53]\ttrain-logloss:-118.67216\teval-logloss:-118.22916\n",
      "[54]\ttrain-logloss:-118.67254\teval-logloss:-118.22945\n",
      "[55]\ttrain-logloss:-118.67288\teval-logloss:-118.22973\n",
      "[56]\ttrain-logloss:-118.67316\teval-logloss:-118.23000\n",
      "[57]\ttrain-logloss:-118.67347\teval-logloss:-118.23025\n",
      "[58]\ttrain-logloss:-118.67376\teval-logloss:-118.23049\n",
      "[59]\ttrain-logloss:-118.67411\teval-logloss:-118.23088\n",
      "[60]\ttrain-logloss:-118.67439\teval-logloss:-118.23108\n",
      "[61]\ttrain-logloss:-118.67463\teval-logloss:-118.23128\n",
      "[62]\ttrain-logloss:-118.67464\teval-logloss:-118.23126\n",
      "[63]\ttrain-logloss:-118.67495\teval-logloss:-118.23158\n",
      "[64]\ttrain-logloss:-118.67514\teval-logloss:-118.23177\n",
      "[65]\ttrain-logloss:-118.67533\teval-logloss:-118.23193\n",
      "[66]\ttrain-logloss:-118.67551\teval-logloss:-118.23208\n",
      "[67]\ttrain-logloss:-118.67572\teval-logloss:-118.23223\n",
      "[68]\ttrain-logloss:-118.67591\teval-logloss:-118.23235\n",
      "[69]\ttrain-logloss:-118.67603\teval-logloss:-118.23251\n",
      "[70]\ttrain-logloss:-118.67619\teval-logloss:-118.23263\n",
      "[71]\ttrain-logloss:-118.67631\teval-logloss:-118.23275\n",
      "[72]\ttrain-logloss:-118.67651\teval-logloss:-118.23286\n",
      "[73]\ttrain-logloss:-118.67667\teval-logloss:-118.23305\n",
      "[74]\ttrain-logloss:-118.67677\teval-logloss:-118.23316\n",
      "[75]\ttrain-logloss:-118.67690\teval-logloss:-118.23325\n",
      "[76]\ttrain-logloss:-118.67699\teval-logloss:-118.23333\n",
      "[77]\ttrain-logloss:-118.67713\teval-logloss:-118.23343\n",
      "[78]\ttrain-logloss:-118.67722\teval-logloss:-118.23351\n",
      "[79]\ttrain-logloss:-118.67722\teval-logloss:-118.23351\n",
      "[80]\ttrain-logloss:-118.67737\teval-logloss:-118.23364\n",
      "[81]\ttrain-logloss:-118.67744\teval-logloss:-118.23370\n",
      "[82]\ttrain-logloss:-118.67752\teval-logloss:-118.23377\n",
      "[83]\ttrain-logloss:-118.67752\teval-logloss:-118.23377\n",
      "[84]\ttrain-logloss:-118.67763\teval-logloss:-118.23388\n",
      "[85]\ttrain-logloss:-118.67770\teval-logloss:-118.23394\n",
      "[86]\ttrain-logloss:-118.67776\teval-logloss:-118.23399\n",
      "[87]\ttrain-logloss:-118.67783\teval-logloss:-118.23405\n",
      "[88]\ttrain-logloss:-118.67794\teval-logloss:-118.23409\n",
      "[89]\ttrain-logloss:-118.67795\teval-logloss:-118.23415\n",
      "[90]\ttrain-logloss:-118.67800\teval-logloss:-118.23418\n",
      "[91]\ttrain-logloss:-118.67810\teval-logloss:-118.23426\n",
      "[92]\ttrain-logloss:-118.67816\teval-logloss:-118.23430\n",
      "[93]\ttrain-logloss:-118.67817\teval-logloss:-118.23435\n",
      "[94]\ttrain-logloss:-118.67822\teval-logloss:-118.23438\n",
      "[95]\ttrain-logloss:-118.67822\teval-logloss:-118.23438\n",
      "[96]\ttrain-logloss:-118.67829\teval-logloss:-118.23443\n",
      "[97]\ttrain-logloss:-118.67834\teval-logloss:-118.23447\n",
      "[98]\ttrain-logloss:-118.67838\teval-logloss:-118.23449\n",
      "[99]\ttrain-logloss:-118.67838\teval-logloss:-118.23449\n",
      "[100]\ttrain-logloss:-118.67843\teval-logloss:-118.23454\n",
      "[101]\ttrain-logloss:-118.67847\teval-logloss:-118.23457\n",
      "[102]\ttrain-logloss:-118.67849\teval-logloss:-118.23460\n",
      "[103]\ttrain-logloss:-118.67852\teval-logloss:-118.23461\n",
      "[104]\ttrain-logloss:-118.67855\teval-logloss:-118.23465\n",
      "[105]\ttrain-logloss:-118.67856\teval-logloss:-118.23468\n",
      "[106]\ttrain-logloss:-118.67861\teval-logloss:-118.23470\n",
      "[107]\ttrain-logloss:-118.67863\teval-logloss:-118.23470\n",
      "[108]\ttrain-logloss:-118.67867\teval-logloss:-118.23474\n",
      "[109]\ttrain-logloss:-118.67868\teval-logloss:-118.23474\n",
      "[110]\ttrain-logloss:-118.67872\teval-logloss:-118.23476\n",
      "[111]\ttrain-logloss:-118.67872\teval-logloss:-118.23476\n",
      "[112]\ttrain-logloss:-118.67873\teval-logloss:-118.23479\n",
      "[113]\ttrain-logloss:-118.67873\teval-logloss:-118.23481\n",
      "[114]\ttrain-logloss:-118.67874\teval-logloss:-118.23482\n",
      "[115]\ttrain-logloss:-118.67878\teval-logloss:-118.23483\n",
      "[116]\ttrain-logloss:-118.67877\teval-logloss:-118.23482\n",
      "[117]\ttrain-logloss:-118.67878\teval-logloss:-118.23484\n",
      "[118]\ttrain-logloss:-118.67879\teval-logloss:-118.23486\n",
      "[119]\ttrain-logloss:-118.67883\teval-logloss:-118.23487\n",
      "[120]\ttrain-logloss:-118.67884\teval-logloss:-118.23487\n",
      "[121]\ttrain-logloss:-118.67886\teval-logloss:-118.23489\n",
      "[122]\ttrain-logloss:-118.67886\teval-logloss:-118.23489\n",
      "[123]\ttrain-logloss:-118.67889\teval-logloss:-118.23489\n",
      "[124]\ttrain-logloss:-118.67889\teval-logloss:-118.23492\n",
      "[125]\ttrain-logloss:-118.67890\teval-logloss:-118.23492\n",
      "[126]\ttrain-logloss:-118.67893\teval-logloss:-118.23494\n",
      "[127]\ttrain-logloss:-118.67893\teval-logloss:-118.23494\n",
      "[128]\ttrain-logloss:-118.67893\teval-logloss:-118.23494\n",
      "[129]\ttrain-logloss:-118.67893\teval-logloss:-118.23495\n",
      "[130]\ttrain-logloss:-118.67895\teval-logloss:-118.23495\n",
      "[131]\ttrain-logloss:-118.67895\teval-logloss:-118.23495\n",
      "[132]\ttrain-logloss:-118.67895\teval-logloss:-118.23496\n",
      "[133]\ttrain-logloss:-118.67895\teval-logloss:-118.23496\n",
      "[134]\ttrain-logloss:-118.67895\teval-logloss:-118.23496\n",
      "[135]\ttrain-logloss:-118.67898\teval-logloss:-118.23498\n",
      "[136]\ttrain-logloss:-118.67898\teval-logloss:-118.23498\n",
      "[137]\ttrain-logloss:-118.67898\teval-logloss:-118.23498\n",
      "[138]\ttrain-logloss:-118.67898\teval-logloss:-118.23498\n",
      "[139]\ttrain-logloss:-118.67898\teval-logloss:-118.23498\n",
      "[140]\ttrain-logloss:-118.67899\teval-logloss:-118.23498\n",
      "[141]\ttrain-logloss:-118.67899\teval-logloss:-118.23501\n",
      "[142]\ttrain-logloss:-118.67899\teval-logloss:-118.23501\n",
      "[143]\ttrain-logloss:-118.67899\teval-logloss:-118.23501\n",
      "[144]\ttrain-logloss:-118.67902\teval-logloss:-118.23501\n",
      "[145]\ttrain-logloss:-118.67902\teval-logloss:-118.23502\n",
      "[146]\ttrain-logloss:-118.67902\teval-logloss:-118.23502\n",
      "[147]\ttrain-logloss:-118.67902\teval-logloss:-118.23502\n",
      "[148]\ttrain-logloss:-118.67902\teval-logloss:-118.23502\n",
      "[149]\ttrain-logloss:-118.67902\teval-logloss:-118.23502\n",
      "[150]\ttrain-logloss:-118.67905\teval-logloss:-118.23502\n",
      "[151]\ttrain-logloss:-118.67905\teval-logloss:-118.23502\n",
      "[152]\ttrain-logloss:-118.67905\teval-logloss:-118.23503\n",
      "[153]\ttrain-logloss:-118.67905\teval-logloss:-118.23503\n",
      "[154]\ttrain-logloss:-118.67905\teval-logloss:-118.23503\n",
      "[155]\ttrain-logloss:-118.67905\teval-logloss:-118.23503\n",
      "[156]\ttrain-logloss:-118.67905\teval-logloss:-118.23503\n",
      "[157]\ttrain-logloss:-118.67905\teval-logloss:-118.23503\n",
      "[158]\ttrain-logloss:-118.67905\teval-logloss:-118.23503\n",
      "[159]\ttrain-logloss:-118.67905\teval-logloss:-118.23503\n",
      "[160]\ttrain-logloss:-118.67908\teval-logloss:-118.23503\n",
      "[161]\ttrain-logloss:-118.67908\teval-logloss:-118.23503\n",
      "[162]\ttrain-logloss:-118.67908\teval-logloss:-118.23503\n",
      "[163]\ttrain-logloss:-118.67908\teval-logloss:-118.23505\n",
      "[164]\ttrain-logloss:-118.67908\teval-logloss:-118.23503\n",
      "[165]\ttrain-logloss:-118.67908\teval-logloss:-118.23503\n",
      "[166]\ttrain-logloss:-118.67908\teval-logloss:-118.23505\n",
      "[167]\ttrain-logloss:-118.67908\teval-logloss:-118.23505\n",
      "[168]\ttrain-logloss:-118.67908\teval-logloss:-118.23505\n",
      "[169]\ttrain-logloss:-118.67908\teval-logloss:-118.23505\n",
      "[170]\ttrain-logloss:-118.67908\teval-logloss:-118.23505\n",
      "[171]\ttrain-logloss:-118.67908\teval-logloss:-118.23505\n",
      "[172]\ttrain-logloss:-118.67908\teval-logloss:-118.23505\n",
      "[173]\ttrain-logloss:-118.67908\teval-logloss:-118.23505\n",
      "[174]\ttrain-logloss:-118.67908\teval-logloss:-118.23505\n",
      "[175]\ttrain-logloss:-118.67908\teval-logloss:-118.23505\n",
      "[176]\ttrain-logloss:-118.67909\teval-logloss:-118.23505\n",
      "[177]\ttrain-logloss:-118.67909\teval-logloss:-118.23505\n",
      "[178]\ttrain-logloss:-118.67909\teval-logloss:-118.23505\n",
      "[179]\ttrain-logloss:-118.67909\teval-logloss:-118.23505\n",
      "[180]\ttrain-logloss:-118.67909\teval-logloss:-118.23505\n",
      "[181]\ttrain-logloss:-118.67909\teval-logloss:-118.23505\n",
      "[182]\ttrain-logloss:-118.67909\teval-logloss:-118.23505\n",
      "[183]\ttrain-logloss:-118.67909\teval-logloss:-118.23505\n",
      "[184]\ttrain-logloss:-118.67909\teval-logloss:-118.23505\n",
      "[185]\ttrain-logloss:-118.67909\teval-logloss:-118.23505\n",
      "[186]\ttrain-logloss:-118.67909\teval-logloss:-118.23505\n",
      "[187]\ttrain-logloss:-118.67909\teval-logloss:-118.23505\n",
      "[188]\ttrain-logloss:-118.67909\teval-logloss:-118.23505\n",
      "[189]\ttrain-logloss:-118.67909\teval-logloss:-118.23505\n",
      "[190]\ttrain-logloss:-118.67909\teval-logloss:-118.23505\n",
      "[191]\ttrain-logloss:-118.67909\teval-logloss:-118.23505\n",
      "[192]\ttrain-logloss:-118.67909\teval-logloss:-118.23505\n",
      "[193]\ttrain-logloss:-118.67909\teval-logloss:-118.23505\n",
      "[194]\ttrain-logloss:-118.67909\teval-logloss:-118.23505\n",
      "[195]\ttrain-logloss:-118.67909\teval-logloss:-118.23505\n",
      "[196]\ttrain-logloss:-118.67909\teval-logloss:-118.23505\n",
      "[197]\ttrain-logloss:-118.67909\teval-logloss:-118.23505\n",
      "[198]\ttrain-logloss:-118.67909\teval-logloss:-118.23505\n",
      "[199]\ttrain-logloss:-118.67909\teval-logloss:-118.23505\n",
      "[200]\ttrain-logloss:-118.67909\teval-logloss:-118.23505\n",
      "[201]\ttrain-logloss:-118.67909\teval-logloss:-118.23505\n",
      "[202]\ttrain-logloss:-118.67909\teval-logloss:-118.23505\n",
      "[203]\ttrain-logloss:-118.67909\teval-logloss:-118.23505\n",
      "[204]\ttrain-logloss:-118.67909\teval-logloss:-118.23505\n",
      "[205]\ttrain-logloss:-118.67909\teval-logloss:-118.23505\n",
      "[206]\ttrain-logloss:-118.67909\teval-logloss:-118.23505\n",
      "[207]\ttrain-logloss:-118.67909\teval-logloss:-118.23505\n",
      "[208]\ttrain-logloss:-118.67909\teval-logloss:-118.23505\n",
      "[209]\ttrain-logloss:-118.67909\teval-logloss:-118.23508\n",
      "[210]\ttrain-logloss:-118.67909\teval-logloss:-118.23508\n",
      "[211]\ttrain-logloss:-118.67909\teval-logloss:-118.23508\n",
      "[212]\ttrain-logloss:-118.67909\teval-logloss:-118.23508\n",
      "[213]\ttrain-logloss:-118.67909\teval-logloss:-118.23508\n",
      "[214]\ttrain-logloss:-118.67909\teval-logloss:-118.23508\n",
      "[215]\ttrain-logloss:-118.67909\teval-logloss:-118.23508\n",
      "[216]\ttrain-logloss:-118.67909\teval-logloss:-118.23508\n",
      "[217]\ttrain-logloss:-118.67909\teval-logloss:-118.23508\n",
      "[218]\ttrain-logloss:-118.67909\teval-logloss:-118.23508\n",
      "[219]\ttrain-logloss:-118.67909\teval-logloss:-118.23508\n",
      "[220]\ttrain-logloss:-118.67909\teval-logloss:-118.23508\n",
      "[221]\ttrain-logloss:-118.67909\teval-logloss:-118.23508\n",
      "[222]\ttrain-logloss:-118.67909\teval-logloss:-118.23508\n",
      "[223]\ttrain-logloss:-118.67909\teval-logloss:-118.23508\n",
      "[224]\ttrain-logloss:-118.67909\teval-logloss:-118.23508\n",
      "[225]\ttrain-logloss:-118.67909\teval-logloss:-118.23508\n",
      "[226]\ttrain-logloss:-118.67909\teval-logloss:-118.23508\n",
      "[227]\ttrain-logloss:-118.67909\teval-logloss:-118.23508\n",
      "[228]\ttrain-logloss:-118.67909\teval-logloss:-118.23508\n",
      "[229]\ttrain-logloss:-118.67909\teval-logloss:-118.23505\n",
      "[230]\ttrain-logloss:-118.67909\teval-logloss:-118.23505\n",
      "[231]\ttrain-logloss:-118.67909\teval-logloss:-118.23505\n",
      "[232]\ttrain-logloss:-118.67909\teval-logloss:-118.23505\n",
      "[233]\ttrain-logloss:-118.67909\teval-logloss:-118.23505\n",
      "[234]\ttrain-logloss:-118.67909\teval-logloss:-118.23505\n",
      "[235]\ttrain-logloss:-118.67909\teval-logloss:-118.23505\n",
      "[236]\ttrain-logloss:-118.67909\teval-logloss:-118.23505\n",
      "[237]\ttrain-logloss:-118.67909\teval-logloss:-118.23505\n",
      "[238]\ttrain-logloss:-118.67909\teval-logloss:-118.23505\n",
      "[239]\ttrain-logloss:-118.67909\teval-logloss:-118.23505\n",
      "[240]\ttrain-logloss:-118.67909\teval-logloss:-118.23505\n",
      "[241]\ttrain-logloss:-118.67909\teval-logloss:-118.23505\n",
      "[242]\ttrain-logloss:-118.67909\teval-logloss:-118.23505\n",
      "[243]\ttrain-logloss:-118.67909\teval-logloss:-118.23505\n",
      "[244]\ttrain-logloss:-118.67909\teval-logloss:-118.23505\n",
      "[245]\ttrain-logloss:-118.67909\teval-logloss:-118.23505\n",
      "[246]\ttrain-logloss:-118.67909\teval-logloss:-118.23505\n",
      "[247]\ttrain-logloss:-118.67909\teval-logloss:-118.23505\n",
      "[248]\ttrain-logloss:-118.67909\teval-logloss:-118.23505\n",
      "[249]\ttrain-logloss:-118.67909\teval-logloss:-118.23505\n",
      "[250]\ttrain-logloss:-118.67909\teval-logloss:-118.23505\n",
      "[251]\ttrain-logloss:-118.67909\teval-logloss:-118.23505\n",
      "[252]\ttrain-logloss:-118.67909\teval-logloss:-118.23505\n",
      "[253]\ttrain-logloss:-118.67909\teval-logloss:-118.23505\n",
      "[254]\ttrain-logloss:-118.67909\teval-logloss:-118.23505\n",
      "[255]\ttrain-logloss:-118.67909\teval-logloss:-118.23505\n",
      "[256]\ttrain-logloss:-118.67909\teval-logloss:-118.23505\n",
      "[257]\ttrain-logloss:-118.67909\teval-logloss:-118.23505\n",
      "[258]\ttrain-logloss:-118.67909\teval-logloss:-118.23505\n",
      "[259]\ttrain-logloss:-118.67909\teval-logloss:-118.23505\n"
     ]
    }
   ],
   "source": [
    "xgb_model = xgb.train(params, dtr, num_rounds, evals=eval_list, early_stopping_rounds=50)"
   ]
  },
  {
   "cell_type": "code",
   "execution_count": 127,
   "id": "a1c9c1db-655b-46e3-8d56-c94171039e22",
   "metadata": {
    "tags": []
   },
   "outputs": [
    {
     "data": {
      "text/plain": [
       "<AxesSubplot:title={'center':'Feature importance'}, xlabel='F score', ylabel='Features'>"
      ]
     },
     "execution_count": 127,
     "metadata": {},
     "output_type": "execute_result"
    },
    {
     "data": {
      "image/png": "[encoded data removed]",
      "text/plain": [
       "<Figure size 640x480 with 1 Axes>"
      ]
     },
     "metadata": {},
     "output_type": "display_data"
    }
   ],
   "source": [
    "plot_importance(xgb_model)"
   ]
  }
 ],
 "metadata": {
  "kernelspec": {
   "display_name": "Python 3 (ipykernel)",
   "language": "python",
   "name": "python3"
  },
  "language_info": {
   "codemirror_mode": {
    "name": "ipython",
    "version": 3
   },
   "file_extension": ".py",
   "mimetype": "text/x-python",
   "name": "python",
   "nbconvert_exporter": "python",
   "pygments_lexer": "ipython3",
   "version": "3.9.13"
  }
 },
 "nbformat": 4,
 "nbformat_minor": 5
}
